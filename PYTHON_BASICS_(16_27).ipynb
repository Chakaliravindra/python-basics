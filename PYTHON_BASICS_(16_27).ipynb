{
  "nbformat": 4,
  "nbformat_minor": 0,
  "metadata": {
    "colab": {
      "provenance": [],
      "authorship_tag": "ABX9TyOtr7nn7cM+qCEI2SrvfuA8",
      "include_colab_link": true
    },
    "kernelspec": {
      "name": "python3",
      "display_name": "Python 3"
    },
    "language_info": {
      "name": "python"
    }
  },
  "cells": [
    {
      "cell_type": "markdown",
      "metadata": {
        "id": "view-in-github",
        "colab_type": "text"
      },
      "source": [
        "<a href=\"https://colab.research.google.com/github/Chakaliravindra/python-basics/blob/main/PYTHON_BASICS_(16_27).ipynb\" target=\"_parent\"><img src=\"https://colab.research.google.com/assets/colab-badge.svg\" alt=\"Open In Colab\"/></a>"
      ]
    },
    {
      "cell_type": "markdown",
      "source": [
        "# PYTHON BASICS (16-27)"
      ],
      "metadata": {
        "id": "jKC-Ey080nXJ"
      }
    },
    {
      "cell_type": "markdown",
      "source": [
        "**Day-16**"
      ],
      "metadata": {
        "id": "gJ4n0hvG0tpy"
      }
    },
    {
      "cell_type": "markdown",
      "source": [
        "* about global & local variable\n",
        "* global keyword\n",
        "* 2nd functionality of global keyword\n",
        "* lamba function"
      ],
      "metadata": {
        "id": "kruONSfCQ18g"
      }
    },
    {
      "cell_type": "markdown",
      "source": [
        "types of variables : python sypports 2 types of variables.\n",
        "* 1) global variables\n",
        "* 2) local variables"
      ],
      "metadata": {
        "id": "VCa1zWHlTSZS"
      }
    },
    {
      "cell_type": "markdown",
      "source": [
        "1) global variables: the variables which are declared outside of function are called G.V.\n",
        "* these variables can be accessed in all functions of that module."
      ],
      "metadata": {
        "id": "Fix_SC_tTtoH"
      }
    },
    {
      "cell_type": "code",
      "source": [
        "a=10 # global varible\n",
        "\n",
        "def f1():\n",
        "  print(a) \n",
        "\n",
        "def f2():\n",
        "   print(a) \n",
        "\n",
        "f1()\n",
        "f2()"
      ],
      "metadata": {
        "colab": {
          "base_uri": "https://localhost:8080/"
        },
        "id": "VpNCSWdKUSrx",
        "outputId": "afcd2a17-d348-4790-f6e9-ffbfe797d154"
      },
      "execution_count": null,
      "outputs": [
        {
          "output_type": "stream",
          "name": "stdout",
          "text": [
            "10\n",
            "10\n"
          ]
        }
      ]
    },
    {
      "cell_type": "markdown",
      "source": [
        "Local variable: the varibles which are declared inside a function are called L.V .\n",
        "* local variable are available only for the function in which we declared."
      ],
      "metadata": {
        "id": "DhRQCPc-TLjY"
      }
    },
    {
      "cell_type": "code",
      "execution_count": null,
      "metadata": {
        "colab": {
          "base_uri": "https://localhost:8080/",
          "height": 354
        },
        "id": "7JOjoWx0QluL",
        "outputId": "4167e7cf-6801-40f4-8dd3-255480dbd5de"
      },
      "outputs": [
        {
          "output_type": "stream",
          "name": "stdout",
          "text": [
            "10\n"
          ]
        },
        {
          "output_type": "error",
          "ename": "NameError",
          "evalue": "ignored",
          "traceback": [
            "\u001b[0;31m---------------------------------------------------------------------------\u001b[0m",
            "\u001b[0;31mNameError\u001b[0m                                 Traceback (most recent call last)",
            "\u001b[0;32m<ipython-input-1-6e9ec0377990>\u001b[0m in \u001b[0;36m<module>\u001b[0;34m\u001b[0m\n\u001b[1;32m      6\u001b[0m \u001b[0;34m\u001b[0m\u001b[0m\n\u001b[1;32m      7\u001b[0m \u001b[0mf1\u001b[0m\u001b[0;34m(\u001b[0m\u001b[0;34m)\u001b[0m\u001b[0;34m\u001b[0m\u001b[0;34m\u001b[0m\u001b[0m\n\u001b[0;32m----> 8\u001b[0;31m \u001b[0mf2\u001b[0m\u001b[0;34m(\u001b[0m\u001b[0;34m)\u001b[0m     \u001b[0;31m# error because \"a\" is within the function f1() wnich is not applicable to f2()\u001b[0m\u001b[0;34m\u001b[0m\u001b[0;34m\u001b[0m\u001b[0m\n\u001b[0m",
            "\u001b[0;32m<ipython-input-1-6e9ec0377990>\u001b[0m in \u001b[0;36mf2\u001b[0;34m()\u001b[0m\n\u001b[1;32m      3\u001b[0m   \u001b[0mprint\u001b[0m\u001b[0;34m(\u001b[0m\u001b[0ma\u001b[0m\u001b[0;34m)\u001b[0m \u001b[0;31m# variable within the block\u001b[0m\u001b[0;34m\u001b[0m\u001b[0;34m\u001b[0m\u001b[0m\n\u001b[1;32m      4\u001b[0m \u001b[0;32mdef\u001b[0m \u001b[0mf2\u001b[0m\u001b[0;34m(\u001b[0m\u001b[0;34m)\u001b[0m\u001b[0;34m:\u001b[0m\u001b[0;34m\u001b[0m\u001b[0;34m\u001b[0m\u001b[0m\n\u001b[0;32m----> 5\u001b[0;31m    \u001b[0mprint\u001b[0m\u001b[0;34m(\u001b[0m\u001b[0ma\u001b[0m\u001b[0;34m)\u001b[0m\u001b[0;34m\u001b[0m\u001b[0;34m\u001b[0m\u001b[0m\n\u001b[0m\u001b[1;32m      6\u001b[0m \u001b[0;34m\u001b[0m\u001b[0m\n\u001b[1;32m      7\u001b[0m \u001b[0mf1\u001b[0m\u001b[0;34m(\u001b[0m\u001b[0;34m)\u001b[0m\u001b[0;34m\u001b[0m\u001b[0;34m\u001b[0m\u001b[0m\n",
            "\u001b[0;31mNameError\u001b[0m: name 'a' is not defined"
          ]
        }
      ],
      "source": [
        "def f1():\n",
        "  a=10\n",
        "  print(a) # variable within the block\n",
        "def f2():\n",
        "   print(a) \n",
        "\n",
        "f1()\n",
        "f2()     # error because \"a\" is within the function f1() wnich is not applicable to f2() "
      ]
    },
    {
      "cell_type": "code",
      "source": [
        "a=10\n",
        "def f1():\n",
        "  a=777\n",
        "  print(a) \n",
        "\n",
        "def f2():\n",
        "  print(a)\n",
        "\n",
        "f1()\n",
        "f2()"
      ],
      "metadata": {
        "colab": {
          "base_uri": "https://localhost:8080/"
        },
        "id": "JbLNAhdmRcs0",
        "outputId": "8288f6a1-228d-478c-fe74-7c1d5b0be4f7"
      },
      "execution_count": null,
      "outputs": [
        {
          "output_type": "stream",
          "name": "stdout",
          "text": [
            "777\n",
            "10\n"
          ]
        }
      ]
    },
    {
      "cell_type": "markdown",
      "source": [
        "* preference to local variables when compared to global variable"
      ],
      "metadata": {
        "id": "70d0cEqT09PR"
      }
    },
    {
      "cell_type": "code",
      "source": [
        "a=10\n",
        "def f1():\n",
        "  b=45\n",
        "  b=b+1\n",
        "  print(b) \n",
        "  a=a+1\n",
        "def f2():\n",
        "  print(a)\n",
        "\n",
        "f1()\n",
        "f2() # by default you can't modified "
      ],
      "metadata": {
        "colab": {
          "base_uri": "https://localhost:8080/",
          "height": 356
        },
        "id": "xuaJTrRTXLm6",
        "outputId": "df7cf7ef-d9ea-4ea7-fc94-0fb1aed70266"
      },
      "execution_count": null,
      "outputs": [
        {
          "output_type": "stream",
          "name": "stdout",
          "text": [
            "46\n"
          ]
        },
        {
          "output_type": "error",
          "ename": "UnboundLocalError",
          "evalue": "ignored",
          "traceback": [
            "\u001b[0;31m---------------------------------------------------------------------------\u001b[0m",
            "\u001b[0;31mUnboundLocalError\u001b[0m                         Traceback (most recent call last)",
            "\u001b[0;32m<ipython-input-5-402e0fd59b50>\u001b[0m in \u001b[0;36m<module>\u001b[0;34m\u001b[0m\n\u001b[1;32m      8\u001b[0m   \u001b[0mprint\u001b[0m\u001b[0;34m(\u001b[0m\u001b[0ma\u001b[0m\u001b[0;34m)\u001b[0m\u001b[0;34m\u001b[0m\u001b[0;34m\u001b[0m\u001b[0m\n\u001b[1;32m      9\u001b[0m \u001b[0;34m\u001b[0m\u001b[0m\n\u001b[0;32m---> 10\u001b[0;31m \u001b[0mf1\u001b[0m\u001b[0;34m(\u001b[0m\u001b[0;34m)\u001b[0m\u001b[0;34m\u001b[0m\u001b[0;34m\u001b[0m\u001b[0m\n\u001b[0m\u001b[1;32m     11\u001b[0m \u001b[0mf2\u001b[0m\u001b[0;34m(\u001b[0m\u001b[0;34m)\u001b[0m\u001b[0;34m\u001b[0m\u001b[0;34m\u001b[0m\u001b[0m\n",
            "\u001b[0;32m<ipython-input-5-402e0fd59b50>\u001b[0m in \u001b[0;36mf1\u001b[0;34m()\u001b[0m\n\u001b[1;32m      4\u001b[0m   \u001b[0mb\u001b[0m\u001b[0;34m=\u001b[0m\u001b[0mb\u001b[0m\u001b[0;34m+\u001b[0m\u001b[0;36m1\u001b[0m\u001b[0;34m\u001b[0m\u001b[0;34m\u001b[0m\u001b[0m\n\u001b[1;32m      5\u001b[0m   \u001b[0mprint\u001b[0m\u001b[0;34m(\u001b[0m\u001b[0mb\u001b[0m\u001b[0;34m)\u001b[0m\u001b[0;34m\u001b[0m\u001b[0;34m\u001b[0m\u001b[0m\n\u001b[0;32m----> 6\u001b[0;31m   \u001b[0ma\u001b[0m\u001b[0;34m=\u001b[0m\u001b[0ma\u001b[0m\u001b[0;34m+\u001b[0m\u001b[0;36m1\u001b[0m\u001b[0;34m\u001b[0m\u001b[0;34m\u001b[0m\u001b[0m\n\u001b[0m\u001b[1;32m      7\u001b[0m \u001b[0;32mdef\u001b[0m \u001b[0mf2\u001b[0m\u001b[0;34m(\u001b[0m\u001b[0;34m)\u001b[0m\u001b[0;34m:\u001b[0m\u001b[0;34m\u001b[0m\u001b[0;34m\u001b[0m\u001b[0m\n\u001b[1;32m      8\u001b[0m   \u001b[0mprint\u001b[0m\u001b[0;34m(\u001b[0m\u001b[0ma\u001b[0m\u001b[0;34m)\u001b[0m\u001b[0;34m\u001b[0m\u001b[0;34m\u001b[0m\u001b[0m\n",
            "\u001b[0;31mUnboundLocalError\u001b[0m: local variable 'a' referenced before assignment"
          ]
        }
      ]
    },
    {
      "cell_type": "markdown",
      "source": [
        "global keyword:( for modifying global variable) ( 1st functionality of global keyword)\n",
        "* global keyword is used to perform required modifications to the global variable available. "
      ],
      "metadata": {
        "id": "8ikvZgPEXYaE"
      }
    },
    {
      "cell_type": "code",
      "source": [
        "a=10\n",
        "def f1():\n",
        "  global a\n",
        "  a=a+1\n",
        "  print(a) \n",
        "\n",
        "def f2():\n",
        "  print(a)\n",
        "\n",
        "f1()\n",
        "f2() # once the global variable is modified then the entire module have modified variable only."
      ],
      "metadata": {
        "colab": {
          "base_uri": "https://localhost:8080/"
        },
        "id": "iI8cvDc-Rcj6",
        "outputId": "1791ca38-d6de-4923-dacc-eeb9bbf5c7e1"
      },
      "execution_count": null,
      "outputs": [
        {
          "output_type": "stream",
          "name": "stdout",
          "text": [
            "11\n",
            "11\n"
          ]
        }
      ]
    },
    {
      "cell_type": "markdown",
      "source": [
        " 2nd functionality of the global keyword:\n",
        " * To declare global variable inside function."
      ],
      "metadata": {
        "id": "bKXwWkzVYIcr"
      }
    },
    {
      "cell_type": "code",
      "source": [
        "def f1():\n",
        "  global a\n",
        "  a=10\n",
        "  print(a) \n",
        "\n",
        "def f2():\n",
        "  print(a)\n",
        "\n",
        "f1()\n",
        "f2()   # by making local variable into global variable by using global key word"
      ],
      "metadata": {
        "colab": {
          "base_uri": "https://localhost:8080/"
        },
        "id": "05RQAIjwRcgB",
        "outputId": "2e8c8147-31c5-4401-ebfb-626b0eb34304"
      },
      "execution_count": null,
      "outputs": [
        {
          "output_type": "stream",
          "name": "stdout",
          "text": [
            "10\n",
            "10\n"
          ]
        }
      ]
    },
    {
      "cell_type": "markdown",
      "source": [
        "* if the global variable & local variable having the same name then we can access global variable inside a function as follows"
      ],
      "metadata": {
        "id": "zzf-_kL-YZo2"
      }
    },
    {
      "cell_type": "code",
      "source": [
        "a=10\n",
        "def f1():\n",
        "  a=777\n",
        "  print(a) \n",
        "  print(globals()['a'])\n",
        "\n",
        "f1()"
      ],
      "metadata": {
        "colab": {
          "base_uri": "https://localhost:8080/"
        },
        "id": "bqc9VkaGRccO",
        "outputId": "48fa63b8-776e-4fcd-91ff-7ac649ef87da"
      },
      "execution_count": null,
      "outputs": [
        {
          "output_type": "stream",
          "name": "stdout",
          "text": [
            "777\n",
            "10\n"
          ]
        }
      ]
    },
    {
      "cell_type": "markdown",
      "source": [
        "* if you want to accesses the global variable by using --globals() function "
      ],
      "metadata": {
        "id": "4gMEmVGN1M5Z"
      }
    },
    {
      "cell_type": "code",
      "source": [
        "def f1(n):\n",
        "  return n*n\n",
        "f1(10)"
      ],
      "metadata": {
        "colab": {
          "base_uri": "https://localhost:8080/"
        },
        "id": "1z87t_ULRcYf",
        "outputId": "cf53dcd3-05b0-4673-9426-345b36dd00e7"
      },
      "execution_count": null,
      "outputs": [
        {
          "output_type": "execute_result",
          "data": {
            "text/plain": [
              "100"
            ]
          },
          "metadata": {},
          "execution_count": 7
        }
      ]
    },
    {
      "cell_type": "markdown",
      "source": [
        "lambda function : some times we can declare a function without any name such type of nameless functions are called lamda functions or anonymous function."
      ],
      "metadata": {
        "id": "doV4_iRTYuFS"
      }
    },
    {
      "cell_type": "code",
      "source": [
        "s=lambda n:n*n\n",
        "print('the square of 4 is',s(4))\n",
        "s(5)"
      ],
      "metadata": {
        "colab": {
          "base_uri": "https://localhost:8080/"
        },
        "id": "HQWWqH_uRcU6",
        "outputId": "0cd773f5-88f0-4715-f9a1-67082220201d"
      },
      "execution_count": null,
      "outputs": [
        {
          "output_type": "stream",
          "name": "stdout",
          "text": [
            "the square of 4 is 16\n"
          ]
        },
        {
          "output_type": "execute_result",
          "data": {
            "text/plain": [
              "25"
            ]
          },
          "metadata": {},
          "execution_count": 3
        }
      ]
    },
    {
      "cell_type": "markdown",
      "source": [
        "* function with out name is called lambda (used for simple calculations,expressions)\n",
        "* we can define by using lambda keyword"
      ],
      "metadata": {
        "id": "zsCocYNzY440"
      }
    },
    {
      "cell_type": "code",
      "source": [
        "s(6)"
      ],
      "metadata": {
        "id": "alHIY91BRcQc",
        "colab": {
          "base_uri": "https://localhost:8080/"
        },
        "outputId": "e6421eee-b16d-4233-86e7-a4ddc80b372d"
      },
      "execution_count": null,
      "outputs": [
        {
          "output_type": "execute_result",
          "data": {
            "text/plain": [
              "36"
            ]
          },
          "metadata": {},
          "execution_count": 4
        }
      ]
    },
    {
      "cell_type": "markdown",
      "source": [
        "---\n",
        "---"
      ],
      "metadata": {
        "id": "YVk6x18q1udN"
      }
    },
    {
      "cell_type": "markdown",
      "source": [
        "**Day-17**"
      ],
      "metadata": {
        "id": "HLMOqukw1uTy"
      }
    },
    {
      "cell_type": "markdown",
      "source": [
        "* one more example on lambda function\n",
        "* everything is an object\n",
        "* function aliasing\n",
        "* nested function \n",
        "* module\n",
        "* module aliasing\n",
        "* member aliasing"
      ],
      "metadata": {
        "id": "K28ZgayF2WW2"
      }
    },
    {
      "cell_type": "markdown",
      "source": [
        "* lambda function to find sum of 2 given numbers"
      ],
      "metadata": {
        "id": "Y4aJ3B-jFGMI"
      }
    },
    {
      "cell_type": "code",
      "source": [
        "s=lambda a,b:a+b\n",
        "s(10,20)\n",
        "# used for expressions"
      ],
      "metadata": {
        "id": "46OOsUZiRcL4",
        "colab": {
          "base_uri": "https://localhost:8080/"
        },
        "outputId": "ad986e9e-2a2c-4c63-eb4f-99e99f48904e"
      },
      "execution_count": null,
      "outputs": [
        {
          "output_type": "execute_result",
          "data": {
            "text/plain": [
              "30"
            ]
          },
          "metadata": {},
          "execution_count": 2
        }
      ]
    },
    {
      "cell_type": "markdown",
      "source": [
        " everything is an object:\n",
        "* in python everything is treated as object.\n",
        "* even functions also internally treated as objects only."
      ],
      "metadata": {
        "id": "h9Fp02Hkor1_"
      }
    },
    {
      "cell_type": "code",
      "source": [
        "def f1():\n",
        "  print('hello')\n",
        "f1()\n",
        "a=10\n",
        "print(a)\n",
        "print(id(a))    # here \"a\" is object.\n",
        "print(id(f1))  # \"f1\" function is also an object."
      ],
      "metadata": {
        "id": "zEHVNl09RcHo",
        "colab": {
          "base_uri": "https://localhost:8080/"
        },
        "outputId": "be013117-f9f2-4b4f-a8dc-fd7c780e1d13"
      },
      "execution_count": null,
      "outputs": [
        {
          "output_type": "stream",
          "name": "stdout",
          "text": [
            "hello\n",
            "10\n",
            "140509084445264\n",
            "140508455587696\n"
          ]
        }
      ]
    },
    {
      "cell_type": "markdown",
      "source": [
        "function aliasing:\n",
        "* for the existing function we can give another name, which is nothing but function aliasing "
      ],
      "metadata": {
        "id": "C_TWc4VEFw4a"
      }
    },
    {
      "cell_type": "code",
      "source": [
        "def f1():\n",
        "  print('hello')\n",
        "f2=f1          # here we are giving f2 alias for f1, but new function will not be created. \n",
        "print(id(f1))\n",
        "print(id(f2)) \n",
        "f1()\n",
        "f2()"
      ],
      "metadata": {
        "id": "QKnHmRE1RcDQ",
        "colab": {
          "base_uri": "https://localhost:8080/"
        },
        "outputId": "e272774f-f5e1-4219-fdb9-58baba019031"
      },
      "execution_count": null,
      "outputs": [
        {
          "output_type": "stream",
          "name": "stdout",
          "text": [
            "140508455587552\n",
            "140508455587552\n",
            "hello\n",
            "hello\n"
          ]
        }
      ]
    },
    {
      "cell_type": "markdown",
      "source": [
        "* if we delete one name still we can access that function by using alias name.\n",
        " "
      ],
      "metadata": {
        "id": "s2ISbA6MGAPo"
      }
    },
    {
      "cell_type": "code",
      "source": [
        "def f1():\n",
        "  print('hello')\n",
        "f2=f1           \n",
        "print(id(f1))\n",
        "print(id(f2))\n",
        "del f1\n",
        "# f1()  \n",
        "f2()"
      ],
      "metadata": {
        "id": "ZcuhSjcqRb_Y",
        "colab": {
          "base_uri": "https://localhost:8080/"
        },
        "outputId": "5195ec30-a9d4-4574-cf05-080ba7e39189"
      },
      "execution_count": null,
      "outputs": [
        {
          "output_type": "stream",
          "name": "stdout",
          "text": [
            "140449863175184\n",
            "140449863175184\n",
            "hello\n"
          ]
        }
      ]
    },
    {
      "cell_type": "markdown",
      "source": [
        "* if we delete the main name you can't call back"
      ],
      "metadata": {
        "id": "CtTCLbh2GTn3"
      }
    },
    {
      "cell_type": "code",
      "source": [
        "def f1():\n",
        "  print('hello')\n",
        "f2=f1           \n",
        "print(id(f1))\n",
        "print(id(f2))\n",
        "del f1\n",
        "f1()  \n",
        "f2()"
      ],
      "metadata": {
        "id": "-5-OF8dtRb6g",
        "colab": {
          "base_uri": "https://localhost:8080/",
          "height": 263
        },
        "outputId": "52ffc8f0-71fd-4624-81f1-bac153f7d713"
      },
      "execution_count": null,
      "outputs": [
        {
          "output_type": "stream",
          "name": "stdout",
          "text": [
            "140449863173888\n",
            "140449863173888\n"
          ]
        },
        {
          "output_type": "error",
          "ename": "NameError",
          "evalue": "ignored",
          "traceback": [
            "\u001b[0;31m---------------------------------------------------------------------------\u001b[0m",
            "\u001b[0;31mNameError\u001b[0m                                 Traceback (most recent call last)",
            "\u001b[0;32m<ipython-input-2-2cffe2825d80>\u001b[0m in \u001b[0;36m<cell line: 7>\u001b[0;34m()\u001b[0m\n\u001b[1;32m      5\u001b[0m \u001b[0mprint\u001b[0m\u001b[0;34m(\u001b[0m\u001b[0mid\u001b[0m\u001b[0;34m(\u001b[0m\u001b[0mf2\u001b[0m\u001b[0;34m)\u001b[0m\u001b[0;34m)\u001b[0m\u001b[0;34m\u001b[0m\u001b[0;34m\u001b[0m\u001b[0m\n\u001b[1;32m      6\u001b[0m \u001b[0;32mdel\u001b[0m \u001b[0mf1\u001b[0m\u001b[0;34m\u001b[0m\u001b[0;34m\u001b[0m\u001b[0m\n\u001b[0;32m----> 7\u001b[0;31m \u001b[0mf1\u001b[0m\u001b[0;34m(\u001b[0m\u001b[0;34m)\u001b[0m\u001b[0;34m\u001b[0m\u001b[0;34m\u001b[0m\u001b[0m\n\u001b[0m\u001b[1;32m      8\u001b[0m \u001b[0mf2\u001b[0m\u001b[0;34m(\u001b[0m\u001b[0;34m)\u001b[0m\u001b[0;34m\u001b[0m\u001b[0;34m\u001b[0m\u001b[0m\n",
            "\u001b[0;31mNameError\u001b[0m: name 'f1' is not defined"
          ]
        }
      ]
    },
    {
      "cell_type": "markdown",
      "source": [
        "Nested function:\n",
        "* we can declare a function inside aother function, such type of functions are called nested function. "
      ],
      "metadata": {
        "id": "6JFkoG3TGi_g"
      }
    },
    {
      "cell_type": "code",
      "source": [
        "def f1():\n",
        "  print('hello')\n",
        "  def f2():\n",
        "    print('hello2')\n",
        "  print('hello 3')\n",
        "  f2()\n",
        "f1()     # here f2 is inside f1 "
      ],
      "metadata": {
        "id": "oG-8QkatRb1m",
        "colab": {
          "base_uri": "https://localhost:8080/"
        },
        "outputId": "62ca7168-9c7f-4aac-bb8e-e046c2dcab93"
      },
      "execution_count": null,
      "outputs": [
        {
          "output_type": "stream",
          "name": "stdout",
          "text": [
            "hello\n",
            "hello 3\n",
            "hello2\n"
          ]
        }
      ]
    },
    {
      "cell_type": "code",
      "source": [
        "def f1():\n",
        "  print('welcome')\n",
        "  def f2():\n",
        "    print('hello')\n",
        "  print('thank you')\n",
        "  f2()  \n",
        "f1() \n",
        "# here f2 is nesting function "
      ],
      "metadata": {
        "id": "OhncuULcRbxp",
        "colab": {
          "base_uri": "https://localhost:8080/"
        },
        "outputId": "bad7d650-62e2-4097-f23f-686d7c5b5adf"
      },
      "execution_count": null,
      "outputs": [
        {
          "output_type": "stream",
          "name": "stdout",
          "text": [
            "welcome\n",
            "thank you\n",
            "hello\n"
          ]
        }
      ]
    },
    {
      "cell_type": "markdown",
      "source": [
        " modules:\n",
        "* a group of functions,variables and classes saved to a file, is a module.(even every program is a module)\n",
        "* every python file(.py) acts as a module\n",
        "* eg. math.py"
      ],
      "metadata": {
        "id": "srbSB682r2tv"
      }
    },
    {
      "cell_type": "markdown",
      "source": [
        "* we can access memebers by using module name\n",
        "* if we want to use members of module in our program then we should import that module.\n"
      ],
      "metadata": {
        "id": "QSUyfDbGIazN"
      }
    },
    {
      "cell_type": "markdown",
      "source": [
        "* import math"
      ],
      "metadata": {
        "id": "8U5wGvQgJL7m"
      }
    },
    {
      "cell_type": "markdown",
      "source": [
        " module alias:\n",
        "* renaming a module at the time of import( we are giving module alias)\n",
        "* import math as m"
      ],
      "metadata": {
        "id": "BJ9gPrauKACG"
      }
    },
    {
      "cell_type": "code",
      "source": [
        "import pandas as pd\n",
        "import math as m"
      ],
      "metadata": {
        "id": "HQZadKSYRbo0"
      },
      "execution_count": null,
      "outputs": []
    },
    {
      "cell_type": "markdown",
      "source": [
        "* we can access members by using alias name \"m\""
      ],
      "metadata": {
        "id": "7PReRFCmKXV9"
      }
    },
    {
      "cell_type": "markdown",
      "source": [
        "from.....import:\n",
        "* we can import perticular members of module by using \"from....import\" \n",
        "* the main advantage of this is we can access members directly without using module name."
      ],
      "metadata": {
        "id": "WqB2xuHSxTok"
      }
    },
    {
      "cell_type": "code",
      "source": [
        "from matplotlib import pyplot"
      ],
      "metadata": {
        "id": "maGayUfyMeBE"
      },
      "execution_count": null,
      "outputs": []
    },
    {
      "cell_type": "markdown",
      "source": [
        "* we can import all members of a module a follows "
      ],
      "metadata": {
        "id": "4d8NNFWQMqbr"
      }
    },
    {
      "cell_type": "code",
      "source": [
        "from math import * \n",
        "print(x)"
      ],
      "metadata": {
        "id": "KZosmDAsRbk2"
      },
      "execution_count": null,
      "outputs": []
    },
    {
      "cell_type": "markdown",
      "source": [
        "member aliasing: "
      ],
      "metadata": {
        "id": "D7QsYVfANFn0"
      }
    },
    {
      "cell_type": "code",
      "source": [
        "from math import x as y,add as sum\n",
        "print(y)\n",
        "sum(10,20)"
      ],
      "metadata": {
        "id": "Bv_ciRJbRbdW"
      },
      "execution_count": null,
      "outputs": []
    },
    {
      "cell_type": "markdown",
      "source": [
        "* once we defined as alias name , we should use alias name only and we should not use original name\n"
      ],
      "metadata": {
        "id": "QQGR_On3NTM6"
      }
    },
    {
      "cell_type": "code",
      "source": [
        "from math import x as y\n",
        "print(x) # name error:name 'x' is not defined "
      ],
      "metadata": {
        "id": "7wuihQikRS2_"
      },
      "execution_count": null,
      "outputs": []
    },
    {
      "cell_type": "markdown",
      "source": [
        "---\n",
        "---"
      ],
      "metadata": {
        "id": "Ips7OfDY3ZER"
      }
    },
    {
      "cell_type": "markdown",
      "source": [
        "**Day-18**"
      ],
      "metadata": {
        "id": "zme25HGI3Y8p"
      }
    },
    {
      "cell_type": "markdown",
      "source": [
        "* possibilities of import statements\n",
        "* handling naming conflict in modules\n",
        "* advantage of aliasing \n",
        "* using sleep()\n",
        "* reloading a module \n",
        "* diff b/w Dir() and help()\n"
      ],
      "metadata": {
        "id": "Q28j2MluxA2I"
      }
    },
    {
      "cell_type": "markdown",
      "source": [
        "* possibilities of import statements:"
      ],
      "metadata": {
        "id": "S3W5AGwlPm9F"
      }
    },
    {
      "cell_type": "markdown",
      "source": [
        "* import modulename\n",
        "* import module1,module2,module3\n",
        "* import module1 as m\n",
        "* import module1 as m1,module2 as m2\n",
        "* from module import memeber\n",
        "* from module import memeber1,member2,member3\n",
        "* from module import *\n",
        "* from module import member1 as x"
      ],
      "metadata": {
        "id": "S2-YRgNsBmrN"
      }
    },
    {
      "cell_type": "markdown",
      "source": [
        "handling naming conflict in module:"
      ],
      "metadata": {
        "id": "rpWFzxnsP4Vz"
      }
    },
    {
      "cell_type": "code",
      "source": [
        "import module1,module2 \n",
        "# 1) you will not get error \n",
        "# recent module is prefered\n",
        "from module1 import*    # having function add\n",
        "from module2 import*    #  also having function add\n",
        "add(10,20)\n",
        "# old add function will be overridden by new add function. so,module2 add function is called."
      ],
      "metadata": {
        "id": "yTN0Uvb-_JwE"
      },
      "execution_count": null,
      "outputs": []
    },
    {
      "cell_type": "markdown",
      "source": [
        " advantage of alias:\n",
        "* helps to access both the functions, even if member names are matching.\n"
      ],
      "metadata": {
        "id": "9mgYBSDSQXTv"
      }
    },
    {
      "cell_type": "code",
      "source": [
        "from module1 import add as a1\n",
        "from module2 import add as a2\n",
        "a1(10,20)\n",
        "a2(10,20)"
      ],
      "metadata": {
        "id": "BCiY02K7_J4P"
      },
      "execution_count": null,
      "outputs": []
    },
    {
      "cell_type": "markdown",
      "source": [
        "reloading a module:"
      ],
      "metadata": {
        "id": "HbpQ2hvvQnh1"
      }
    },
    {
      "cell_type": "code",
      "source": [
        "module1.py \n",
        "print('hello1')\n",
        "\n",
        "import module1\n",
        "print('hello2')"
      ],
      "metadata": {
        "id": "WQhB1M-O_J9o"
      },
      "execution_count": null,
      "outputs": []
    },
    {
      "cell_type": "markdown",
      "source": [
        "o/p:\n",
        "\n",
        "hello1\n",
        "\n",
        "hello2"
      ],
      "metadata": {
        "id": "A-Oo2LWYFaPG"
      }
    },
    {
      "cell_type": "markdown",
      "source": [
        "* lets import module multiple times"
      ],
      "metadata": {
        "id": "kbBtQzOyQ2YZ"
      }
    },
    {
      "cell_type": "code",
      "source": [
        "import module1\n",
        "import module1\n",
        "import module1\n",
        "print('hello2')\n",
        "# module will be loaded only once eventhough we are import multiple times."
      ],
      "metadata": {
        "id": "n_tAw5PzFL2n"
      },
      "execution_count": null,
      "outputs": []
    },
    {
      "cell_type": "markdown",
      "source": [
        "o/p:\n",
        "\n",
        "hello1\n",
        "\n",
        "hello2"
      ],
      "metadata": {
        "id": "KMQqm6WHGhtj"
      }
    },
    {
      "cell_type": "markdown",
      "source": [
        "sleep:\n",
        "* the program will wait or sleep some time and execute another part after sleep.\n"
      ],
      "metadata": {
        "id": "zw_FdkGVQ_-v"
      }
    },
    {
      "cell_type": "code",
      "source": [
        "import time\n",
        "print('hello1')\n",
        "time.sleep(30)   # sleep 30 seconds\n",
        "print('hello2')"
      ],
      "metadata": {
        "id": "n2Yykaur_KC1",
        "colab": {
          "base_uri": "https://localhost:8080/"
        },
        "outputId": "084a3d1a-6e00-420e-df31-846c3bd93832"
      },
      "execution_count": null,
      "outputs": [
        {
          "output_type": "stream",
          "name": "stdout",
          "text": [
            "hello1\n",
            "hello2\n"
          ]
        }
      ]
    },
    {
      "cell_type": "markdown",
      "source": [
        "reloading module"
      ],
      "metadata": {
        "id": "F7T_8L9wRVOj"
      }
    },
    {
      "cell_type": "code",
      "source": [
        "import time \n",
        "import module1\n",
        "module1.add(10,20)\n",
        "time.sleep(30)\n",
        "import module1\n",
        "module1.product(10,20)"
      ],
      "metadata": {
        "id": "pb1potbwHEr7"
      },
      "execution_count": null,
      "outputs": []
    },
    {
      "cell_type": "markdown",
      "source": [
        "*  run the test.py\n",
        "* mean whlile update module1 with product function.\n",
        "* bur still we get error\n",
        "attribution error:'module1' has no attribute 'product' "
      ],
      "metadata": {
        "id": "90JOyamHH30Z"
      }
    },
    {
      "cell_type": "markdown",
      "source": [
        "i hope you know the reason. \n",
        "* note:  in test.py how many times, we have imported module1 (2times) but,technically, it is imported only once.\n",
        "* the disadvantage is, updated version of the module will not be available.\n",
        "* when modules are frequently update,we want the latest version of the module to be available, in such cases, we have to reload the module explictly. "
      ],
      "metadata": {
        "id": "yElyuxicINsx"
      }
    },
    {
      "cell_type": "markdown",
      "source": [
        "reloading module"
      ],
      "metadata": {
        "id": "U4yn-Pm7Ry7J"
      }
    },
    {
      "cell_type": "code",
      "source": [
        "import time \n",
        "import module1\n",
        "module1.add(10,20)\n",
        "time.sleep(30)\n",
        "imp.reload(module1)\n",
        "module1.product(10,20)\n",
        "# this time product will be called."
      ],
      "metadata": {
        "id": "7i6M9lQkIM5V"
      },
      "execution_count": null,
      "outputs": []
    },
    {
      "cell_type": "markdown",
      "source": [
        "dir() :\n",
        "* used to list all members of current module or a specific module."
      ],
      "metadata": {
        "id": "lrwebXoBSAdD"
      }
    },
    {
      "cell_type": "code",
      "source": [
        "x=10\n",
        "y=20\n",
        "print(dir())  #  'x', 'y' (these are the embers of current module)"
      ],
      "metadata": {
        "id": "5p5iGl9A_KJB",
        "colab": {
          "base_uri": "https://localhost:8080/"
        },
        "outputId": "ede4c023-a13b-4636-9a3e-5310156530fb"
      },
      "execution_count": null,
      "outputs": [
        {
          "output_type": "stream",
          "name": "stdout",
          "text": [
            "['In', 'Out', '_', '__', '___', '__builtin__', '__builtins__', '__doc__', '__loader__', '__name__', '__package__', '__spec__', '_dh', '_i', '_i1', '_i2', '_ih', '_ii', '_iii', '_oh', 'exit', 'get_ipython', 'quit', 'time', 'x', 'y']\n"
          ]
        }
      ]
    },
    {
      "cell_type": "markdown",
      "source": [
        "* to display memebers of perticular module  "
      ],
      "metadata": {
        "id": "68eey_yq5Pdw"
      }
    },
    {
      "cell_type": "code",
      "source": [
        "import math\n",
        "print(dir(math))\n",
        "# we get all the members of the math module."
      ],
      "metadata": {
        "colab": {
          "base_uri": "https://localhost:8080/"
        },
        "id": "AIjdLOO0KnXH",
        "outputId": "3a51cb85-1c3e-4a70-e9bc-6a4a35fffe51"
      },
      "execution_count": null,
      "outputs": [
        {
          "output_type": "stream",
          "name": "stdout",
          "text": [
            "['__doc__', '__loader__', '__name__', '__package__', '__spec__', 'acos', 'acosh', 'asin', 'asinh', 'atan', 'atan2', 'atanh', 'ceil', 'comb', 'copysign', 'cos', 'cosh', 'degrees', 'dist', 'e', 'erf', 'erfc', 'exp', 'expm1', 'fabs', 'factorial', 'floor', 'fmod', 'frexp', 'fsum', 'gamma', 'gcd', 'hypot', 'inf', 'isclose', 'isfinite', 'isinf', 'isnan', 'isqrt', 'ldexp', 'lgamma', 'log', 'log10', 'log1p', 'log2', 'modf', 'nan', 'perm', 'pi', 'pow', 'prod', 'radians', 'remainder', 'sin', 'sinh', 'sqrt', 'tan', 'tanh', 'tau', 'trunc']\n"
          ]
        }
      ]
    },
    {
      "cell_type": "markdown",
      "source": [
        "help():\n",
        "* it will give you description of  all members of that module "
      ],
      "metadata": {
        "id": "APbFeKl2Sja_"
      }
    },
    {
      "cell_type": "code",
      "source": [
        "print(help(math))"
      ],
      "metadata": {
        "id": "0PeRDJy-_KQG",
        "colab": {
          "base_uri": "https://localhost:8080/"
        },
        "outputId": "bf5782a3-36b2-4695-a3c8-b132186610b8"
      },
      "execution_count": null,
      "outputs": [
        {
          "output_type": "stream",
          "name": "stdout",
          "text": [
            "Help on built-in module math:\n",
            "\n",
            "NAME\n",
            "    math\n",
            "\n",
            "DESCRIPTION\n",
            "    This module provides access to the mathematical functions\n",
            "    defined by the C standard.\n",
            "\n",
            "FUNCTIONS\n",
            "    acos(x, /)\n",
            "        Return the arc cosine (measured in radians) of x.\n",
            "    \n",
            "    acosh(x, /)\n",
            "        Return the inverse hyperbolic cosine of x.\n",
            "    \n",
            "    asin(x, /)\n",
            "        Return the arc sine (measured in radians) of x.\n",
            "    \n",
            "    asinh(x, /)\n",
            "        Return the inverse hyperbolic sine of x.\n",
            "    \n",
            "    atan(x, /)\n",
            "        Return the arc tangent (measured in radians) of x.\n",
            "    \n",
            "    atan2(y, x, /)\n",
            "        Return the arc tangent (measured in radians) of y/x.\n",
            "        \n",
            "        Unlike atan(y/x), the signs of both x and y are considered.\n",
            "    \n",
            "    atanh(x, /)\n",
            "        Return the inverse hyperbolic tangent of x.\n",
            "    \n",
            "    ceil(x, /)\n",
            "        Return the ceiling of x as an Integral.\n",
            "        \n",
            "        This is the smallest integer >= x.\n",
            "    \n",
            "    comb(n, k, /)\n",
            "        Number of ways to choose k items from n items without repetition and without order.\n",
            "        \n",
            "        Evaluates to n! / (k! * (n - k)!) when k <= n and evaluates\n",
            "        to zero when k > n.\n",
            "        \n",
            "        Also called the binomial coefficient because it is equivalent\n",
            "        to the coefficient of k-th term in polynomial expansion of the\n",
            "        expression (1 + x)**n.\n",
            "        \n",
            "        Raises TypeError if either of the arguments are not integers.\n",
            "        Raises ValueError if either of the arguments are negative.\n",
            "    \n",
            "    copysign(x, y, /)\n",
            "        Return a float with the magnitude (absolute value) of x but the sign of y.\n",
            "        \n",
            "        On platforms that support signed zeros, copysign(1.0, -0.0)\n",
            "        returns -1.0.\n",
            "    \n",
            "    cos(x, /)\n",
            "        Return the cosine of x (measured in radians).\n",
            "    \n",
            "    cosh(x, /)\n",
            "        Return the hyperbolic cosine of x.\n",
            "    \n",
            "    degrees(x, /)\n",
            "        Convert angle x from radians to degrees.\n",
            "    \n",
            "    dist(p, q, /)\n",
            "        Return the Euclidean distance between two points p and q.\n",
            "        \n",
            "        The points should be specified as sequences (or iterables) of\n",
            "        coordinates.  Both inputs must have the same dimension.\n",
            "        \n",
            "        Roughly equivalent to:\n",
            "            sqrt(sum((px - qx) ** 2.0 for px, qx in zip(p, q)))\n",
            "    \n",
            "    erf(x, /)\n",
            "        Error function at x.\n",
            "    \n",
            "    erfc(x, /)\n",
            "        Complementary error function at x.\n",
            "    \n",
            "    exp(x, /)\n",
            "        Return e raised to the power of x.\n",
            "    \n",
            "    expm1(x, /)\n",
            "        Return exp(x)-1.\n",
            "        \n",
            "        This function avoids the loss of precision involved in the direct evaluation of exp(x)-1 for small x.\n",
            "    \n",
            "    fabs(x, /)\n",
            "        Return the absolute value of the float x.\n",
            "    \n",
            "    factorial(x, /)\n",
            "        Find x!.\n",
            "        \n",
            "        Raise a ValueError if x is negative or non-integral.\n",
            "    \n",
            "    floor(x, /)\n",
            "        Return the floor of x as an Integral.\n",
            "        \n",
            "        This is the largest integer <= x.\n",
            "    \n",
            "    fmod(x, y, /)\n",
            "        Return fmod(x, y), according to platform C.\n",
            "        \n",
            "        x % y may differ.\n",
            "    \n",
            "    frexp(x, /)\n",
            "        Return the mantissa and exponent of x, as pair (m, e).\n",
            "        \n",
            "        m is a float and e is an int, such that x = m * 2.**e.\n",
            "        If x is 0, m and e are both 0.  Else 0.5 <= abs(m) < 1.0.\n",
            "    \n",
            "    fsum(seq, /)\n",
            "        Return an accurate floating point sum of values in the iterable seq.\n",
            "        \n",
            "        Assumes IEEE-754 floating point arithmetic.\n",
            "    \n",
            "    gamma(x, /)\n",
            "        Gamma function at x.\n",
            "    \n",
            "    gcd(x, y, /)\n",
            "        greatest common divisor of x and y\n",
            "    \n",
            "    hypot(...)\n",
            "        hypot(*coordinates) -> value\n",
            "        \n",
            "        Multidimensional Euclidean distance from the origin to a point.\n",
            "        \n",
            "        Roughly equivalent to:\n",
            "            sqrt(sum(x**2 for x in coordinates))\n",
            "        \n",
            "        For a two dimensional point (x, y), gives the hypotenuse\n",
            "        using the Pythagorean theorem:  sqrt(x*x + y*y).\n",
            "        \n",
            "        For example, the hypotenuse of a 3/4/5 right triangle is:\n",
            "        \n",
            "            >>> hypot(3.0, 4.0)\n",
            "            5.0\n",
            "    \n",
            "    isclose(a, b, *, rel_tol=1e-09, abs_tol=0.0)\n",
            "        Determine whether two floating point numbers are close in value.\n",
            "        \n",
            "          rel_tol\n",
            "            maximum difference for being considered \"close\", relative to the\n",
            "            magnitude of the input values\n",
            "          abs_tol\n",
            "            maximum difference for being considered \"close\", regardless of the\n",
            "            magnitude of the input values\n",
            "        \n",
            "        Return True if a is close in value to b, and False otherwise.\n",
            "        \n",
            "        For the values to be considered close, the difference between them\n",
            "        must be smaller than at least one of the tolerances.\n",
            "        \n",
            "        -inf, inf and NaN behave similarly to the IEEE 754 Standard.  That\n",
            "        is, NaN is not close to anything, even itself.  inf and -inf are\n",
            "        only close to themselves.\n",
            "    \n",
            "    isfinite(x, /)\n",
            "        Return True if x is neither an infinity nor a NaN, and False otherwise.\n",
            "    \n",
            "    isinf(x, /)\n",
            "        Return True if x is a positive or negative infinity, and False otherwise.\n",
            "    \n",
            "    isnan(x, /)\n",
            "        Return True if x is a NaN (not a number), and False otherwise.\n",
            "    \n",
            "    isqrt(n, /)\n",
            "        Return the integer part of the square root of the input.\n",
            "    \n",
            "    ldexp(x, i, /)\n",
            "        Return x * (2**i).\n",
            "        \n",
            "        This is essentially the inverse of frexp().\n",
            "    \n",
            "    lgamma(x, /)\n",
            "        Natural logarithm of absolute value of Gamma function at x.\n",
            "    \n",
            "    log(...)\n",
            "        log(x, [base=math.e])\n",
            "        Return the logarithm of x to the given base.\n",
            "        \n",
            "        If the base not specified, returns the natural logarithm (base e) of x.\n",
            "    \n",
            "    log10(x, /)\n",
            "        Return the base 10 logarithm of x.\n",
            "    \n",
            "    log1p(x, /)\n",
            "        Return the natural logarithm of 1+x (base e).\n",
            "        \n",
            "        The result is computed in a way which is accurate for x near zero.\n",
            "    \n",
            "    log2(x, /)\n",
            "        Return the base 2 logarithm of x.\n",
            "    \n",
            "    modf(x, /)\n",
            "        Return the fractional and integer parts of x.\n",
            "        \n",
            "        Both results carry the sign of x and are floats.\n",
            "    \n",
            "    perm(n, k=None, /)\n",
            "        Number of ways to choose k items from n items without repetition and with order.\n",
            "        \n",
            "        Evaluates to n! / (n - k)! when k <= n and evaluates\n",
            "        to zero when k > n.\n",
            "        \n",
            "        If k is not specified or is None, then k defaults to n\n",
            "        and the function returns n!.\n",
            "        \n",
            "        Raises TypeError if either of the arguments are not integers.\n",
            "        Raises ValueError if either of the arguments are negative.\n",
            "    \n",
            "    pow(x, y, /)\n",
            "        Return x**y (x to the power of y).\n",
            "    \n",
            "    prod(iterable, /, *, start=1)\n",
            "        Calculate the product of all the elements in the input iterable.\n",
            "        \n",
            "        The default start value for the product is 1.\n",
            "        \n",
            "        When the iterable is empty, return the start value.  This function is\n",
            "        intended specifically for use with numeric values and may reject\n",
            "        non-numeric types.\n",
            "    \n",
            "    radians(x, /)\n",
            "        Convert angle x from degrees to radians.\n",
            "    \n",
            "    remainder(x, y, /)\n",
            "        Difference between x and the closest integer multiple of y.\n",
            "        \n",
            "        Return x - n*y where n*y is the closest integer multiple of y.\n",
            "        In the case where x is exactly halfway between two multiples of\n",
            "        y, the nearest even value of n is used. The result is always exact.\n",
            "    \n",
            "    sin(x, /)\n",
            "        Return the sine of x (measured in radians).\n",
            "    \n",
            "    sinh(x, /)\n",
            "        Return the hyperbolic sine of x.\n",
            "    \n",
            "    sqrt(x, /)\n",
            "        Return the square root of x.\n",
            "    \n",
            "    tan(x, /)\n",
            "        Return the tangent of x (measured in radians).\n",
            "    \n",
            "    tanh(x, /)\n",
            "        Return the hyperbolic tangent of x.\n",
            "    \n",
            "    trunc(x, /)\n",
            "        Truncates the Real x to the nearest Integral toward 0.\n",
            "        \n",
            "        Uses the __trunc__ magic method.\n",
            "\n",
            "DATA\n",
            "    e = 2.718281828459045\n",
            "    inf = inf\n",
            "    nan = nan\n",
            "    pi = 3.141592653589793\n",
            "    tau = 6.283185307179586\n",
            "\n",
            "FILE\n",
            "    (built-in)\n",
            "\n",
            "\n",
            "None\n"
          ]
        }
      ]
    },
    {
      "cell_type": "markdown",
      "source": [
        "---\n",
        "---"
      ],
      "metadata": {
        "id": "aFaxCwBG5ydM"
      }
    },
    {
      "cell_type": "markdown",
      "source": [
        "**Day-19**"
      ],
      "metadata": {
        "id": "LXsCTrx-5yWM"
      }
    },
    {
      "cell_type": "markdown",
      "source": [
        "Default members of the module\n",
        "* __doc\n",
        "* __name\n",
        "* __file\n",
        "* math module\n",
        "* random module\n",
        "* * random () function\n",
        "* * randict () function\n",
        "* * uniform () function\n",
        "* * randrange () function\n",
        "* * choice () function"
      ],
      "metadata": {
        "id": "zQAAYKhNIbEL"
      }
    },
    {
      "cell_type": "markdown",
      "source": [
        "default memebers of the module:\n",
        "* for every module at the time of execution python module interpreter will add some special properties automatically for internal use."
      ],
      "metadata": {
        "id": "b79v6zbXMNt2"
      }
    },
    {
      "cell_type": "code",
      "source": [
        "print(dir())"
      ],
      "metadata": {
        "id": "VfkA31Ih_Kbw",
        "colab": {
          "base_uri": "https://localhost:8080/"
        },
        "outputId": "b9bb1118-32c9-4838-cd3a-c02365eab2bf"
      },
      "execution_count": null,
      "outputs": [
        {
          "output_type": "stream",
          "name": "stdout",
          "text": [
            "['In', 'Out', '_', '__', '___', '__builtin__', '__builtins__', '__doc__', '__loader__', '__name__', '__package__', '__spec__', '_dh', '_i', '_i1', '_i2', '_ih', '_ii', '_iii', '_oh', 'exit', 'get_ipython', 'quit', 'time', 'x', 'y']\n"
          ]
        }
      ]
    },
    {
      "cell_type": "markdown",
      "source": [
        "* Based on our requirement we can access these properties also in our program.\n"
      ],
      "metadata": {
        "id": "tfmltuZhTD7H"
      }
    },
    {
      "cell_type": "code",
      "source": [
        "'''this is simple module'''  # is called documentation string.\n",
        "print(dir())\n",
        "print(__doc__)   # will hold the documentation string."
      ],
      "metadata": {
        "id": "QmX90d8U_KiE",
        "colab": {
          "base_uri": "https://localhost:8080/"
        },
        "outputId": "0da2f007-2ff8-4bf1-ee65-013301017b29"
      },
      "execution_count": null,
      "outputs": [
        {
          "output_type": "stream",
          "name": "stdout",
          "text": [
            "['In', 'Out', '_', '__', '___', '__builtin__', '__builtins__', '__doc__', '__loader__', '__name__', '__package__', '__spec__', '_dh', '_i', '_i1', '_i2', '_i3', '_i4', '_i5', '_i6', '_i7', '_i8', '_i9', '_ih', '_ii', '_iii', '_oh', 'exit', 'get_ipython', 'math', 'quit', 'time', 'x', 'y']\n",
            "this is simple module\n"
          ]
        }
      ]
    },
    {
      "cell_type": "markdown",
      "source": [
        "* importance of \"__doc\"\n",
        "* * name & description of module"
      ],
      "metadata": {
        "id": "ZtwCr1iYTRSm"
      }
    },
    {
      "cell_type": "code",
      "source": [
        "print(__name__)\n",
        "# if the module is executed as an individual progaram then the value of this variable is __main__"
      ],
      "metadata": {
        "id": "RofcCnX3RSzg",
        "colab": {
          "base_uri": "https://localhost:8080/"
        },
        "outputId": "63983f5f-42a9-479c-985d-9931aec11de3"
      },
      "execution_count": null,
      "outputs": [
        {
          "output_type": "stream",
          "name": "stdout",
          "text": [
            "__main__\n"
          ]
        }
      ]
    },
    {
      "cell_type": "markdown",
      "source": [
        "module1.py\n",
        "\n",
        "def f1():\n",
        "   \n",
        "    print('hello')\n",
        "def f2():\n",
        "   \n",
        "    print('hello2')\n",
        "def f3():\n",
        "\n",
        "    print('hello3')\n",
        "\n",
        "f1()\n",
        "\n",
        "f2()\n",
        "\n",
        "f3()\n"
      ],
      "metadata": {
        "id": "-dN4BIb7PJQR"
      }
    },
    {
      "cell_type": "code",
      "source": [
        "import module1\n",
        "module1.f1()"
      ],
      "metadata": {
        "id": "DHyKEX9zRSq8"
      },
      "execution_count": null,
      "outputs": []
    },
    {
      "cell_type": "markdown",
      "source": [
        "o/p :\n",
        "\n",
        "hello \n",
        "\n",
        "hello2 \n",
        "\n",
        "hello3\n",
        "\n",
        "hello"
      ],
      "metadata": {
        "id": "4uFgjSYlP9mf"
      }
    },
    {
      "cell_type": "markdown",
      "source": [
        "* make the changes in module"
      ],
      "metadata": {
        "id": "5QPuM4qDSTGe"
      }
    },
    {
      "cell_type": "code",
      "source": [
        "if__name__=='__main__':\n",
        "  f1()\n",
        "  f2()\n",
        "  f3()"
      ],
      "metadata": {
        "id": "bzukVO-YQQJ3"
      },
      "execution_count": null,
      "outputs": []
    },
    {
      "cell_type": "code",
      "source": [
        "module1.py\n",
        "\n",
        "def f1():\n",
        "   print('hello')\n",
        "def f2():\n",
        "   print('hello2')\n",
        "def f3():\n",
        "   print('hello3')\n",
        "   \n",
        "if__name__=='__main__':\n",
        "  f1()\n",
        "  f2()\n",
        "  f3()"
      ],
      "metadata": {
        "id": "pVs1ImUsQcmv"
      },
      "execution_count": null,
      "outputs": []
    },
    {
      "cell_type": "markdown",
      "source": [
        "test.py \n",
        "\n",
        "print(dir())\n",
        "\n",
        "print(__file__)"
      ],
      "metadata": {
        "id": "4F0MCas2RDHN"
      }
    },
    {
      "cell_type": "code",
      "source": [
        "# contains the file path\n",
        "# E:\\test.py "
      ],
      "metadata": {
        "id": "BKyZHKPEQPbp"
      },
      "execution_count": null,
      "outputs": []
    },
    {
      "cell_type": "markdown",
      "source": [
        " **math module**\n",
        "* python provies built-in module math. this module defines several functions which can be used for mathematical operations.\n",
        "\n",
        "the main imp functions are:\n",
        "* 1)sqrt(x)\n",
        "* 2)ceil(x)\n",
        "* 3)floor(x)\n",
        "* 4)fabs(x)\n",
        "* 5)log(x)\n",
        "* 6)sin(x)\n",
        "* 7)tan(x)"
      ],
      "metadata": {
        "id": "NIOk30pZRqeH"
      }
    },
    {
      "cell_type": "code",
      "source": [
        "from math import*  \n",
        "print(sqrt(4))\n",
        "print(ceil(10.1))\n",
        "print(floor(10.1))\n",
        "print(fabs(-10.6))\n",
        "print(fabs(10.6))"
      ],
      "metadata": {
        "id": "GOi6_ZuPRmLp",
        "colab": {
          "base_uri": "https://localhost:8080/"
        },
        "outputId": "c666507a-7198-4fd8-f0a8-89989351ed97"
      },
      "execution_count": null,
      "outputs": [
        {
          "output_type": "stream",
          "name": "stdout",
          "text": [
            "2.0\n",
            "11\n",
            "10\n",
            "10.6\n",
            "10.6\n"
          ]
        }
      ]
    },
    {
      "cell_type": "markdown",
      "source": [
        "* we can find help for any module by using help() function\n"
      ],
      "metadata": {
        "id": "_orTDtNeUIsP"
      }
    },
    {
      "cell_type": "code",
      "source": [
        "import math\n",
        "help(math) "
      ],
      "metadata": {
        "id": "rqsDZVZCRmHf",
        "colab": {
          "base_uri": "https://localhost:8080/"
        },
        "outputId": "469b883d-a43f-432f-b032-590ee38f2113"
      },
      "execution_count": null,
      "outputs": [
        {
          "output_type": "stream",
          "name": "stdout",
          "text": [
            "Help on built-in module math:\n",
            "\n",
            "NAME\n",
            "    math\n",
            "\n",
            "DESCRIPTION\n",
            "    This module provides access to the mathematical functions\n",
            "    defined by the C standard.\n",
            "\n",
            "FUNCTIONS\n",
            "    acos(x, /)\n",
            "        Return the arc cosine (measured in radians) of x.\n",
            "    \n",
            "    acosh(x, /)\n",
            "        Return the inverse hyperbolic cosine of x.\n",
            "    \n",
            "    asin(x, /)\n",
            "        Return the arc sine (measured in radians) of x.\n",
            "    \n",
            "    asinh(x, /)\n",
            "        Return the inverse hyperbolic sine of x.\n",
            "    \n",
            "    atan(x, /)\n",
            "        Return the arc tangent (measured in radians) of x.\n",
            "    \n",
            "    atan2(y, x, /)\n",
            "        Return the arc tangent (measured in radians) of y/x.\n",
            "        \n",
            "        Unlike atan(y/x), the signs of both x and y are considered.\n",
            "    \n",
            "    atanh(x, /)\n",
            "        Return the inverse hyperbolic tangent of x.\n",
            "    \n",
            "    ceil(x, /)\n",
            "        Return the ceiling of x as an Integral.\n",
            "        \n",
            "        This is the smallest integer >= x.\n",
            "    \n",
            "    comb(n, k, /)\n",
            "        Number of ways to choose k items from n items without repetition and without order.\n",
            "        \n",
            "        Evaluates to n! / (k! * (n - k)!) when k <= n and evaluates\n",
            "        to zero when k > n.\n",
            "        \n",
            "        Also called the binomial coefficient because it is equivalent\n",
            "        to the coefficient of k-th term in polynomial expansion of the\n",
            "        expression (1 + x)**n.\n",
            "        \n",
            "        Raises TypeError if either of the arguments are not integers.\n",
            "        Raises ValueError if either of the arguments are negative.\n",
            "    \n",
            "    copysign(x, y, /)\n",
            "        Return a float with the magnitude (absolute value) of x but the sign of y.\n",
            "        \n",
            "        On platforms that support signed zeros, copysign(1.0, -0.0)\n",
            "        returns -1.0.\n",
            "    \n",
            "    cos(x, /)\n",
            "        Return the cosine of x (measured in radians).\n",
            "    \n",
            "    cosh(x, /)\n",
            "        Return the hyperbolic cosine of x.\n",
            "    \n",
            "    degrees(x, /)\n",
            "        Convert angle x from radians to degrees.\n",
            "    \n",
            "    dist(p, q, /)\n",
            "        Return the Euclidean distance between two points p and q.\n",
            "        \n",
            "        The points should be specified as sequences (or iterables) of\n",
            "        coordinates.  Both inputs must have the same dimension.\n",
            "        \n",
            "        Roughly equivalent to:\n",
            "            sqrt(sum((px - qx) ** 2.0 for px, qx in zip(p, q)))\n",
            "    \n",
            "    erf(x, /)\n",
            "        Error function at x.\n",
            "    \n",
            "    erfc(x, /)\n",
            "        Complementary error function at x.\n",
            "    \n",
            "    exp(x, /)\n",
            "        Return e raised to the power of x.\n",
            "    \n",
            "    expm1(x, /)\n",
            "        Return exp(x)-1.\n",
            "        \n",
            "        This function avoids the loss of precision involved in the direct evaluation of exp(x)-1 for small x.\n",
            "    \n",
            "    fabs(x, /)\n",
            "        Return the absolute value of the float x.\n",
            "    \n",
            "    factorial(x, /)\n",
            "        Find x!.\n",
            "        \n",
            "        Raise a ValueError if x is negative or non-integral.\n",
            "    \n",
            "    floor(x, /)\n",
            "        Return the floor of x as an Integral.\n",
            "        \n",
            "        This is the largest integer <= x.\n",
            "    \n",
            "    fmod(x, y, /)\n",
            "        Return fmod(x, y), according to platform C.\n",
            "        \n",
            "        x % y may differ.\n",
            "    \n",
            "    frexp(x, /)\n",
            "        Return the mantissa and exponent of x, as pair (m, e).\n",
            "        \n",
            "        m is a float and e is an int, such that x = m * 2.**e.\n",
            "        If x is 0, m and e are both 0.  Else 0.5 <= abs(m) < 1.0.\n",
            "    \n",
            "    fsum(seq, /)\n",
            "        Return an accurate floating point sum of values in the iterable seq.\n",
            "        \n",
            "        Assumes IEEE-754 floating point arithmetic.\n",
            "    \n",
            "    gamma(x, /)\n",
            "        Gamma function at x.\n",
            "    \n",
            "    gcd(x, y, /)\n",
            "        greatest common divisor of x and y\n",
            "    \n",
            "    hypot(...)\n",
            "        hypot(*coordinates) -> value\n",
            "        \n",
            "        Multidimensional Euclidean distance from the origin to a point.\n",
            "        \n",
            "        Roughly equivalent to:\n",
            "            sqrt(sum(x**2 for x in coordinates))\n",
            "        \n",
            "        For a two dimensional point (x, y), gives the hypotenuse\n",
            "        using the Pythagorean theorem:  sqrt(x*x + y*y).\n",
            "        \n",
            "        For example, the hypotenuse of a 3/4/5 right triangle is:\n",
            "        \n",
            "            >>> hypot(3.0, 4.0)\n",
            "            5.0\n",
            "    \n",
            "    isclose(a, b, *, rel_tol=1e-09, abs_tol=0.0)\n",
            "        Determine whether two floating point numbers are close in value.\n",
            "        \n",
            "          rel_tol\n",
            "            maximum difference for being considered \"close\", relative to the\n",
            "            magnitude of the input values\n",
            "          abs_tol\n",
            "            maximum difference for being considered \"close\", regardless of the\n",
            "            magnitude of the input values\n",
            "        \n",
            "        Return True if a is close in value to b, and False otherwise.\n",
            "        \n",
            "        For the values to be considered close, the difference between them\n",
            "        must be smaller than at least one of the tolerances.\n",
            "        \n",
            "        -inf, inf and NaN behave similarly to the IEEE 754 Standard.  That\n",
            "        is, NaN is not close to anything, even itself.  inf and -inf are\n",
            "        only close to themselves.\n",
            "    \n",
            "    isfinite(x, /)\n",
            "        Return True if x is neither an infinity nor a NaN, and False otherwise.\n",
            "    \n",
            "    isinf(x, /)\n",
            "        Return True if x is a positive or negative infinity, and False otherwise.\n",
            "    \n",
            "    isnan(x, /)\n",
            "        Return True if x is a NaN (not a number), and False otherwise.\n",
            "    \n",
            "    isqrt(n, /)\n",
            "        Return the integer part of the square root of the input.\n",
            "    \n",
            "    ldexp(x, i, /)\n",
            "        Return x * (2**i).\n",
            "        \n",
            "        This is essentially the inverse of frexp().\n",
            "    \n",
            "    lgamma(x, /)\n",
            "        Natural logarithm of absolute value of Gamma function at x.\n",
            "    \n",
            "    log(...)\n",
            "        log(x, [base=math.e])\n",
            "        Return the logarithm of x to the given base.\n",
            "        \n",
            "        If the base not specified, returns the natural logarithm (base e) of x.\n",
            "    \n",
            "    log10(x, /)\n",
            "        Return the base 10 logarithm of x.\n",
            "    \n",
            "    log1p(x, /)\n",
            "        Return the natural logarithm of 1+x (base e).\n",
            "        \n",
            "        The result is computed in a way which is accurate for x near zero.\n",
            "    \n",
            "    log2(x, /)\n",
            "        Return the base 2 logarithm of x.\n",
            "    \n",
            "    modf(x, /)\n",
            "        Return the fractional and integer parts of x.\n",
            "        \n",
            "        Both results carry the sign of x and are floats.\n",
            "    \n",
            "    perm(n, k=None, /)\n",
            "        Number of ways to choose k items from n items without repetition and with order.\n",
            "        \n",
            "        Evaluates to n! / (n - k)! when k <= n and evaluates\n",
            "        to zero when k > n.\n",
            "        \n",
            "        If k is not specified or is None, then k defaults to n\n",
            "        and the function returns n!.\n",
            "        \n",
            "        Raises TypeError if either of the arguments are not integers.\n",
            "        Raises ValueError if either of the arguments are negative.\n",
            "    \n",
            "    pow(x, y, /)\n",
            "        Return x**y (x to the power of y).\n",
            "    \n",
            "    prod(iterable, /, *, start=1)\n",
            "        Calculate the product of all the elements in the input iterable.\n",
            "        \n",
            "        The default start value for the product is 1.\n",
            "        \n",
            "        When the iterable is empty, return the start value.  This function is\n",
            "        intended specifically for use with numeric values and may reject\n",
            "        non-numeric types.\n",
            "    \n",
            "    radians(x, /)\n",
            "        Convert angle x from degrees to radians.\n",
            "    \n",
            "    remainder(x, y, /)\n",
            "        Difference between x and the closest integer multiple of y.\n",
            "        \n",
            "        Return x - n*y where n*y is the closest integer multiple of y.\n",
            "        In the case where x is exactly halfway between two multiples of\n",
            "        y, the nearest even value of n is used. The result is always exact.\n",
            "    \n",
            "    sin(x, /)\n",
            "        Return the sine of x (measured in radians).\n",
            "    \n",
            "    sinh(x, /)\n",
            "        Return the hyperbolic sine of x.\n",
            "    \n",
            "    sqrt(x, /)\n",
            "        Return the square root of x.\n",
            "    \n",
            "    tan(x, /)\n",
            "        Return the tangent of x (measured in radians).\n",
            "    \n",
            "    tanh(x, /)\n",
            "        Return the hyperbolic tangent of x.\n",
            "    \n",
            "    trunc(x, /)\n",
            "        Truncates the Real x to the nearest Integral toward 0.\n",
            "        \n",
            "        Uses the __trunc__ magic method.\n",
            "\n",
            "DATA\n",
            "    e = 2.718281828459045\n",
            "    inf = inf\n",
            "    nan = nan\n",
            "    pi = 3.141592653589793\n",
            "    tau = 6.283185307179586\n",
            "\n",
            "FILE\n",
            "    (built-in)\n",
            "\n",
            "\n"
          ]
        }
      ]
    },
    {
      "cell_type": "markdown",
      "source": [
        "* random module --used to generate random numbers. generally used for authentication(OTP etc)\n",
        "* random function() -- always generate some floor value b/w 0 and 1 (not inclusive)"
      ],
      "metadata": {
        "id": "nScgMjTeURyT"
      }
    },
    {
      "cell_type": "code",
      "source": [
        "from random import* \n",
        "for i in range(10):\n",
        "  print(random())"
      ],
      "metadata": {
        "id": "na3CL77iRSkE",
        "colab": {
          "base_uri": "https://localhost:8080/"
        },
        "outputId": "13fb36e4-8ab1-45cf-a606-717aff6bbe5c"
      },
      "execution_count": null,
      "outputs": [
        {
          "output_type": "stream",
          "name": "stdout",
          "text": [
            "0.4409040409806847\n",
            "0.6412755850329945\n",
            "0.049714505509765194\n",
            "0.9101282463765662\n",
            "0.8674903249821956\n",
            "0.5779289417107952\n",
            "0.49264130683820906\n",
            "0.8096317885068214\n",
            "0.12711947831610648\n",
            "0.4140714661901028\n"
          ]
        }
      ]
    },
    {
      "cell_type": "markdown",
      "source": [
        "* Randint() function --to generate random intiger b/w 2 given numbers(inclusive)"
      ],
      "metadata": {
        "id": "AeX8jAadUadS"
      }
    },
    {
      "cell_type": "code",
      "source": [
        "from random import* \n",
        "for i in range(10):\n",
        "  print(randint(1,10))"
      ],
      "metadata": {
        "id": "d_6fjcMJRSgb",
        "colab": {
          "base_uri": "https://localhost:8080/"
        },
        "outputId": "1793299f-9c08-48d2-a637-88fc83eded49"
      },
      "execution_count": null,
      "outputs": [
        {
          "output_type": "stream",
          "name": "stdout",
          "text": [
            "4\n",
            "9\n",
            "4\n",
            "4\n",
            "1\n",
            "6\n",
            "9\n",
            "1\n",
            "6\n",
            "9\n"
          ]
        }
      ]
    },
    {
      "cell_type": "markdown",
      "source": [
        "* uniform() function --It returns random float values b/w 2 given numbers (not inclusive) "
      ],
      "metadata": {
        "id": "QFcaVBPmUgv_"
      }
    },
    {
      "cell_type": "code",
      "source": [
        "from random import* \n",
        "for i in range(10):\n",
        "  print(uniform(1,10))"
      ],
      "metadata": {
        "id": "am4X72MRRSc7",
        "colab": {
          "base_uri": "https://localhost:8080/"
        },
        "outputId": "447e2a98-674f-40ac-f2f6-3cea620f0b4d"
      },
      "execution_count": null,
      "outputs": [
        {
          "output_type": "stream",
          "name": "stdout",
          "text": [
            "3.599247466869646\n",
            "8.173701803507294\n",
            "5.060764026639483\n",
            "6.011533733328178\n",
            "4.227379644741859\n",
            "6.541600703512794\n",
            "7.391384090404089\n",
            "5.487026381124942\n",
            "4.4337954233495385\n",
            "9.357187917240763\n"
          ]
        }
      ]
    },
    {
      "cell_type": "markdown",
      "source": [
        "randrange  ([start],stop,[step]) : returns a random numbers from range.\n",
        "* start<=x< stop\n",
        "* start argument is optional & default value is 0.\n",
        "* step argument is optional & default value is 1.\n",
        "* randrange(10) , generates a number from 0 to 9.\n",
        "* randrange(1,11) , generates a number from 1 to 10.\n",
        "* randrange(1,11,2) , generates a number from 1,3,5,7,9."
      ],
      "metadata": {
        "id": "_p3C38m5ha0i"
      }
    },
    {
      "cell_type": "code",
      "source": [
        "from random import* \n",
        "for i in range(10):\n",
        "  print(randrange(10))"
      ],
      "metadata": {
        "id": "yF67y6a7RSY1",
        "colab": {
          "base_uri": "https://localhost:8080/"
        },
        "outputId": "87b3bd02-32c7-4b5c-cac3-cf18054c6928"
      },
      "execution_count": null,
      "outputs": [
        {
          "output_type": "stream",
          "name": "stdout",
          "text": [
            "4\n",
            "0\n",
            "1\n",
            "2\n",
            "7\n",
            "3\n",
            "2\n",
            "9\n",
            "8\n",
            "5\n"
          ]
        }
      ]
    },
    {
      "cell_type": "code",
      "source": [
        "from random import* \n",
        "for i in range(10):\n",
        "  print(randrange(1,11))"
      ],
      "metadata": {
        "id": "bgkpKKZGRSVW",
        "colab": {
          "base_uri": "https://localhost:8080/"
        },
        "outputId": "1493b460-61b1-4d72-fb5f-b25c4694b79c"
      },
      "execution_count": null,
      "outputs": [
        {
          "output_type": "stream",
          "name": "stdout",
          "text": [
            "3\n",
            "1\n",
            "6\n",
            "4\n",
            "10\n",
            "8\n",
            "4\n",
            "5\n",
            "8\n",
            "2\n"
          ]
        }
      ]
    },
    {
      "cell_type": "code",
      "source": [
        "from random import* \n",
        "for i in range(10):\n",
        "  print(randrange(1,11,2))"
      ],
      "metadata": {
        "id": "zcURtByFRSRl",
        "colab": {
          "base_uri": "https://localhost:8080/"
        },
        "outputId": "886c5a39-9412-4d5d-dc38-b89bf96fa058"
      },
      "execution_count": null,
      "outputs": [
        {
          "output_type": "stream",
          "name": "stdout",
          "text": [
            "3\n",
            "3\n",
            "3\n",
            "3\n",
            "3\n",
            "1\n",
            "1\n",
            "3\n",
            "5\n",
            "9\n"
          ]
        }
      ]
    },
    {
      "cell_type": "markdown",
      "source": [
        "* choice() -- It will return a random object from the given list or tuple"
      ],
      "metadata": {
        "id": "O9md12LVUoqP"
      }
    },
    {
      "cell_type": "code",
      "source": [
        "from random import*\n",
        "list=['ravi','cat','anil','boy','god']\n",
        "for i in range(10):\n",
        "   print(choice(list))"
      ],
      "metadata": {
        "id": "kLdREQDeRSOb",
        "colab": {
          "base_uri": "https://localhost:8080/"
        },
        "outputId": "42221309-dbee-4e50-b742-477a8a636e94"
      },
      "execution_count": null,
      "outputs": [
        {
          "output_type": "stream",
          "name": "stdout",
          "text": [
            "anil\n",
            "anil\n",
            "god\n",
            "cat\n",
            "boy\n",
            "anil\n",
            "anil\n",
            "god\n",
            "boy\n",
            "cat\n"
          ]
        }
      ]
    },
    {
      "cell_type": "markdown",
      "source": [
        "---\n",
        "---"
      ],
      "metadata": {
        "id": "MjwfdIkLEDJo"
      }
    },
    {
      "cell_type": "markdown",
      "source": [
        "**Day-20**"
      ],
      "metadata": {
        "id": "InLEMjEAEEnX"
      }
    },
    {
      "cell_type": "markdown",
      "source": [
        "* understanding packages\n",
        "* advantage of packages\n",
        "* using the packages\n",
        "* sub packages"
      ],
      "metadata": {
        "id": "9gqE20GMR05l"
      }
    },
    {
      "cell_type": "code",
      "source": [
        "# *  about __int__.py"
      ],
      "metadata": {
        "id": "PatKt79GTgrj"
      },
      "execution_count": null,
      "outputs": []
    },
    {
      "cell_type": "markdown",
      "source": [
        "package: is a folder which is collection of modules\n",
        "* any folder or directory contains \"__init\" .py file, is considered as a package.\n",
        "* a package can contains sub packages also."
      ],
      "metadata": {
        "id": "HM8VV-A2VyJa"
      }
    },
    {
      "cell_type": "markdown",
      "source": [
        "advanges of packages \n",
        "* 1) we can resolve naming conflict\n",
        "* 2) It improves modularity of the application."
      ],
      "metadata": {
        "id": "6XfELEBd4Vg0"
      }
    },
    {
      "cell_type": "markdown",
      "source": [
        "lets create our first package.\n",
        "* i want to create a package with name-john. \n",
        "* point1: package is a folder.\n",
        "* so,lets create folder with the name john\n",
        "* how do you convert folder into a package?"
      ],
      "metadata": {
        "id": "VnyQcx7BkWFZ"
      }
    },
    {
      "cell_type": "code",
      "source": [
        "# yes by creating an empty file __init__.py\n",
        "# so, lets create it.\n",
        "# now, john is a package."
      ],
      "metadata": {
        "id": "zESvCg4CRSKH"
      },
      "execution_count": null,
      "outputs": []
    },
    {
      "cell_type": "markdown",
      "source": [
        "As, we know package is a collection of modules.\n",
        "* lets create one module in the package.\n",
        "* module1.py\n",
        "\n",
        "def f1():\n",
        "        \n",
        "         print('hello')\n",
        "\n",
        "  we are done with creating the first package."
      ],
      "metadata": {
        "id": "UiyWTWLNlhWe"
      }
    },
    {
      "cell_type": "markdown",
      "source": [
        "How can use the package?\n",
        "\n",
        "test.py\n",
        "* ---------\n",
        "* import john.module1\n",
        "* john.module1.f1()\n",
        "\n",
        "o/p:\n",
        " \n",
        " hello"
      ],
      "metadata": {
        "id": "EMaksqahmVHp"
      }
    },
    {
      "cell_type": "markdown",
      "source": [
        "2nd way of using the package\n",
        "* test.py\n",
        "* ---------\n",
        "* from john.module1 import f1()\n",
        "* f1()"
      ],
      "metadata": {
        "id": "nuKpHcCcnWYM"
      }
    },
    {
      "cell_type": "markdown",
      "source": [
        "can we create a package inside another package?\n",
        "* i want to create package --martin\n",
        "* inside martin package, lets create another package --scott"
      ],
      "metadata": {
        "id": "CJxk042Un68E"
      }
    },
    {
      "cell_type": "markdown",
      "source": [
        "step 1: create a folder martin.\n",
        "* create an empty file----  ____int_.py\n",
        "\n",
        "step 2: inside martin folder, we need to create another folder ---scott --       create an empty file --- ____int_.py\n",
        "\n",
        "\n",
        "step 3: create module1 in martin folder\n",
        "* def f1():\n",
        "          \n",
        "          print('hello')\n",
        "\n",
        "step 4: create module2 in martin folder\n",
        "* def f2():\n",
        "\n",
        "          print('hello2')\n",
        "\n",
        "step 5: using packages \n",
        "\n",
        "test.py\n",
        "\n",
        "from martin.module1 import f1\n",
        "\n",
        "from martin,scott.module2 import f2\n",
        "\n",
        "f1()\n",
        "\n",
        "f2()\n",
        "* ______"
      ],
      "metadata": {
        "id": "bf4_M-5QxWRn"
      }
    },
    {
      "cell_type": "markdown",
      "source": [
        "note:\n",
        "* lets remove ___init_.py from from martin and scott folder\n",
        "* do you think, test.py will work? lets run!!!\n",
        "\n",
        "observation:\n",
        "* __init_.py is optional from python 3.3. version"
      ],
      "metadata": {
        "id": "dmuCuR3vxVcm"
      }
    },
    {
      "cell_type": "markdown",
      "source": [
        "---\n",
        "---"
      ],
      "metadata": {
        "id": "lM-CdUD4FBeT"
      }
    },
    {
      "cell_type": "markdown",
      "source": [
        "**Day-21**"
      ],
      "metadata": {
        "id": "0vsAzEYuFDmN"
      }
    },
    {
      "cell_type": "markdown",
      "source": [
        "* importance of __init.py\n",
        "* need for installing a package.\n",
        "* how to install a package.\n",
        "* uninstall a package\n",
        "* OOP(object oriented programming)\n",
        "* syntax to create a class \n",
        "* Example of a class\n",
        "* types of variable\n",
        "* types of methods "
      ],
      "metadata": {
        "id": "SXkOoAuF466X"
      }
    },
    {
      "cell_type": "code",
      "source": [
        "# importance of __init__.py\n",
        "# 1) when using a package, you want to perform activities automatically, then we use __init_.py"
      ],
      "metadata": {
        "id": "WyvHIi1MRR-a"
      },
      "execution_count": null,
      "outputs": []
    },
    {
      "cell_type": "code",
      "source": [
        "# to perform any activity automatically, when package used __init__.py\n",
        "# lets experience it.\n",
        "# create package with name pack1\n",
        "# create __init__.py file in it. "
      ],
      "metadata": {
        "id": "Z4jdfFZIRR6Z"
      },
      "execution_count": null,
      "outputs": []
    },
    {
      "cell_type": "markdown",
      "source": [
        "create module1.py\n",
        "\n",
        "def f1():\n",
        "\n",
        "        print('hello')\n",
        "\n",
        "using this package from test.py\n",
        "* _____\n",
        "\n",
        "from pack1.module1 import f1\n",
        "\n",
        "f1()\n",
        "* ___\n",
        "\n",
        "run test.py file."
      ],
      "metadata": {
        "id": "l70dZMTh7-gZ"
      }
    },
    {
      "cell_type": "code",
      "source": [
        "# include one line in __init__.py\n",
        "print('sunil')\n",
        "# now, run test.py file "
      ],
      "metadata": {
        "id": "SUieZWAeRR3J",
        "colab": {
          "base_uri": "https://localhost:8080/"
        },
        "outputId": "bab9545a-b117-4706-912d-9015ccd8b6fa"
      },
      "execution_count": null,
      "outputs": [
        {
          "output_type": "stream",
          "name": "stdout",
          "text": [
            "sunil\n"
          ]
        }
      ]
    },
    {
      "cell_type": "markdown",
      "source": [
        "o/p:\n",
        "\n",
        "sunil\n",
        "\n",
        "hello"
      ],
      "metadata": {
        "id": "VGRC4jjk9Vwu"
      }
    },
    {
      "cell_type": "code",
      "source": [
        "# i hope you got the importance of __init__.py"
      ],
      "metadata": {
        "id": "s2ff05cs9H_5"
      },
      "execution_count": null,
      "outputs": []
    },
    {
      "cell_type": "markdown",
      "source": [
        " Need for installing package:\n",
        "* copy test.py  in --d:\\demo and run test.py\n",
        "* we get moduleNotFoundError: No module named 'pack1'\n",
        "* To make the package available from anywhere in the system, we have to install the package "
      ],
      "metadata": {
        "id": "MVNfGpUO_8Dh"
      }
    },
    {
      "cell_type": "markdown",
      "source": [
        "how to install package?\n",
        "* To install package, we cteate a new file. file name should be setup.py . it is also called setup script.\n",
        "* setup file should be created in the same location where package is created."
      ],
      "metadata": {
        "id": "Wv9wXfRRCjyW"
      }
    },
    {
      "cell_type": "code",
      "source": [
        "setup.py"
      ],
      "metadata": {
        "id": "NhKl5u-ARRyU"
      },
      "execution_count": null,
      "outputs": []
    },
    {
      "cell_type": "markdown",
      "source": [
        "from setuptools import setup\n",
        "\n",
        "setup(name='pack', version='0.1', packages=['pack1'])\n",
        "* _____"
      ],
      "metadata": {
        "id": "1kBA4uA7_xyb"
      }
    },
    {
      "cell_type": "markdown",
      "source": [
        "now install the package.\n",
        "\n",
        "E:\\sunil> pip install.\n",
        "\n",
        "observe the output. now that package is installed.\n"
      ],
      "metadata": {
        "id": "CL9SjBDtD4NC"
      }
    },
    {
      "cell_type": "markdown",
      "source": [
        "lets try to use the package from different location.\n",
        "\n",
        "D;\\demo> python test.py\n",
        "\n",
        "\n",
        "o/p:\n",
        "\n",
        "sunil\n",
        "\n",
        "hello"
      ],
      "metadata": {
        "id": "cBsKr-KZAsrw"
      }
    },
    {
      "cell_type": "markdown",
      "source": [
        "To uninstall package \n",
        "\n",
        "from any location uninstall the package\n",
        "\n",
        "D:\\demo> pip uninstall pack1\n",
        "\n",
        "o/p:\n",
        "\n",
        "now, successfully uninstalled pack1 0.1"
      ],
      "metadata": {
        "id": "d5qDkDZDBICU"
      }
    },
    {
      "cell_type": "markdown",
      "source": [
        "OOP:\n",
        "*  object oriented programming\n",
        "* how to create a class  syntax:\n",
        "\n",
        "class classname:\n",
        "           \n",
        "            '''documentation string'''\n",
        "\n",
        "            variables: instance variable, static & local variable\n",
        "\n",
        "            methods: instance methods, static methods, class methods"
      ],
      "metadata": {
        "id": "kTJBe0YiHfwU"
      }
    },
    {
      "cell_type": "markdown",
      "source": [
        "class student:\n",
        "             \n",
        "             '''this class is created by ravi'''\n",
        "\n",
        "no Errors\n",
        "\n",
        "now i want to access doc string just include one line of code below the class\n",
        "\n",
        "print( student.__doc_)"
      ],
      "metadata": {
        "id": "4iPfGzMGzQZt"
      }
    },
    {
      "cell_type": "code",
      "source": [
        "class student:\n",
        "             '''this class is created by ravi'''\n",
        "print( student.__doc__)"
      ],
      "metadata": {
        "id": "7lPVrpezRRjS",
        "colab": {
          "base_uri": "https://localhost:8080/"
        },
        "outputId": "dfc05762-54d8-4e64-84c7-df11265bc17c"
      },
      "execution_count": null,
      "outputs": [
        {
          "output_type": "stream",
          "name": "stdout",
          "text": [
            "this class is created by ravi\n"
          ]
        }
      ]
    },
    {
      "cell_type": "markdown",
      "source": [
        "* the above class is not having any variables & methods."
      ],
      "metadata": {
        "id": "MSA20lRH0Ifn"
      }
    },
    {
      "cell_type": "markdown",
      "source": [
        "* can we create variable in the class?  yes, definately."
      ],
      "metadata": {
        "id": "CBHl7gsET1di"
      }
    },
    {
      "cell_type": "markdown",
      "source": [
        "There are 3 types of variables\n",
        "* 1) Instance variables(object level variables)\n",
        "* 2) Static variables(class level variables)\n",
        "* 3) Local variables(Method level variables)\n",
        "\n"
      ],
      "metadata": {
        "id": "EsYQRrVW0IUr"
      }
    },
    {
      "cell_type": "markdown",
      "source": [
        "There are 3 types of methods\n",
        "* 1) Instance methods\n",
        "* 1) Class methods\n",
        "* 1) Static methods\n"
      ],
      "metadata": {
        "id": "0vZEtMId0IHk"
      }
    },
    {
      "cell_type": "markdown",
      "source": [
        "---\n",
        "---"
      ],
      "metadata": {
        "id": "Hatogof-UDFT"
      }
    },
    {
      "cell_type": "markdown",
      "source": [
        "**Day-22**"
      ],
      "metadata": {
        "id": "_zWcDAsnUF-o"
      }
    },
    {
      "cell_type": "markdown",
      "source": [
        "* Example of class with variable and methods \n",
        "* creating an object for the class\n",
        "* self variable \n",
        "* constructor\n",
        "* difference b/w constructor and methods \n",
        "* using instance variable\n",
        "* Deleting instance variables"
      ],
      "metadata": {
        "id": "axZGx1HjB_TQ"
      }
    },
    {
      "cell_type": "markdown",
      "source": [
        "* Example of class with variable and methods "
      ],
      "metadata": {
        "id": "idMh0EWQY5_k"
      }
    },
    {
      "cell_type": "code",
      "source": [
        "class student:\n",
        "  def __init__(self):\n",
        "    self.a='ravi'\n",
        "    self.b=24\n",
        "    self.c=75\n",
        "\t     \n",
        "  def f1(self):\n",
        "    print('hello i am :',self.a)\n",
        "    print('my age is :',self.b)\n",
        "    print('my marks are :',self.c)"
      ],
      "metadata": {
        "id": "iGUu24uGuV2q"
      },
      "execution_count": null,
      "outputs": []
    },
    {
      "cell_type": "markdown",
      "source": [
        "* we cannot use the class.\n",
        "* to use the class, we need to create an object."
      ],
      "metadata": {
        "id": "yEaKS1SMZgXW"
      }
    },
    {
      "cell_type": "markdown",
      "source": [
        "How to create an object ?\n",
        "* ____\n",
        "\n",
        "ReferenceVaiable=classname()\n",
        "\n",
        "s=student()"
      ],
      "metadata": {
        "id": "6wl9jL2G4wuf"
      }
    },
    {
      "cell_type": "markdown",
      "source": [
        "* by using object, we can access variables and methods in the class."
      ],
      "metadata": {
        "id": "R7YU7joZ6tOD"
      }
    },
    {
      "cell_type": "markdown",
      "source": [
        "* you have to be careful with indentation and tabs"
      ],
      "metadata": {
        "id": "Pc29EI_g61Q0"
      }
    },
    {
      "cell_type": "code",
      "source": [
        "class student:\n",
        "  def __init__(self):\n",
        "    self.a='ravi'\n",
        "    self.b=24\n",
        "    self.c=75\n",
        "\t     \n",
        "   def f1(self):\n",
        "    print('hello i am :',self.a)\n",
        "    print('my age is :',self.b)\n",
        "    print('my marks are :',self.c)\n",
        " \n",
        "s=student()\n",
        "\n",
        "print(s.a)\n",
        "print(s.b)\n",
        "print(s.c)"
      ],
      "metadata": {
        "colab": {
          "base_uri": "https://localhost:8080/",
          "height": 135
        },
        "id": "RqSGiOlkFGX0",
        "outputId": "16f78dba-ae60-4a6d-b2df-75be69a8b617"
      },
      "execution_count": null,
      "outputs": [
        {
          "output_type": "error",
          "ename": "IndentationError",
          "evalue": "ignored",
          "traceback": [
            "\u001b[0;36m  File \u001b[0;32m\"<tokenize>\"\u001b[0;36m, line \u001b[0;32m7\u001b[0m\n\u001b[0;31m    def f1(self):\u001b[0m\n\u001b[0m    ^\u001b[0m\n\u001b[0;31mIndentationError\u001b[0m\u001b[0;31m:\u001b[0m unindent does not match any outer indentation level\n"
          ]
        }
      ]
    },
    {
      "cell_type": "code",
      "source": [
        "class student:\n",
        "  '''Developed by ravi for python demo '''\n",
        "  def __init__(self):\n",
        "     self.a='ravi'\n",
        "     self.b=24\n",
        "     self.c=75\n",
        "\t     \n",
        "  def f1(self):\n",
        "    print('hello i am :',self.a)\n",
        "    print('my age is :',self.b)\n",
        "    print('my marks are :',self.c)\n",
        " \n",
        "\n",
        "s=student()  # here \"s\" is an object created for class student()\n",
        "\n",
        "print(s.a)\n",
        "print(s.b)\n",
        "print(s.c)"
      ],
      "metadata": {
        "colab": {
          "base_uri": "https://localhost:8080/"
        },
        "id": "O6H2MKHOFT0I",
        "outputId": "8a1e2ad5-ee34-4f7d-bc60-50d116d10392"
      },
      "execution_count": null,
      "outputs": [
        {
          "output_type": "stream",
          "name": "stdout",
          "text": [
            "ravi\n",
            "24\n",
            "75\n"
          ]
        }
      ]
    },
    {
      "cell_type": "markdown",
      "source": [
        "* by using object, we can access variables and methods in the class."
      ],
      "metadata": {
        "id": "e5k0TvcuU1MQ"
      }
    },
    {
      "cell_type": "code",
      "source": [
        "class student:\n",
        "  '''Developed by ravi for python demo '''\n",
        "  def __init__(self):\n",
        "    self.a='ravi'\n",
        "    self.b=24\n",
        "    self.c=75\n",
        "\t     \n",
        "  def f1(self):\n",
        "    print('hello i am :',self.a)\n",
        "    print('my age is :',self.b)\n",
        "    print('my marks are :',self.c)\n",
        " \n",
        "s=student()\n",
        "\n",
        "s.f1() # calling mathod by using object "
      ],
      "metadata": {
        "id": "gciAIyU_RRP9",
        "colab": {
          "base_uri": "https://localhost:8080/"
        },
        "outputId": "f330328b-679d-47de-cdb7-afa4ef1e8744"
      },
      "execution_count": null,
      "outputs": [
        {
          "output_type": "stream",
          "name": "stdout",
          "text": [
            "hello i am : ravi\n",
            "my age is : 24\n",
            "my marks are : 75\n"
          ]
        }
      ]
    },
    {
      "cell_type": "markdown",
      "source": [
        "* Example code for class"
      ],
      "metadata": {
        "id": "mVRcIoCl77NB"
      }
    },
    {
      "cell_type": "code",
      "source": [
        "class Person:\n",
        "  def __init__(self, name, age):\n",
        "    self.name = name\n",
        "    self.age = age\n",
        "\n",
        "p1 = Person(\"John\", 36)\n",
        "\n",
        "print(p1.name)\n",
        "print(p1.age)"
      ],
      "metadata": {
        "colab": {
          "base_uri": "https://localhost:8080/"
        },
        "id": "26tbNfdDDV6f",
        "outputId": "9d331774-434e-4b2b-9f22-24c8fe2467ef"
      },
      "execution_count": null,
      "outputs": [
        {
          "output_type": "stream",
          "name": "stdout",
          "text": [
            "John\n",
            "36\n"
          ]
        },
        {
          "output_type": "execute_result",
          "data": {
            "text/plain": [
              "<__main__.Person at 0x7fc5103e0d90>"
            ]
          },
          "metadata": {},
          "execution_count": 6
        }
      ]
    },
    {
      "cell_type": "markdown",
      "source": [
        "* Importance of naming convention."
      ],
      "metadata": {
        "id": "jd8Fe79wFV3t"
      }
    },
    {
      "cell_type": "code",
      "source": [
        "class student:\n",
        "  '''Developed by ravi for python demo '''\n",
        "  def __init__(self):\n",
        "     self.name='ravi'\n",
        "     self.age=24\n",
        "     self.marks=75\n",
        "\t     \n",
        "  def f1(self):\n",
        "    print('hello i am :',self.name)\n",
        "    print('my age is :',self.age)\n",
        "    print('my marks are :',self.marks)\n",
        " \n",
        "s=student()\n",
        "\n",
        "print(s.name)\n",
        "print(s.age)\n",
        "print(s.marks)\n",
        "s.f1()"
      ],
      "metadata": {
        "id": "40-GR5JYRRMb",
        "colab": {
          "base_uri": "https://localhost:8080/"
        },
        "outputId": "bf1f0af1-a1dd-4b0e-9660-47c09d887a51"
      },
      "execution_count": null,
      "outputs": [
        {
          "output_type": "stream",
          "name": "stdout",
          "text": [
            "ravi\n",
            "24\n",
            "75\n",
            "hello i am : ravi\n",
            "my age is : 24\n",
            "my marks are : 75\n"
          ]
        }
      ]
    },
    {
      "cell_type": "markdown",
      "source": [
        "self variables:\n",
        "* self is the default variable which is always pointing to current object.\n",
        "* by using self we can access instance variables and instance methods of object."
      ],
      "metadata": {
        "id": "LYZA9YMTJj3H"
      }
    },
    {
      "cell_type": "markdown",
      "source": [
        "Note: we have hard coded name,age & marks."
      ],
      "metadata": {
        "id": "MRHQu9Cz8Yca"
      }
    },
    {
      "cell_type": "code",
      "source": [
        "class student:\n",
        "  def __init__(self,name,rollno,marks):\n",
        "     self.name=name\n",
        "     self.rollno=rollno\n",
        "     self.marks=marks\n",
        "\t     \n",
        "  def f1(self):\n",
        "    print('hello my name is :',self.name)\n",
        "    print('my rollno is :',self.rollno)\n",
        "    print('my marks are :',self.marks)\n",
        " \n",
        "s1=student('ravi',101,80)\n",
        "s2=student('anil',102,90)\n",
        "\n",
        "s1.f1()\n",
        "s2.f1()"
      ],
      "metadata": {
        "colab": {
          "base_uri": "https://localhost:8080/"
        },
        "id": "fu1l_i8mJjW9",
        "outputId": "a6461b8c-aaeb-4967-8f72-f9cd1d906c02"
      },
      "execution_count": null,
      "outputs": [
        {
          "output_type": "stream",
          "name": "stdout",
          "text": [
            "hello my name is : ravi\n",
            "my rollno is : 101\n",
            "my marks are : 80\n",
            "hello my name is : anil\n",
            "my rollno is : 102\n",
            "my marks are : 90\n"
          ]
        }
      ]
    },
    {
      "cell_type": "code",
      "source": [
        "# Note: the special method\" __init__\" is called constructor."
      ],
      "metadata": {
        "id": "7SOIOTdsAVBy"
      },
      "execution_count": null,
      "outputs": []
    },
    {
      "cell_type": "markdown",
      "source": [
        "constructor concept:\n",
        "* constructor is a special method in python."
      ],
      "metadata": {
        "id": "1mRUUpXgALRM"
      }
    },
    {
      "cell_type": "code",
      "source": [
        "# the name of the constructor should be __init__(self)"
      ],
      "metadata": {
        "id": "bWBjqQcORRIN"
      },
      "execution_count": null,
      "outputs": []
    },
    {
      "cell_type": "markdown",
      "source": [
        "* constructor will be executed automatically at the time of object creation.\n",
        "* the main purpose of constructor is to declare & initialize instance variables.\n",
        "* per object constructor will be exeucted only once.\n",
        "* constructor can be take atleast one argument(atleast self)\n",
        "* constructor is optional & if we are not providing any constructor then python will provide default constructor."
      ],
      "metadata": {
        "id": "PXV5Ri7oBHyt"
      }
    },
    {
      "cell_type": "markdown",
      "source": [
        "Difference b/w methods & constructors.\n",
        "\n",
        "Method:\n",
        "* 1) name of method can be any thing.\n",
        "* 2) method will be executed if we call that method.\n",
        "* 3) per object, method cn be called any number of times.\n",
        "* 4) inside method we can write business logic\n",
        "\n",
        "constructor:\n",
        "* 1)constructor name should be always \" init__\".\n",
        "* 2)constructor will be executed automatically at the time of object creation.\n",
        "* 3)per object, constructor will be executed only once.\n",
        "* 4)inside constructor we have to declare & initialize instance variables."
      ],
      "metadata": {
        "id": "xZ7y7JSMCvxe"
      }
    },
    {
      "cell_type": "markdown",
      "source": [
        "* program to demonistrate constructor will execute only once per object"
      ],
      "metadata": {
        "id": "aLXGIkmAFSk3"
      }
    },
    {
      "cell_type": "code",
      "source": [
        "class test:\n",
        "  def __init__(self):\n",
        "    print('constructor execution..')\n",
        "  def m1(self):\n",
        "    print('method execution..')\n",
        "\n",
        "t1=test()\n",
        "\n",
        "t2=test()\n",
        "\n",
        "t3=test()\n",
        "\n",
        "t1.m1()\n",
        "# here 3 objects created & the constructor executed at each time automatically."
      ],
      "metadata": {
        "id": "jiuCH7XHRRAf",
        "colab": {
          "base_uri": "https://localhost:8080/"
        },
        "outputId": "84ec65a8-3c04-4328-9d1d-39e4db063e2d"
      },
      "execution_count": null,
      "outputs": [
        {
          "output_type": "stream",
          "name": "stdout",
          "text": [
            "constructor execution..\n",
            "constructor execution..\n",
            "constructor execution..\n",
            "method execution..\n"
          ]
        }
      ]
    },
    {
      "cell_type": "markdown",
      "source": [
        "Types of variables\n",
        "* 1) Instance variables(object level variables)\n",
        "* 2) Static variables(class level variables)\n",
        "* 3) Local variables(Method level variables)"
      ],
      "metadata": {
        "id": "6RAdPw2JHhCy"
      }
    },
    {
      "cell_type": "markdown",
      "source": [
        "1) Instance variables:\n",
        "* value of a variable is varied from object to object, then such type of variables are called instance variables.\n",
        "* for every object a seperate copy of instance variables will be created."
      ],
      "metadata": {
        "id": "xcHrcZt3HzHb"
      }
    },
    {
      "cell_type": "markdown",
      "source": [
        "* Declaring & initializing the instance variables in constructor"
      ],
      "metadata": {
        "id": "1gdEnMYH0gjn"
      }
    },
    {
      "cell_type": "code",
      "source": [
        "class emp:\n",
        "  def __init__(self):\n",
        "    self.eno=100\n",
        "    self.ename='ravi'\n",
        "    self.esal=10000\n",
        "\n",
        "e=emp()\n",
        "print(e.__dict__) "
      ],
      "metadata": {
        "id": "dZ4r8jAjRQ6X",
        "colab": {
          "base_uri": "https://localhost:8080/"
        },
        "outputId": "7cc44031-8089-4e5e-818a-c1161e5ee833"
      },
      "execution_count": null,
      "outputs": [
        {
          "output_type": "stream",
          "name": "stdout",
          "text": [
            "{'eno': 100, 'ename': 'ravi', 'esal': 10000}\n"
          ]
        }
      ]
    },
    {
      "cell_type": "markdown",
      "source": [
        "* Declaring instance variables inside method"
      ],
      "metadata": {
        "id": "id5kyPlu2bjD"
      }
    },
    {
      "cell_type": "code",
      "source": [
        "class test:\n",
        "  def __init__(self):\n",
        "    self.a=10\n",
        "    self.b=20\n",
        "\n",
        "  def m1(self):\n",
        "    self.c=30\n",
        "\n",
        "t=test()    # creating object 't'\n",
        "t.m1()\n",
        "print(t.__dict__)   "
      ],
      "metadata": {
        "id": "KDNQrxE3RQ2B",
        "colab": {
          "base_uri": "https://localhost:8080/"
        },
        "outputId": "9c00229c-3ef4-4081-f5ca-64a953ffd8fd"
      },
      "execution_count": null,
      "outputs": [
        {
          "output_type": "stream",
          "name": "stdout",
          "text": [
            "{'a': 10, 'b': 20, 'c': 30}\n"
          ]
        }
      ]
    },
    {
      "cell_type": "markdown",
      "source": [
        "* Add instance variables outside of the class to a perticular object "
      ],
      "metadata": {
        "id": "A-X0Xoa33nin"
      }
    },
    {
      "cell_type": "code",
      "source": [
        "class test:\n",
        "  def __init__(self):\n",
        "    self.a=10\n",
        "    self.b=20\n",
        "\n",
        "  def m1(self):\n",
        "    self.c=30\n",
        "\n",
        "t=test()    \n",
        "\n",
        "t.m1()\n",
        "t.d=40\n",
        "\n",
        "print(t.__dict__)   "
      ],
      "metadata": {
        "id": "ZW6W27_mRQx4",
        "colab": {
          "base_uri": "https://localhost:8080/"
        },
        "outputId": "fab289ad-a879-4728-ae73-f9db161bbfe5"
      },
      "execution_count": null,
      "outputs": [
        {
          "output_type": "stream",
          "name": "stdout",
          "text": [
            "{'a': 10, 'b': 20, 'c': 30, 'd': 40}\n"
          ]
        }
      ]
    },
    {
      "cell_type": "markdown",
      "source": [
        "How to access the instance variables:\n",
        "* we can access the instance variables with in the class by using self variable & outside of the class by using object name. "
      ],
      "metadata": {
        "id": "-mouQKOu4LSF"
      }
    },
    {
      "cell_type": "code",
      "source": [
        "class test:\n",
        "  def __init__(self):\n",
        "    self.a=10\n",
        "    self.b=20\n",
        "\n",
        "  def display(self):\n",
        "    print(self.a)\n",
        "    print(self.b)\n",
        "\n",
        "t=test()    \n",
        "t.display()\n",
        "\n",
        "print(t.a,t.b)   "
      ],
      "metadata": {
        "id": "txbPf6gbRQt_",
        "colab": {
          "base_uri": "https://localhost:8080/"
        },
        "outputId": "11c56bbb-0737-4e8f-979c-ea4ced73105b"
      },
      "execution_count": null,
      "outputs": [
        {
          "output_type": "stream",
          "name": "stdout",
          "text": [
            "10\n",
            "20\n",
            "10 20\n"
          ]
        }
      ]
    },
    {
      "cell_type": "markdown",
      "source": [
        "Delete instance variable from the object:\n",
        "* del key word can also be used to delete variables\n",
        "* within a class we can delete instance variable\n",
        "\n",
        "syntax:\n",
        "\n",
        "    del self.variablename"
      ],
      "metadata": {
        "id": "D_pA5Hbn6Mfx"
      }
    },
    {
      "cell_type": "markdown",
      "source": [
        "* from outside of class we can delete instance variablea as follows\n",
        "\n",
        "syntax:\n",
        "\n",
        "    del objectname.variablename"
      ],
      "metadata": {
        "id": "oUdVtwa2Y-si"
      }
    },
    {
      "cell_type": "code",
      "source": [
        "class test:\n",
        "  def __init__(self):\n",
        "    self.a=10\n",
        "    self.b=20\n",
        "    self.c=30\n",
        "    self.d=40\n",
        "\n",
        "\n",
        "  def m1(self):\n",
        "    del self.d\n",
        "   \n",
        "t=test()    \n",
        "print(t.__dict__)   \n",
        "\n",
        "t.m1()\n",
        "print(t.__dict__)   \n",
        "\n",
        "del t.c\n",
        "print(t.__dict__)   "
      ],
      "metadata": {
        "colab": {
          "base_uri": "https://localhost:8080/"
        },
        "id": "7vV3u_xz6yzG",
        "outputId": "876f5c2a-60d4-412e-973a-b83164ddd68c"
      },
      "execution_count": null,
      "outputs": [
        {
          "output_type": "stream",
          "name": "stdout",
          "text": [
            "{'a': 10, 'b': 20, 'c': 30, 'd': 40}\n",
            "{'a': 10, 'b': 20, 'c': 30}\n",
            "{'a': 10, 'b': 20}\n"
          ]
        }
      ]
    },
    {
      "cell_type": "markdown",
      "source": [
        "Note:\n",
        "* the instance variable which are deleted from one object, will not be delete from other objects."
      ],
      "metadata": {
        "id": "B8gyjrHd6MK1"
      }
    },
    {
      "cell_type": "code",
      "source": [
        "class test:\n",
        "  def __init__(self):\n",
        "    self.a=10\n",
        "    self.b=20\n",
        "    self.c=30\n",
        "    self.d=40\n",
        "   \n",
        "t1=test() \n",
        "t2=test() \n",
        "\n",
        "del t1.a\n",
        "\n",
        "print(t1.__dict__)   \n",
        "print(t2.__dict__)   "
      ],
      "metadata": {
        "id": "uBsEjiu3RQor",
        "colab": {
          "base_uri": "https://localhost:8080/"
        },
        "outputId": "5b73d8e2-7bdd-41b4-bcb5-feda687788bd"
      },
      "execution_count": null,
      "outputs": [
        {
          "output_type": "stream",
          "name": "stdout",
          "text": [
            "{'b': 20, 'c': 30, 'd': 40}\n",
            "{'a': 10, 'b': 20, 'c': 30, 'd': 40}\n"
          ]
        }
      ]
    },
    {
      "cell_type": "markdown",
      "source": [
        "can you give the o/p:\n",
        "* replacing values"
      ],
      "metadata": {
        "id": "inhhDtcT-Bm5"
      }
    },
    {
      "cell_type": "code",
      "source": [
        "class test:\n",
        "  def __init__(self):\n",
        "    self.a=10\n",
        "    self.b=20\n",
        "\n",
        "   \n",
        "t1=test() \n",
        "\n",
        "t1.a=888\n",
        "t1.b=999\n",
        "t2=test() \n",
        "\n",
        "print(t1.a,t1.b)   \n",
        "print(t2.a,t2.b)   "
      ],
      "metadata": {
        "id": "fS9sFGPRRQlC",
        "colab": {
          "base_uri": "https://localhost:8080/"
        },
        "outputId": "271ce4f2-d901-421f-e7b5-a39d711157cc"
      },
      "execution_count": null,
      "outputs": [
        {
          "output_type": "stream",
          "name": "stdout",
          "text": [
            "888 999\n",
            "10 20\n"
          ]
        }
      ]
    },
    {
      "cell_type": "markdown",
      "source": [
        "---\n",
        "---"
      ],
      "metadata": {
        "id": "yYzLEOMAaMkp"
      }
    },
    {
      "cell_type": "markdown",
      "source": [
        "**Day-23**"
      ],
      "metadata": {
        "id": "BiLYmUHpaMdY"
      }
    },
    {
      "cell_type": "markdown",
      "source": [
        "* Static variables\n",
        "* types of methods\n",
        "  * instance methods\n",
        "  * class methods\n",
        "  * static methods \n",
        "* setter and getter methods \n",
        "* class methods \n",
        "* static methods"
      ],
      "metadata": {
        "id": "0FcQy2raIv4l"
      }
    },
    {
      "cell_type": "markdown",
      "source": [
        "Static variables:\n",
        "* variables we have to declare with in the class directly but outside of methods are called static variables.\n",
        "* the value of a static variable is not varied from object to object.\n",
        "* only one copy of static variables will be created and shared by all objects of that class. \n",
        "* we can access static variables either by class name or by object reference.\n",
        "* but recommended to use class name."
      ],
      "metadata": {
        "id": "Tm-_IzycLkcI"
      }
    },
    {
      "cell_type": "code",
      "source": [
        "# Eg\n",
        "class test:\n",
        "  x=10\n",
        "  def __init__(self):\n",
        "    self.y=20\n",
        "\n",
        "t1=test()\n",
        "t2=test()\n",
        "\n",
        "print(t1.x, t1.y)\n",
        "print(t2.x, t2.y)\n",
        "\n",
        "test.x=888\n",
        "t1.y=999\n",
        "\n",
        "print(t1.x, t1.y)\n",
        "print(t2.x, t2.y)"
      ],
      "metadata": {
        "id": "LYizt_39RQOO",
        "colab": {
          "base_uri": "https://localhost:8080/"
        },
        "outputId": "ef7647c0-9662-4893-d3f8-a1f08297d743"
      },
      "execution_count": null,
      "outputs": [
        {
          "output_type": "stream",
          "name": "stdout",
          "text": [
            "10 20\n",
            "10 20\n",
            "888 999\n",
            "888 20\n"
          ]
        }
      ]
    },
    {
      "cell_type": "markdown",
      "source": [
        "various places to declare static variables:\n",
        "* 1) in general we can declare within the class directly but from out side of any method\n",
        "* 2) inside constructor by using class name\n",
        "* 3) inside instance method b using class name\n",
        "\n",
        "---"
      ],
      "metadata": {
        "id": "c1rACZwRO0Hr"
      }
    },
    {
      "cell_type": "markdown",
      "source": [
        "Types of methods\n",
        "  * 1)instance methods\n",
        "  * 2)class methods\n",
        "  * 3)static methods "
      ],
      "metadata": {
        "id": "EimJaTWmP1s0"
      }
    },
    {
      "cell_type": "markdown",
      "source": [
        "1)instance methods:\n",
        "* instance method declaration, we have to pass self variable.\n",
        "* eg.  \n",
        "* * def m1(self):\n",
        "* self variable inside method we can able to access instance variables.\n",
        "* within the class we can call instance method by using self variable and from outside of the class we ca call by using object reference. "
      ],
      "metadata": {
        "id": "O7n-lZlBQVIT"
      }
    },
    {
      "cell_type": "code",
      "source": [
        "class student:\n",
        "  def __init__(self,name,marks):\n",
        "    self.name=name\n",
        "    self.marks=marks\n",
        "  def display(self):\n",
        "    print('hi ',self.name)\n",
        "    print('you got marks are: ',self.marks)\n",
        "\n",
        "  def grade(self):\n",
        "    if self.marks>=60:\n",
        "      print('you got first grade' )\n",
        "    elif self.marks>=50:\n",
        "      print('you got second grade' )\n",
        "    elif self.marks>=35:\n",
        "      print('you got third grade' )\n",
        "    else:\n",
        "      print('you are failed' )\n",
        "\n",
        "n=int(input('enter number of students: '))\n",
        "\n",
        "for i in range(n):\n",
        "  name=input('enter name: ')\n",
        "  marks=int(input('enter marks: '))\n",
        "  s= student(name,marks)\n",
        "  s.display()\n",
        "  s.grade()\n",
        "  print()"
      ],
      "metadata": {
        "id": "lpWwcVMxRQIO",
        "colab": {
          "base_uri": "https://localhost:8080/"
        },
        "outputId": "cf77aa9c-9263-4e0c-8e43-6642ca71316e"
      },
      "execution_count": null,
      "outputs": [
        {
          "output_type": "stream",
          "name": "stdout",
          "text": [
            "enter number of students: 2\n",
            "enter name: ravi\n",
            "enter marks: 45\n",
            "hi  ravi\n",
            "you got marks are:  45\n",
            "you got third grade\n",
            "\n",
            "enter name: raju\n",
            "enter marks: 67\n",
            "hi  raju\n",
            "you got marks are:  67\n",
            "you got first grade\n",
            "\n"
          ]
        }
      ]
    },
    {
      "cell_type": "markdown",
      "source": [
        "setter & getter methods \n",
        "* we can set & get values of instance variables by using getter & setter methods."
      ],
      "metadata": {
        "id": "hm1KWmJ9DTmZ"
      }
    },
    {
      "cell_type": "markdown",
      "source": [
        "Setter method:\n",
        "* setter methods can be used to set values to the instance variables. setter methods are also known as mutator methods.\n",
        "* syntax:\n",
        "       def setVariable(self,variable):\n",
        "               self.varaible=variable\n",
        "* example\n",
        "        def setName(self,name):\n",
        "                 self.name=name"
      ],
      "metadata": {
        "id": "4FT1THzpDtan"
      }
    },
    {
      "cell_type": "markdown",
      "source": [
        "Getter method:\n",
        "* getter methods can be used to get values of the instance variables. getter methods are also known as accessor methods. \n",
        "* syntax:\n",
        "      def getVariable(self):\n",
        "             return self.variable \n",
        "* example\n",
        "      def getName(self):\n",
        "            return self.name      "
      ],
      "metadata": {
        "id": "T2Jybv-PFIaz"
      }
    },
    {
      "cell_type": "code",
      "source": [
        "class student:\n",
        "  def setname(self,name):\n",
        "    self.name=name\n",
        "  def getname(self):\n",
        "    return self.name\n",
        "  def setmarks(self,marks):\n",
        "    self.marks=marks\n",
        "  def getmarks(self):\n",
        "    return self.marks\n",
        "\n",
        "n=int(input('enter no of students :'))\n",
        "\n",
        "for i in range(n):\n",
        "  s=student()\n",
        "  name=input('enter name:')\n",
        "  s.setname(name)\n",
        "  marks=int(input('enter marks:'))\n",
        "  s.setmarks(marks)\n",
        "  print('hi',s.getname())\n",
        "  print('your marks are:',s.getmarks())\n",
        "  print()"
      ],
      "metadata": {
        "colab": {
          "base_uri": "https://localhost:8080/"
        },
        "id": "eMRB_u6KFJPN",
        "outputId": "25c619b9-191e-415c-e8ac-fd709e241bb2"
      },
      "execution_count": null,
      "outputs": [
        {
          "output_type": "stream",
          "name": "stdout",
          "text": [
            "enter no of students :2\n",
            "enter name:ravi\n",
            "enter marks:98\n",
            "hi ravi\n",
            "your marks are: 98\n",
            "\n",
            "enter name:raju\n",
            "enter marks:45\n",
            "hi raju\n",
            "your marks are: 45\n",
            "\n"
          ]
        }
      ]
    },
    {
      "cell_type": "markdown",
      "source": [
        "2) Class methods:\n",
        "* inside method implementation if we are using only class variables(static variables), then such type of methods we should declare as class method.\n",
        "* we can declare class method explicitly by using @classmethod decorator.\n",
        "* for class method we should provide cls variable at the time of declaration.\n",
        "* we can call class method by using classname or object reference variable."
      ],
      "metadata": {
        "id": "dzuVO8EBxhqm"
      }
    },
    {
      "cell_type": "code",
      "source": [
        "# Eg:\n",
        "class Animal:\n",
        "  legs=4\n",
        "\n",
        "  @classmethod\n",
        "  def walk(cls,name):\n",
        "    print('{} walk with {} legs...'.format(name,cls.legs))\n",
        "\n",
        "Animal.walk('Dog')\n",
        "Animal.walk('Cat')"
      ],
      "metadata": {
        "colab": {
          "base_uri": "https://localhost:8080/"
        },
        "id": "SSvpa1VxzHX2",
        "outputId": "b7ae1726-f0e7-41aa-a3af-7a5717e27195"
      },
      "execution_count": null,
      "outputs": [
        {
          "output_type": "stream",
          "name": "stdout",
          "text": [
            "Dog walk with 4 legs...\n",
            "Cat walk with 4 legs...\n"
          ]
        }
      ]
    },
    {
      "cell_type": "markdown",
      "source": [
        "* Program to track the number of objects created for a class "
      ],
      "metadata": {
        "id": "K3DKjm1A1gm2"
      }
    },
    {
      "cell_type": "code",
      "source": [
        "class Test:\n",
        "  count=0\n",
        "  def __init__(self):\n",
        "    Test.count=Test.count+1\n",
        "\n",
        "  @classmethod\n",
        "  def no_of_objects(cls):\n",
        "    print('the number of objects created for test class',cls.count)\n",
        "\n",
        "t1=Test()\n",
        "\n",
        "t2=Test()\n",
        "\n",
        "Test.no_of_objects()\n",
        "\n",
        "t3=Test()\n",
        "\n",
        "t4=Test()\n",
        "\n",
        "t5=Test()\n",
        "\n",
        "Test.no_of_objects()"
      ],
      "metadata": {
        "colab": {
          "base_uri": "https://localhost:8080/"
        },
        "id": "OegYivCcx8H9",
        "outputId": "5465855f-c9c0-43bf-935e-511242ccaf10"
      },
      "execution_count": 4,
      "outputs": [
        {
          "output_type": "stream",
          "name": "stdout",
          "text": [
            "the number of objects created for test class 2\n",
            "the number of objects created for test class 5\n"
          ]
        }
      ]
    },
    {
      "cell_type": "markdown",
      "source": [
        "  3)static methods \n",
        "* In general these methods are general utility methods.\n",
        "* inside these methods we won't use any instance or class variables.\n",
        "* here we won't provide self or cls arguments at the time of declaration.\n",
        "* we can declare static methods explicitly by using @staticmethod decorator.\n",
        "* we can access static methods by using classname or object reference."
      ],
      "metadata": {
        "id": "Fd2Tjmuq2Mu-"
      }
    },
    {
      "cell_type": "code",
      "source": [
        "# Eg:\n",
        "class Ravimath:\n",
        "  \n",
        "  @staticmethod\n",
        "  def add(x,y):\n",
        "    print('the sum:',x+y)\n",
        "\n",
        "  def product(x,y):\n",
        "    print('the product:',x*y)\n",
        "\n",
        "  def average(x,y):\n",
        "    print('the average:',(x+y)/2)\n",
        "\n",
        "Ravimath.add(10,20)\n",
        "\n",
        "Ravimath.product(10,20)\n",
        "\n",
        "Ravimath.average(10,20)"
      ],
      "metadata": {
        "id": "nOj1KM3_RQBV",
        "colab": {
          "base_uri": "https://localhost:8080/"
        },
        "outputId": "f45e20e6-1520-425e-eb5b-40eac2840e0f"
      },
      "execution_count": null,
      "outputs": [
        {
          "output_type": "stream",
          "name": "stdout",
          "text": [
            "the sum: 30\n",
            "the product: 200\n",
            "the average: 15.0\n"
          ]
        }
      ]
    },
    {
      "cell_type": "markdown",
      "source": [
        "* in general we can use only instance & static methods\n",
        "* inside static method we can access class level variables by using class name.\n",
        "* class methods are most rarely used methods in python."
      ],
      "metadata": {
        "id": "WBsHpLUZWRfc"
      }
    },
    {
      "cell_type": "markdown",
      "source": [
        "---\n",
        "---"
      ],
      "metadata": {
        "id": "InKTbCPaXp25"
      }
    },
    {
      "cell_type": "markdown",
      "source": [
        "**Day-24**"
      ],
      "metadata": {
        "id": "jSYBzOOIXpvx"
      }
    },
    {
      "cell_type": "markdown",
      "source": [
        "* Accessing static variables \n",
        "* Deleting static variables \n",
        "* mini bank application\n",
        "* local variables\n",
        "* inner classes\n",
        "* garbage collection \n",
        "* destructors"
      ],
      "metadata": {
        "id": "XTKuRh0gO3aR"
      }
    },
    {
      "cell_type": "markdown",
      "source": [
        "How to access static variables:\n",
        "* 1) inside constructor: by using either self or classname\n",
        "* 2) inside instance method: by using either self or classname\n",
        "* 3) inside class method: by using either cls variable or classname\n",
        "* 4) inside static method: by using classname\n",
        "* 5) from outside of class: by using either object reference or classname"
      ],
      "metadata": {
        "id": "b2wZCKCUB6H8"
      }
    },
    {
      "cell_type": "code",
      "source": [
        "class Test:\n",
        "  a=10\n",
        "  def __init__(self):\n",
        "    print(self.a)\n",
        "    print(Test.a)\n",
        "\n",
        "  def m1(self):\n",
        "    print(self.a)\n",
        "    print(Test.a)\n",
        "\n",
        "  @classmethod\n",
        "  def m2(cls):\n",
        "    print(cls.a)\n",
        "    print(Test.a)\n",
        "\n",
        "  @staticmethod\n",
        "  def m3():\n",
        "    print(Test.a)\n",
        "\n",
        "t=Test()\n",
        "\n",
        "print(Test.a)\n",
        "\n",
        "print(t.a)\n",
        "\n",
        "t.m1()\n",
        "\n",
        "t.m2()\n",
        "\n",
        "t.m3()"
      ],
      "metadata": {
        "id": "_ZTaav16O3-u",
        "colab": {
          "base_uri": "https://localhost:8080/"
        },
        "outputId": "c3631a11-9797-4953-ff26-48abfb35b08d"
      },
      "execution_count": null,
      "outputs": [
        {
          "output_type": "stream",
          "name": "stdout",
          "text": [
            "10\n",
            "10\n",
            "10\n",
            "10\n",
            "10\n",
            "10\n",
            "10\n",
            "10\n",
            "10\n"
          ]
        }
      ]
    },
    {
      "cell_type": "markdown",
      "source": [
        "How to delete static variable of a class:\n",
        "* 1) we can delete static variable from anywhere by using the following syntax\n",
        "\n",
        "        del classname.variablename\n",
        "* 2) but inside classmethod we can also use cls variable\n",
        "\n",
        "        del cls.variablename"
      ],
      "metadata": {
        "id": "VWrABa7EFQF8"
      }
    },
    {
      "cell_type": "code",
      "source": [
        "class Test:\n",
        "  a=10\n",
        "  @classmethod\n",
        "  def m1(cls):\n",
        "    del cls.a\n",
        "\n",
        "print(Test.__dict__)"
      ],
      "metadata": {
        "id": "aavoHG0QO8YM",
        "colab": {
          "base_uri": "https://localhost:8080/"
        },
        "outputId": "bad6cf9e-468a-4bfb-bd94-a2370cd10f83"
      },
      "execution_count": null,
      "outputs": [
        {
          "output_type": "stream",
          "name": "stdout",
          "text": [
            "{'__module__': '__main__', 'a': 10, 'm1': <classmethod object at 0x7ff5e21c0b80>, '__dict__': <attribute '__dict__' of 'Test' objects>, '__weakref__': <attribute '__weakref__' of 'Test' objects>, '__doc__': None}\n"
          ]
        }
      ]
    },
    {
      "cell_type": "code",
      "source": [
        "class Test:\n",
        "  a=10\n",
        "  @classmethod\n",
        "  def m1(cls):\n",
        "    del cls.a\n",
        "\n",
        "Test.m1()        # here we are deleting variable a=10\n",
        "print(Test.__dict__)"
      ],
      "metadata": {
        "id": "pIe6LimkO8qE",
        "colab": {
          "base_uri": "https://localhost:8080/"
        },
        "outputId": "5a8839d6-683f-4950-a02e-51af67e25446"
      },
      "execution_count": null,
      "outputs": [
        {
          "output_type": "stream",
          "name": "stdout",
          "text": [
            "{'__module__': '__main__', 'm1': <classmethod object at 0x7ff5e21c03a0>, '__dict__': <attribute '__dict__' of 'Test' objects>, '__weakref__': <attribute '__weakref__' of 'Test' objects>, '__doc__': None}\n"
          ]
        }
      ]
    },
    {
      "cell_type": "markdown",
      "source": [
        "* Mini bank statement:"
      ],
      "metadata": {
        "id": "SUXQC-1P9u7z"
      }
    },
    {
      "cell_type": "code",
      "source": [
        "class Customer:\n",
        "  '''this class developed by ravi'''\n",
        "  bankname='city'\n",
        "\n",
        "  def __init__(self,name,balance=0.0):\n",
        "    self.name=name\n",
        "    self.balance=balance\n",
        "\n",
        "  def deposite(self,amount):\n",
        "    self.balance=self.balance+amount\n",
        "    print('net Amount : ',self.balance)\n",
        "\n",
        "  def withdraw(self,amount):\n",
        "\n",
        "    if amount > self.balance:\n",
        "      print('sorry insufficient Balance')\n",
        "    else:\n",
        "      self.balance=self.balance-amount\n",
        "      print('net Balance :',self.balance)\n",
        "\n",
        "print('Welcome to ',Customer.bankname)\n",
        "name=input('enter the name: ')\n",
        "c1=Customer(name)\n",
        "\n",
        "while True:\n",
        "    print(' D - Deposit \\n W - Withdraw \\n E - Exit ')\n",
        "    optio = input('enter the option: ')\n",
        "    opt=optio.lower()\n",
        "    if opt=='d':\n",
        "      amt= eval(input('Enter the amount : '))\n",
        "      c1.deposite(amt)\n",
        "    elif opt=='w':\n",
        "      amnt= eval(input('Enter the amount to withdraw : '))\n",
        "      c1.withdraw(amnt)\n",
        "    elif opt=='e': \n",
        "      print('thank you')\n",
        "      break\n",
        "    else:\n",
        "      print('Enter the valid option :')"
      ],
      "metadata": {
        "id": "PrrYUiahO8_9",
        "colab": {
          "base_uri": "https://localhost:8080/"
        },
        "outputId": "1cf8f95f-ddad-4ade-848c-0c8f01180436"
      },
      "execution_count": 5,
      "outputs": [
        {
          "output_type": "stream",
          "name": "stdout",
          "text": [
            "Welcome to  city\n",
            "enter the name: ravi\n",
            " D - Deposit \n",
            " W - Withdraw \n",
            " E - Exit \n",
            "enter the option: d\n",
            "Enter the amount : 2000\n",
            "net Amount :  2000.0\n",
            " D - Deposit \n",
            " W - Withdraw \n",
            " E - Exit \n",
            "enter the option: w\n",
            "Enter the amount to withdraw : 200\n",
            "net Balance : 1800.0\n",
            " D - Deposit \n",
            " W - Withdraw \n",
            " E - Exit \n",
            "enter the option: e\n",
            "thank you\n"
          ]
        }
      ]
    },
    {
      "cell_type": "markdown",
      "source": [
        "Local variables:\n",
        "* to meet temporary requirements of programmer, we can declare variables inside a method. such  type of variables are called local variable\n",
        "* local variables will be created at the time of method execution and destroyed once method completes.\n",
        "* * Eg :"
      ],
      "metadata": {
        "id": "bzELz4cLUSyw"
      }
    },
    {
      "cell_type": "code",
      "source": [
        "class Test:\n",
        "  def m1(self):\n",
        "    a=100\n",
        "    print(a)\n",
        "  \n",
        "  def m2(self):\n",
        "    b=200\n",
        "    print(b)\n",
        "\n",
        "t=Test()\n",
        "\n",
        "t.m1()\n",
        "\n",
        "t.m2()"
      ],
      "metadata": {
        "colab": {
          "base_uri": "https://localhost:8080/"
        },
        "id": "YRjYPmolVUlS",
        "outputId": "cca735ce-72b1-46ac-f602-fd2e184cc545"
      },
      "execution_count": null,
      "outputs": [
        {
          "output_type": "stream",
          "name": "stdout",
          "text": [
            "100\n",
            "200\n"
          ]
        }
      ]
    },
    {
      "cell_type": "markdown",
      "source": [
        "* * Eg 2 :"
      ],
      "metadata": {
        "id": "UdqDc4FuHfjj"
      }
    },
    {
      "cell_type": "code",
      "source": [
        "class Test:\n",
        "  def m1(self):\n",
        "    a=100\n",
        "    print(a)\n",
        "  \n",
        "  def m2(self):\n",
        "    b=200\n",
        "    print(a)\n",
        "    print(b)\n",
        "\n",
        "t=Test()\n",
        "\n",
        "t.m1()\n",
        "\n",
        "t.m2()"
      ],
      "metadata": {
        "colab": {
          "base_uri": "https://localhost:8080/",
          "height": 354
        },
        "id": "h9Ax5nyGVTt4",
        "outputId": "3a4f57ce-5089-410d-af8d-857939d9e293"
      },
      "execution_count": null,
      "outputs": [
        {
          "output_type": "stream",
          "name": "stdout",
          "text": [
            "100\n"
          ]
        },
        {
          "output_type": "error",
          "ename": "NameError",
          "evalue": "ignored",
          "traceback": [
            "\u001b[0;31m---------------------------------------------------------------------------\u001b[0m",
            "\u001b[0;31mNameError\u001b[0m                                 Traceback (most recent call last)",
            "\u001b[0;32m<ipython-input-7-bbd8d6b94e78>\u001b[0m in \u001b[0;36m<cell line: 15>\u001b[0;34m()\u001b[0m\n\u001b[1;32m     13\u001b[0m \u001b[0mt\u001b[0m\u001b[0;34m.\u001b[0m\u001b[0mm1\u001b[0m\u001b[0;34m(\u001b[0m\u001b[0;34m)\u001b[0m\u001b[0;34m\u001b[0m\u001b[0;34m\u001b[0m\u001b[0m\n\u001b[1;32m     14\u001b[0m \u001b[0;34m\u001b[0m\u001b[0m\n\u001b[0;32m---> 15\u001b[0;31m \u001b[0mt\u001b[0m\u001b[0;34m.\u001b[0m\u001b[0mm2\u001b[0m\u001b[0;34m(\u001b[0m\u001b[0;34m)\u001b[0m\u001b[0;34m\u001b[0m\u001b[0;34m\u001b[0m\u001b[0m\n\u001b[0m",
            "\u001b[0;32m<ipython-input-7-bbd8d6b94e78>\u001b[0m in \u001b[0;36mm2\u001b[0;34m(self)\u001b[0m\n\u001b[1;32m      6\u001b[0m   \u001b[0;32mdef\u001b[0m \u001b[0mm2\u001b[0m\u001b[0;34m(\u001b[0m\u001b[0mself\u001b[0m\u001b[0;34m)\u001b[0m\u001b[0;34m:\u001b[0m\u001b[0;34m\u001b[0m\u001b[0;34m\u001b[0m\u001b[0m\n\u001b[1;32m      7\u001b[0m     \u001b[0mb\u001b[0m\u001b[0;34m=\u001b[0m\u001b[0;36m200\u001b[0m\u001b[0;34m\u001b[0m\u001b[0;34m\u001b[0m\u001b[0m\n\u001b[0;32m----> 8\u001b[0;31m     \u001b[0mprint\u001b[0m\u001b[0;34m(\u001b[0m\u001b[0ma\u001b[0m\u001b[0;34m)\u001b[0m\u001b[0;34m\u001b[0m\u001b[0;34m\u001b[0m\u001b[0m\n\u001b[0m\u001b[1;32m      9\u001b[0m     \u001b[0mprint\u001b[0m\u001b[0;34m(\u001b[0m\u001b[0mb\u001b[0m\u001b[0;34m)\u001b[0m\u001b[0;34m\u001b[0m\u001b[0;34m\u001b[0m\u001b[0m\n\u001b[1;32m     10\u001b[0m \u001b[0;34m\u001b[0m\u001b[0m\n",
            "\u001b[0;31mNameError\u001b[0m: name 'a' is not defined"
          ]
        }
      ]
    },
    {
      "cell_type": "markdown",
      "source": [
        "NameError: name 'a' is not defined\n",
        "* Local variable of one method, cannot be accessed in another method.\n",
        "----"
      ],
      "metadata": {
        "id": "BdmOFlS2WITZ"
      }
    },
    {
      "cell_type": "markdown",
      "source": [
        "Inner classes\n",
        "* some times we can declare a class inside another class, such type of classes are called inner classes.\n",
        "* without existing one type of object if there no chance of another type of object, then we should go for inner classes.\n",
        "\n",
        "example: without existing car object there is no chance of existing engine object. Hence engine class should be part of existing engine object.\n",
        "\n",
        "    class car:\n",
        "          .....\n",
        "             class engine:\n",
        "                      ......"
      ],
      "metadata": {
        "id": "NOyeZm8kWoZ6"
      }
    },
    {
      "cell_type": "markdown",
      "source": [
        "* example: without existing human there is no chance of exist head. Hence head should be part of human .\n",
        "* Note:\n",
        "* * Without existing outer class object there is no chance of existing inner class object. Hence inner class object is always associated with outer class object."
      ],
      "metadata": {
        "id": "LBdPVUAqZHjv"
      }
    },
    {
      "cell_type": "code",
      "source": [
        "class Hello:\n",
        "  def __init__(self):\n",
        "    print('outer class object creation')\n",
        "\n",
        "  class demo:\n",
        "    def __init__(self):\n",
        "       print('inner class object creation')\n",
        "    def m1(self):\n",
        "       print('inner class method')\n",
        "\n",
        "o=Hello()\n",
        "\n",
        "i=o.demo()\n",
        "\n",
        "i.m1()"
      ],
      "metadata": {
        "colab": {
          "base_uri": "https://localhost:8080/"
        },
        "id": "sdy9khzeVToV",
        "outputId": "706402cc-aafa-49a8-ef84-2d0ab9245cb5"
      },
      "execution_count": null,
      "outputs": [
        {
          "output_type": "stream",
          "name": "stdout",
          "text": [
            "outer class object creation\n",
            "inner class object creation\n",
            "inner class method\n"
          ]
        }
      ]
    },
    {
      "cell_type": "markdown",
      "source": [
        "Naming convention:\n",
        "* It is good if we start class name with upper case\n",
        "---"
      ],
      "metadata": {
        "id": "C-Jhp4ytb6zs"
      }
    },
    {
      "cell_type": "markdown",
      "source": [
        "Garbage collection:\n",
        "* in old languages like c++,programmer is responsible for both creation & destruction of objects.\n",
        "* usually programmer taking very much care while creating object, but neglecting destruction of useless objects.\n",
        "* because of his neglectance, total memory can be filled with useless objects which creates memory problems & total application will be down out of memory error."
      ],
      "metadata": {
        "id": "08VGkqQHcLFK"
      }
    },
    {
      "cell_type": "markdown",
      "source": [
        "* But in python, we have some assistance which is always running in the background to destroy useless objects. this assistance is nothing but garbage collector.\n",
        "* hence the main objective of garbage collector is to destroy useless objects."
      ],
      "metadata": {
        "id": "lrCbBk5Sa_iF"
      }
    },
    {
      "cell_type": "markdown",
      "source": [
        "* if an object does not have any reference variable then that object elegible for garbage collection."
      ],
      "metadata": {
        "id": "ukgi24ZpIwoY"
      }
    },
    {
      "cell_type": "markdown",
      "source": [
        "How to enable & disenalbe garbage collector in our program:\n",
        "* by default garbage collector is enabled, but we can disable based on our requirement. in this context we can use the following function of gc module.\n",
        "* 1) gc.isenabled() ---- returns True if GC is enabled.\n",
        "* 2) gc.disable() --- To disable GC explicitly\n",
        "* 3) gc.enable() --- To enable GC explicitly\n",
        "\n"
      ],
      "metadata": {
        "id": "8WSETkj3bzGg"
      }
    },
    {
      "cell_type": "markdown",
      "source": [
        "* *  Eg"
      ],
      "metadata": {
        "id": "ez0j3QoqJJsx"
      }
    },
    {
      "cell_type": "code",
      "source": [
        "import gc\n",
        "print(gc.isenabled())"
      ],
      "metadata": {
        "colab": {
          "base_uri": "https://localhost:8080/"
        },
        "id": "Jv2ZrIUbZi8H",
        "outputId": "3a487807-0e0f-4994-ce82-0afd9ead521f"
      },
      "execution_count": null,
      "outputs": [
        {
          "output_type": "stream",
          "name": "stdout",
          "text": [
            "True\n"
          ]
        }
      ]
    },
    {
      "cell_type": "code",
      "source": [
        "import gc\n",
        "print(gc.isenabled())\n",
        "\n",
        "gc.disable() \n",
        "print(gc.isenabled())"
      ],
      "metadata": {
        "colab": {
          "base_uri": "https://localhost:8080/"
        },
        "id": "3j-at6QHZi3S",
        "outputId": "e2752561-edb1-41be-9e12-041f0599b14e"
      },
      "execution_count": null,
      "outputs": [
        {
          "output_type": "stream",
          "name": "stdout",
          "text": [
            "True\n",
            "False\n"
          ]
        }
      ]
    },
    {
      "cell_type": "code",
      "source": [
        "import gc\n",
        "print(gc.isenabled())\n",
        "\n",
        "gc.disable() \n",
        "print(gc.isenabled())\n",
        "\n",
        "gc.enable()\n",
        "print(gc.isenabled())"
      ],
      "metadata": {
        "colab": {
          "base_uri": "https://localhost:8080/"
        },
        "id": "bcJuSVc-ZiyQ",
        "outputId": "fd5a3102-bb1f-44a6-cbe5-c0bc2933728a"
      },
      "execution_count": null,
      "outputs": [
        {
          "output_type": "stream",
          "name": "stdout",
          "text": [
            "False\n",
            "False\n",
            "True\n"
          ]
        }
      ]
    },
    {
      "cell_type": "markdown",
      "source": [
        "Destructor is a special method & the name should be (__del)\n",
        "* just before destroying an object garbage collector always calls destructor to perform clean up activities(resource deallocation activities like close database connection etc.)\n",
        "*note:\n",
        "* * the job of destructor is not to destroy object & it is just to perform clean up activities."
      ],
      "metadata": {
        "id": "XwffzphOfGev"
      }
    },
    {
      "cell_type": "code",
      "source": [
        "import time\n",
        "class Test:\n",
        "  def __init__(self):\n",
        "    print('object initialization...')\n",
        "\n",
        "  def __del__(self):\n",
        "    print('fulfilling last wish & perform clean up activites...')\n",
        "\n",
        "t1=Test()\n",
        "\n",
        "t1=None\n",
        "\n",
        "time.sleep(5)\n",
        "\n",
        "print('end of application...')  "
      ],
      "metadata": {
        "colab": {
          "base_uri": "https://localhost:8080/"
        },
        "id": "EvKgNF41gfWx",
        "outputId": "1d2fd0dd-fb97-452d-9c72-487b4e4ddd6f"
      },
      "execution_count": 6,
      "outputs": [
        {
          "output_type": "stream",
          "name": "stdout",
          "text": [
            "object initialization...\n",
            "fulfilling last wish & perform clean up activites...\n",
            "end of application...\n"
          ]
        }
      ]
    },
    {
      "cell_type": "code",
      "source": [
        "print(t1)"
      ],
      "metadata": {
        "id": "ZiACxk528WXr",
        "colab": {
          "base_uri": "https://localhost:8080/"
        },
        "outputId": "3cd756a7-4d74-453f-df5b-a111d4cbe366"
      },
      "execution_count": 8,
      "outputs": [
        {
          "output_type": "stream",
          "name": "stdout",
          "text": [
            "None\n"
          ]
        }
      ]
    },
    {
      "cell_type": "markdown",
      "source": [
        "---\n",
        "---"
      ],
      "metadata": {
        "id": "Tfh9yC9yb02I"
      }
    },
    {
      "cell_type": "markdown",
      "source": [
        "**Day-25**"
      ],
      "metadata": {
        "id": "NuVycbIsb0v8"
      }
    },
    {
      "cell_type": "markdown",
      "source": [
        "Types of errors:\n",
        "* syntax error\n",
        "* Runtime error\n",
        "\n",
        "what is an excepton \n",
        "* Try except\n",
        "* Multiple except block"
      ],
      "metadata": {
        "id": "GSxvBo9e8Zsu"
      }
    },
    {
      "cell_type": "markdown",
      "source": [
        "Exception handling:\n",
        "\n",
        "In any programming language there 2 types of errors are possible.\n",
        "* 1) syntax error\n",
        "* 2) runtime error\n"
      ],
      "metadata": {
        "id": "5PC9RlXk6H0t"
      }
    },
    {
      "cell_type": "markdown",
      "source": [
        "1) Syntax Error:\n",
        "* the error which occurs because of invalid syntax are called syntax error.\n",
        "* eg:"
      ],
      "metadata": {
        "id": "WYY9TYwg6omI"
      }
    },
    {
      "cell_type": "code",
      "source": [
        "x=10\n",
        "if x==10\n",
        "   print('hello')"
      ],
      "metadata": {
        "colab": {
          "base_uri": "https://localhost:8080/",
          "height": 135
        },
        "id": "a4Al6hFi8WR-",
        "outputId": "ac1259df-4627-481d-e8c5-a01e024a0615"
      },
      "execution_count": null,
      "outputs": [
        {
          "output_type": "error",
          "ename": "SyntaxError",
          "evalue": "ignored",
          "traceback": [
            "\u001b[0;36m  File \u001b[0;32m\"<ipython-input-13-144cfc6ad43c>\"\u001b[0;36m, line \u001b[0;32m2\u001b[0m\n\u001b[0;31m    if x==10\u001b[0m\n\u001b[0m            ^\u001b[0m\n\u001b[0;31mSyntaxError\u001b[0m\u001b[0;31m:\u001b[0m invalid syntax\n"
          ]
        }
      ]
    },
    {
      "cell_type": "markdown",
      "source": [
        "Eg2:"
      ],
      "metadata": {
        "id": "OkZfG9hG7-fw"
      }
    },
    {
      "cell_type": "code",
      "source": [
        "print'hello'"
      ],
      "metadata": {
        "id": "vKehoJRK8WNA",
        "colab": {
          "base_uri": "https://localhost:8080/",
          "height": 135
        },
        "outputId": "5d90b02d-a3e3-4ca9-9ef5-dcbc19a04ccc"
      },
      "execution_count": null,
      "outputs": [
        {
          "output_type": "error",
          "ename": "SyntaxError",
          "evalue": "ignored",
          "traceback": [
            "\u001b[0;36m  File \u001b[0;32m\"<ipython-input-15-adcb33858172>\"\u001b[0;36m, line \u001b[0;32m1\u001b[0m\n\u001b[0;31m    print'hello'\u001b[0m\n\u001b[0m         ^\u001b[0m\n\u001b[0;31mSyntaxError\u001b[0m\u001b[0;31m:\u001b[0m invalid syntax\n"
          ]
        }
      ]
    },
    {
      "cell_type": "markdown",
      "source": [
        "* Programmer is responsible to correct these syntax errors."
      ],
      "metadata": {
        "id": "bN40k00dcq-l"
      }
    },
    {
      "cell_type": "markdown",
      "source": [
        "2)Runtime Errors: also known as exceptions.\n",
        "* while executing the program if something goes wrong because of end user input or programming logic or memory problems etc then we will get runtime errors.\n",
        "* * Eg1:"
      ],
      "metadata": {
        "id": "5Gi7aCgc8ZUA"
      }
    },
    {
      "cell_type": "code",
      "source": [
        "print('hello1')\n",
        "print(10/0)\n",
        "print('hello2')"
      ],
      "metadata": {
        "id": "HdIE2YsR8WIk",
        "colab": {
          "base_uri": "https://localhost:8080/",
          "height": 226
        },
        "outputId": "f66374fd-f4be-4ddd-80fc-523f473ffc4a"
      },
      "execution_count": null,
      "outputs": [
        {
          "output_type": "stream",
          "name": "stdout",
          "text": [
            "hello1\n"
          ]
        },
        {
          "output_type": "error",
          "ename": "ZeroDivisionError",
          "evalue": "ignored",
          "traceback": [
            "\u001b[0;31m---------------------------------------------------------------------------\u001b[0m",
            "\u001b[0;31mZeroDivisionError\u001b[0m                         Traceback (most recent call last)",
            "\u001b[0;32m<ipython-input-16-50cc52df3e03>\u001b[0m in \u001b[0;36m<cell line: 2>\u001b[0;34m()\u001b[0m\n\u001b[1;32m      1\u001b[0m \u001b[0mprint\u001b[0m\u001b[0;34m(\u001b[0m\u001b[0;34m'hello1'\u001b[0m\u001b[0;34m)\u001b[0m\u001b[0;34m\u001b[0m\u001b[0;34m\u001b[0m\u001b[0m\n\u001b[0;32m----> 2\u001b[0;31m \u001b[0mprint\u001b[0m\u001b[0;34m(\u001b[0m\u001b[0;36m10\u001b[0m\u001b[0;34m/\u001b[0m\u001b[0;36m0\u001b[0m\u001b[0;34m)\u001b[0m\u001b[0;34m\u001b[0m\u001b[0;34m\u001b[0m\u001b[0m\n\u001b[0m\u001b[1;32m      3\u001b[0m \u001b[0mprint\u001b[0m\u001b[0;34m(\u001b[0m\u001b[0;34m'hello2'\u001b[0m\u001b[0;34m)\u001b[0m\u001b[0;34m\u001b[0m\u001b[0;34m\u001b[0m\u001b[0m\n",
            "\u001b[0;31mZeroDivisionError\u001b[0m: division by zero"
          ]
        }
      ]
    },
    {
      "cell_type": "markdown",
      "source": [
        "* * Eg2:"
      ],
      "metadata": {
        "id": "UtwNkQ-oLObL"
      }
    },
    {
      "cell_type": "code",
      "source": [
        "print('hello1')\n",
        "print(10/'ten')\n",
        "print('hello2')"
      ],
      "metadata": {
        "id": "n3CVhWnE8WDk",
        "colab": {
          "base_uri": "https://localhost:8080/",
          "height": 226
        },
        "outputId": "41b5c296-5326-4a0d-e0bf-7ac36f4861fd"
      },
      "execution_count": null,
      "outputs": [
        {
          "output_type": "stream",
          "name": "stdout",
          "text": [
            "hello1\n"
          ]
        },
        {
          "output_type": "error",
          "ename": "TypeError",
          "evalue": "ignored",
          "traceback": [
            "\u001b[0;31m---------------------------------------------------------------------------\u001b[0m",
            "\u001b[0;31mTypeError\u001b[0m                                 Traceback (most recent call last)",
            "\u001b[0;32m<ipython-input-17-8fc0e8873283>\u001b[0m in \u001b[0;36m<cell line: 2>\u001b[0;34m()\u001b[0m\n\u001b[1;32m      1\u001b[0m \u001b[0mprint\u001b[0m\u001b[0;34m(\u001b[0m\u001b[0;34m'hello1'\u001b[0m\u001b[0;34m)\u001b[0m\u001b[0;34m\u001b[0m\u001b[0;34m\u001b[0m\u001b[0m\n\u001b[0;32m----> 2\u001b[0;31m \u001b[0mprint\u001b[0m\u001b[0;34m(\u001b[0m\u001b[0;36m10\u001b[0m\u001b[0;34m/\u001b[0m\u001b[0;34m'ten'\u001b[0m\u001b[0;34m)\u001b[0m\u001b[0;34m\u001b[0m\u001b[0;34m\u001b[0m\u001b[0m\n\u001b[0m\u001b[1;32m      3\u001b[0m \u001b[0mprint\u001b[0m\u001b[0;34m(\u001b[0m\u001b[0;34m'hello2'\u001b[0m\u001b[0;34m)\u001b[0m\u001b[0;34m\u001b[0m\u001b[0;34m\u001b[0m\u001b[0m\n",
            "\u001b[0;31mTypeError\u001b[0m: unsupported operand type(s) for /: 'int' and 'str'"
          ]
        }
      ]
    },
    {
      "cell_type": "markdown",
      "source": [
        "* Exception handling concept applicable for runtime error but not syntax errors"
      ],
      "metadata": {
        "id": "LmJQXrSi-yqB"
      }
    },
    {
      "cell_type": "markdown",
      "source": [
        "What is Exception?\n",
        "* an unwanted & unexpected event that distrubs normal flow of program is called exception.\n",
        "*  Eg:\n",
        "** ZeroDivisionError\n",
        "** TypeError\n",
        "**  ValueError\n",
        "** FileNotFoundError\n",
        "** EoFError\n",
        "** SleepingError\n",
        "** TyrepuncturedError"
      ],
      "metadata": {
        "id": "wR5kkjVq_Eiz"
      }
    },
    {
      "cell_type": "markdown",
      "source": [
        "* It is highly recommended to handle exceptions. the main objective of exception handling is graceful termination of the program.\n",
        "* every exception in python is an object. for every exception type the corresponding classes are available."
      ],
      "metadata": {
        "id": "errGysOSd3WH"
      }
    },
    {
      "cell_type": "code",
      "source": [
        "print('hello1')\n",
        "print(10/0)\n",
        "print('hello2')"
      ],
      "metadata": {
        "id": "qTJJG2cL8V-q",
        "colab": {
          "base_uri": "https://localhost:8080/",
          "height": 226
        },
        "outputId": "f8752e51-c8a9-468c-d839-49b02f3bb070"
      },
      "execution_count": null,
      "outputs": [
        {
          "output_type": "stream",
          "name": "stdout",
          "text": [
            "hello1\n"
          ]
        },
        {
          "output_type": "error",
          "ename": "ZeroDivisionError",
          "evalue": "ignored",
          "traceback": [
            "\u001b[0;31m---------------------------------------------------------------------------\u001b[0m",
            "\u001b[0;31mZeroDivisionError\u001b[0m                         Traceback (most recent call last)",
            "\u001b[0;32m<ipython-input-16-50cc52df3e03>\u001b[0m in \u001b[0;36m<module>\u001b[0;34m\u001b[0m\n\u001b[1;32m      1\u001b[0m \u001b[0mprint\u001b[0m\u001b[0;34m(\u001b[0m\u001b[0;34m'hello1'\u001b[0m\u001b[0;34m)\u001b[0m\u001b[0;34m\u001b[0m\u001b[0;34m\u001b[0m\u001b[0m\n\u001b[0;32m----> 2\u001b[0;31m \u001b[0mprint\u001b[0m\u001b[0;34m(\u001b[0m\u001b[0;36m10\u001b[0m\u001b[0;34m/\u001b[0m\u001b[0;36m0\u001b[0m\u001b[0;34m)\u001b[0m\u001b[0;34m\u001b[0m\u001b[0;34m\u001b[0m\u001b[0m\n\u001b[0m\u001b[1;32m      3\u001b[0m \u001b[0mprint\u001b[0m\u001b[0;34m(\u001b[0m\u001b[0;34m'hello2'\u001b[0m\u001b[0;34m)\u001b[0m\u001b[0;34m\u001b[0m\u001b[0;34m\u001b[0m\u001b[0m\n",
            "\u001b[0;31mZeroDivisionError\u001b[0m: division by zero"
          ]
        }
      ]
    },
    {
      "cell_type": "markdown",
      "source": [
        "* whenever an exception occurs PVM(python virtual machine) will create the corresponding exception object & will check for handling code.\n",
        "* if handling code is not available then python interpreter terminates the program abnormally & prints corresponding exception information to the console.\n",
        "* Note:\n",
        "** Every exception in python is a class"
      ],
      "metadata": {
        "id": "BsB_ZRVcBukx"
      }
    },
    {
      "cell_type": "markdown",
      "source": [
        "exception handling by using try-except:\n",
        "* It is highly recommended to handle exceptions.\n",
        "* the code which amy raise exception is called risky code.\n",
        "* we have to take risky code inside try block.\n",
        "* handling code we have to take inside except block.\n",
        "\n",
        "      try:  \n",
        "            risky code\n",
        "      except XXX:\n",
        "             handling code/alternative code"
      ],
      "metadata": {
        "id": "xb_mQtvWC-Qk"
      }
    },
    {
      "cell_type": "code",
      "source": [
        "print('hello1')\n",
        "\n",
        "try:\n",
        "  print(10/0)\n",
        "\n",
        "except ZeroDivisionError:\n",
        "  print(10/2)\n",
        "\n",
        "print('hello2')"
      ],
      "metadata": {
        "id": "dECxdauY8V56",
        "colab": {
          "base_uri": "https://localhost:8080/"
        },
        "outputId": "8a09fcfd-6b07-44fd-9d83-5d7bdcc51dfd"
      },
      "execution_count": null,
      "outputs": [
        {
          "output_type": "stream",
          "name": "stdout",
          "text": [
            "hello1\n",
            "5.0\n",
            "hello2\n"
          ]
        }
      ]
    },
    {
      "cell_type": "markdown",
      "source": [
        "Control Flow in try-except:\n",
        "\n",
        "    try:\n",
        "          stmr-1\n",
        "          stmr-2\n",
        "          stmr-3\n",
        "    except XXX:\n",
        "          stmr-4\n",
        "    stmt-5"
      ],
      "metadata": {
        "id": "1MKJ7M0MEzop"
      }
    },
    {
      "cell_type": "markdown",
      "source": [
        "* Case-1:\n",
        "* * if there is no exception --- 1,2,3,5 & normal termination.\n",
        "* Case-2:\n",
        "* * if an exception rasied at stmt-2 & corresponding except block matched 1,4,5 noraml termination.\n",
        "* Case-3:\n",
        "* * if an exception rose at stmt-2 & corresponding except block not matched 1, Abnormal termination."
      ],
      "metadata": {
        "id": "At1YeK1BFmIC"
      }
    },
    {
      "cell_type": "code",
      "source": [
        "print('hello1')\n",
        "\n",
        "try:\n",
        "  print(10/0)\n",
        "\n",
        "except ZeroDivisionError as msg:\n",
        "  print('exception raised & its description is ',msg)"
      ],
      "metadata": {
        "id": "RmC4exy38V1R",
        "colab": {
          "base_uri": "https://localhost:8080/"
        },
        "outputId": "1e80a9bf-0b5f-4a06-8abe-ce2cdb74be34"
      },
      "execution_count": null,
      "outputs": [
        {
          "output_type": "stream",
          "name": "stdout",
          "text": [
            "hello1\n",
            "exception raised & its description is  division by zero\n"
          ]
        }
      ]
    },
    {
      "cell_type": "markdown",
      "source": [
        "Multiple except blocks:\n",
        "* Eg:\n",
        "    try:\n",
        "        -------\n",
        "        -------\n",
        "    except ZeroDivisionError:\n",
        "        perform alternative arithematic opearations\n",
        "    except FileNotFoundError:\n",
        "        use local file instead of remote file"
      ],
      "metadata": {
        "id": "2f83Reo3_c0U"
      }
    },
    {
      "cell_type": "code",
      "source": [
        "try:\n",
        "  x=int(input('enter first number :'))\n",
        "  y=int(input('enter second number :'))\n",
        "  print(x/y)\n",
        "  \n",
        "except ZeroDivisionError:\n",
        "  print(\"can't divide with zero\")\n",
        "\n",
        "except FileNotFoundError:\n",
        "  print(\"please provide int value only\")"
      ],
      "metadata": {
        "id": "dZ0fwHbQ8Vwl",
        "colab": {
          "base_uri": "https://localhost:8080/"
        },
        "outputId": "cadbca83-ff52-49f9-b093-a0af742bc883"
      },
      "execution_count": 9,
      "outputs": [
        {
          "output_type": "stream",
          "name": "stdout",
          "text": [
            "enter first number :23\n",
            "enter second number :0\n",
            "can't divide with zero\n"
          ]
        }
      ]
    },
    {
      "cell_type": "code",
      "source": [
        "try:\n",
        "  x=int(input('enter first number :'))\n",
        "  y=int(input('enter second number :'))\n",
        "  print(x/y)\n",
        "  \n",
        "except ZeroDivisionError:\n",
        "  print(\"can't divide with zero\")\n",
        "\n",
        "except FileNotFoundError:\n",
        "  print(\"please provide int value only\")"
      ],
      "metadata": {
        "colab": {
          "base_uri": "https://localhost:8080/"
        },
        "id": "OaMVTjkcfPk8",
        "outputId": "9a483ab4-87c3-4e8a-a2bc-1cfa0aa323c6"
      },
      "execution_count": 10,
      "outputs": [
        {
          "output_type": "stream",
          "name": "stdout",
          "text": [
            "enter first number :2\n",
            "enter second number :2\n",
            "1.0\n"
          ]
        }
      ]
    },
    {
      "cell_type": "code",
      "source": [
        "try:\n",
        "  x=int(input('enter first number :'))\n",
        "  y=int(input('enter second number :'))\n",
        "  print(x/y)\n",
        "  \n",
        "except ZeroDivisionError:\n",
        "  print(\"can't divide with zero\")\n",
        "\n",
        "except FileNotFoundError:\n",
        "  print(\"please provide int value only\")"
      ],
      "metadata": {
        "colab": {
          "base_uri": "https://localhost:8080/",
          "height": 281
        },
        "id": "8tUMpTMffZXu",
        "outputId": "5d971751-4688-46d9-8774-eca2ad38ab87"
      },
      "execution_count": 12,
      "outputs": [
        {
          "name": "stdout",
          "output_type": "stream",
          "text": [
            "enter first number :10\n",
            "enter second number :2.3\n"
          ]
        },
        {
          "output_type": "error",
          "ename": "ValueError",
          "evalue": "ignored",
          "traceback": [
            "\u001b[0;31m---------------------------------------------------------------------------\u001b[0m",
            "\u001b[0;31mValueError\u001b[0m                                Traceback (most recent call last)",
            "\u001b[0;32m<ipython-input-12-0cea8315be7d>\u001b[0m in \u001b[0;36m<cell line: 1>\u001b[0;34m()\u001b[0m\n\u001b[1;32m      1\u001b[0m \u001b[0;32mtry\u001b[0m\u001b[0;34m:\u001b[0m\u001b[0;34m\u001b[0m\u001b[0;34m\u001b[0m\u001b[0m\n\u001b[1;32m      2\u001b[0m   \u001b[0mx\u001b[0m\u001b[0;34m=\u001b[0m\u001b[0mint\u001b[0m\u001b[0;34m(\u001b[0m\u001b[0minput\u001b[0m\u001b[0;34m(\u001b[0m\u001b[0;34m'enter first number :'\u001b[0m\u001b[0;34m)\u001b[0m\u001b[0;34m)\u001b[0m\u001b[0;34m\u001b[0m\u001b[0;34m\u001b[0m\u001b[0m\n\u001b[0;32m----> 3\u001b[0;31m   \u001b[0my\u001b[0m\u001b[0;34m=\u001b[0m\u001b[0mint\u001b[0m\u001b[0;34m(\u001b[0m\u001b[0minput\u001b[0m\u001b[0;34m(\u001b[0m\u001b[0;34m'enter second number :'\u001b[0m\u001b[0;34m)\u001b[0m\u001b[0;34m)\u001b[0m\u001b[0;34m\u001b[0m\u001b[0;34m\u001b[0m\u001b[0m\n\u001b[0m\u001b[1;32m      4\u001b[0m   \u001b[0mprint\u001b[0m\u001b[0;34m(\u001b[0m\u001b[0mx\u001b[0m\u001b[0;34m/\u001b[0m\u001b[0my\u001b[0m\u001b[0;34m)\u001b[0m\u001b[0;34m\u001b[0m\u001b[0;34m\u001b[0m\u001b[0m\n\u001b[1;32m      5\u001b[0m \u001b[0;34m\u001b[0m\u001b[0m\n",
            "\u001b[0;31mValueError\u001b[0m: invalid literal for int() with base 10: '2.3'"
          ]
        }
      ]
    },
    {
      "cell_type": "markdown",
      "source": [
        "Single except block that can handle multiple exceptions:\n",
        "* we can write a single except block that can handle multiple different types of exceptions."
      ],
      "metadata": {
        "id": "e8f2YIbsCcKU"
      }
    },
    {
      "cell_type": "code",
      "source": [
        "try:\n",
        "  x=int(input('enter first number :'))\n",
        "  y=int(input('enter second number :'))\n",
        "  print(x/y)\n",
        "  \n",
        "except (ZeroDivisionError,ValueError) as msg:\n",
        "  print(\"hello\")"
      ],
      "metadata": {
        "id": "pTZRdm4l8Vrg",
        "colab": {
          "base_uri": "https://localhost:8080/"
        },
        "outputId": "1b2b9066-56b1-424a-844c-550cf44143c6"
      },
      "execution_count": null,
      "outputs": [
        {
          "output_type": "stream",
          "name": "stdout",
          "text": [
            "enter first number :100\n",
            "enter second number :abc\n",
            "hello\n"
          ]
        }
      ]
    },
    {
      "cell_type": "code",
      "source": [
        "try:\n",
        "  x=int(input('enter first number :'))\n",
        "  y=int(input('enter second number :'))\n",
        "  print(x/y)\n",
        "  \n",
        "except (ZeroDivisionError,ValueError) as msg:\n",
        "  print(\"hello\")"
      ],
      "metadata": {
        "colab": {
          "base_uri": "https://localhost:8080/"
        },
        "id": "9Jka6CL_EGhe",
        "outputId": "2dce55d6-f703-40e0-c379-8c9ba08727b2"
      },
      "execution_count": null,
      "outputs": [
        {
          "output_type": "stream",
          "name": "stdout",
          "text": [
            "enter first number :100\n",
            "enter second number :0\n",
            "hello\n"
          ]
        }
      ]
    },
    {
      "cell_type": "code",
      "source": [
        "try:\n",
        "  x=int(input('enter first number :'))\n",
        "  y=int(input('enter second number :'))\n",
        "  print(x/y)\n",
        "  \n",
        "except (ZeroDivisionError,ValueError) as msg:\n",
        "  print(\"hello\")\n",
        "  print(\"the problem is \",msg)"
      ],
      "metadata": {
        "id": "9nW8K7zA8VnD",
        "colab": {
          "base_uri": "https://localhost:8080/"
        },
        "outputId": "92dabebe-39de-45fc-c923-22fbfb990b36"
      },
      "execution_count": null,
      "outputs": [
        {
          "output_type": "stream",
          "name": "stdout",
          "text": [
            "enter first number :100\n",
            "enter second number :abc\n",
            "hello\n",
            "the problem is  invalid literal for int() with base 10: 'abc'\n"
          ]
        }
      ]
    },
    {
      "cell_type": "code",
      "source": [
        "try:\n",
        "  x=int(input('enter first number :'))\n",
        "  y=int(input('enter second number :'))\n",
        "  print(x/y)\n",
        "  \n",
        "except (ZeroDivisionError,ValueError) as msg:\n",
        "  print(\"hello\")\n",
        "  print(\"the problem is \",msg)"
      ],
      "metadata": {
        "id": "UaTYhmrp8Vhv",
        "colab": {
          "base_uri": "https://localhost:8080/"
        },
        "outputId": "d0899341-cbb8-4233-8bee-e0832c8cc652"
      },
      "execution_count": null,
      "outputs": [
        {
          "output_type": "stream",
          "name": "stdout",
          "text": [
            "enter first number :100\n",
            "enter second number :0\n",
            "hello\n",
            "the problem is  division by zero\n"
          ]
        }
      ]
    },
    {
      "cell_type": "markdown",
      "source": [
        "Note: \n",
        "* parentheses are mandatory and this group of exceptions."
      ],
      "metadata": {
        "id": "EMfcy2x4EXvw"
      }
    },
    {
      "cell_type": "markdown",
      "source": [
        "---\n",
        "---"
      ],
      "metadata": {
        "id": "P1toq7HBgHEb"
      }
    },
    {
      "cell_type": "markdown",
      "source": [
        "**Day-26**"
      ],
      "metadata": {
        "id": "ndAPTK8VgJsc"
      }
    },
    {
      "cell_type": "markdown",
      "source": [
        "* Default except block\n",
        "* Finally block\n",
        "* User defined exceptions\n",
        "* File handling\n",
        "* Opeaning a file\n",
        "* Closing a file\n",
        "* Properties of a file\n",
        "* Writing & reading data into file\n",
        "* with statement\n",
        "* Handling binary files"
      ],
      "metadata": {
        "id": "kUpIRmvbFCYt"
      }
    },
    {
      "cell_type": "markdown",
      "source": [
        "Default except block:\n",
        "* default except block to handle any type of exceptions\n",
        "    \n",
        "      except:\n",
        "        statements"
      ],
      "metadata": {
        "id": "mZYeoO-0HdEs"
      }
    },
    {
      "cell_type": "markdown",
      "source": [
        "* Eg 1:"
      ],
      "metadata": {
        "id": "ECWgHWLzC7zX"
      }
    },
    {
      "cell_type": "code",
      "source": [
        "try:\n",
        "  x=int(input('enter first number :'))\n",
        "  y=int(input('enter second number :'))\n",
        "  print(x/y)\n",
        "  \n",
        "except ZeroDivisionError:\n",
        "  print(\"cannot divide with zero\")\n",
        "except:\n",
        "  print(\"default except:plz provide valid input only \")"
      ],
      "metadata": {
        "id": "TBpRpHTP8VZV",
        "colab": {
          "base_uri": "https://localhost:8080/"
        },
        "outputId": "bfbfb819-d2e6-486d-ca65-2a6f2c99c091"
      },
      "execution_count": null,
      "outputs": [
        {
          "output_type": "stream",
          "name": "stdout",
          "text": [
            "enter first number :10\n",
            "enter second number :0\n",
            "cannot divide with zero\n"
          ]
        }
      ]
    },
    {
      "cell_type": "markdown",
      "source": [
        "* Eg 2:"
      ],
      "metadata": {
        "id": "V5W8-6HRD6cZ"
      }
    },
    {
      "cell_type": "code",
      "source": [
        "try:\n",
        "  x=int(input('enter first number :'))\n",
        "  y=int(input('enter second number :'))\n",
        "  print(x/y)\n",
        "  \n",
        "except ZeroDivisionError:\n",
        "  print(\"cannot divide with zero\")\n",
        "except:\n",
        "  print(\"default except:plz provide valid input only \")"
      ],
      "metadata": {
        "id": "rEzsOUYv8VUM",
        "colab": {
          "base_uri": "https://localhost:8080/"
        },
        "outputId": "38f1427f-4db4-4d93-db95-13236f39845a"
      },
      "execution_count": null,
      "outputs": [
        {
          "output_type": "stream",
          "name": "stdout",
          "text": [
            "enter first number :100\n",
            "enter second number :abc\n",
            "default except:plz provide valid input only \n"
          ]
        }
      ]
    },
    {
      "cell_type": "markdown",
      "source": [
        "Note:\n",
        "* default except block should be last, otherwise we will get syntaxerror "
      ],
      "metadata": {
        "id": "PJuPsDpaJK0n"
      }
    },
    {
      "cell_type": "code",
      "source": [
        "try:\n",
        "  x=int(input('enter first number :'))\n",
        "  y=int(input('enter second number :'))\n",
        "  print(x/y)\n",
        "  \n",
        "except:\n",
        "  print(\"default except\")\n",
        "except ZeroDivisionError:\n",
        "  print(\"cannot divide with zero\")"
      ],
      "metadata": {
        "id": "-dBdZdsZ8VOw",
        "colab": {
          "base_uri": "https://localhost:8080/",
          "height": 135
        },
        "outputId": "9cb9dcb6-0de5-40b9-e7e9-9245fa56a690"
      },
      "execution_count": null,
      "outputs": [
        {
          "output_type": "error",
          "ename": "SyntaxError",
          "evalue": "ignored",
          "traceback": [
            "\u001b[0;36m  File \u001b[0;32m\"<ipython-input-4-de5b0e45e5a9>\"\u001b[0;36m, line \u001b[0;32m4\u001b[0m\n\u001b[0;31m    print(x/y)\u001b[0m\n\u001b[0m    ^\u001b[0m\n\u001b[0;31mSyntaxError\u001b[0m\u001b[0;31m:\u001b[0m default 'except:' must be last\n"
          ]
        }
      ]
    },
    {
      "cell_type": "markdown",
      "source": [
        "Finally block:\n",
        "* we required some place to maintain clean up code which should be executed always irrespective of whether exception raised or not raised & whether exception handled or not handled. such type of best place is nothing but finally block.\n",
        "\n",
        "    \n",
        "    try:\n",
        "      risky code\n",
        "    except:\n",
        "      handling code\n",
        "    finally:\n",
        "      cleanup code"
      ],
      "metadata": {
        "id": "XYB0IFjSJ8kE"
      }
    },
    {
      "cell_type": "markdown",
      "source": [
        "Case1: if there is no exception"
      ],
      "metadata": {
        "id": "yKBHOEwlMO0D"
      }
    },
    {
      "cell_type": "code",
      "source": [
        "try:\n",
        "  print('try')\n",
        "except:\n",
        "  print('except')\n",
        "finally:\n",
        "  print('finally')"
      ],
      "metadata": {
        "id": "koIv7MsH8VJD",
        "colab": {
          "base_uri": "https://localhost:8080/"
        },
        "outputId": "ab232bc9-ddb9-469f-f7ea-29b32c532cea"
      },
      "execution_count": null,
      "outputs": [
        {
          "output_type": "stream",
          "name": "stdout",
          "text": [
            "try\n",
            "finally\n"
          ]
        }
      ]
    },
    {
      "cell_type": "markdown",
      "source": [
        "Case2: if there is an exception raised but handled"
      ],
      "metadata": {
        "id": "ExgQ_5CVMZ6N"
      }
    },
    {
      "cell_type": "code",
      "source": [
        "try:\n",
        "  print('try')\n",
        "  print(10/0)\n",
        "except:\n",
        "  print('except')\n",
        "finally:\n",
        "  print('finally')"
      ],
      "metadata": {
        "id": "5oPymLWW8VDx",
        "colab": {
          "base_uri": "https://localhost:8080/"
        },
        "outputId": "8cda3dd3-9bda-4faa-9003-70658889a0d7"
      },
      "execution_count": null,
      "outputs": [
        {
          "output_type": "stream",
          "name": "stdout",
          "text": [
            "try\n",
            "except\n",
            "finally\n"
          ]
        }
      ]
    },
    {
      "cell_type": "markdown",
      "source": [
        "Case3: if there is an exception raised but not handled."
      ],
      "metadata": {
        "id": "_2giHnaNMk7h"
      }
    },
    {
      "cell_type": "code",
      "source": [
        "try:\n",
        "  print('try')\n",
        "  print(10/0)\n",
        "except NameError:\n",
        "  print('except')\n",
        "finally:\n",
        "  print('finally')"
      ],
      "metadata": {
        "id": "iE55Aupt8U-s",
        "colab": {
          "base_uri": "https://localhost:8080/",
          "height": 281
        },
        "outputId": "12136d8d-d82f-4dc5-ec65-61141478f1c0"
      },
      "execution_count": null,
      "outputs": [
        {
          "output_type": "stream",
          "name": "stdout",
          "text": [
            "try\n",
            "finally\n"
          ]
        },
        {
          "output_type": "error",
          "ename": "ZeroDivisionError",
          "evalue": "ignored",
          "traceback": [
            "\u001b[0;31m---------------------------------------------------------------------------\u001b[0m",
            "\u001b[0;31mZeroDivisionError\u001b[0m                         Traceback (most recent call last)",
            "\u001b[0;32m<ipython-input-5-c543e49f44d6>\u001b[0m in \u001b[0;36m<cell line: 1>\u001b[0;34m()\u001b[0m\n\u001b[1;32m      1\u001b[0m \u001b[0;32mtry\u001b[0m\u001b[0;34m:\u001b[0m\u001b[0;34m\u001b[0m\u001b[0;34m\u001b[0m\u001b[0m\n\u001b[1;32m      2\u001b[0m   \u001b[0mprint\u001b[0m\u001b[0;34m(\u001b[0m\u001b[0;34m'try'\u001b[0m\u001b[0;34m)\u001b[0m\u001b[0;34m\u001b[0m\u001b[0;34m\u001b[0m\u001b[0m\n\u001b[0;32m----> 3\u001b[0;31m   \u001b[0mprint\u001b[0m\u001b[0;34m(\u001b[0m\u001b[0;36m10\u001b[0m\u001b[0;34m/\u001b[0m\u001b[0;36m0\u001b[0m\u001b[0;34m)\u001b[0m\u001b[0;34m\u001b[0m\u001b[0;34m\u001b[0m\u001b[0m\n\u001b[0m\u001b[1;32m      4\u001b[0m \u001b[0;32mexcept\u001b[0m \u001b[0mNameError\u001b[0m\u001b[0;34m:\u001b[0m\u001b[0;34m\u001b[0m\u001b[0;34m\u001b[0m\u001b[0m\n\u001b[1;32m      5\u001b[0m   \u001b[0mprint\u001b[0m\u001b[0;34m(\u001b[0m\u001b[0;34m'except'\u001b[0m\u001b[0;34m)\u001b[0m\u001b[0;34m\u001b[0m\u001b[0;34m\u001b[0m\u001b[0m\n",
            "\u001b[0;31mZeroDivisionError\u001b[0m: division by zero"
          ]
        }
      ]
    },
    {
      "cell_type": "markdown",
      "source": [
        "User defined exceptions:\n",
        "* we define & raise exceptions explictly to indicate that somthing goes wrong, such type of exceptions are called UDE or Customized exceptions.\n",
        "* * syntax to define & raise customized exceptions\n",
        "\n",
        "    \n",
        "     class classname(exception):\n",
        "      def--init--(self,arg)\n",
        "          self.msg=arg"
      ],
      "metadata": {
        "id": "rf5ys6kWNFUU"
      }
    },
    {
      "cell_type": "code",
      "source": [
        "class TooYoungException(Exception):\n",
        "  def __init__(self,arg):\n",
        "    self.msg=arg\n",
        "class TooOldException(Exception):\n",
        "  def __init__(self,arg):\n",
        "    self.msg=arg\n",
        "\n",
        "age=int(input('enter age:' ))\n",
        "\n",
        "if age>60:\n",
        "  raise TooOldException('your age already crossed marriage age.. no chance of getting marriage')\n",
        "\n",
        "elif age<18:\n",
        "  raise TooYoungException('please wait for few more years')\n",
        "\n",
        "else:\n",
        "  print('you will get match datails soon by email!!!')"
      ],
      "metadata": {
        "id": "OnhIIqIW8U5q",
        "colab": {
          "base_uri": "https://localhost:8080/",
          "height": 263
        },
        "outputId": "53e8260a-edab-429f-ff6e-a7b5329e8967"
      },
      "execution_count": null,
      "outputs": [
        {
          "name": "stdout",
          "output_type": "stream",
          "text": [
            "enter age:87\n"
          ]
        },
        {
          "output_type": "error",
          "ename": "TooOldException",
          "evalue": "ignored",
          "traceback": [
            "\u001b[0;31m---------------------------------------------------------------------------\u001b[0m",
            "\u001b[0;31mTooOldException\u001b[0m                           Traceback (most recent call last)",
            "\u001b[0;32m<ipython-input-4-95c76c8c842d>\u001b[0m in \u001b[0;36m<cell line: 10>\u001b[0;34m()\u001b[0m\n\u001b[1;32m      9\u001b[0m \u001b[0;34m\u001b[0m\u001b[0m\n\u001b[1;32m     10\u001b[0m \u001b[0;32mif\u001b[0m \u001b[0mage\u001b[0m\u001b[0;34m>\u001b[0m\u001b[0;36m60\u001b[0m\u001b[0;34m:\u001b[0m\u001b[0;34m\u001b[0m\u001b[0;34m\u001b[0m\u001b[0m\n\u001b[0;32m---> 11\u001b[0;31m   \u001b[0;32mraise\u001b[0m \u001b[0mTooOldException\u001b[0m\u001b[0;34m(\u001b[0m\u001b[0;34m'your age already crossed marriage age.. no chance of getting marriage'\u001b[0m\u001b[0;34m)\u001b[0m\u001b[0;34m\u001b[0m\u001b[0;34m\u001b[0m\u001b[0m\n\u001b[0m\u001b[1;32m     12\u001b[0m \u001b[0;34m\u001b[0m\u001b[0m\n\u001b[1;32m     13\u001b[0m \u001b[0;32melif\u001b[0m \u001b[0mage\u001b[0m\u001b[0;34m<\u001b[0m\u001b[0;36m18\u001b[0m\u001b[0;34m:\u001b[0m\u001b[0;34m\u001b[0m\u001b[0;34m\u001b[0m\u001b[0m\n",
            "\u001b[0;31mTooOldException\u001b[0m: your age already crossed marriage age.. no chance of getting marriage"
          ]
        }
      ]
    },
    {
      "cell_type": "code",
      "source": [
        "class TooYoungException(Exception):\n",
        "  def __init__(self,arg):\n",
        "    self.msg=arg\n",
        "class TooOldException(Exception):\n",
        "  def __init__(self,arg):\n",
        "    self.msg=arg\n",
        "\n",
        "age=int(input('enter age:' ))\n",
        "\n",
        "if age>60:\n",
        "  raise TooOldException('your age already crossed marriage age.. no chance of getting marriage')\n",
        "\n",
        "elif age<18:\n",
        "  raise TooYoungException('please wait for few more years')\n",
        "\n",
        "else:\n",
        "  print('you will get match datails soon by email!!!')"
      ],
      "metadata": {
        "id": "0jqqtbzM8U08",
        "colab": {
          "base_uri": "https://localhost:8080/",
          "height": 263
        },
        "outputId": "d9806628-cd36-4a7b-d934-9f5df6303d46"
      },
      "execution_count": null,
      "outputs": [
        {
          "name": "stdout",
          "output_type": "stream",
          "text": [
            "enter age:13\n"
          ]
        },
        {
          "output_type": "error",
          "ename": "TooYoungException",
          "evalue": "ignored",
          "traceback": [
            "\u001b[0;31m---------------------------------------------------------------------------\u001b[0m",
            "\u001b[0;31mTooYoungException\u001b[0m                         Traceback (most recent call last)",
            "\u001b[0;32m<ipython-input-8-95c76c8c842d>\u001b[0m in \u001b[0;36m<cell line: 10>\u001b[0;34m()\u001b[0m\n\u001b[1;32m     12\u001b[0m \u001b[0;34m\u001b[0m\u001b[0m\n\u001b[1;32m     13\u001b[0m \u001b[0;32melif\u001b[0m \u001b[0mage\u001b[0m\u001b[0;34m<\u001b[0m\u001b[0;36m18\u001b[0m\u001b[0;34m:\u001b[0m\u001b[0;34m\u001b[0m\u001b[0;34m\u001b[0m\u001b[0m\n\u001b[0;32m---> 14\u001b[0;31m   \u001b[0;32mraise\u001b[0m \u001b[0mTooYoungException\u001b[0m\u001b[0;34m(\u001b[0m\u001b[0;34m'please wait for few more years'\u001b[0m\u001b[0;34m)\u001b[0m\u001b[0;34m\u001b[0m\u001b[0;34m\u001b[0m\u001b[0m\n\u001b[0m\u001b[1;32m     15\u001b[0m \u001b[0;34m\u001b[0m\u001b[0m\n\u001b[1;32m     16\u001b[0m \u001b[0;32melse\u001b[0m\u001b[0;34m:\u001b[0m\u001b[0;34m\u001b[0m\u001b[0;34m\u001b[0m\u001b[0m\n",
            "\u001b[0;31mTooYoungException\u001b[0m: please wait for few more years"
          ]
        }
      ]
    },
    {
      "cell_type": "code",
      "source": [
        "class TooYoungException(Exception):\n",
        "  def __init__(self,arg):\n",
        "    self.msg=arg\n",
        "class TooOldException(Exception):\n",
        "  def __init__(self,arg):\n",
        "    self.msg=arg\n",
        "\n",
        "age=int(input('enter age:' ))\n",
        "\n",
        "if age>60:\n",
        "  raise TooOldException('your age already crossed marriage age.. no chance of getting marriage')\n",
        "\n",
        "elif age<18:\n",
        "  raise TooYoungException('please wait for few more years')\n",
        "\n",
        "else:\n",
        "  print('you will get match datails soon by email!!!')"
      ],
      "metadata": {
        "id": "rJp4_oHr8UwW",
        "colab": {
          "base_uri": "https://localhost:8080/"
        },
        "outputId": "742a87b7-69ee-404b-b469-c16163ae07ed"
      },
      "execution_count": null,
      "outputs": [
        {
          "output_type": "stream",
          "name": "stdout",
          "text": [
            "enter age:19\n",
            "you will get match datails soon by email!!!\n"
          ]
        }
      ]
    },
    {
      "cell_type": "markdown",
      "source": [
        "Note:\n",
        "* we raise exception by using **raise** keyword."
      ],
      "metadata": {
        "id": "Q-Ms50GPwM19"
      }
    },
    {
      "cell_type": "markdown",
      "source": [
        "File handling:\n",
        "* As the part of programming requirement, we have to store our data permanently for future purpose. for this requirement we should go for files.\n",
        "* files are very common permanent storage areas to store our data.\n",
        "\n",
        "Types of files:\n",
        "* 1) Text files: Usually we can use text files to store character data.\n",
        "* 2) Binary files: Usually we can use binary files to store binary data like images,video files,audio files. "
      ],
      "metadata": {
        "id": "IgH0yGyiwVjY"
      }
    },
    {
      "cell_type": "markdown",
      "source": [
        "Opeaning a file:\n",
        "* Before performing any opearation(like read or write) on the file, first we have to open that file. for this we should use python inbulit function --open()--\n",
        "* but at the time of open we have to specify mode, which represents the purpose of opeaning file.\n",
        "\n",
        "      syntax:\n",
        "      f= open (filename, mode)"
      ],
      "metadata": {
        "id": "fJhNHPznyA78"
      }
    },
    {
      "cell_type": "markdown",
      "source": [
        "the allowed modes in python are:\n",
        "* 1) r - open an existing file for read operation.\n",
        "* 2) w - open an existing file for write operation.\n",
        "* 3) a - open an existing file for append operation.\n",
        "* 4) r+ - to read and write data into the file\n",
        "* 4) w+ - to wirte and read data. it will override existing data.\n",
        "\n",
        "\n",
        "\n"
      ],
      "metadata": {
        "id": "OV_n1YBA7_yE"
      }
    },
    {
      "cell_type": "code",
      "source": [
        "f=open('abc.txt','w')"
      ],
      "metadata": {
        "id": "z6mGzKGn8Ura"
      },
      "execution_count": null,
      "outputs": []
    },
    {
      "cell_type": "markdown",
      "source": [
        "* we are opeaning abc.txt file for writing data."
      ],
      "metadata": {
        "id": "FzkYI7-bHtsR"
      }
    },
    {
      "cell_type": "markdown",
      "source": [
        "Closing a file:\n",
        "* After completing our operations on the file, it is highly recommended to close the file. for this we have to use close() function.\n",
        "* f.close()"
      ],
      "metadata": {
        "id": "JqEOyR_M-q7w"
      }
    },
    {
      "cell_type": "markdown",
      "source": [
        "various properties of file object:\n",
        "* once we opend a file & we got file object, we can get various details related to that file by using its properties.\n",
        "* 1)name-name of opened file\n",
        "* 2)mode- mode in which the file opened\n",
        "* 3)closed-returns boolean value indicates that file is closed or not\n",
        "* 4)readable-returns boolean value indicates that whether file is readable or not\n",
        "* 5)writable-returns boolean value indicates that whether file is writable or not.\n"
      ],
      "metadata": {
        "id": "RJZKjw0Y_pCC"
      }
    },
    {
      "cell_type": "code",
      "source": [
        "f=open('abcd.txt','w')\n",
        "print('file name:',f.name)\n",
        "print('file mode:',f.mode)\n",
        "print('Is file Readable:',f.readable())\n",
        "print('Is file Writable:',f.writable())\n",
        "print('Is file closed:',f.closed)\n",
        "f.close()\n",
        "print('Is file closed:',f.closed)"
      ],
      "metadata": {
        "id": "-R0J0JnF8UmP",
        "colab": {
          "base_uri": "https://localhost:8080/"
        },
        "outputId": "daa523d9-1f77-4096-cec5-f2bc500a4baa"
      },
      "execution_count": null,
      "outputs": [
        {
          "output_type": "stream",
          "name": "stdout",
          "text": [
            "file name: abcd.txt\n",
            "file mode: w\n",
            "Is file Readable: False\n",
            "Is file Writable: True\n",
            "Is file closed: False\n",
            "Is file closed: True\n"
          ]
        }
      ]
    },
    {
      "cell_type": "markdown",
      "source": [
        "writing data to the test files:\n",
        "* we can write character data to the text files by using the write () method.\n",
        "\n",
        "      write(str)"
      ],
      "metadata": {
        "id": "4GlufP-5JrQ9"
      }
    },
    {
      "cell_type": "code",
      "source": [
        "f=open('abcd.txt','w')\n",
        "f.write('ravi\\n')\n",
        "f.write('datalabs\\n')\n",
        "f.write('technologies\\n')\n",
        "print('data written to the file successful')\n",
        "f.close()"
      ],
      "metadata": {
        "colab": {
          "base_uri": "https://localhost:8080/"
        },
        "id": "6PaSOxzUVKEe",
        "outputId": "275a2b16-b989-442a-b947-1e4657dac3bb"
      },
      "execution_count": null,
      "outputs": [
        {
          "output_type": "stream",
          "name": "stdout",
          "text": [
            "data written to the file successful\n"
          ]
        }
      ]
    },
    {
      "cell_type": "markdown",
      "source": [
        "Note:\n",
        "* in the above program,the data present in the file will be overridden everytime if we run the program. instead of overriding if we want append operation then we should open the file as follows."
      ],
      "metadata": {
        "id": "dVt71p6jNfpq"
      }
    },
    {
      "cell_type": "code",
      "source": [
        "f=open('abcd.txt','a')"
      ],
      "metadata": {
        "id": "pEWehxsWL1tY"
      },
      "execution_count": null,
      "outputs": []
    },
    {
      "cell_type": "markdown",
      "source": [
        "Reading character data from text files:\n",
        "* we can read character data from text file by using the following methods."
      ],
      "metadata": {
        "id": "MewDPGE3WvV2"
      }
    },
    {
      "cell_type": "markdown",
      "source": [
        "Eg1: To read total data from the file"
      ],
      "metadata": {
        "id": "8cjeuUAuXRO1"
      }
    },
    {
      "cell_type": "code",
      "source": [
        "f=open('abcd.txt','r')\n",
        "data=f.read()\n",
        "print(data)\n",
        "f.close()"
      ],
      "metadata": {
        "id": "IGy2ra5sXfoX",
        "colab": {
          "base_uri": "https://localhost:8080/"
        },
        "outputId": "89da67b8-be62-48f5-8035-1afef3947a09"
      },
      "execution_count": null,
      "outputs": [
        {
          "output_type": "stream",
          "name": "stdout",
          "text": [
            "ravi\n",
            "datalabs\n",
            "technologies\n",
            "\n"
          ]
        }
      ]
    },
    {
      "cell_type": "markdown",
      "source": [
        "Eg2: To read only first 10 characters:"
      ],
      "metadata": {
        "id": "SUfQoIyqX9V1"
      }
    },
    {
      "cell_type": "code",
      "source": [
        "f=open('abcd.txt','r')\n",
        "data=f.read(10)\n",
        "print(data)\n",
        "f.close()"
      ],
      "metadata": {
        "colab": {
          "base_uri": "https://localhost:8080/"
        },
        "id": "GtZtsQ0CXfLt",
        "outputId": "8218893b-1b93-4561-9620-08704b975966"
      },
      "execution_count": null,
      "outputs": [
        {
          "output_type": "stream",
          "name": "stdout",
          "text": [
            "ravi\n",
            "datal\n"
          ]
        }
      ]
    },
    {
      "cell_type": "markdown",
      "source": [
        "the with statement:\n",
        "* the with statement can be used while opening a file. we can use this to group file operation statements with a block.\n",
        "* the advantage of with statement is it will take care closing of file, after completing all operations automatically even in the case of exceptions also, and we are not required to close explictly.  "
      ],
      "metadata": {
        "id": "brXakTB3YrqT"
      }
    },
    {
      "cell_type": "code",
      "source": [
        "with open('abcd.txt','w') as f:\n",
        "  f.write('ravi\\n')\n",
        "  f.write('datalabs\\n')\n",
        "  f.write('technologies\\n')\n",
        "  print('is file closed:',f.closed)   # Here within the loop file is not closed\n",
        "print('is file closed:',f.closed)   # out of the loop the file is closed. "
      ],
      "metadata": {
        "colab": {
          "base_uri": "https://localhost:8080/"
        },
        "id": "CNGDKIaXXd7l",
        "outputId": "429937cd-b10c-43bf-ef91-8728b13cdb8b"
      },
      "execution_count": null,
      "outputs": [
        {
          "output_type": "stream",
          "name": "stdout",
          "text": [
            "is file closed: False\n",
            "is file closed: True\n"
          ]
        }
      ]
    },
    {
      "cell_type": "markdown",
      "source": [
        "* Program to read image file & write to a new image file"
      ],
      "metadata": {
        "id": "Gt28bbJfanLI"
      }
    },
    {
      "cell_type": "code",
      "source": [
        "f1=open('tree.jpg','rb')\n",
        "f2=open('newpic.jpg','wb')\n",
        "bytes=f1.read()\n",
        "f2.write(bytes)\n",
        "print('new image is available with the name: newpic.jpg')"
      ],
      "metadata": {
        "id": "t5Dt4AOB8Uc0"
      },
      "execution_count": null,
      "outputs": []
    },
    {
      "cell_type": "code",
      "source": [
        "f1=open('/content/image.webp','rb')\n",
        "f2=open('newpic.jpg','wb')\n",
        "bytes=f1.read()\n",
        "f2.write(bytes)\n",
        "print('new image is available with the name: newpic.jpg')"
      ],
      "metadata": {
        "id": "_slTX4jGVTj3",
        "colab": {
          "base_uri": "https://localhost:8080/"
        },
        "outputId": "af384eb8-e092-4dd8-a319-7a6687fa58ff"
      },
      "execution_count": null,
      "outputs": [
        {
          "output_type": "stream",
          "name": "stdout",
          "text": [
            "new image is available with the name: newpic.jpg\n"
          ]
        }
      ]
    },
    {
      "cell_type": "markdown",
      "source": [
        "---\n",
        "---"
      ],
      "metadata": {
        "id": "pXK9Ksx5iHU5"
      }
    },
    {
      "cell_type": "markdown",
      "source": [
        "**Day-27**"
      ],
      "metadata": {
        "id": "46HpBqm5iHH-"
      }
    },
    {
      "cell_type": "markdown",
      "source": [
        "* Understanding class and object\n",
        "* function alias\n",
        "* nested function\n",
        "* function as an argument\n",
        "* understanding decorator"
      ],
      "metadata": {
        "id": "VUjtCA__c6Ra"
      }
    },
    {
      "cell_type": "markdown",
      "source": [
        "Class:\n",
        "* in python everything is an object.\n",
        "* to create objects we required some model or plan or blue print, which is nothing but class.\n",
        "* class contains both variables and methods.\n",
        "\n",
        "      syntax:\n",
        "      class className:\n",
        "                 '''documentation sttring'''\n",
        "                 variables:instance variables,static & local variables\n",
        "                 methods:instance methods,static methods,class methods"
      ],
      "metadata": {
        "id": "xjB7m9Ytduec"
      }
    },
    {
      "cell_type": "code",
      "source": [
        "class Student:\n",
        "  '''Developed by ravi for python demo'''\n",
        "  def __init__(self):\n",
        "    self.name='ravi'\n",
        "    self.age=24\n",
        "    self.marks=90\n",
        "\n",
        "  def f1(self):\n",
        "    print('hello i am: ',self.name)\n",
        "    print('my age is : ',self.age)\n",
        "    print('my marks are: ',self.marks)\n",
        "\n",
        "a=Student()  # creating an object for a class.\n",
        "a.f1()       # calling f1 function by using object name."
      ],
      "metadata": {
        "id": "l7v3aWTWVTfT",
        "colab": {
          "base_uri": "https://localhost:8080/"
        },
        "outputId": "c33d9f43-3552-4f9c-b695-b9638494f1ac"
      },
      "execution_count": null,
      "outputs": [
        {
          "output_type": "stream",
          "name": "stdout",
          "text": [
            "hello i am:  ravi\n",
            "my age is :  24\n",
            "my marks are:  90\n"
          ]
        }
      ]
    },
    {
      "cell_type": "markdown",
      "source": [
        "What is object ?\n",
        "* physical existance of a class is nothing but object.\n",
        "* we can create any number of objects for a class.\n",
        "\n",
        "      syntax to create object:\n",
        "      referencevariable=classname()"
      ],
      "metadata": {
        "id": "Yll9l_cbglJA"
      }
    },
    {
      "cell_type": "markdown",
      "source": [
        "Eg1:"
      ],
      "metadata": {
        "id": "IFqxW2HZXDYm"
      }
    },
    {
      "cell_type": "code",
      "source": [
        "S = Student() # here S is an object for a class student"
      ],
      "metadata": {
        "id": "sKOaenqgXGxp"
      },
      "execution_count": null,
      "outputs": []
    },
    {
      "cell_type": "markdown",
      "source": [
        "Eg2:"
      ],
      "metadata": {
        "id": "yrRMNwEbXNz7"
      }
    },
    {
      "cell_type": "code",
      "source": [
        "class Student:\n",
        "  def __init__(self,name,rollno,marks):\n",
        "    self.name=name\n",
        "    self.rollno=rollno\n",
        "    self.marks=marks\n",
        "\n",
        "  def f1(self):\n",
        "    print('hello my name is : ',self.name)\n",
        "    print('my rollno is : ',self.rollno)\n",
        "    print('my marks are: ',self.marks)\n",
        "\n",
        "s1=Student('sunil',101,80)\n",
        "s2=Student('ravi',102,90)\n",
        "s1.f1()\n",
        "s2.f1()"
      ],
      "metadata": {
        "id": "GhT70W7tVTTH",
        "colab": {
          "base_uri": "https://localhost:8080/"
        },
        "outputId": "7423b08b-a151-40bf-a769-720c1c6c9a86"
      },
      "execution_count": null,
      "outputs": [
        {
          "output_type": "stream",
          "name": "stdout",
          "text": [
            "hello my name is :  sunil\n",
            "my rollno is :  101\n",
            "my marks are:  80\n",
            "hello my name is :  ravi\n",
            "my rollno is :  102\n",
            "my marks are:  90\n"
          ]
        }
      ]
    },
    {
      "cell_type": "markdown",
      "source": [
        "* Function alias"
      ],
      "metadata": {
        "id": "4UUhsZHnuRjy"
      }
    },
    {
      "cell_type": "code",
      "source": [
        "def wish(name):\n",
        "  print('good evening ',name)\n",
        "\n",
        "print(id(wish))\n",
        "wish('ravi')"
      ],
      "metadata": {
        "id": "owekp9LOVTOW",
        "colab": {
          "base_uri": "https://localhost:8080/"
        },
        "outputId": "25bb22f6-525c-4d58-bfb6-33ce49995fdb"
      },
      "execution_count": 14,
      "outputs": [
        {
          "output_type": "stream",
          "name": "stdout",
          "text": [
            "139721808660512\n",
            "good evening  ravi\n"
          ]
        }
      ]
    },
    {
      "cell_type": "code",
      "source": [
        "def wish(name):\n",
        "  print('good evening ',name)\n",
        "\n",
        "greetings=wish\n",
        "print(id(wish))\n",
        "print(id(greetings))\n",
        "\n",
        "wish('ravi')\n",
        "greetings('naresh')"
      ],
      "metadata": {
        "id": "1YvRDWBQVTJd",
        "colab": {
          "base_uri": "https://localhost:8080/"
        },
        "outputId": "a264a838-3ef9-48f1-d15e-96ec1343eb43"
      },
      "execution_count": 15,
      "outputs": [
        {
          "output_type": "stream",
          "name": "stdout",
          "text": [
            "139721808660080\n",
            "139721808660080\n",
            "good evening  ravi\n",
            "good evening  naresh\n"
          ]
        }
      ]
    },
    {
      "cell_type": "markdown",
      "source": [
        "* If we delete one reference variable, we can access the other reference variable"
      ],
      "metadata": {
        "id": "CDqEluBTvJxg"
      }
    },
    {
      "cell_type": "code",
      "source": [
        "def wish(name):\n",
        "  print('good evening ',name)\n",
        "\n",
        "greetings=wish\n",
        "print(id(wish))\n",
        "print(id(greetings))\n",
        "\n",
        "wish('ravi')\n",
        "\n",
        "del wish\n",
        "greetings('ravi')"
      ],
      "metadata": {
        "id": "Y9jkxGBFVTEr",
        "colab": {
          "base_uri": "https://localhost:8080/"
        },
        "outputId": "8f097a9b-f4be-445a-ec0d-772526a05283"
      },
      "execution_count": null,
      "outputs": [
        {
          "output_type": "stream",
          "name": "stdout",
          "text": [
            "140517233195616\n",
            "140517233195616\n",
            "good evening  ravi\n",
            "good evening  ravi\n"
          ]
        }
      ]
    },
    {
      "cell_type": "markdown",
      "source": [
        "Nested function:\n",
        "* function inside another function"
      ],
      "metadata": {
        "id": "Wd0crsZJv2TG"
      }
    },
    {
      "cell_type": "code",
      "source": [
        "def f1():\n",
        "  print('hello')\n",
        "  def f2():\n",
        "    print('hello2')\n",
        "  print('hello3')\n",
        "\n",
        "f1()"
      ],
      "metadata": {
        "colab": {
          "base_uri": "https://localhost:8080/"
        },
        "id": "18xleF8CxOX_",
        "outputId": "eeba21d2-1b00-43cb-a972-e4b62c8bb4a6"
      },
      "execution_count": null,
      "outputs": [
        {
          "output_type": "stream",
          "name": "stdout",
          "text": [
            "hello\n",
            "hello3\n"
          ]
        }
      ]
    },
    {
      "cell_type": "markdown",
      "source": [
        "* we are calling the inner function from the outer function."
      ],
      "metadata": {
        "id": "vaNgsR5oYN_a"
      }
    },
    {
      "cell_type": "code",
      "source": [
        "def f1():\n",
        "  print('hello')\n",
        "  def f2():\n",
        "    print('hello2')\n",
        "  f2()\n",
        "  print('hello3')\n",
        "\n",
        "f1()"
      ],
      "metadata": {
        "id": "_jUzROu_VS_w",
        "colab": {
          "base_uri": "https://localhost:8080/"
        },
        "outputId": "aa5a2e46-1118-4602-d834-641be2b8947f"
      },
      "execution_count": null,
      "outputs": [
        {
          "output_type": "stream",
          "name": "stdout",
          "text": [
            "hello\n",
            "hello2\n",
            "hello3\n"
          ]
        }
      ]
    },
    {
      "cell_type": "markdown",
      "source": [
        "* We can directly call the inner function."
      ],
      "metadata": {
        "id": "fhDH-CGJwjHO"
      }
    },
    {
      "cell_type": "code",
      "source": [
        "def f1():\n",
        "  print('hello')\n",
        "  def f2():\n",
        "    print('hello2')\n",
        "  print('hello3')\n",
        "\n",
        "f1()\n",
        "f2()"
      ],
      "metadata": {
        "id": "mYKW8E2DVS6n",
        "colab": {
          "base_uri": "https://localhost:8080/",
          "height": 235
        },
        "outputId": "455e7b1d-8913-45e3-8878-a57c070003ed"
      },
      "execution_count": null,
      "outputs": [
        {
          "output_type": "stream",
          "name": "stdout",
          "text": [
            "hello\n",
            "hello3\n"
          ]
        },
        {
          "output_type": "error",
          "ename": "NameError",
          "evalue": "ignored",
          "traceback": [
            "\u001b[0;31m---------------------------------------------------------------------------\u001b[0m",
            "\u001b[0;31mNameError\u001b[0m                                 Traceback (most recent call last)",
            "\u001b[0;32m<ipython-input-33-49cce82ef14f>\u001b[0m in \u001b[0;36m<module>\u001b[0;34m\u001b[0m\n\u001b[1;32m      6\u001b[0m \u001b[0;34m\u001b[0m\u001b[0m\n\u001b[1;32m      7\u001b[0m \u001b[0mf1\u001b[0m\u001b[0;34m(\u001b[0m\u001b[0;34m)\u001b[0m\u001b[0;34m\u001b[0m\u001b[0;34m\u001b[0m\u001b[0m\n\u001b[0;32m----> 8\u001b[0;31m \u001b[0mf2\u001b[0m\u001b[0;34m(\u001b[0m\u001b[0;34m)\u001b[0m\u001b[0;34m\u001b[0m\u001b[0;34m\u001b[0m\u001b[0m\n\u001b[0m",
            "\u001b[0;31mNameError\u001b[0m: name 'f2' is not defined"
          ]
        }
      ]
    },
    {
      "cell_type": "markdown",
      "source": [
        "* we get NameError"
      ],
      "metadata": {
        "id": "Qgex_YHtYfbo"
      }
    },
    {
      "cell_type": "markdown",
      "source": [
        "* A function returning another function."
      ],
      "metadata": {
        "id": "VK3kw81Lx8Nd"
      }
    },
    {
      "cell_type": "code",
      "source": [
        "def f1():\n",
        "  def f2():\n",
        "    print('hello1')\n",
        "  return f2\n",
        "\n",
        "a=f1()\n",
        "a()"
      ],
      "metadata": {
        "id": "K4-iTcDpVS1f",
        "colab": {
          "base_uri": "https://localhost:8080/"
        },
        "outputId": "9d30dfd6-21e8-41a8-cc29-5466f1bf73a3"
      },
      "execution_count": 20,
      "outputs": [
        {
          "output_type": "stream",
          "name": "stdout",
          "text": [
            "hello1\n"
          ]
        }
      ]
    },
    {
      "cell_type": "code",
      "source": [
        "def f1():\n",
        "  def f2():\n",
        "    print('hello1')\n",
        "  return f2\n",
        "\n",
        "a=f1()\n",
        "a()\n",
        "a()"
      ],
      "metadata": {
        "id": "hPSedU2tVSxC",
        "colab": {
          "base_uri": "https://localhost:8080/"
        },
        "outputId": "edd5b731-f8a0-4222-eb45-7a5d18954997"
      },
      "execution_count": null,
      "outputs": [
        {
          "output_type": "stream",
          "name": "stdout",
          "text": [
            "hello1\n",
            "hello1\n"
          ]
        }
      ]
    },
    {
      "cell_type": "markdown",
      "source": [
        "* We can pass function argument to another function."
      ],
      "metadata": {
        "id": "7LOrOZ-WyfRa"
      }
    },
    {
      "cell_type": "code",
      "source": [
        "def f1(a):\n",
        "  a()\n",
        "def f2():\n",
        "    print('hello1')\n",
        "\n",
        "f1(f2)"
      ],
      "metadata": {
        "id": "pZiQ_b7TVSr0",
        "colab": {
          "base_uri": "https://localhost:8080/"
        },
        "outputId": "34425ca8-cefd-48cb-e171-ce77a09e6e33"
      },
      "execution_count": null,
      "outputs": [
        {
          "output_type": "stream",
          "name": "stdout",
          "text": [
            "hello1\n"
          ]
        }
      ]
    },
    {
      "cell_type": "markdown",
      "source": [
        "Decorator:\n",
        "* decorator is a function which can take a function as argument and extends its functionality."
      ],
      "metadata": {
        "id": "jNjl0ZHgzD0Y"
      }
    },
    {
      "cell_type": "markdown",
      "source": [
        "* step 1: Example"
      ],
      "metadata": {
        "id": "IMW4lgUjNg24"
      }
    },
    {
      "cell_type": "code",
      "source": [
        "def f1(a):\n",
        "  def f2():\n",
        "    print('hello1')\n",
        "    print('hello2')\n",
        "  return inner\n",
        "def f3():\n",
        "  print('good evening')\n",
        "\n",
        "f3()"
      ],
      "metadata": {
        "id": "l6wrFl9ZVSm5",
        "colab": {
          "base_uri": "https://localhost:8080/"
        },
        "outputId": "bfea54f0-33b2-40a3-efeb-debf7259bc82"
      },
      "execution_count": null,
      "outputs": [
        {
          "output_type": "stream",
          "name": "stdout",
          "text": [
            "good evening\n"
          ]
        }
      ]
    },
    {
      "cell_type": "markdown",
      "source": [
        "* step 2:Example"
      ],
      "metadata": {
        "id": "w1unejuCN0_G"
      }
    },
    {
      "cell_type": "code",
      "source": [
        "def f1(a):\n",
        "  def f2():\n",
        "    print('hello1')\n",
        "    print('hello2')\n",
        "  return f2\n",
        "@f1\n",
        "def f3():\n",
        "  print('good evening')\n",
        "\n",
        "f3()"
      ],
      "metadata": {
        "id": "O8gJ5h86VScT",
        "colab": {
          "base_uri": "https://localhost:8080/"
        },
        "outputId": "a761ef21-c14a-4cca-f93b-1c2a2baf34e2"
      },
      "execution_count": null,
      "outputs": [
        {
          "output_type": "stream",
          "name": "stdout",
          "text": [
            "hello1\n",
            "hello2\n"
          ]
        }
      ]
    },
    {
      "cell_type": "markdown",
      "source": [
        "* f1 ----- is called decorator\n",
        "* always decorator will take function as input."
      ],
      "metadata": {
        "id": "9UPb145G2r3O"
      }
    },
    {
      "cell_type": "markdown",
      "source": [
        "note: \n",
        "* instead of f3(), inner() function gets executed.\n",
        "* no fo arguments in original f3() should be matched with no of arguments in inner function."
      ],
      "metadata": {
        "id": "fWlBpWyyPWeD"
      }
    },
    {
      "cell_type": "markdown",
      "source": [
        "* remove the link( @f1 line ) & try again\n",
        "* the original function gets executed."
      ],
      "metadata": {
        "id": "rhx0v8j5QI_8"
      }
    },
    {
      "cell_type": "markdown",
      "source": [
        "* step 3:Example"
      ],
      "metadata": {
        "id": "T-62XXhiPj1a"
      }
    },
    {
      "cell_type": "code",
      "source": [
        "def f1(n):\n",
        "  def f2(a,b):\n",
        "    print('#'*30)\n",
        "    n(a,b)\n",
        "    print('#'*30)\n",
        "  return f2\n",
        "@f1\n",
        "def f3(a,b):\n",
        "  print(a+b)\n",
        "\n",
        "f3(60,40) "
      ],
      "metadata": {
        "id": "A8GBCsIRVSVz",
        "colab": {
          "base_uri": "https://localhost:8080/"
        },
        "outputId": "45a6593b-2f11-40c0-9549-79e0cd29b635"
      },
      "execution_count": null,
      "outputs": [
        {
          "output_type": "stream",
          "name": "stdout",
          "text": [
            "##############################\n",
            "100\n",
            "##############################\n"
          ]
        }
      ]
    },
    {
      "cell_type": "code",
      "source": [
        "def f1(name):\n",
        "  print('hello',name,'good morning')\n",
        "  print('thank you ')\n",
        "\n",
        "f1('raj')\n",
        "f1('naresh')\n",
        "f1('anil')"
      ],
      "metadata": {
        "id": "cQMtNK6dVSP3",
        "colab": {
          "base_uri": "https://localhost:8080/"
        },
        "outputId": "a4cbdf3c-32e5-428c-a3fa-3f2c3ecb6588"
      },
      "execution_count": null,
      "outputs": [
        {
          "output_type": "stream",
          "name": "stdout",
          "text": [
            "hello raj good morning\n",
            "thank you \n",
            "hello naresh good morning\n",
            "thank you \n",
            "hello anil good morning\n",
            "thank you \n"
          ]
        }
      ]
    },
    {
      "cell_type": "markdown",
      "source": [
        "Now the requirement\n",
        "* i want to modify this function to provide message if name is sunny\n",
        "* we can do without distrubing the f1() function by using decorator."
      ],
      "metadata": {
        "id": "xXqvdAvt5QxH"
      }
    },
    {
      "cell_type": "code",
      "source": [
        "def decor(func):\n",
        "  def inner(name):\n",
        "    if name=='sunny':\n",
        "      print('hello sunny bad morning')\n",
        "    else:\n",
        "       func(name)\n",
        "  return inner\n",
        "\n",
        "@decor\n",
        "def wish(name):\n",
        "  print('hello',name,'good morning')\n",
        "\n",
        "wish('john')\n",
        "wish('ravi')\n",
        "wish('sunny')    "
      ],
      "metadata": {
        "id": "lePcAorgVSLB",
        "colab": {
          "base_uri": "https://localhost:8080/"
        },
        "outputId": "3f488d9d-67f0-4314-ce44-81d176d9415d"
      },
      "execution_count": null,
      "outputs": [
        {
          "output_type": "stream",
          "name": "stdout",
          "text": [
            "hello john good morning\n",
            "hello ravi good morning\n",
            "hello sunny bad morning\n"
          ]
        }
      ]
    },
    {
      "cell_type": "markdown",
      "source": [
        "* decorator is a function which can take a function as argument & extend its functionality & returns modified function with extended functionality.\n",
        "* the main objective of the decorator function is we can extend the functionality of existing functions without modifies that function."
      ],
      "metadata": {
        "id": "-j_4LA2x60QZ"
      }
    },
    {
      "cell_type": "markdown",
      "source": [
        "# THE END"
      ],
      "metadata": {
        "id": "4OXOY3m370BC"
      }
    }
  ]
}