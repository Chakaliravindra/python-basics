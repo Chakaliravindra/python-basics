{
  "nbformat": 4,
  "nbformat_minor": 0,
  "metadata": {
    "colab": {
      "provenance": [],
      "authorship_tag": "ABX9TyMFiX+D0FaBTSiYJ9vFAwNm",
      "include_colab_link": true
    },
    "kernelspec": {
      "name": "python3",
      "display_name": "Python 3"
    },
    "language_info": {
      "name": "python"
    }
  },
  "cells": [
    {
      "cell_type": "markdown",
      "metadata": {
        "id": "view-in-github",
        "colab_type": "text"
      },
      "source": [
        "<a href=\"https://colab.research.google.com/github/Chakaliravindra/python-basics/blob/main/PYTHON_BASICS_(1_15)_python_.ipynb\" target=\"_parent\"><img src=\"https://colab.research.google.com/assets/colab-badge.svg\" alt=\"Open In Colab\"/></a>"
      ]
    },
    {
      "cell_type": "markdown",
      "source": [
        "# PYTHON BASICS"
      ],
      "metadata": {
        "id": "xEcV24gglXF-"
      }
    },
    {
      "cell_type": "markdown",
      "source": [
        "**Python** "
      ],
      "metadata": {
        "id": "gfBeO9VjmSoS"
      }
    },
    {
      "cell_type": "markdown",
      "source": [
        "**Day-1**"
      ],
      "metadata": {
        "id": "7F-_sHRXWbcr"
      }
    },
    {
      "cell_type": "markdown",
      "source": [
        "python is a programming language.\n",
        "* we can develop application by using programming languages\n",
        "* it is a high level language\n",
        "* high level languages are developer friendly\n",
        "\n",
        "father of python -**GUIDO VAN ROSSUM**  in the year 1989"
      ],
      "metadata": {
        "id": "y_dBj9FFmdWz"
      }
    },
    {
      "cell_type": "markdown",
      "source": [
        "features \n",
        "* simple & easy to learn\n",
        "* high level language \n",
        "* platform independent \n",
        "* dynamically typed \n",
        "* procedure oriented & object oriented \n",
        "* extensive library"
      ],
      "metadata": {
        "id": "8ubb1sBFd5Mi"
      }
    },
    {
      "cell_type": "markdown",
      "source": [
        "* IDLE : intigrated development learning environment \n",
        "* REPL : repl tool is responsible for reading , evaluating, printing, loop"
      ],
      "metadata": {
        "id": "DEOIve9keiet"
      }
    },
    {
      "cell_type": "markdown",
      "source": [
        "---\n",
        "---"
      ],
      "metadata": {
        "id": "gDv4fKLRZvr9"
      }
    },
    {
      "cell_type": "markdown",
      "source": [
        "**Day-2** "
      ],
      "metadata": {
        "id": "iWgVWBOAqoPI"
      }
    },
    {
      "cell_type": "markdown",
      "source": [
        "identifiers:\n",
        "*  name in python progarm is called an identifier\n",
        "* it can be variable name, class name, method name etc."
      ],
      "metadata": {
        "id": "SId_arAYk7nc"
      }
    },
    {
      "cell_type": "code",
      "source": [
        "a=10 \n",
        "# a is a variable & it is called an identifier"
      ],
      "metadata": {
        "id": "QTjyZvnjm4MI"
      },
      "execution_count": null,
      "outputs": []
    },
    {
      "cell_type": "markdown",
      "source": [
        "rules to define the identifier\n",
        "* a-z\n",
        "* A-Z\n",
        "* 0-9\n",
        "* are are allowed but should not start with digit"
      ],
      "metadata": {
        "id": "Sy7k21kFnEZ1"
      }
    },
    {
      "cell_type": "markdown",
      "source": [
        "* it is case sensitive"
      ],
      "metadata": {
        "id": "uOXVbJr3oEwd"
      }
    },
    {
      "cell_type": "code",
      "source": [
        "total=10\n",
        "Total=100\n",
        "TOTAL=200\n",
        "# all are different "
      ],
      "metadata": {
        "id": "xlNqKlvJn7vP"
      },
      "execution_count": null,
      "outputs": []
    },
    {
      "cell_type": "code",
      "source": [
        "a=10"
      ],
      "metadata": {
        "id": "Qy79hWk8ou3N"
      },
      "execution_count": null,
      "outputs": []
    },
    {
      "cell_type": "code",
      "source": [
        "if=10\n",
        "# if is a key word so error "
      ],
      "metadata": {
        "colab": {
          "base_uri": "https://localhost:8080/",
          "height": 130
        },
        "id": "zCIQX8WCod2k",
        "outputId": "94a3ec0f-1342-4a87-d9f7-a597d91d0ae8"
      },
      "execution_count": null,
      "outputs": [
        {
          "output_type": "error",
          "ename": "SyntaxError",
          "evalue": "ignored",
          "traceback": [
            "\u001b[0;36m  File \u001b[0;32m\"<ipython-input-1-dd1586df4260>\"\u001b[0;36m, line \u001b[0;32m2\u001b[0m\n\u001b[0;31m    if=10\u001b[0m\n\u001b[0m      ^\u001b[0m\n\u001b[0;31mSyntaxError\u001b[0m\u001b[0;31m:\u001b[0m invalid syntax\n"
          ]
        }
      ]
    },
    {
      "cell_type": "markdown",
      "source": [
        "list of reserved words/keywords(33 words)\n",
        "* True, False, None, and, or, is, not, if, elif, else, while, for, break, continue, return, in, yield, try, except, finally, raise, assert, import, from, as, class, def, global, nonlocal, lambda, del, with\n",
        "\n",
        "Note: only True, False & None are in upper case (T, F and N) (title case)"
      ],
      "metadata": {
        "id": "yebFG3KQox20"
      }
    },
    {
      "cell_type": "markdown",
      "source": [
        "* lets wrire a program to calculate sum of 2 numbers"
      ],
      "metadata": {
        "id": "FgkoZs37o3p6"
      }
    },
    {
      "cell_type": "code",
      "source": [
        "a=10\n",
        "b=20\n",
        "print(a+b)"
      ],
      "metadata": {
        "colab": {
          "base_uri": "https://localhost:8080/"
        },
        "id": "2LeP9BksrFy-",
        "outputId": "1a7ceb0c-4376-473d-8064-d04a89be1d47"
      },
      "execution_count": null,
      "outputs": [
        {
          "output_type": "stream",
          "name": "stdout",
          "text": [
            "30\n"
          ]
        }
      ]
    },
    {
      "cell_type": "markdown",
      "source": [
        "observation: we do not require to mention the datatype of the variable\n"
      ],
      "metadata": {
        "id": "kShURl9_o5zt"
      }
    },
    {
      "cell_type": "code",
      "source": [
        "a=10\n",
        "type(a)"
      ],
      "metadata": {
        "colab": {
          "base_uri": "https://localhost:8080/"
        },
        "id": "uB5-gab1r7Tf",
        "outputId": "36e1c20f-214f-4b44-a13c-7716b9c6c41f"
      },
      "execution_count": null,
      "outputs": [
        {
          "output_type": "execute_result",
          "data": {
            "text/plain": [
              "int"
            ]
          },
          "metadata": {},
          "execution_count": 7
        }
      ]
    },
    {
      "cell_type": "markdown",
      "source": [
        "observation: type is a function, which returns data type of the variable "
      ],
      "metadata": {
        "id": "-Mdkh2_Zo6g7"
      }
    },
    {
      "cell_type": "code",
      "source": [
        "a=20.5\n",
        "type(a)"
      ],
      "metadata": {
        "colab": {
          "base_uri": "https://localhost:8080/"
        },
        "id": "2v_C3CX6t0MV",
        "outputId": "f7a21e95-600d-4e36-ad96-80cd19e24697"
      },
      "execution_count": null,
      "outputs": [
        {
          "output_type": "execute_result",
          "data": {
            "text/plain": [
              "float"
            ]
          },
          "metadata": {},
          "execution_count": 8
        }
      ]
    },
    {
      "cell_type": "code",
      "source": [
        "a=True\n",
        "type(a)"
      ],
      "metadata": {
        "colab": {
          "base_uri": "https://localhost:8080/"
        },
        "id": "PNQ5a-R4t8mN",
        "outputId": "9a9b3b92-9e2e-44a3-e3ed-aa8056f58c18"
      },
      "execution_count": null,
      "outputs": [
        {
          "output_type": "execute_result",
          "data": {
            "text/plain": [
              "bool"
            ]
          },
          "metadata": {},
          "execution_count": 9
        }
      ]
    },
    {
      "cell_type": "markdown",
      "source": [
        "* dynamically variable changing the data type \n",
        "* opening brackets & closing brackets is called function eg., print()- having a functionality of printing."
      ],
      "metadata": {
        "id": "zgjKlC8STBYw"
      }
    },
    {
      "cell_type": "markdown",
      "source": [
        "python contains the following data types\n",
        "* 1) int\n",
        "* 2) float \n",
        "* 3) bool \n",
        "* 4) str \n",
        "* 5) bytes\n",
        "* 6) complex \n",
        "* 7) bytearray\n",
        "* 8) range \n",
        "* 9) list \n",
        "* 10) tuple \n",
        "* 11) set \n",
        "* 12) frozenset\n",
        "* 12) dict\n",
        "* 12) None"
      ],
      "metadata": {
        "id": "uvqUb-zGvlIQ"
      }
    },
    {
      "cell_type": "markdown",
      "source": [
        "Function: function returns a specific value."
      ],
      "metadata": {
        "id": "Yn6PxoQsw0_w"
      }
    },
    {
      "cell_type": "code",
      "source": [
        "a=10\n",
        "type(a)"
      ],
      "metadata": {
        "colab": {
          "base_uri": "https://localhost:8080/"
        },
        "id": "HANd3ZTGw-u8",
        "outputId": "3bf7d17b-9661-4217-828a-9b6092d328d4"
      },
      "execution_count": null,
      "outputs": [
        {
          "output_type": "execute_result",
          "data": {
            "text/plain": [
              "int"
            ]
          },
          "metadata": {},
          "execution_count": 10
        }
      ]
    },
    {
      "cell_type": "code",
      "source": [
        "id(a)"
      ],
      "metadata": {
        "colab": {
          "base_uri": "https://localhost:8080/"
        },
        "id": "WRRAOXekxEbv",
        "outputId": "a06b16aa-496f-4032-d360-0cafb2294114"
      },
      "execution_count": null,
      "outputs": [
        {
          "output_type": "execute_result",
          "data": {
            "text/plain": [
              "9793376"
            ]
          },
          "metadata": {},
          "execution_count": 11
        }
      ]
    },
    {
      "cell_type": "code",
      "source": [
        "print(a)"
      ],
      "metadata": {
        "colab": {
          "base_uri": "https://localhost:8080/"
        },
        "id": "MSHtluqlxGsg",
        "outputId": "d3e6ab4b-cb99-4e60-c666-14baa6a7592a"
      },
      "execution_count": null,
      "outputs": [
        {
          "output_type": "stream",
          "name": "stdout",
          "text": [
            "10\n"
          ]
        }
      ]
    },
    {
      "cell_type": "markdown",
      "source": [
        "* type() -- returns data type of the variable\n",
        "* id() -- returns address of the variable\n",
        "* print() -- returns value of the variable"
      ],
      "metadata": {
        "id": "10pVaJQaxQSM"
      }
    },
    {
      "cell_type": "markdown",
      "source": [
        "---\n",
        "---"
      ],
      "metadata": {
        "id": "EF2xbgISaBo-"
      }
    },
    {
      "cell_type": "markdown",
      "source": [
        "**Day-3**"
      ],
      "metadata": {
        "id": "PPwJzjUFTQxM"
      }
    },
    {
      "cell_type": "markdown",
      "source": [
        "* 1) String data type\n",
        "* 2) multiline string literals\n",
        "* 3) using index string\n",
        "* 4) slice operator\n",
        "* 5) len() function\n",
        "* 6) positive indexing & negative indexing"
      ],
      "metadata": {
        "id": "m17JEOUbn8EL"
      }
    },
    {
      "cell_type": "markdown",
      "source": [
        "String data type : is a sequence of characters.\n",
        "* eg: ravi\n",
        "\n",
        "we can represent in single quotes or double quotes\n",
        "* eg: a='ravi' \n",
        " "
      ],
      "metadata": {
        "id": "U95MXnirozKE"
      }
    },
    {
      "cell_type": "code",
      "source": [
        "a='ravi'\n",
        "type(a)"
      ],
      "metadata": {
        "colab": {
          "base_uri": "https://localhost:8080/"
        },
        "id": "onKWQjJSpVEO",
        "outputId": "acc9a47b-368e-488d-bb7e-41a9f9b20bbb"
      },
      "execution_count": null,
      "outputs": [
        {
          "output_type": "execute_result",
          "data": {
            "text/plain": [
              "str"
            ]
          },
          "metadata": {},
          "execution_count": 1
        }
      ]
    },
    {
      "cell_type": "markdown",
      "source": [
        "* Multiline string literals should be enclosed in triple quotes ('''python''')"
      ],
      "metadata": {
        "id": "2CYDdUoyn79Z"
      }
    },
    {
      "cell_type": "code",
      "source": [
        "a=''' data.ai \n",
        " technologies'''\n",
        "print(type(a)) \n",
        "print(a)        "
      ],
      "metadata": {
        "colab": {
          "base_uri": "https://localhost:8080/"
        },
        "id": "JTMFf0x-p4wr",
        "outputId": "0b82cb28-0651-4c96-b6a3-6fb0e074166a"
      },
      "execution_count": null,
      "outputs": [
        {
          "output_type": "stream",
          "name": "stdout",
          "text": [
            "<class 'str'>\n",
            " data.ai \n",
            " technologies\n"
          ]
        }
      ]
    },
    {
      "cell_type": "markdown",
      "source": [
        "Indexing:\n",
        "* how can i access characters of the string?\n",
        "* we can access characters of the string, by using index"
      ],
      "metadata": {
        "id": "OemzaprPq-NG"
      }
    },
    {
      "cell_type": "code",
      "source": [
        "a='ravi'\n",
        "print(a[0])\n",
        "print(a[1])\n",
        "print(a[2])\n",
        "print(a[3])"
      ],
      "metadata": {
        "colab": {
          "base_uri": "https://localhost:8080/"
        },
        "id": "xSpt1OiDqg5T",
        "outputId": "b38c3f36-42ba-411f-d7c9-2eadfa1dcdd8"
      },
      "execution_count": null,
      "outputs": [
        {
          "output_type": "stream",
          "name": "stdout",
          "text": [
            "r\n",
            "a\n",
            "v\n",
            "i\n"
          ]
        }
      ]
    },
    {
      "cell_type": "markdown",
      "source": [
        "* Negative index"
      ],
      "metadata": {
        "id": "iIVv8pfFVBBL"
      }
    },
    {
      "cell_type": "code",
      "source": [
        "print(a[-1])\n",
        "print(a[-2])\n",
        "print(a[-3])\n",
        "print(a[-4])"
      ],
      "metadata": {
        "colab": {
          "base_uri": "https://localhost:8080/"
        },
        "id": "8QgHtBkRrkmt",
        "outputId": "07ce1f54-9934-474c-a1f9-63adb6f9831f"
      },
      "execution_count": null,
      "outputs": [
        {
          "output_type": "stream",
          "name": "stdout",
          "text": [
            "i\n",
            "v\n",
            "a\n",
            "r\n"
          ]
        }
      ]
    },
    {
      "cell_type": "markdown",
      "source": [
        "Slice operator: \n",
        "* To get part of the string, we use slice operator"
      ],
      "metadata": {
        "id": "FvKGSNC_rlXF"
      }
    },
    {
      "cell_type": "code",
      "source": [
        "a='sunil'\n",
        "# i want the slice of the above index\n",
        "# Eg i want uni syntax= a[beginindex:end_index]\n",
        "a[1:4]  # it returns from begin index to end-1 index sunil=01234 (4-1=3)"
      ],
      "metadata": {
        "colab": {
          "base_uri": "https://localhost:8080/",
          "height": 35
        },
        "id": "mabaQXxZqgzz",
        "outputId": "b8733e30-c7b3-46c7-e507-e4a2b9ac5f22"
      },
      "execution_count": null,
      "outputs": [
        {
          "output_type": "execute_result",
          "data": {
            "text/plain": [
              "'uni'"
            ],
            "application/vnd.google.colaboratory.intrinsic+json": {
              "type": "string"
            }
          },
          "metadata": {},
          "execution_count": 26
        }
      ]
    },
    {
      "cell_type": "code",
      "source": [
        "# if you do not specify begin_index, then the default value is 0\n",
        "print(a[:3])\n",
        " #if we do not specify end_index, then it will return all the characters till the end of the string\n",
        "print(a[1:])\n",
        "print(a[2:]) \n",
        "# if we do not specify begin_inedx & end_index, it returns entire string\n",
        "print(a[ : ])"
      ],
      "metadata": {
        "colab": {
          "base_uri": "https://localhost:8080/"
        },
        "id": "MJg2DXtbqgut",
        "outputId": "293f4f2e-673d-41e6-8f63-d85f3e93fe36"
      },
      "execution_count": null,
      "outputs": [
        {
          "output_type": "stream",
          "name": "stdout",
          "text": [
            "rav\n",
            "avi\n",
            "vi\n",
            "ravi\n"
          ]
        }
      ]
    },
    {
      "cell_type": "markdown",
      "source": [
        "len() function \n",
        "* returns length of the string"
      ],
      "metadata": {
        "id": "Hqaz8pPVvUlJ"
      }
    },
    {
      "cell_type": "code",
      "source": [
        "print(len(a)) # giving count of all characters"
      ],
      "metadata": {
        "colab": {
          "base_uri": "https://localhost:8080/"
        },
        "id": "-E_3bG6EqgpS",
        "outputId": "70628f68-a1f8-476d-d6ea-683e46fedc01"
      },
      "execution_count": null,
      "outputs": [
        {
          "output_type": "stream",
          "name": "stdout",
          "text": [
            "5\n"
          ]
        }
      ]
    },
    {
      "cell_type": "code",
      "source": [
        "# i want to convert \"sunil\" to \"Sunil\" (1st letter capital)\n",
        "print(a[0].upper())\n",
        "print(a[0].upper()+a[1:])\n",
        "# \"+\" is a concatination\n",
        "b=print(a[0].upper()+a[1:])\n",
        "b"
      ],
      "metadata": {
        "colab": {
          "base_uri": "https://localhost:8080/"
        },
        "id": "bi-Lj-L6v1ee",
        "outputId": "17b72171-812d-49a9-9df6-6d94a83c9ca5"
      },
      "execution_count": null,
      "outputs": [
        {
          "output_type": "stream",
          "name": "stdout",
          "text": [
            "S\n",
            "Sunil\n",
            "Sunil\n"
          ]
        }
      ]
    },
    {
      "cell_type": "markdown",
      "source": [
        "* lets learn about positive indexing & negative indexing"
      ],
      "metadata": {
        "id": "DEIkpJTdxTFK"
      }
    },
    {
      "cell_type": "code",
      "source": [
        "print(a[-1]) # sunil=(0,1,2,3,4)=(-5,-4,-3,-2,-1)\n",
        "print(a[-1].upper())\n",
        "b=a[0:len(a)-1] + a[-1].upper()\n",
        "b"
      ],
      "metadata": {
        "colab": {
          "base_uri": "https://localhost:8080/",
          "height": 70
        },
        "id": "ky7jNFSXv1WS",
        "outputId": "9521322c-73d0-4be0-daab-9645e4075440"
      },
      "execution_count": null,
      "outputs": [
        {
          "output_type": "stream",
          "name": "stdout",
          "text": [
            "l\n",
            "L\n"
          ]
        },
        {
          "output_type": "execute_result",
          "data": {
            "text/plain": [
              "'suniL'"
            ],
            "application/vnd.google.colaboratory.intrinsic+json": {
              "type": "string"
            }
          },
          "metadata": {},
          "execution_count": 39
        }
      ]
    },
    {
      "cell_type": "code",
      "source": [
        "a='ravi'\n",
        "c=a.upper()\n",
        "print(c)"
      ],
      "metadata": {
        "colab": {
          "base_uri": "https://localhost:8080/"
        },
        "id": "mmRUHmMCWQ6B",
        "outputId": "f9635c3f-22a0-4f6e-b32c-c76da12fe689"
      },
      "execution_count": null,
      "outputs": [
        {
          "output_type": "stream",
          "name": "stdout",
          "text": [
            "RAVI\n"
          ]
        }
      ]
    },
    {
      "cell_type": "code",
      "source": [
        "d=a[0:3] + a[-1].upper()\n",
        "d"
      ],
      "metadata": {
        "colab": {
          "base_uri": "https://localhost:8080/",
          "height": 35
        },
        "id": "_yOu2Sn5vZTw",
        "outputId": "fff5c97a-0d95-4964-c9bf-187c353bbcc1"
      },
      "execution_count": null,
      "outputs": [
        {
          "output_type": "execute_result",
          "data": {
            "text/plain": [
              "'ravI'"
            ],
            "application/vnd.google.colaboratory.intrinsic+json": {
              "type": "string"
            }
          },
          "metadata": {},
          "execution_count": 9
        }
      ]
    },
    {
      "cell_type": "markdown",
      "source": [
        "---\n",
        "---"
      ],
      "metadata": {
        "id": "qMGqV-e7aJw9"
      }
    },
    {
      "cell_type": "markdown",
      "source": [
        "**Day-4**"
      ],
      "metadata": {
        "id": "6JYhCC82WZVy"
      }
    },
    {
      "cell_type": "markdown",
      "source": [
        "* '+' operator with strings \n",
        "* '*' operator with strings\n",
        "* type casting\n",
        "* using int()\n",
        "* type casting function in python \n",
        "* int()"
      ],
      "metadata": {
        "id": "av3oIgLYWZbT"
      }
    },
    {
      "cell_type": "markdown",
      "source": [
        "Understanding '+' operator with string "
      ],
      "metadata": {
        "id": "1-SLJ_7GxnTl"
      }
    },
    {
      "cell_type": "code",
      "source": [
        "a = 'sunil' + 'koppavarapu'\n",
        "a "
      ],
      "metadata": {
        "colab": {
          "base_uri": "https://localhost:8080/",
          "height": 35
        },
        "id": "-25dx3aRxjeR",
        "outputId": "4dd094c9-59e8-4700-dc5a-59463f31ef4a"
      },
      "execution_count": null,
      "outputs": [
        {
          "output_type": "execute_result",
          "data": {
            "text/plain": [
              "'sunilkoppavarapu'"
            ],
            "application/vnd.google.colaboratory.intrinsic+json": {
              "type": "string"
            }
          },
          "metadata": {},
          "execution_count": 15
        }
      ]
    },
    {
      "cell_type": "markdown",
      "source": [
        "* here \"+\"  working as a concatination "
      ],
      "metadata": {
        "id": "LnlWnk_6hQla"
      }
    },
    {
      "cell_type": "code",
      "source": [
        "a='sunil' + 5"
      ],
      "metadata": {
        "colab": {
          "base_uri": "https://localhost:8080/",
          "height": 165
        },
        "id": "yWBP1zThxtpr",
        "outputId": "ac4c9320-3e71-417e-bb62-6566d809498b"
      },
      "execution_count": null,
      "outputs": [
        {
          "output_type": "error",
          "ename": "TypeError",
          "evalue": "ignored",
          "traceback": [
            "\u001b[0;31m---------------------------------------------------------------------------\u001b[0m",
            "\u001b[0;31mTypeError\u001b[0m                                 Traceback (most recent call last)",
            "\u001b[0;32m<ipython-input-16-cc21de9772c4>\u001b[0m in \u001b[0;36m<module>\u001b[0;34m\u001b[0m\n\u001b[0;32m----> 1\u001b[0;31m \u001b[0ma\u001b[0m\u001b[0;34m=\u001b[0m\u001b[0;34m'sunil'\u001b[0m \u001b[0;34m+\u001b[0m \u001b[0;36m5\u001b[0m\u001b[0;34m\u001b[0m\u001b[0;34m\u001b[0m\u001b[0m\n\u001b[0m",
            "\u001b[0;31mTypeError\u001b[0m: can only concatenate str (not \"int\") to str"
          ]
        }
      ]
    },
    {
      "cell_type": "markdown",
      "source": [
        "Note :\n",
        "* both arguments should be strings"
      ],
      "metadata": {
        "id": "P7h4yWixx0C8"
      }
    },
    {
      "cell_type": "markdown",
      "source": [
        "* Understanding '*' operator with string "
      ],
      "metadata": {
        "id": "58vK6KcRwie2"
      }
    },
    {
      "cell_type": "code",
      "source": [
        "a='sunil'*3\n",
        "a"
      ],
      "metadata": {
        "colab": {
          "base_uri": "https://localhost:8080/",
          "height": 35
        },
        "id": "kHMiX5fRwafq",
        "outputId": "6e7f5171-c764-4d80-bc15-db62798f153c"
      },
      "execution_count": null,
      "outputs": [
        {
          "output_type": "execute_result",
          "data": {
            "text/plain": [
              "'sunilsunilsunil'"
            ],
            "application/vnd.google.colaboratory.intrinsic+json": {
              "type": "string"
            }
          },
          "metadata": {},
          "execution_count": 12
        }
      ]
    },
    {
      "cell_type": "code",
      "source": [
        "a=3 * 'sunil'\n",
        "a"
      ],
      "metadata": {
        "id": "8BRgdWahv3-1",
        "colab": {
          "base_uri": "https://localhost:8080/",
          "height": 35
        },
        "outputId": "68dd94ec-3013-42b1-bb3e-9373ad5a4382"
      },
      "execution_count": null,
      "outputs": [
        {
          "output_type": "execute_result",
          "data": {
            "text/plain": [
              "'sunilsunilsunil'"
            ],
            "application/vnd.google.colaboratory.intrinsic+json": {
              "type": "string"
            }
          },
          "metadata": {},
          "execution_count": 13
        }
      ]
    },
    {
      "cell_type": "code",
      "source": [
        "a= 'sunil' * 'kumar'"
      ],
      "metadata": {
        "id": "CMY0ZKgpv35c",
        "colab": {
          "base_uri": "https://localhost:8080/",
          "height": 165
        },
        "outputId": "7f9613cc-7c95-47f2-fbfe-e06d9e3155d5"
      },
      "execution_count": null,
      "outputs": [
        {
          "output_type": "error",
          "ename": "TypeError",
          "evalue": "ignored",
          "traceback": [
            "\u001b[0;31m---------------------------------------------------------------------------\u001b[0m",
            "\u001b[0;31mTypeError\u001b[0m                                 Traceback (most recent call last)",
            "\u001b[0;32m<ipython-input-17-effbdc95341e>\u001b[0m in \u001b[0;36m<module>\u001b[0;34m\u001b[0m\n\u001b[0;32m----> 1\u001b[0;31m \u001b[0ma\u001b[0m\u001b[0;34m=\u001b[0m \u001b[0;34m'sunil'\u001b[0m \u001b[0;34m*\u001b[0m \u001b[0;34m'kumar'\u001b[0m\u001b[0;34m\u001b[0m\u001b[0;34m\u001b[0m\u001b[0m\n\u001b[0m",
            "\u001b[0;31mTypeError\u001b[0m: can't multiply sequence by non-int of type 'str'"
          ]
        }
      ]
    },
    {
      "cell_type": "markdown",
      "source": [
        "Type casting: used to convert value from one datatype to another datatype.\n",
        "* the following are the typecasing functions in python\n",
        "* * 1) int()\n",
        "* * 2) float()\n",
        "* * 3) bool()\n",
        "* * 4) str()"
      ],
      "metadata": {
        "id": "O5v3tfv6yKFn"
      }
    },
    {
      "cell_type": "markdown",
      "source": [
        " * 1) int() : used to convert values from otherdata type to integers"
      ],
      "metadata": {
        "id": "umcO_IaKyzYB"
      }
    },
    {
      "cell_type": "code",
      "source": [
        "# lets learn float to int\n",
        "a= int(19.8)\n",
        "a"
      ],
      "metadata": {
        "colab": {
          "base_uri": "https://localhost:8080/"
        },
        "id": "R3aS8sTpw6uu",
        "outputId": "dbc243ac-9044-4bfa-d79f-f8a2189a8f76"
      },
      "execution_count": null,
      "outputs": [
        {
          "output_type": "execute_result",
          "data": {
            "text/plain": [
              "19"
            ]
          },
          "metadata": {},
          "execution_count": 18
        }
      ]
    },
    {
      "cell_type": "code",
      "source": [
        "# bool to int\n",
        "a=int(True)\n",
        "b=int(False)\n",
        "print(a)    # in python True=1, False=0 \n",
        "b"
      ],
      "metadata": {
        "colab": {
          "base_uri": "https://localhost:8080/"
        },
        "id": "nDg_n1Z60Jc4",
        "outputId": "9df6051d-a996-421e-c479-ec0e5e8af080"
      },
      "execution_count": null,
      "outputs": [
        {
          "output_type": "stream",
          "name": "stdout",
          "text": [
            "1\n"
          ]
        },
        {
          "output_type": "execute_result",
          "data": {
            "text/plain": [
              "0"
            ]
          },
          "metadata": {},
          "execution_count": 22
        }
      ]
    },
    {
      "cell_type": "markdown",
      "source": [
        "* 2)float(): used to convert values from otherdata type to float"
      ],
      "metadata": {
        "id": "4p84UynCzZxL"
      }
    },
    {
      "cell_type": "code",
      "source": [
        "# int to float\n",
        "a= float(0) \n",
        "b=float(24)\n",
        "print(a)\n",
        "b"
      ],
      "metadata": {
        "colab": {
          "base_uri": "https://localhost:8080/"
        },
        "id": "XJ4MiKFnw6pu",
        "outputId": "c71fc3cf-8c5c-45a7-8851-6d5363be10bf"
      },
      "execution_count": null,
      "outputs": [
        {
          "output_type": "stream",
          "name": "stdout",
          "text": [
            "0.0\n"
          ]
        },
        {
          "output_type": "execute_result",
          "data": {
            "text/plain": [
              "24.0"
            ]
          },
          "metadata": {},
          "execution_count": 21
        }
      ]
    },
    {
      "cell_type": "markdown",
      "source": [
        "* 3) bool(): used to convert values from otherdata type to bool"
      ],
      "metadata": {
        "id": "PQipxzRE0qlK"
      }
    },
    {
      "cell_type": "code",
      "source": [
        "a=bool(10)\n",
        "a"
      ],
      "metadata": {
        "colab": {
          "base_uri": "https://localhost:8080/"
        },
        "id": "os8CPARm0BLS",
        "outputId": "3cc3e71a-91e1-4207-8088-a4838d522497"
      },
      "execution_count": null,
      "outputs": [
        {
          "output_type": "execute_result",
          "data": {
            "text/plain": [
              "True"
            ]
          },
          "metadata": {},
          "execution_count": 24
        }
      ]
    },
    {
      "cell_type": "code",
      "source": [
        "a=bool(0)\n",
        "a   # all values are True except 0 (0 is the only False value of bool)"
      ],
      "metadata": {
        "colab": {
          "base_uri": "https://localhost:8080/"
        },
        "id": "KeS5lwvO06BL",
        "outputId": "922657f4-ce8a-468a-cfba-c82e87ef205e"
      },
      "execution_count": null,
      "outputs": [
        {
          "output_type": "execute_result",
          "data": {
            "text/plain": [
              "False"
            ]
          },
          "metadata": {},
          "execution_count": 25
        }
      ]
    },
    {
      "cell_type": "markdown",
      "source": [
        "* if the argument is 0, it returns False, otherwise True"
      ],
      "metadata": {
        "id": "Mk7h5Crl1Mii"
      }
    },
    {
      "cell_type": "code",
      "source": [
        "a=bool(' ')\n",
        "a"
      ],
      "metadata": {
        "colab": {
          "base_uri": "https://localhost:8080/"
        },
        "id": "wyKLuupb0A7z",
        "outputId": "1f673a4e-9b87-4768-f04c-fdf3d73b3562"
      },
      "execution_count": null,
      "outputs": [
        {
          "output_type": "execute_result",
          "data": {
            "text/plain": [
              "True"
            ]
          },
          "metadata": {},
          "execution_count": 27
        }
      ]
    },
    {
      "cell_type": "markdown",
      "source": [
        "* 4) str(): used to convert values from otherdata type to sring"
      ],
      "metadata": {
        "id": "pbQpy96w1oie"
      }
    },
    {
      "cell_type": "code",
      "source": [
        "a=str(10)\n",
        "a"
      ],
      "metadata": {
        "colab": {
          "base_uri": "https://localhost:8080/",
          "height": 35
        },
        "id": "qnQLcRNV1qnQ",
        "outputId": "473dcbc1-3778-4b2a-c143-99270abe609a"
      },
      "execution_count": null,
      "outputs": [
        {
          "output_type": "execute_result",
          "data": {
            "text/plain": [
              "'10'"
            ],
            "application/vnd.google.colaboratory.intrinsic+json": {
              "type": "string"
            }
          },
          "metadata": {},
          "execution_count": 28
        }
      ]
    },
    {
      "cell_type": "code",
      "source": [
        "a=str(10.5)\n",
        "a"
      ],
      "metadata": {
        "colab": {
          "base_uri": "https://localhost:8080/",
          "height": 35
        },
        "id": "EkkaRSPC1rgR",
        "outputId": "ac7cdf38-6660-45f2-f7de-6cb32cf34ebf"
      },
      "execution_count": null,
      "outputs": [
        {
          "output_type": "execute_result",
          "data": {
            "text/plain": [
              "'10.5'"
            ],
            "application/vnd.google.colaboratory.intrinsic+json": {
              "type": "string"
            }
          },
          "metadata": {},
          "execution_count": 29
        }
      ]
    },
    {
      "cell_type": "code",
      "source": [
        "a=str(True)\n",
        "a"
      ],
      "metadata": {
        "colab": {
          "base_uri": "https://localhost:8080/",
          "height": 35
        },
        "id": "0pgTYbHI1rab",
        "outputId": "81924219-f166-4d6c-86fa-5105c0e228c5"
      },
      "execution_count": null,
      "outputs": [
        {
          "output_type": "execute_result",
          "data": {
            "text/plain": [
              "'True'"
            ],
            "application/vnd.google.colaboratory.intrinsic+json": {
              "type": "string"
            }
          },
          "metadata": {},
          "execution_count": 30
        }
      ]
    },
    {
      "cell_type": "code",
      "source": [
        "b=str(False)\n",
        "b"
      ],
      "metadata": {
        "colab": {
          "base_uri": "https://localhost:8080/",
          "height": 35
        },
        "id": "Un-x1lrBw6km",
        "outputId": "92377e5c-783a-49f0-f5fb-4d4755e3661e"
      },
      "execution_count": null,
      "outputs": [
        {
          "output_type": "execute_result",
          "data": {
            "text/plain": [
              "'False'"
            ],
            "application/vnd.google.colaboratory.intrinsic+json": {
              "type": "string"
            }
          },
          "metadata": {},
          "execution_count": 32
        }
      ]
    },
    {
      "cell_type": "markdown",
      "source": [
        "---\n",
        "---"
      ],
      "metadata": {
        "id": "qzEQPQ_Lakgs"
      }
    },
    {
      "cell_type": "markdown",
      "source": [
        "**DAY-5**"
      ],
      "metadata": {
        "id": "QwCkdbQIXDG1"
      }
    },
    {
      "cell_type": "markdown",
      "source": [
        "* Fundamentals data types\n",
        "* immutability\n",
        "* collection data types\n",
        "* list, tuple, set, frozen set, dict, byte, bytearray\n",
        "* working with list\n",
        "* mutable"
      ],
      "metadata": {
        "id": "2P_L8dpwvdPG"
      }
    },
    {
      "cell_type": "markdown",
      "source": [
        "Fundamentals data types\n",
        "* int,float,bool,str, complex are called fundamental data types.\n",
        "* fundamental data types are immutable."
      ],
      "metadata": {
        "id": "DTsecud6veIA"
      }
    },
    {
      "cell_type": "markdown",
      "source": [
        "immutability: unchangable, fixed, rigid.\n",
        "* NOTE: once an object is created, it is immutable. ie, we can't make changes to the object. \n",
        "* when we try to perform perform any changes, a new object is created with those changes.\n",
        "* non changable in nature is called immutablility."
      ],
      "metadata": {
        "id": "fVJGVVZUyCRS"
      }
    },
    {
      "cell_type": "markdown",
      "source": [
        "what is an object ?\n",
        "* everything in python is an object.\n",
        "* variable is an object.\n",
        "* function is an object."
      ],
      "metadata": {
        "id": "l37PTGhLYqwM"
      }
    },
    {
      "cell_type": "code",
      "source": [
        "a=10\n",
        "# now '10' is an object & a is a refering name \n",
        "print(a)\n",
        "print(id(a)) # we acn print address of an object\n",
        "a=a+1\n",
        "print(id(a))\n",
        "# NOTE: the old vlue 10 is elegible for garbage collection"
      ],
      "metadata": {
        "colab": {
          "base_uri": "https://localhost:8080/"
        },
        "id": "s5up5_G3Ycju",
        "outputId": "daaa0e97-d452-49a9-8c38-b7c84b1374cc"
      },
      "execution_count": null,
      "outputs": [
        {
          "output_type": "stream",
          "name": "stdout",
          "text": [
            "10\n",
            "9793376\n",
            "9793408\n"
          ]
        }
      ]
    },
    {
      "cell_type": "code",
      "source": [
        "a=10\n",
        "b=a\n",
        "print(id(b))\n",
        "b=b+1\n",
        "print(a)\n",
        "print(b)\n",
        "print(id(a))\n",
        "print(id(b)) # new object is created "
      ],
      "metadata": {
        "id": "l9K_E5gux5-5",
        "colab": {
          "base_uri": "https://localhost:8080/"
        },
        "outputId": "18a1d559-a4ae-44f6-a32b-25ba9c56c804"
      },
      "execution_count": null,
      "outputs": [
        {
          "output_type": "stream",
          "name": "stdout",
          "text": [
            "9793376\n",
            "10\n",
            "11\n",
            "9793376\n",
            "9793408\n"
          ]
        }
      ]
    },
    {
      "cell_type": "markdown",
      "source": [
        "* what is the need for immutability"
      ],
      "metadata": {
        "id": "l_DTaikHhlY8"
      }
    },
    {
      "cell_type": "code",
      "source": [
        "a=10\n",
        "b=10\n",
        "c=10\n",
        "# how many objects are created ?\n",
        "# only one object, can be referred by 3 names a, b & c\n",
        "# to prove\n",
        "print(id(a))\n",
        "print(id(b))\n",
        "print(id(c))"
      ],
      "metadata": {
        "id": "_PTmNrihx55s",
        "colab": {
          "base_uri": "https://localhost:8080/"
        },
        "outputId": "b4f12775-7658-4379-a458-563b561b02e1"
      },
      "execution_count": null,
      "outputs": [
        {
          "output_type": "stream",
          "name": "stdout",
          "text": [
            "9793376\n",
            "9793376\n",
            "9793376\n"
          ]
        }
      ]
    },
    {
      "cell_type": "markdown",
      "source": [
        "the advantage:\n",
        "* memory utilization is imporved\n",
        "* performance is improved\n",
        "\n",
        "immutability also works with other fundamental data types also."
      ],
      "metadata": {
        "id": "XOagTA89cGfL"
      }
    },
    {
      "cell_type": "markdown",
      "source": [
        "Collection data types : used to hold collection of values.\n",
        "* 1) list\n",
        "* 2) tuple\n",
        "* 3) set\n",
        "* 4) frozen set\n",
        "* 5) dict\n",
        "* 6) range\n",
        "* 7) byte\n",
        "* 8) bytearray"
      ],
      "metadata": {
        "id": "aotgVvIocsJX"
      }
    },
    {
      "cell_type": "markdown",
      "source": [
        "1) list\n",
        "* ordered is allowed.\n",
        "* allow duplicate values.\n",
        "* represented by '[ ]' (square brackets)\n",
        "* indexing allowed"
      ],
      "metadata": {
        "id": "yZDqN6MfdWno"
      }
    },
    {
      "cell_type": "code",
      "source": [
        "a=[10,'ravi',20,10,30]\n",
        "print(a)\n",
        "print(type(a))"
      ],
      "metadata": {
        "id": "juqsxyFKx50D",
        "colab": {
          "base_uri": "https://localhost:8080/"
        },
        "outputId": "ac43d7b0-3ec1-489f-e103-450db96cd23c"
      },
      "execution_count": null,
      "outputs": [
        {
          "output_type": "stream",
          "name": "stdout",
          "text": [
            "[10, 'ravi', 20, 10, 30]\n",
            "<class 'list'>\n"
          ]
        }
      ]
    },
    {
      "cell_type": "markdown",
      "source": [
        "* the order in which we have provided the values, in the sam order we get the \n",
        "o/p.\n",
        "* Note: heterogeneous values are allowed ( elements can be from different data type)"
      ],
      "metadata": {
        "id": "tiJMH1IOfocQ"
      }
    },
    {
      "cell_type": "code",
      "source": [
        "print(a[0])\n",
        "print(a[1])\n",
        "a[-1]"
      ],
      "metadata": {
        "id": "HFd6ILglx5u2",
        "colab": {
          "base_uri": "https://localhost:8080/"
        },
        "outputId": "480bec6f-0eb6-41a2-8f31-b4319d650731"
      },
      "execution_count": null,
      "outputs": [
        {
          "output_type": "stream",
          "name": "stdout",
          "text": [
            "10\n",
            "ravi\n"
          ]
        },
        {
          "output_type": "execute_result",
          "data": {
            "text/plain": [
              "30"
            ]
          },
          "metadata": {},
          "execution_count": 12
        }
      ]
    },
    {
      "cell_type": "markdown",
      "source": [
        "* create an empty list"
      ],
      "metadata": {
        "id": "EjfxkBglh7eu"
      }
    },
    {
      "cell_type": "code",
      "source": [
        "a=[]\n",
        "print(a)"
      ],
      "metadata": {
        "colab": {
          "base_uri": "https://localhost:8080/"
        },
        "id": "PKy7RTu5h0A_",
        "outputId": "d0f67c60-3c0f-4889-a615-09dd2625807a"
      },
      "execution_count": null,
      "outputs": [
        {
          "output_type": "stream",
          "name": "stdout",
          "text": [
            "[]\n"
          ]
        }
      ]
    },
    {
      "cell_type": "markdown",
      "source": [
        "* append () is a method/function----- used to add elements to the list"
      ],
      "metadata": {
        "id": "tSDHWteRh-6b"
      }
    },
    {
      "cell_type": "code",
      "source": [
        "a.append(10)\n",
        "a.append(20)\n",
        "a.append(30)\n",
        "a.append(40)\n",
        "print(a)"
      ],
      "metadata": {
        "id": "kyhIMNkTx5pU",
        "colab": {
          "base_uri": "https://localhost:8080/"
        },
        "outputId": "55ac2040-79dc-4a85-fa32-c9fc8778e0bc"
      },
      "execution_count": null,
      "outputs": [
        {
          "output_type": "stream",
          "name": "stdout",
          "text": [
            "[10, 20, 30, 40]\n"
          ]
        }
      ]
    },
    {
      "cell_type": "markdown",
      "source": [
        "* remove() is a method/function----- used to remove elements. specify the value"
      ],
      "metadata": {
        "id": "2yLhM9KhiEwU"
      }
    },
    {
      "cell_type": "code",
      "source": [
        "a.remove(30)\n",
        "a"
      ],
      "metadata": {
        "colab": {
          "base_uri": "https://localhost:8080/"
        },
        "id": "smK_hc-UiJ9l",
        "outputId": "f2e7be03-9ca9-4983-e944-e39adeab71a7"
      },
      "execution_count": null,
      "outputs": [
        {
          "output_type": "execute_result",
          "data": {
            "text/plain": [
              "[10, 20, 40]"
            ]
          },
          "metadata": {},
          "execution_count": 4
        }
      ]
    },
    {
      "cell_type": "markdown",
      "source": [
        "* list has mutable in nature"
      ],
      "metadata": {
        "id": "8gNAhK8Whj1p"
      }
    },
    {
      "cell_type": "code",
      "source": [
        "a=[10,20,30]\n",
        "print(id(a))\n",
        "a[0]=50\n",
        "print(id(a))\n",
        "# we get the same address \n",
        "# list is mutable in nature"
      ],
      "metadata": {
        "id": "RMRKBHzMx5im",
        "colab": {
          "base_uri": "https://localhost:8080/"
        },
        "outputId": "92b3438d-c8c1-4a95-9846-0cae9fc87387"
      },
      "execution_count": null,
      "outputs": [
        {
          "output_type": "stream",
          "name": "stdout",
          "text": [
            "140073027808832\n",
            "140073027808832\n"
          ]
        }
      ]
    },
    {
      "cell_type": "markdown",
      "source": [
        "---\n",
        "---"
      ],
      "metadata": {
        "id": "GHk9057farFt"
      }
    },
    {
      "cell_type": "markdown",
      "source": [
        "**DAY-6**"
      ],
      "metadata": {
        "id": "YKD5JuYSYBF8"
      }
    },
    {
      "cell_type": "markdown",
      "source": [
        "* tuple\n",
        "* difference b/w list & tuple\n",
        "* set\n",
        "* frozen set\n",
        "* dictionary"
      ],
      "metadata": {
        "id": "LoW1ZrBftwNM"
      }
    },
    {
      "cell_type": "markdown",
      "source": [
        "tuple: very similar to list. only difference is it is immutable\n",
        "* it is read only version of list----tuple. \n",
        "* represented in \"()\""
      ],
      "metadata": {
        "id": "7eKI6-xquMPf"
      }
    },
    {
      "cell_type": "code",
      "source": [
        "a=(10,20,30,40)\n",
        "print(type(a))\n",
        "print(a[0])\n",
        "print(a[-1])"
      ],
      "metadata": {
        "colab": {
          "base_uri": "https://localhost:8080/"
        },
        "id": "sGMtpQ62YT9n",
        "outputId": "4b193f86-19c7-4c49-b2bb-d42c38cf5aba"
      },
      "execution_count": null,
      "outputs": [
        {
          "output_type": "stream",
          "name": "stdout",
          "text": [
            "<class 'tuple'>\n",
            "10\n",
            "40\n"
          ]
        }
      ]
    },
    {
      "cell_type": "markdown",
      "source": [
        "* we can't change the tuple"
      ],
      "metadata": {
        "id": "Ogn3zs_3YelM"
      }
    },
    {
      "cell_type": "code",
      "source": [
        "a[1]=10       "
      ],
      "metadata": {
        "colab": {
          "base_uri": "https://localhost:8080/",
          "height": 171
        },
        "id": "b63PpHlGt0AO",
        "outputId": "33412786-b008-4118-c7de-add0db07d57b"
      },
      "execution_count": null,
      "outputs": [
        {
          "output_type": "error",
          "ename": "TypeError",
          "evalue": "ignored",
          "traceback": [
            "\u001b[0;31m---------------------------------------------------------------------------\u001b[0m",
            "\u001b[0;31mTypeError\u001b[0m                                 Traceback (most recent call last)",
            "\u001b[0;32m<ipython-input-15-d3bd78aa5107>\u001b[0m in \u001b[0;36m<cell line: 1>\u001b[0;34m()\u001b[0m\n\u001b[0;32m----> 1\u001b[0;31m \u001b[0ma\u001b[0m\u001b[0;34m[\u001b[0m\u001b[0;36m1\u001b[0m\u001b[0;34m]\u001b[0m\u001b[0;34m=\u001b[0m\u001b[0;36m10\u001b[0m      \u001b[0;31m# we can't change the tuple\u001b[0m\u001b[0;34m\u001b[0m\u001b[0;34m\u001b[0m\u001b[0m\n\u001b[0m",
            "\u001b[0;31mTypeError\u001b[0m: 'tuple' object does not support item assignment"
          ]
        }
      ]
    },
    {
      "cell_type": "markdown",
      "source": [
        "* can i use append() & remove() to tuple"
      ],
      "metadata": {
        "id": "o7SFbRkovMUW"
      }
    },
    {
      "cell_type": "code",
      "source": [
        "a.append(50)"
      ],
      "metadata": {
        "colab": {
          "base_uri": "https://localhost:8080/",
          "height": 171
        },
        "id": "Y_aq-4qHtz6G",
        "outputId": "24103b82-76dd-4ed6-9bcf-37a5b86fd515"
      },
      "execution_count": null,
      "outputs": [
        {
          "output_type": "error",
          "ename": "AttributeError",
          "evalue": "ignored",
          "traceback": [
            "\u001b[0;31m---------------------------------------------------------------------------\u001b[0m",
            "\u001b[0;31mAttributeError\u001b[0m                            Traceback (most recent call last)",
            "\u001b[0;32m<ipython-input-16-aee6b5b81fe5>\u001b[0m in \u001b[0;36m<cell line: 1>\u001b[0;34m()\u001b[0m\n\u001b[0;32m----> 1\u001b[0;31m \u001b[0ma\u001b[0m\u001b[0;34m.\u001b[0m\u001b[0mappend\u001b[0m\u001b[0;34m(\u001b[0m\u001b[0;36m50\u001b[0m\u001b[0;34m)\u001b[0m\u001b[0;34m\u001b[0m\u001b[0;34m\u001b[0m\u001b[0m\n\u001b[0m",
            "\u001b[0;31mAttributeError\u001b[0m: 'tuple' object has no attribute 'append'"
          ]
        }
      ]
    },
    {
      "cell_type": "code",
      "source": [
        "a.remove(50)"
      ],
      "metadata": {
        "colab": {
          "base_uri": "https://localhost:8080/",
          "height": 171
        },
        "id": "qx0-qK-otzth",
        "outputId": "76b9222c-799f-4c77-cb1e-085ed2df27c0"
      },
      "execution_count": null,
      "outputs": [
        {
          "output_type": "error",
          "ename": "AttributeError",
          "evalue": "ignored",
          "traceback": [
            "\u001b[0;31m---------------------------------------------------------------------------\u001b[0m",
            "\u001b[0;31mAttributeError\u001b[0m                            Traceback (most recent call last)",
            "\u001b[0;32m<ipython-input-17-2664ee598304>\u001b[0m in \u001b[0;36m<cell line: 1>\u001b[0;34m()\u001b[0m\n\u001b[0;32m----> 1\u001b[0;31m \u001b[0ma\u001b[0m\u001b[0;34m.\u001b[0m\u001b[0mremove\u001b[0m\u001b[0;34m(\u001b[0m\u001b[0;36m50\u001b[0m\u001b[0;34m)\u001b[0m\u001b[0;34m\u001b[0m\u001b[0;34m\u001b[0m\u001b[0m\n\u001b[0m",
            "\u001b[0;31mAttributeError\u001b[0m: 'tuple' object has no attribute 'remove'"
          ]
        }
      ]
    },
    {
      "cell_type": "markdown",
      "source": [
        "differences:\n",
        "* list is mutable ---- tuple is read only\n",
        "* performance is less in list --- performance is better in tuple\n",
        "* if the content in the application is changing, list is used --- if the content in the application is cannot be modified, tuple is used"
      ],
      "metadata": {
        "id": "qSOKhX0Rvwle"
      }
    },
    {
      "cell_type": "markdown",
      "source": [
        "set:\n",
        "* duplicates are allowed\n",
        "* order is not preserved, indexing is also not allowed.\n",
        "* heterogeneous elements are allowed.\n",
        "* represented in \"{ }\""
      ],
      "metadata": {
        "id": "dJET6rblwmwm"
      }
    },
    {
      "cell_type": "code",
      "source": [
        "a={10,20,30,40,50}\n",
        "print(type(a))\n",
        "print(a)"
      ],
      "metadata": {
        "colab": {
          "base_uri": "https://localhost:8080/"
        },
        "id": "R-4j0-uUtzn-",
        "outputId": "2a207364-7eb5-42f7-ec75-3b306242938c"
      },
      "execution_count": null,
      "outputs": [
        {
          "output_type": "stream",
          "name": "stdout",
          "text": [
            "<class 'set'>\n",
            "{40, 10, 50, 20, 30}\n"
          ]
        }
      ]
    },
    {
      "cell_type": "markdown",
      "source": [
        "NOTE: \n",
        "* duplicates are not considered."
      ],
      "metadata": {
        "id": "oXqkgH8UY75P"
      }
    },
    {
      "cell_type": "code",
      "source": [
        "b={10,10}\n",
        "b"
      ],
      "metadata": {
        "colab": {
          "base_uri": "https://localhost:8080/"
        },
        "id": "8JH9v7xltzhq",
        "outputId": "0f478a6e-92cb-4805-da16-fcd42254c068"
      },
      "execution_count": null,
      "outputs": [
        {
          "output_type": "execute_result",
          "data": {
            "text/plain": [
              "{10}"
            ]
          },
          "metadata": {},
          "execution_count": 10
        }
      ]
    },
    {
      "cell_type": "markdown",
      "source": [
        "* order is not important."
      ],
      "metadata": {
        "id": "Xa5fRoGEZCsh"
      }
    },
    {
      "cell_type": "code",
      "source": [
        "a={10,20,30,40,'sunil'}\n",
        "print(a)"
      ],
      "metadata": {
        "colab": {
          "base_uri": "https://localhost:8080/"
        },
        "id": "HOkYmnavtza2",
        "outputId": "2f751376-5b6b-4ad2-de36-a4d72c39dffe"
      },
      "execution_count": null,
      "outputs": [
        {
          "output_type": "stream",
          "name": "stdout",
          "text": [
            "{40, 10, 20, 'sunil', 30}\n"
          ]
        }
      ]
    },
    {
      "cell_type": "markdown",
      "source": [
        "* indexing is not applicable"
      ],
      "metadata": {
        "id": "P36s9A1-ZIWF"
      }
    },
    {
      "cell_type": "code",
      "source": [
        "a[0]"
      ],
      "metadata": {
        "colab": {
          "base_uri": "https://localhost:8080/",
          "height": 183
        },
        "id": "nINcTvRStzVT",
        "outputId": "7802adc6-c289-4e50-e90e-cc8b8450b00a"
      },
      "execution_count": null,
      "outputs": [
        {
          "output_type": "error",
          "ename": "TypeError",
          "evalue": "ignored",
          "traceback": [
            "\u001b[0;31m---------------------------------------------------------------------------\u001b[0m",
            "\u001b[0;31mTypeError\u001b[0m                                 Traceback (most recent call last)",
            "\u001b[0;32m<ipython-input-13-7da94b67bc10>\u001b[0m in \u001b[0;36m<module>\u001b[0;34m\u001b[0m\n\u001b[0;32m----> 1\u001b[0;31m \u001b[0ma\u001b[0m\u001b[0;34m[\u001b[0m\u001b[0;36m0\u001b[0m\u001b[0;34m]\u001b[0m\u001b[0;34m\u001b[0m\u001b[0;34m\u001b[0m\u001b[0m\n\u001b[0m\u001b[1;32m      2\u001b[0m \u001b[0;31m# indexing is not applicable\u001b[0m\u001b[0;34m\u001b[0m\u001b[0;34m\u001b[0m\u001b[0;34m\u001b[0m\u001b[0m\n",
            "\u001b[0;31mTypeError\u001b[0m: 'set' object is not subscriptable"
          ]
        }
      ]
    },
    {
      "cell_type": "markdown",
      "source": [
        "* adding elements to the set by using \"add()\" & remove()also works"
      ],
      "metadata": {
        "id": "Ip7QTT3gytgr"
      }
    },
    {
      "cell_type": "code",
      "source": [
        "a.add(50)\n",
        "print(a)\n",
        "a.remove(50) \n",
        "a # so set is mutable"
      ],
      "metadata": {
        "colab": {
          "base_uri": "https://localhost:8080/"
        },
        "id": "PL_8pWDEtzO4",
        "outputId": "3d14723f-d507-4c68-a18b-2784449ce099"
      },
      "execution_count": null,
      "outputs": [
        {
          "output_type": "stream",
          "name": "stdout",
          "text": [
            "{40, 10, 50, 20, 'sunil', 30}\n"
          ]
        },
        {
          "output_type": "execute_result",
          "data": {
            "text/plain": [
              "{10, 20, 30, 40, 'sunil'}"
            ]
          },
          "metadata": {},
          "execution_count": 16
        }
      ]
    },
    {
      "cell_type": "markdown",
      "source": [
        "append() VS add()\n"
      ],
      "metadata": {
        "id": "8QaPBTOdzlMU"
      }
    },
    {
      "cell_type": "code",
      "source": [
        "a=[10,20,30]\n",
        "\n",
        "a.append(40)\n",
        "print(a)"
      ],
      "metadata": {
        "colab": {
          "base_uri": "https://localhost:8080/"
        },
        "id": "vMCVaNKItzIC",
        "outputId": "f66f40c2-9582-4269-89a0-8a75f2b115ae"
      },
      "execution_count": null,
      "outputs": [
        {
          "output_type": "stream",
          "name": "stdout",
          "text": [
            "[10, 20, 30, 40]\n"
          ]
        }
      ]
    },
    {
      "cell_type": "markdown",
      "source": [
        "* append always add new elements in the end.\n",
        "* in set, as order is not applicable.\n",
        "* add() --- terminology is ideal\n",
        "* append: add elements at the end "
      ],
      "metadata": {
        "id": "H8yZt9Ykz1YS"
      }
    },
    {
      "cell_type": "markdown",
      "source": [
        "frozenset:\n",
        "* it is same as set.\n",
        "* it is immutable. this means that we can't make changes to frozenset.\n",
        "* how to create frozen set ?"
      ],
      "metadata": {
        "id": "zcuZK0ox0qcD"
      }
    },
    {
      "cell_type": "code",
      "source": [
        "a={10,20,30,40}\n",
        "b=frozenset(a)\n",
        "print(type(a))\n",
        "print(type(b))\n",
        "b"
      ],
      "metadata": {
        "colab": {
          "base_uri": "https://localhost:8080/"
        },
        "id": "Yc0qIbqLtzBk",
        "outputId": "65a9f525-c85e-42fa-f570-eba0af94334d"
      },
      "execution_count": null,
      "outputs": [
        {
          "output_type": "stream",
          "name": "stdout",
          "text": [
            "<class 'set'>\n",
            "<class 'frozenset'>\n"
          ]
        },
        {
          "output_type": "execute_result",
          "data": {
            "text/plain": [
              "frozenset({10, 20, 30, 40})"
            ]
          },
          "metadata": {},
          "execution_count": 7
        }
      ]
    },
    {
      "cell_type": "code",
      "source": [
        "b.add(23)"
      ],
      "metadata": {
        "colab": {
          "base_uri": "https://localhost:8080/",
          "height": 165
        },
        "id": "OEhOt7Fwty7g",
        "outputId": "c0d15a9e-2a11-44f1-b652-bb9ee74c47d4"
      },
      "execution_count": null,
      "outputs": [
        {
          "output_type": "error",
          "ename": "AttributeError",
          "evalue": "ignored",
          "traceback": [
            "\u001b[0;31m---------------------------------------------------------------------------\u001b[0m",
            "\u001b[0;31mAttributeError\u001b[0m                            Traceback (most recent call last)",
            "\u001b[0;32m<ipython-input-22-1ecd82f8128f>\u001b[0m in \u001b[0;36m<module>\u001b[0;34m\u001b[0m\n\u001b[0;32m----> 1\u001b[0;31m \u001b[0mb\u001b[0m\u001b[0;34m.\u001b[0m\u001b[0madd\u001b[0m\u001b[0;34m(\u001b[0m\u001b[0;36m23\u001b[0m\u001b[0;34m)\u001b[0m\u001b[0;34m\u001b[0m\u001b[0;34m\u001b[0m\u001b[0m\n\u001b[0m",
            "\u001b[0;31mAttributeError\u001b[0m: 'frozenset' object has no attribute 'add'"
          ]
        }
      ]
    },
    {
      "cell_type": "code",
      "source": [
        "b.remove(10)"
      ],
      "metadata": {
        "colab": {
          "base_uri": "https://localhost:8080/",
          "height": 165
        },
        "id": "WeA7AXlEty1G",
        "outputId": "40f46b74-3228-436a-da0c-78d691931825"
      },
      "execution_count": null,
      "outputs": [
        {
          "output_type": "error",
          "ename": "AttributeError",
          "evalue": "ignored",
          "traceback": [
            "\u001b[0;31m---------------------------------------------------------------------------\u001b[0m",
            "\u001b[0;31mAttributeError\u001b[0m                            Traceback (most recent call last)",
            "\u001b[0;32m<ipython-input-23-231a01a72912>\u001b[0m in \u001b[0;36m<module>\u001b[0;34m\u001b[0m\n\u001b[0;32m----> 1\u001b[0;31m \u001b[0mb\u001b[0m\u001b[0;34m.\u001b[0m\u001b[0mremove\u001b[0m\u001b[0;34m(\u001b[0m\u001b[0;36m10\u001b[0m\u001b[0;34m)\u001b[0m\u001b[0;34m\u001b[0m\u001b[0;34m\u001b[0m\u001b[0m\n\u001b[0m",
            "\u001b[0;31mAttributeError\u001b[0m: 'frozenset' object has no attribute 'remove'"
          ]
        }
      ]
    },
    {
      "cell_type": "markdown",
      "source": [
        "* add, remove con't be used with frozenset (immutable) "
      ],
      "metadata": {
        "id": "Vz2PPcXN16UV"
      }
    },
    {
      "cell_type": "markdown",
      "source": [
        "dict:\n",
        "* used to hold the values in the form of key value pair\n",
        "* lefthand side value of : is key\n",
        "* righthand side value of : is value\n"
      ],
      "metadata": {
        "id": "WfJxji5818VD"
      }
    },
    {
      "cell_type": "code",
      "source": [
        "a={100:'sunil',200:'ravi',300:'vijay'}\n",
        "print(a)\n",
        "print(type(a))"
      ],
      "metadata": {
        "colab": {
          "base_uri": "https://localhost:8080/"
        },
        "id": "KSk5RuTGtyvS",
        "outputId": "8c55583d-f56e-403f-daa7-533bd12eed81"
      },
      "execution_count": null,
      "outputs": [
        {
          "output_type": "stream",
          "name": "stdout",
          "text": [
            "{100: 'sunil', 200: 'ravi', 300: 'vijay'}\n",
            "<class 'dict'>\n"
          ]
        }
      ]
    },
    {
      "cell_type": "markdown",
      "source": [
        "* create a empty dict"
      ],
      "metadata": {
        "id": "RnbTFCNcjbkg"
      }
    },
    {
      "cell_type": "code",
      "source": [
        "a={}\n",
        "a "
      ],
      "metadata": {
        "colab": {
          "base_uri": "https://localhost:8080/"
        },
        "id": "vimKHzDCtypH",
        "outputId": "5cb1cb72-574d-45e4-84f9-60a574d1fb0c"
      },
      "execution_count": null,
      "outputs": [
        {
          "output_type": "execute_result",
          "data": {
            "text/plain": [
              "{}"
            ]
          },
          "metadata": {},
          "execution_count": 10
        }
      ]
    },
    {
      "cell_type": "code",
      "source": [
        "a[100]='sunil'\n",
        "print(a)\n",
        "print(type(a))"
      ],
      "metadata": {
        "colab": {
          "base_uri": "https://localhost:8080/"
        },
        "id": "6rCsFdJetyjT",
        "outputId": "7d8a8c3d-8d2b-47cc-aeab-ad776fbda84e"
      },
      "execution_count": null,
      "outputs": [
        {
          "output_type": "stream",
          "name": "stdout",
          "text": [
            "{100: 'sunil'}\n",
            "<class 'dict'>\n"
          ]
        }
      ]
    },
    {
      "cell_type": "markdown",
      "source": [
        "NOTE: order is not applicable\n",
        "* in dict there is no add/append , remove.\n",
        "* duplicate key are not allowed. duplicate values are allowed only."
      ],
      "metadata": {
        "id": "tupPzgpo3lO0"
      }
    },
    {
      "cell_type": "code",
      "source": [
        "a[200]='ravi'\n",
        "a"
      ],
      "metadata": {
        "colab": {
          "base_uri": "https://localhost:8080/"
        },
        "id": "d9yJV6fN5Fcl",
        "outputId": "c580d8d7-1d18-404c-e455-7c0f683f6c0b"
      },
      "execution_count": null,
      "outputs": [
        {
          "output_type": "execute_result",
          "data": {
            "text/plain": [
              "{100: 'sunil', 200: 'ravi'}"
            ]
          },
          "metadata": {},
          "execution_count": 12
        }
      ]
    },
    {
      "cell_type": "code",
      "source": [
        "a[100]='abc'\n",
        "a # old value is replaced with new value"
      ],
      "metadata": {
        "colab": {
          "base_uri": "https://localhost:8080/"
        },
        "id": "wLYaNu2Ntycc",
        "outputId": "874da1ac-47c8-464c-a555-f8c9d43da981"
      },
      "execution_count": null,
      "outputs": [
        {
          "output_type": "execute_result",
          "data": {
            "text/plain": [
              "{100: 'abc', 200: 'ravi'}"
            ]
          },
          "metadata": {},
          "execution_count": 13
        }
      ]
    },
    {
      "cell_type": "code",
      "source": [
        "a[300]:'ravi'\n",
        "print(a)"
      ],
      "metadata": {
        "colab": {
          "base_uri": "https://localhost:8080/"
        },
        "id": "2tgfxnU15Cw5",
        "outputId": "8b024877-e051-45db-a23c-55c7ddb010ee"
      },
      "execution_count": null,
      "outputs": [
        {
          "output_type": "stream",
          "name": "stdout",
          "text": [
            "{100: 'abc', 200: 'ravi'}\n"
          ]
        }
      ]
    },
    {
      "cell_type": "markdown",
      "source": [
        "important points about dict\n",
        "* used to represents key value pairs\n",
        "* order is not preserved\n",
        "* duplicate ket not allowed\n",
        "* duplicate values are allowed."
      ],
      "metadata": {
        "id": "VXs9vHxy4iaD"
      }
    },
    {
      "cell_type": "code",
      "source": [
        "b={100:'sunil',200:'ravi',300:'ravi'}\n",
        "b"
      ],
      "metadata": {
        "colab": {
          "base_uri": "https://localhost:8080/"
        },
        "id": "pIurxebvtyUS",
        "outputId": "eb8730b8-7566-4788-d5f5-14aebaea9d30"
      },
      "execution_count": null,
      "outputs": [
        {
          "output_type": "execute_result",
          "data": {
            "text/plain": [
              "{100: 'sunil', 200: 'ravi', 300: 'ravi'}"
            ]
          },
          "metadata": {},
          "execution_count": 16
        }
      ]
    },
    {
      "cell_type": "markdown",
      "source": [
        "---\n",
        "---"
      ],
      "metadata": {
        "id": "bX5jn-LIbhRz"
      }
    },
    {
      "cell_type": "markdown",
      "source": [
        "**Day-7**"
      ],
      "metadata": {
        "id": "vZqjA1tMbhJ9"
      }
    },
    {
      "cell_type": "markdown",
      "source": [
        "* range data type\n",
        "* different ways to create range object\n",
        "* None data type    \n",
        "* Escape characters"
      ],
      "metadata": {
        "id": "GjgGfxKP1gCn"
      }
    },
    {
      "cell_type": "markdown",
      "source": [
        "range: used to represent sequence of numbers"
      ],
      "metadata": {
        "id": "k1duMivO2I5y"
      }
    },
    {
      "cell_type": "code",
      "source": [
        "a=range(10)\n",
        "print(a)\n",
        "print(type(a))\n",
        "# to get the values in the range, we should use loops\n",
        "for x in a:\n",
        "  print(x) "
      ],
      "metadata": {
        "id": "MdPEd6EttyOY",
        "colab": {
          "base_uri": "https://localhost:8080/"
        },
        "outputId": "05f349cb-71ba-42c3-8766-79670700f59a"
      },
      "execution_count": null,
      "outputs": [
        {
          "output_type": "stream",
          "name": "stdout",
          "text": [
            "range(0, 10)\n",
            "<class 'range'>\n",
            "0\n",
            "1\n",
            "2\n",
            "3\n",
            "4\n",
            "5\n",
            "6\n",
            "7\n",
            "8\n",
            "9\n"
          ]
        }
      ]
    },
    {
      "cell_type": "markdown",
      "source": [
        "how many ways we can create a range object.\n",
        "* 1. range(n) --- (0 to n-1)as we used above\n",
        "* 2. range(begin, end) --- we get from begin to end-1."
      ],
      "metadata": {
        "id": "y8Xuemb-2xq5"
      }
    },
    {
      "cell_type": "code",
      "source": [
        "a=range(50,60)\n",
        "a  # (50 to 59)\n",
        "for x in a:\n",
        "  print(x)"
      ],
      "metadata": {
        "id": "nil9z9qftxVi",
        "colab": {
          "base_uri": "https://localhost:8080/"
        },
        "outputId": "063b5a4c-d8c9-4ddf-af27-05c3668135e5"
      },
      "execution_count": null,
      "outputs": [
        {
          "output_type": "stream",
          "name": "stdout",
          "text": [
            "50\n",
            "51\n",
            "52\n",
            "53\n",
            "54\n",
            "55\n",
            "56\n",
            "57\n",
            "58\n",
            "59\n"
          ]
        }
      ]
    },
    {
      "cell_type": "markdown",
      "source": [
        "* 3) range(begin, end, increment)"
      ],
      "metadata": {
        "id": "2_9MPXKL3y24"
      }
    },
    {
      "cell_type": "code",
      "source": [
        "a=range(1,21,2) # ( 1 to 20 with an increment of 2)\n",
        "for x in a:\n",
        "  print(x)"
      ],
      "metadata": {
        "id": "JpAzlBohx5dX",
        "colab": {
          "base_uri": "https://localhost:8080/"
        },
        "outputId": "927f5641-efc8-4566-e496-5bc1b0a4deab"
      },
      "execution_count": null,
      "outputs": [
        {
          "output_type": "stream",
          "name": "stdout",
          "text": [
            "1\n",
            "3\n",
            "5\n",
            "7\n",
            "9\n",
            "11\n",
            "13\n",
            "15\n",
            "17\n",
            "19\n"
          ]
        }
      ]
    },
    {
      "cell_type": "markdown",
      "source": [
        "* can we have decrement values"
      ],
      "metadata": {
        "id": "iO3Fu1hr4OvT"
      }
    },
    {
      "cell_type": "code",
      "source": [
        "a=range(20,1,-2)\n",
        "for x in a:\n",
        "  print(x)"
      ],
      "metadata": {
        "id": "YXJ-coAjx5WG",
        "colab": {
          "base_uri": "https://localhost:8080/"
        },
        "outputId": "360e218c-9e7d-4f39-b621-9aa649c64f74"
      },
      "execution_count": null,
      "outputs": [
        {
          "output_type": "stream",
          "name": "stdout",
          "text": [
            "20\n",
            "18\n",
            "16\n",
            "14\n",
            "12\n",
            "10\n",
            "8\n",
            "6\n",
            "4\n",
            "2\n"
          ]
        }
      ]
    },
    {
      "cell_type": "markdown",
      "source": [
        "NOTE:\n",
        "* order is preserved, so index is allowed"
      ],
      "metadata": {
        "id": "T6uzZAgL4kQY"
      }
    },
    {
      "cell_type": "code",
      "source": [
        "a=range(10,21)\n",
        "print(a[0])\n",
        "print(a[1])\n",
        "print(a[-1])"
      ],
      "metadata": {
        "id": "rabWilYBx5Pm",
        "colab": {
          "base_uri": "https://localhost:8080/"
        },
        "outputId": "f9ae1696-8ce0-47be-dbdd-6a451dc5e323"
      },
      "execution_count": null,
      "outputs": [
        {
          "output_type": "stream",
          "name": "stdout",
          "text": [
            "10\n",
            "11\n",
            "20\n"
          ]
        }
      ]
    },
    {
      "cell_type": "code",
      "source": [
        "a[1]=75"
      ],
      "metadata": {
        "id": "10UdNI47x5Gg",
        "colab": {
          "base_uri": "https://localhost:8080/",
          "height": 165
        },
        "outputId": "2e25a420-79d7-4d6e-db3d-1bbd6c58b455"
      },
      "execution_count": null,
      "outputs": [
        {
          "output_type": "error",
          "ename": "TypeError",
          "evalue": "ignored",
          "traceback": [
            "\u001b[0;31m---------------------------------------------------------------------------\u001b[0m",
            "\u001b[0;31mTypeError\u001b[0m                                 Traceback (most recent call last)",
            "\u001b[0;32m<ipython-input-11-9bc5d1bbfb11>\u001b[0m in \u001b[0;36m<module>\u001b[0;34m\u001b[0m\n\u001b[0;32m----> 1\u001b[0;31m \u001b[0ma\u001b[0m\u001b[0;34m[\u001b[0m\u001b[0;36m1\u001b[0m\u001b[0;34m]\u001b[0m\u001b[0;34m=\u001b[0m\u001b[0;36m75\u001b[0m\u001b[0;34m\u001b[0m\u001b[0;34m\u001b[0m\u001b[0m\n\u001b[0m",
            "\u001b[0;31mTypeError\u001b[0m: 'range' object does not support item assignment"
          ]
        }
      ]
    },
    {
      "cell_type": "markdown",
      "source": [
        "NOTE:\n",
        "* range object is immutable"
      ],
      "metadata": {
        "id": "GFYB510F4_8V"
      }
    },
    {
      "cell_type": "markdown",
      "source": [
        "None data type:\n",
        "*  None means? --- no value \n",
        "* in application, we have to handle no value/ nil values, in such cases we use None data type."
      ],
      "metadata": {
        "id": "IadkRdf8EfiG"
      }
    },
    {
      "cell_type": "code",
      "execution_count": null,
      "metadata": {
        "colab": {
          "base_uri": "https://localhost:8080/"
        },
        "id": "w5TjQP5zD6Y-",
        "outputId": "26bd61b0-2872-49c3-837b-b23e5f6cd30e"
      },
      "outputs": [
        {
          "output_type": "stream",
          "name": "stdout",
          "text": [
            "9793376\n",
            "<class 'int'>\n",
            "9488912\n",
            "<class 'NoneType'>\n",
            "None\n"
          ]
        }
      ],
      "source": [
        "a=10\n",
        "print(id(a))\n",
        "print( type(a))\n",
        "a=None\n",
        "print(id(a))\n",
        "print( type(a))\n",
        "print(a)"
      ]
    },
    {
      "cell_type": "markdown",
      "source": [
        "NOTE: \n",
        "* to make an object eligible for garbage collection, we use None."
      ],
      "metadata": {
        "id": "hhK6SDl35yOE"
      }
    },
    {
      "cell_type": "code",
      "source": [
        "a=10\n",
        "b=None\n",
        "print( type(a))\n",
        "print( type(b))\n",
        "print(a)\n",
        "print(b)"
      ],
      "metadata": {
        "colab": {
          "base_uri": "https://localhost:8080/"
        },
        "id": "gdOXjFFLE-X9",
        "outputId": "7b68bbf2-735a-4bb3-e4ad-85e3bbb8908e"
      },
      "execution_count": null,
      "outputs": [
        {
          "output_type": "stream",
          "name": "stdout",
          "text": [
            "<class 'int'>\n",
            "<class 'NoneType'>\n",
            "10\n",
            "None\n"
          ]
        }
      ]
    },
    {
      "cell_type": "markdown",
      "source": [
        "NOTE: \n",
        "* None is also  an object "
      ],
      "metadata": {
        "id": "Z1s0uP5mFd_6"
      }
    },
    {
      "cell_type": "code",
      "source": [
        "a=10\n",
        "b=20\n",
        "c=19"
      ],
      "metadata": {
        "id": "PseD1rr7FmBy"
      },
      "execution_count": null,
      "outputs": []
    },
    {
      "cell_type": "code",
      "source": [
        "a=None\n",
        "b=None\n",
        "c=None\n",
        "print(id(a),id(b),id(c)) # by this eg None is created only once"
      ],
      "metadata": {
        "colab": {
          "base_uri": "https://localhost:8080/"
        },
        "id": "uBlOFS0zGlM3",
        "outputId": "f4e3dd42-38c6-44a9-b00f-3d4f3ff4ddf1"
      },
      "execution_count": null,
      "outputs": [
        {
          "output_type": "stream",
          "name": "stdout",
          "text": [
            "11124224 11124224 11124224\n"
          ]
        }
      ]
    },
    {
      "cell_type": "markdown",
      "source": [
        "NOTE:\n",
        "* we can create only one(1) None object"
      ],
      "metadata": {
        "id": "ei-X6xTg7eIx"
      }
    },
    {
      "cell_type": "markdown",
      "source": [
        "Escape characters:\n",
        "* these characters will have special functionality"
      ],
      "metadata": {
        "id": "cTbuPSBt79Ji"
      }
    },
    {
      "cell_type": "code",
      "source": [
        "print('logiclabs')\n",
        "print('logic\\tlabs') # for tab we use \"\\t\"\n",
        "print('logic\\nlabs') # for printing in another line \n",
        "print('logic\\blabs')  \n",
        "print('sunil1234567\\rlogiclabs')\n",
        "print('logic\\'labs')  \n",
        "print('logic\\\"labs')"
      ],
      "metadata": {
        "colab": {
          "base_uri": "https://localhost:8080/"
        },
        "id": "DuUnwuC-Hwpg",
        "outputId": "7e196534-1f52-4fc2-96d1-2a3669aaa42e"
      },
      "execution_count": null,
      "outputs": [
        {
          "output_type": "stream",
          "name": "stdout",
          "text": [
            "logiclabs\n",
            "logic\tlabs\n",
            "logic\n",
            "labs\n",
            "logic\blabs\n",
            "sunil1234567\rlogiclabs\n",
            "logic'labs\n",
            "logic\"labs\n"
          ]
        }
      ]
    },
    {
      "cell_type": "code",
      "source": [
        "print('sunil1234567\\logiclabs')\n",
        " # override"
      ],
      "metadata": {
        "colab": {
          "base_uri": "https://localhost:8080/"
        },
        "id": "zRK71xGw1pfX",
        "outputId": "0cf3fd2b-7863-4490-ee4c-ec16143aac24"
      },
      "execution_count": null,
      "outputs": [
        {
          "output_type": "stream",
          "name": "stdout",
          "text": [
            "sunil1234567\\ologiclabs\n"
          ]
        }
      ]
    },
    {
      "cell_type": "markdown",
      "source": [
        "---\n",
        "---"
      ],
      "metadata": {
        "id": "aqwM87AJczsZ"
      }
    },
    {
      "cell_type": "markdown",
      "source": [
        "**Day-8**"
      ],
      "metadata": {
        "id": "Hhc2IUuicr5M"
      }
    },
    {
      "cell_type": "markdown",
      "source": [
        "* Arithematic operations\n",
        "* power operator\n",
        "* \"+\" operator with strings\n",
        "* operator with strings\n",
        "* zero division error \n",
        "* relational operators\n",
        "* equality operator"
      ],
      "metadata": {
        "id": "aThyo92qRZv9"
      }
    },
    {
      "cell_type": "markdown",
      "source": [
        "Arthematic operators:\n",
        "* \"+\", \"-\", \"*\", \"/\", \"%\", (modulus)\n",
        "* \"/\" ---division operator\n",
        "* \"//\" --- floor division operator\n",
        "* \"*\" --- multiplication operator\n",
        "* \"**\" --- exponential operator/ power operator\n"
      ],
      "metadata": {
        "id": "WYXCnRmu__OG"
      }
    },
    {
      "cell_type": "code",
      "source": [
        "a=10\n",
        "b=2\n",
        "print(a+b)\n",
        "print(a-b)\n",
        "print(a*b)\n",
        "print(a%b) #--- it gives reminder (modulus)\n",
        "print(a/b) # in python , division operator returns quotient(floating number)\n",
        "print(a//b) "
      ],
      "metadata": {
        "colab": {
          "base_uri": "https://localhost:8080/"
        },
        "id": "qwQw7sqqQ29T",
        "outputId": "2f3df574-13e1-41f3-cf20-17a34daf16e9"
      },
      "execution_count": null,
      "outputs": [
        {
          "output_type": "stream",
          "name": "stdout",
          "text": [
            "12\n",
            "8\n",
            "20\n",
            "0\n",
            "5.0\n",
            "5\n"
          ]
        }
      ]
    },
    {
      "cell_type": "markdown",
      "source": [
        "NOTE: in python, division operator returns float point value."
      ],
      "metadata": {
        "id": "cUyaNIMIN309"
      }
    },
    {
      "cell_type": "markdown",
      "source": [
        "* \"//\" -- floor division operator (it will give without decimals) \n"
      ],
      "metadata": {
        "id": "RihUYb9DONNu"
      }
    },
    {
      "cell_type": "code",
      "source": [
        "print(10/3)\n",
        "print(10//3)  # numerator or denominator are int \n",
        "print(10.0//3) # returns float values\n",
        "print(20.5/2)\n",
        "print(20.5//2)"
      ],
      "metadata": {
        "colab": {
          "base_uri": "https://localhost:8080/"
        },
        "id": "X0_wJU9qQ3Vk",
        "outputId": "6a5c3237-a1b6-46da-b377-d19c127eaf49"
      },
      "execution_count": null,
      "outputs": [
        {
          "output_type": "stream",
          "name": "stdout",
          "text": [
            "3.3333333333333335\n",
            "3\n",
            "3.0\n",
            "1000\n",
            "10.25\n",
            "10.0\n"
          ]
        }
      ]
    },
    {
      "cell_type": "markdown",
      "source": [
        "* power (**) operator: "
      ],
      "metadata": {
        "id": "GnwzHwA3Oec4"
      }
    },
    {
      "cell_type": "code",
      "source": [
        "print(10**2)  # 10 to the power of 2\n",
        "print(3**4) "
      ],
      "metadata": {
        "colab": {
          "base_uri": "https://localhost:8080/"
        },
        "id": "DMFKP0r8Q6Pb",
        "outputId": "b316b329-1a08-4aee-9058-2f9a325827f9"
      },
      "execution_count": null,
      "outputs": [
        {
          "output_type": "stream",
          "name": "stdout",
          "text": [
            "100\n",
            "81\n"
          ]
        }
      ]
    },
    {
      "cell_type": "markdown",
      "source": [
        "* \"+\" operator for strings (concatination)"
      ],
      "metadata": {
        "id": "reQYZgXUO0vC"
      }
    },
    {
      "cell_type": "code",
      "source": [
        "print('anil'+'kumar')"
      ],
      "metadata": {
        "colab": {
          "base_uri": "https://localhost:8080/"
        },
        "id": "fxobfnlSPD0J",
        "outputId": "1a87d36e-d308-450a-9dc0-42bbd00a6f98"
      },
      "execution_count": null,
      "outputs": [
        {
          "output_type": "stream",
          "name": "stdout",
          "text": [
            "anilkumar\n"
          ]
        }
      ]
    },
    {
      "cell_type": "code",
      "source": [
        "print('ravi' +5)"
      ],
      "metadata": {
        "colab": {
          "base_uri": "https://localhost:8080/",
          "height": 165
        },
        "id": "22yeEJXLQ6lA",
        "outputId": "59749331-96d7-4a02-9854-52066395dcc3"
      },
      "execution_count": null,
      "outputs": [
        {
          "output_type": "error",
          "ename": "TypeError",
          "evalue": "ignored",
          "traceback": [
            "\u001b[0;31m---------------------------------------------------------------------------\u001b[0m",
            "\u001b[0;31mTypeError\u001b[0m                                 Traceback (most recent call last)",
            "\u001b[0;32m<ipython-input-10-bfe7519e5990>\u001b[0m in \u001b[0;36m<module>\u001b[0;34m\u001b[0m\n\u001b[0;32m----> 1\u001b[0;31m \u001b[0mprint\u001b[0m\u001b[0;34m(\u001b[0m\u001b[0;34m'ravi'\u001b[0m \u001b[0;34m+\u001b[0m\u001b[0;36m5\u001b[0m\u001b[0;34m)\u001b[0m\u001b[0;34m\u001b[0m\u001b[0;34m\u001b[0m\u001b[0m\n\u001b[0m",
            "\u001b[0;31mTypeError\u001b[0m: can only concatenate str (not \"int\") to str"
          ]
        }
      ]
    },
    {
      "cell_type": "markdown",
      "source": [
        "NOTE:\n",
        "* cannot concatinate string to number"
      ],
      "metadata": {
        "id": "oyl-0LPwPLcj"
      }
    },
    {
      "cell_type": "markdown",
      "source": [
        "* same data types for doing operations "
      ],
      "metadata": {
        "id": "r4MC-EBOmqTV"
      }
    },
    {
      "cell_type": "code",
      "source": [
        "print('ravi' +'5')  # both are string data type "
      ],
      "metadata": {
        "colab": {
          "base_uri": "https://localhost:8080/"
        },
        "id": "pQsl-A2eQ63U",
        "outputId": "2acb75ac-9261-40e9-f85d-97312c4c976b"
      },
      "execution_count": null,
      "outputs": [
        {
          "output_type": "stream",
          "name": "stdout",
          "text": [
            "ravi5\n"
          ]
        }
      ]
    },
    {
      "cell_type": "markdown",
      "source": [
        "* \"*\" operator with strings"
      ],
      "metadata": {
        "id": "K-hLDI4rPlM-"
      }
    },
    {
      "cell_type": "code",
      "source": [
        "print('ravi'*3)"
      ],
      "metadata": {
        "colab": {
          "base_uri": "https://localhost:8080/"
        },
        "id": "F49TLd-qPycW",
        "outputId": "98e6a1ff-b950-48bf-f7d6-8093c75c34a6"
      },
      "execution_count": null,
      "outputs": [
        {
          "output_type": "stream",
          "name": "stdout",
          "text": [
            "raviraviravi\n"
          ]
        }
      ]
    },
    {
      "cell_type": "code",
      "source": [
        "print('ravi'*'anil')"
      ],
      "metadata": {
        "colab": {
          "base_uri": "https://localhost:8080/",
          "height": 165
        },
        "id": "TL-fPt-uP3CD",
        "outputId": "8b7aa6c5-9874-4f0f-f1fb-db59b690e18c"
      },
      "execution_count": null,
      "outputs": [
        {
          "output_type": "error",
          "ename": "TypeError",
          "evalue": "ignored",
          "traceback": [
            "\u001b[0;31m---------------------------------------------------------------------------\u001b[0m",
            "\u001b[0;31mTypeError\u001b[0m                                 Traceback (most recent call last)",
            "\u001b[0;32m<ipython-input-4-188da42e99d5>\u001b[0m in \u001b[0;36m<module>\u001b[0;34m\u001b[0m\n\u001b[0;32m----> 1\u001b[0;31m \u001b[0mprint\u001b[0m\u001b[0;34m(\u001b[0m\u001b[0;34m'ravi'\u001b[0m\u001b[0;34m*\u001b[0m\u001b[0;34m'anil'\u001b[0m\u001b[0;34m)\u001b[0m\u001b[0;34m\u001b[0m\u001b[0;34m\u001b[0m\u001b[0m\n\u001b[0m",
            "\u001b[0;31mTypeError\u001b[0m: can't multiply sequence by non-int of type 'str'"
          ]
        }
      ]
    },
    {
      "cell_type": "markdown",
      "source": [
        "NOTE:\n",
        "* for multiplication one argument should be int"
      ],
      "metadata": {
        "id": "JnkllFDwQY3P"
      }
    },
    {
      "cell_type": "markdown",
      "source": [
        "zero divison error:\n",
        "* when we try to devide by zero, we get zero devision error "
      ],
      "metadata": {
        "id": "PknbAC_QQSB1"
      }
    },
    {
      "cell_type": "code",
      "source": [
        "print(10/0)"
      ],
      "metadata": {
        "colab": {
          "base_uri": "https://localhost:8080/",
          "height": 183
        },
        "id": "q66hVOY4Q7Hu",
        "outputId": "e1b1f436-5300-4dea-b7e3-ec72adaa8818"
      },
      "execution_count": null,
      "outputs": [
        {
          "output_type": "error",
          "ename": "ZeroDivisionError",
          "evalue": "ignored",
          "traceback": [
            "\u001b[0;31m---------------------------------------------------------------------------\u001b[0m",
            "\u001b[0;31mZeroDivisionError\u001b[0m                         Traceback (most recent call last)",
            "\u001b[0;32m<ipython-input-14-959553e06b6e>\u001b[0m in \u001b[0;36m<module>\u001b[0;34m\u001b[0m\n\u001b[1;32m      1\u001b[0m \u001b[0;31m# using * operator one should be int\u001b[0m\u001b[0;34m\u001b[0m\u001b[0;34m\u001b[0m\u001b[0;34m\u001b[0m\u001b[0m\n\u001b[0;32m----> 2\u001b[0;31m \u001b[0mprint\u001b[0m\u001b[0;34m(\u001b[0m\u001b[0;36m10\u001b[0m\u001b[0;34m/\u001b[0m\u001b[0;36m0\u001b[0m\u001b[0;34m)\u001b[0m\u001b[0;34m\u001b[0m\u001b[0;34m\u001b[0m\u001b[0m\n\u001b[0m",
            "\u001b[0;31mZeroDivisionError\u001b[0m: division by zero"
          ]
        }
      ]
    },
    {
      "cell_type": "code",
      "source": [
        "print('ravi' * True) \n",
        "print('ravi' * False) # nothing getting "
      ],
      "metadata": {
        "colab": {
          "base_uri": "https://localhost:8080/"
        },
        "id": "ttpaA11hQ7cF",
        "outputId": "d8ba1083-3335-4567-fce9-9b06ad12fa1f"
      },
      "execution_count": null,
      "outputs": [
        {
          "output_type": "stream",
          "name": "stdout",
          "text": [
            "ravi\n",
            "\n"
          ]
        }
      ]
    },
    {
      "cell_type": "markdown",
      "source": [
        "NOTE: \n",
        "* True is represented by 1\n",
        "* False is represented by 0"
      ],
      "metadata": {
        "id": "vAfKdmVDRkxG"
      }
    },
    {
      "cell_type": "markdown",
      "source": [
        "relational operator:\n",
        "* \">\", \">=\", \"<\", \"<=\" \n",
        "* always gives boolean values"
      ],
      "metadata": {
        "id": "lTWsQD6rR1dp"
      }
    },
    {
      "cell_type": "code",
      "source": [
        "a=10\n",
        "b=20\n",
        "print(a<b)\n",
        "print(a>b)\n",
        "print(a<=b)\n",
        "print(a>=b)"
      ],
      "metadata": {
        "colab": {
          "base_uri": "https://localhost:8080/"
        },
        "id": "J27kn44NRAEd",
        "outputId": "a61d290e-e2f8-4730-c115-4611e911a43e"
      },
      "execution_count": null,
      "outputs": [
        {
          "output_type": "stream",
          "name": "stdout",
          "text": [
            "True\n",
            "False\n",
            "True\n",
            "False\n"
          ]
        }
      ]
    },
    {
      "cell_type": "markdown",
      "source": [
        "* ord() -- returns unicode value"
      ],
      "metadata": {
        "id": "2N2ibX9bScUY"
      }
    },
    {
      "cell_type": "code",
      "source": [
        "# ascii value\n",
        "print(ord('a'))\n",
        "print(ord('A'))\n",
        "print(ord('b'))\n",
        "print(ord('B'))"
      ],
      "metadata": {
        "colab": {
          "base_uri": "https://localhost:8080/"
        },
        "id": "qblxNQ6gRAUw",
        "outputId": "0cf13071-9e0e-4539-c26e-c96d66a486aa"
      },
      "execution_count": null,
      "outputs": [
        {
          "output_type": "stream",
          "name": "stdout",
          "text": [
            "97\n",
            "65\n",
            "98\n",
            "66\n"
          ]
        }
      ]
    },
    {
      "cell_type": "markdown",
      "source": [
        "* char value -- returns the character of the unicode values\n"
      ],
      "metadata": {
        "id": "oVKKT3qISpP0"
      }
    },
    {
      "cell_type": "code",
      "source": [
        "print(chr(97))\n",
        "print(chr(65))\n",
        "print(chr(98))\n",
        "print(chr(66))"
      ],
      "metadata": {
        "colab": {
          "base_uri": "https://localhost:8080/"
        },
        "id": "D910L131SoP3",
        "outputId": "0f9ab4ec-cfc3-423d-88fc-2b67e985bb52"
      },
      "execution_count": null,
      "outputs": [
        {
          "output_type": "stream",
          "name": "stdout",
          "text": [
            "a\n",
            "A\n",
            "b\n",
            "B\n"
          ]
        }
      ]
    },
    {
      "cell_type": "markdown",
      "source": [
        "* multiple comparision operator"
      ],
      "metadata": {
        "id": "ZgTJQ2AYTjyh"
      }
    },
    {
      "cell_type": "code",
      "source": [
        "print(10<20<30) # (T<T)\n",
        "print(10<20<30<40)\n",
        "print(10<20<30<40>50)\n",
        "print(10>20<30<40>50)"
      ],
      "metadata": {
        "colab": {
          "base_uri": "https://localhost:8080/"
        },
        "id": "9L49i-K1RAl9",
        "outputId": "f20c90bd-13fb-4925-8d20-5eb16d9a9690"
      },
      "execution_count": null,
      "outputs": [
        {
          "output_type": "stream",
          "name": "stdout",
          "text": [
            "True\n",
            "True\n",
            "False\n",
            "False\n"
          ]
        }
      ]
    },
    {
      "cell_type": "markdown",
      "source": [
        "* equality operator"
      ],
      "metadata": {
        "id": "-5hzsKRYTrPY"
      }
    },
    {
      "cell_type": "code",
      "source": [
        "print(10==20) # comparision operator\n",
        "print(10!=20) # not equal operator\n",
        "print('ravi'=='ravi')"
      ],
      "metadata": {
        "colab": {
          "base_uri": "https://localhost:8080/"
        },
        "id": "B1ZXQS9hRA2U",
        "outputId": "9e59664e-a973-4212-c15d-3c5e461ede38"
      },
      "execution_count": null,
      "outputs": [
        {
          "output_type": "stream",
          "name": "stdout",
          "text": [
            "False\n",
            "True\n",
            "True\n"
          ]
        }
      ]
    },
    {
      "cell_type": "markdown",
      "source": [
        "* \"is\" opearator"
      ],
      "metadata": {
        "id": "TDzeHLI1T5nA"
      }
    },
    {
      "cell_type": "code",
      "source": [
        "a=10\n",
        "b=10\n",
        "print(a is b)\n",
        "print(b is a)"
      ],
      "metadata": {
        "colab": {
          "base_uri": "https://localhost:8080/"
        },
        "id": "ujgBxHC0RBTn",
        "outputId": "df64a48c-4850-4c08-ca08-403c7bfe198f"
      },
      "execution_count": null,
      "outputs": [
        {
          "output_type": "stream",
          "name": "stdout",
          "text": [
            "True\n",
            "True\n"
          ]
        }
      ]
    },
    {
      "cell_type": "markdown",
      "source": [
        "* when \"is\" operator returns True?\n",
        "* when a, b are points to the same object"
      ],
      "metadata": {
        "id": "xPaA21KkUQqz"
      }
    },
    {
      "cell_type": "code",
      "source": [
        "print(id(a))\n",
        "print(id(b)) # we getting same address "
      ],
      "metadata": {
        "colab": {
          "base_uri": "https://localhost:8080/"
        },
        "id": "8KcXGwudUJzu",
        "outputId": "b7c728af-3634-4b73-92e3-2a6275486b9a"
      },
      "execution_count": null,
      "outputs": [
        {
          "output_type": "stream",
          "name": "stdout",
          "text": [
            "9793376\n",
            "9793376\n"
          ]
        }
      ]
    },
    {
      "cell_type": "markdown",
      "source": [
        "* \"is\" opearator performs address  comparition\n",
        "* what is the difference b/w is & == operator"
      ],
      "metadata": {
        "id": "VZZBfIkMUzsj"
      }
    },
    {
      "cell_type": "code",
      "source": [
        "a=[10,20,30]\n",
        "b=[10,20,30]\n",
        "print(id(a))\n",
        "print(id(b))\n",
        "print(a is b)  # here addresses are different so 2 are different"
      ],
      "metadata": {
        "colab": {
          "base_uri": "https://localhost:8080/"
        },
        "id": "zijp5cBiRBe8",
        "outputId": "fc8e56a8-4ec1-42f9-cb73-47ba10314751"
      },
      "execution_count": null,
      "outputs": [
        {
          "output_type": "stream",
          "name": "stdout",
          "text": [
            "139866350147520\n",
            "139866349831232\n",
            "False\n"
          ]
        }
      ]
    },
    {
      "cell_type": "markdown",
      "source": [
        "* as address is diffenent , it returns false."
      ],
      "metadata": {
        "id": "pPJ889GZV3FT"
      }
    },
    {
      "cell_type": "code",
      "source": [
        "print(a==b)"
      ],
      "metadata": {
        "colab": {
          "base_uri": "https://localhost:8080/"
        },
        "id": "7Nw96xJhVaHj",
        "outputId": "0ae0a7da-cbf7-4088-d2a8-d739286a2b0c"
      },
      "execution_count": null,
      "outputs": [
        {
          "output_type": "stream",
          "name": "stdout",
          "text": [
            "True\n"
          ]
        }
      ]
    },
    {
      "cell_type": "markdown",
      "source": [
        "NOTE:\n",
        "* \"==\" operator is used for value comparition"
      ],
      "metadata": {
        "id": "TH7RzFhgVdnj"
      }
    },
    {
      "cell_type": "markdown",
      "source": [
        "* the way fundamental data types & collection data types are different.\n",
        "* \"is\" operator is differ with respect to data types. it perform different."
      ],
      "metadata": {
        "id": "kn7hM-ksgd_i"
      }
    },
    {
      "cell_type": "markdown",
      "source": [
        "---\n",
        "---"
      ],
      "metadata": {
        "id": "6KZsYV8Dn1rI"
      }
    },
    {
      "cell_type": "markdown",
      "source": [
        "**Day-9**"
      ],
      "metadata": {
        "id": "XBhkPrTSn1ja"
      }
    },
    {
      "cell_type": "markdown",
      "source": [
        "* Logical opearators:\n",
        "* * 1.AND\n",
        "* * 2.OR\n",
        "* * 3.NOT\n",
        "* behavior of logical opearators on boolean data type\n",
        "* behavior of logical opearators on non boolean data type"
      ],
      "metadata": {
        "id": "jVQUi79HaEQE"
      }
    },
    {
      "cell_type": "markdown",
      "source": [
        "logical operators: we have 3 logical operators\n",
        "* 1)AND\n",
        "* 2)OR\n",
        "* 3)NOT"
      ],
      "metadata": {
        "id": "1fSIQPQGoWxN"
      }
    },
    {
      "cell_type": "markdown",
      "source": [
        "behavior of logic operators on boolean data types:\n",
        " * 1) AND"
      ],
      "metadata": {
        "id": "y2epTO1Oow8I"
      }
    },
    {
      "cell_type": "code",
      "source": [
        "print(True and True)\n",
        "print(False and True)\n",
        "print(True and False)\n",
        "print(False and False)"
      ],
      "metadata": {
        "id": "C4afd19IRBsa",
        "colab": {
          "base_uri": "https://localhost:8080/"
        },
        "outputId": "4ba6fd5b-d46d-4b78-9bb2-04f117309062"
      },
      "execution_count": null,
      "outputs": [
        {
          "output_type": "stream",
          "name": "stdout",
          "text": [
            "True\n",
            "False\n",
            "False\n",
            "False\n"
          ]
        }
      ]
    },
    {
      "cell_type": "markdown",
      "source": [
        "* only \"True AND True\" always gives True"
      ],
      "metadata": {
        "id": "_bif5DNeoOkY"
      }
    },
    {
      "cell_type": "markdown",
      "source": [
        "* 2) OR"
      ],
      "metadata": {
        "id": "AZ8M2cnTpAgq"
      }
    },
    {
      "cell_type": "code",
      "source": [
        "print(True or True)\n",
        "print(False or True)\n",
        "print(True or False)\n",
        "print(False or False)"
      ],
      "metadata": {
        "id": "DZEMWCH4ROa_",
        "colab": {
          "base_uri": "https://localhost:8080/"
        },
        "outputId": "c3432ea2-f50a-4fb0-bbf9-8e4fb7d38609"
      },
      "execution_count": null,
      "outputs": [
        {
          "output_type": "stream",
          "name": "stdout",
          "text": [
            "True\n",
            "True\n",
            "True\n",
            "False\n"
          ]
        }
      ]
    },
    {
      "cell_type": "markdown",
      "source": [
        "* only \"False OR False\" always gives False"
      ],
      "metadata": {
        "id": "2jpFPtvWojPS"
      }
    },
    {
      "cell_type": "markdown",
      "source": [
        "* 3) NOT"
      ],
      "metadata": {
        "id": "5Be9tMMypIVN"
      }
    },
    {
      "cell_type": "code",
      "source": [
        "print(not True)\n",
        "print(not False)"
      ],
      "metadata": {
        "id": "AZoPVRDsRRFN",
        "colab": {
          "base_uri": "https://localhost:8080/"
        },
        "outputId": "812f2c72-9c17-4e22-be18-1fde2bb90eec"
      },
      "execution_count": null,
      "outputs": [
        {
          "output_type": "stream",
          "name": "stdout",
          "text": [
            "False\n",
            "True\n"
          ]
        }
      ]
    },
    {
      "cell_type": "markdown",
      "source": [
        "* a simple authentication application: program which accepts username & password from keyword.\n",
        "* username - Ravi, password - logiclabs\n",
        "* i should get o/p as--- valid user , otherwise --- invalid user."
      ],
      "metadata": {
        "id": "OOv02G9rpN4W"
      }
    },
    {
      "cell_type": "code",
      "source": [
        "a = input('enter username: ')\n",
        "b = input('enter password: ')\n",
        "if a=='Ravi' and b=='logiclabs':\n",
        "  print ('valid user')\n",
        "else:\n",
        "  print('invalid user')"
      ],
      "metadata": {
        "id": "RB5P9dkNRR-h",
        "colab": {
          "base_uri": "https://localhost:8080/"
        },
        "outputId": "fda328c5-2f10-4657-cdce-5c115a223ad6"
      },
      "execution_count": null,
      "outputs": [
        {
          "output_type": "stream",
          "name": "stdout",
          "text": [
            "enter username: ravi\n",
            "enter password: labs\n",
            "invalid user\n"
          ]
        }
      ]
    },
    {
      "cell_type": "code",
      "source": [
        "a = input('enter username: ')\n",
        "b = input('enter password: ')\n",
        "if a=='Ravi' and b=='logiclabs':\n",
        "  print ('valid user')\n",
        "else:\n",
        "  print('invalid user')"
      ],
      "metadata": {
        "colab": {
          "base_uri": "https://localhost:8080/"
        },
        "id": "7MTuXRktpEah",
        "outputId": "d6eb8e8b-a812-4200-b664-6fe95ff317e9"
      },
      "execution_count": null,
      "outputs": [
        {
          "output_type": "stream",
          "name": "stdout",
          "text": [
            "enter username: Ravi\n",
            "enter password: logiclabs\n",
            "valid user\n"
          ]
        }
      ]
    },
    {
      "cell_type": "markdown",
      "source": [
        "Behavior of logical operators on non-boolean data types\n",
        "\n",
        "NOTE:\n",
        "* \"0\" means ---(False), nono zero ---- means (True)\n",
        "* empty string,list,set,tuple,dict----(False)"
      ],
      "metadata": {
        "id": "RAVUvMeOqRG1"
      }
    },
    {
      "cell_type": "markdown",
      "source": [
        "AND : 1) x and y -----> result is x or y (but not boolean)\n",
        "* if x is evaluates to False---> then result is x\n",
        "* if x is evaluates to True---> then result is y"
      ],
      "metadata": {
        "id": "l_kUHMRDp3d7"
      }
    },
    {
      "cell_type": "code",
      "source": [
        "print(10 and 20) #--20\n",
        "print(0 and 19)  #--0\n",
        "print('logic' and 'labs')\n",
        "print('' and 'labs')   #--no value ('')"
      ],
      "metadata": {
        "id": "2Mtex7JPRSXU",
        "colab": {
          "base_uri": "https://localhost:8080/"
        },
        "outputId": "83bea4ed-a4c1-4935-a5f2-d424c68b4ce8"
      },
      "execution_count": null,
      "outputs": [
        {
          "output_type": "stream",
          "name": "stdout",
          "text": [
            "20\n",
            "0\n",
            "labs\n",
            "\n"
          ]
        }
      ]
    },
    {
      "cell_type": "markdown",
      "source": [
        "OR : x or y  ------> result is x or y (not boolean)\n",
        "* if x is evaluates to True---> then result is x\n",
        "* if x is evaluates to False ---> then result is y"
      ],
      "metadata": {
        "id": "n7MNNgXssSF-"
      }
    },
    {
      "cell_type": "code",
      "source": [
        "print(10 or 20)\n",
        "print(0 or 20)\n",
        "print('' or 'ravi')\n",
        "print('logic' or 'labs' )"
      ],
      "metadata": {
        "id": "tb4kTe4rRSqR",
        "colab": {
          "base_uri": "https://localhost:8080/"
        },
        "outputId": "0480b801-95d9-4f79-8eb1-a42dc245d163"
      },
      "execution_count": null,
      "outputs": [
        {
          "output_type": "stream",
          "name": "stdout",
          "text": [
            "10\n",
            "20\n",
            "ravi\n",
            "logic\n"
          ]
        }
      ]
    },
    {
      "cell_type": "markdown",
      "source": [
        "NOT Opearator:\n",
        "* NOT opearator always returns boolean "
      ],
      "metadata": {
        "id": "4bNuPB1B8P9P"
      }
    },
    {
      "cell_type": "code",
      "source": [
        "print(not 'ravi') \n",
        "print(not '')\n",
        "print(not 0)\n",
        "print(not 10)"
      ],
      "metadata": {
        "id": "td5P1LPWRS4Z",
        "colab": {
          "base_uri": "https://localhost:8080/"
        },
        "outputId": "3e26c525-eb96-40b6-99de-31d485854c4c"
      },
      "execution_count": null,
      "outputs": [
        {
          "output_type": "stream",
          "name": "stdout",
          "text": [
            "False\n",
            "True\n",
            "True\n",
            "False\n"
          ]
        }
      ]
    },
    {
      "cell_type": "markdown",
      "source": [
        "---\n",
        "---"
      ],
      "metadata": {
        "id": "S8HycEK8qOYo"
      }
    },
    {
      "cell_type": "markdown",
      "source": [
        "**Day-10**"
      ],
      "metadata": {
        "id": "YcpagJYqqORf"
      }
    },
    {
      "cell_type": "markdown",
      "source": [
        "* understanding modules:\n",
        "* create a module\n",
        "* using module in python files\n",
        "* naming conventions (good practice)\n",
        "* understanding inbuilt modules\n",
        "* how to know the functions available in inbuilt modules\n",
        "* using inbuilt module\n",
        "* creating alias name for module\n",
        "* importance of from keyword when importing module"
      ],
      "metadata": {
        "id": "uat6XLoPvT3E"
      }
    },
    {
      "cell_type": "markdown",
      "source": [
        "module:\n",
        "* module is file which is a collection of variables and functions\n",
        "* creating a function by using \"def\""
      ],
      "metadata": {
        "id": "3CTp2w3L9gal"
      }
    },
    {
      "cell_type": "code",
      "source": [
        "a=888\n",
        "b=999\n",
        "def c(a,b):\n",
        "  print(a+b)\n",
        "def d(a,b):\n",
        "  print(a*b)\n",
        "c(2,3)\n",
        "d(2,3)"
      ],
      "metadata": {
        "id": "TZAbc1HmvTEE",
        "colab": {
          "base_uri": "https://localhost:8080/"
        },
        "outputId": "3c74e1f2-d984-4084-ee9f-7fe4b36acedc"
      },
      "execution_count": null,
      "outputs": [
        {
          "output_type": "stream",
          "name": "stdout",
          "text": [
            "5\n",
            "6\n"
          ]
        }
      ]
    },
    {
      "cell_type": "markdown",
      "source": [
        "user define function:"
      ],
      "metadata": {
        "id": "ZAJeeKaq-xKy"
      }
    },
    {
      "cell_type": "code",
      "source": [
        "c(2,3) # using c function in another file"
      ],
      "metadata": {
        "colab": {
          "base_uri": "https://localhost:8080/"
        },
        "id": "sQNFu6G0-MYq",
        "outputId": "acba72cd-a8b9-4a20-f811-e887be830747"
      },
      "execution_count": null,
      "outputs": [
        {
          "output_type": "stream",
          "name": "stdout",
          "text": [
            "5\n"
          ]
        }
      ]
    },
    {
      "cell_type": "markdown",
      "source": [
        "* its always good practice to have meaningful names to the functions.\n",
        "* lets rename c with add\n",
        "* lets rename d with prod"
      ],
      "metadata": {
        "id": "IrjnigPI_Jtn"
      }
    },
    {
      "cell_type": "code",
      "source": [
        "a=888\n",
        "b=999\n",
        "def add(a,b):\n",
        "  print(a+b)\n",
        "def prod(a,b):\n",
        "  print(a*b)"
      ],
      "metadata": {
        "id": "0i4sx2_gAFyv"
      },
      "execution_count": null,
      "outputs": []
    },
    {
      "cell_type": "code",
      "source": [
        "add(2,3)\n",
        "prod(2,3)"
      ],
      "metadata": {
        "colab": {
          "base_uri": "https://localhost:8080/"
        },
        "id": "fbEFuGUz6lhO",
        "outputId": "4c44bd80-a795-4902-ed35-d6da48929b18"
      },
      "execution_count": null,
      "outputs": [
        {
          "output_type": "stream",
          "name": "stdout",
          "text": [
            "5\n",
            "6\n"
          ]
        }
      ]
    },
    {
      "cell_type": "markdown",
      "source": [
        "Advantage:\n",
        "* code reusability."
      ],
      "metadata": {
        "id": "XweqNsHI6tfo"
      }
    },
    {
      "cell_type": "markdown",
      "source": [
        "Inbuilt modules:\n",
        "* python is having pre-defined modules. pre-define modules are called inbuilt modules\n",
        "* we can use the functions from the inbuilt modules, as per the requirements.\n",
        "* eg: 1) math, 2) random, 3) time, threading and many more"
      ],
      "metadata": {
        "id": "RYLooEws-EtE"
      }
    },
    {
      "cell_type": "markdown",
      "source": [
        "* how to know the functions available in a perticular module."
      ],
      "metadata": {
        "id": "nCEDXWYC7anA"
      }
    },
    {
      "cell_type": "code",
      "source": [
        "import math\n",
        "print(dir(math)) # it returs list"
      ],
      "metadata": {
        "id": "fhDOx27QRTGZ",
        "colab": {
          "base_uri": "https://localhost:8080/"
        },
        "outputId": "7fb94fc2-ade5-49ea-a046-4ca3fe4d844d"
      },
      "execution_count": null,
      "outputs": [
        {
          "output_type": "stream",
          "name": "stdout",
          "text": [
            "['__doc__', '__loader__', '__name__', '__package__', '__spec__', 'acos', 'acosh', 'asin', 'asinh', 'atan', 'atan2', 'atanh', 'ceil', 'comb', 'copysign', 'cos', 'cosh', 'degrees', 'dist', 'e', 'erf', 'erfc', 'exp', 'expm1', 'fabs', 'factorial', 'floor', 'fmod', 'frexp', 'fsum', 'gamma', 'gcd', 'hypot', 'inf', 'isclose', 'isfinite', 'isinf', 'isnan', 'isqrt', 'lcm', 'ldexp', 'lgamma', 'log', 'log10', 'log1p', 'log2', 'modf', 'nan', 'nextafter', 'perm', 'pi', 'pow', 'prod', 'radians', 'remainder', 'sin', 'sinh', 'sqrt', 'tan', 'tanh', 'tau', 'trunc', 'ulp']\n"
          ]
        }
      ]
    },
    {
      "cell_type": "code",
      "source": [
        "print(math.sqrt(25))\n",
        "print(math.pi) # pi is a variable \n",
        "print(math.floor(2.9)) \n",
        "print(math.ceil(2.9))\n",
        "print(math.pow(2,5))"
      ],
      "metadata": {
        "id": "zr-cZzGfRTVx",
        "colab": {
          "base_uri": "https://localhost:8080/"
        },
        "outputId": "1c221696-3bb7-46c9-d4ad-17e1a0b10731"
      },
      "execution_count": null,
      "outputs": [
        {
          "output_type": "stream",
          "name": "stdout",
          "text": [
            "5.0\n",
            "3.141592653589793\n",
            "2\n",
            "3\n",
            "32.0\n"
          ]
        }
      ]
    },
    {
      "cell_type": "markdown",
      "source": [
        "* we can create alias name for using \"as\" key word"
      ],
      "metadata": {
        "id": "lHKHgRPErBWn"
      }
    },
    {
      "cell_type": "code",
      "source": [
        "import math as m\n",
        "print(m.pow(3,2))"
      ],
      "metadata": {
        "colab": {
          "base_uri": "https://localhost:8080/"
        },
        "id": "5mq4XUDuq-2G",
        "outputId": "35bdccb5-fb84-4c76-d674-413eecf50e26"
      },
      "execution_count": null,
      "outputs": [
        {
          "output_type": "stream",
          "name": "stdout",
          "text": [
            "9.0\n"
          ]
        }
      ]
    },
    {
      "cell_type": "markdown",
      "source": [
        "* we can create alias name for module using \"as\" key word\n",
        "* if we create alias name, we can not use module name"
      ],
      "metadata": {
        "id": "aLbutw1Z8Rl3"
      }
    },
    {
      "cell_type": "code",
      "source": [
        "print(math.pow(3,2))"
      ],
      "metadata": {
        "colab": {
          "base_uri": "https://localhost:8080/"
        },
        "id": "Zd3rNcsR0_gc",
        "outputId": "26598afc-3251-4de3-ccef-6a85492589d9"
      },
      "execution_count": null,
      "outputs": [
        {
          "output_type": "stream",
          "name": "stdout",
          "text": [
            "9.0\n"
          ]
        }
      ]
    },
    {
      "cell_type": "markdown",
      "source": [
        "NOTE: once alias is created. we should not use module name. "
      ],
      "metadata": {
        "id": "M49P1k1Y80NA"
      }
    },
    {
      "cell_type": "markdown",
      "source": [
        "**\"from\"**  key word\n",
        "* using from key word without calling module "
      ],
      "metadata": {
        "id": "TsajJjmS9cdL"
      }
    },
    {
      "cell_type": "code",
      "source": [
        "from math import sqrt\n",
        "print(sqrt(25))"
      ],
      "metadata": {
        "id": "trN4k7tNRT77",
        "colab": {
          "base_uri": "https://localhost:8080/"
        },
        "outputId": "17287d8e-7145-4c94-a0f7-123a9ce4d377"
      },
      "execution_count": null,
      "outputs": [
        {
          "output_type": "stream",
          "name": "stdout",
          "text": [
            "5.0\n"
          ]
        }
      ]
    },
    {
      "cell_type": "markdown",
      "source": [
        "NOTE:\n",
        "* if you do not want to use module name / as alias name, we can use the above syntax"
      ],
      "metadata": {
        "id": "THnqxS5B-L-U"
      }
    },
    {
      "cell_type": "code",
      "source": [
        "from math import sqrt\n",
        "print(sqrt(25))\n",
        "print(pi)  "
      ],
      "metadata": {
        "colab": {
          "base_uri": "https://localhost:8080/",
          "height": 226
        },
        "id": "MJSzgEEU-d4y",
        "outputId": "467e4794-a7f0-4676-d505-025b135e3f89"
      },
      "execution_count": null,
      "outputs": [
        {
          "output_type": "stream",
          "name": "stdout",
          "text": [
            "5.0\n"
          ]
        },
        {
          "output_type": "error",
          "ename": "NameError",
          "evalue": "ignored",
          "traceback": [
            "\u001b[0;31m---------------------------------------------------------------------------\u001b[0m",
            "\u001b[0;31mNameError\u001b[0m                                 Traceback (most recent call last)",
            "\u001b[0;32m<ipython-input-18-a82d203c8676>\u001b[0m in \u001b[0;36m<cell line: 3>\u001b[0;34m()\u001b[0m\n\u001b[1;32m      1\u001b[0m \u001b[0;32mfrom\u001b[0m \u001b[0mmath\u001b[0m \u001b[0;32mimport\u001b[0m \u001b[0msqrt\u001b[0m\u001b[0;34m\u001b[0m\u001b[0;34m\u001b[0m\u001b[0m\n\u001b[1;32m      2\u001b[0m \u001b[0mprint\u001b[0m\u001b[0;34m(\u001b[0m\u001b[0msqrt\u001b[0m\u001b[0;34m(\u001b[0m\u001b[0;36m25\u001b[0m\u001b[0;34m)\u001b[0m\u001b[0;34m)\u001b[0m\u001b[0;34m\u001b[0m\u001b[0;34m\u001b[0m\u001b[0m\n\u001b[0;32m----> 3\u001b[0;31m \u001b[0mprint\u001b[0m\u001b[0;34m(\u001b[0m\u001b[0mpi\u001b[0m\u001b[0;34m)\u001b[0m\u001b[0;34m\u001b[0m\u001b[0;34m\u001b[0m\u001b[0m\n\u001b[0m",
            "\u001b[0;31mNameError\u001b[0m: name 'pi' is not defined"
          ]
        }
      ]
    },
    {
      "cell_type": "markdown",
      "source": [
        "* error occured because, we imported only sqrt\n",
        "* change the code "
      ],
      "metadata": {
        "id": "yD4DLyGX-nuW"
      }
    },
    {
      "cell_type": "code",
      "source": [
        "from math import sqrt,pi\n",
        "print(sqrt(25))\n",
        "print(pi)"
      ],
      "metadata": {
        "id": "IgxQKeFERUL6",
        "colab": {
          "base_uri": "https://localhost:8080/"
        },
        "outputId": "2e48998f-391f-449b-b055-a4127be101e1"
      },
      "execution_count": null,
      "outputs": [
        {
          "output_type": "stream",
          "name": "stdout",
          "text": [
            "5.0\n",
            "3.141592653589793\n"
          ]
        }
      ]
    },
    {
      "cell_type": "markdown",
      "source": [
        "*  \"*\" used for import all functions in module without calling\n",
        "* to directly use all the functions & constants"
      ],
      "metadata": {
        "id": "hQMvkpnx-6qY"
      }
    },
    {
      "cell_type": "code",
      "source": [
        "from math import *\n",
        "print(sqrt(25))\n",
        "print(pi)\n",
        "print(pow(2,5))"
      ],
      "metadata": {
        "id": "StBQTeqlRUbL",
        "colab": {
          "base_uri": "https://localhost:8080/"
        },
        "outputId": "73d1177f-0beb-49c7-c204-e2f8d7b716f1"
      },
      "execution_count": null,
      "outputs": [
        {
          "output_type": "stream",
          "name": "stdout",
          "text": [
            "5.0\n",
            "3.141592653589793\n",
            "32.0\n"
          ]
        }
      ]
    },
    {
      "cell_type": "markdown",
      "source": [
        "---\n",
        "---"
      ],
      "metadata": {
        "id": "iv0Ul_l8r6pH"
      }
    },
    {
      "cell_type": "markdown",
      "source": [
        "**Day-11**"
      ],
      "metadata": {
        "id": "d8NKwpd7r6g_"
      }
    },
    {
      "cell_type": "markdown",
      "source": [
        "* Creating alias for function\n",
        "* Creating alias for variable\n",
        "* latest import line is considered(???)\n",
        "* input statement\n",
        "* understanding bool() type casting\n",
        "* importance to eval()\n",
        "* eval() for expressions"
      ],
      "metadata": {
        "id": "4LGaHyoVyaQ5"
      }
    },
    {
      "cell_type": "markdown",
      "source": [
        "* creating alias from function"
      ],
      "metadata": {
        "id": "C8haldv7HeQG"
      }
    },
    {
      "cell_type": "code",
      "source": [
        "from math import sqrt as s\n",
        "print(s(25))"
      ],
      "metadata": {
        "id": "jT2BTz-_RUo6",
        "colab": {
          "base_uri": "https://localhost:8080/"
        },
        "outputId": "078f7a82-2cf3-4f39-efd8-122f1e8b59bd"
      },
      "execution_count": null,
      "outputs": [
        {
          "output_type": "stream",
          "name": "stdout",
          "text": [
            "5.0\n"
          ]
        }
      ]
    },
    {
      "cell_type": "markdown",
      "source": [
        "* math is module\n",
        "* sqrt is a function (\"pi\" is a variable)\n",
        "* alias for functions as well as variables "
      ],
      "metadata": {
        "id": "i_aAXH2TsM8X"
      }
    },
    {
      "cell_type": "code",
      "source": [
        "from math import sqrt as s, pi as p\n",
        "print(s(25))\n",
        "print(p)"
      ],
      "metadata": {
        "id": "6DXiwzmTvh57",
        "colab": {
          "base_uri": "https://localhost:8080/"
        },
        "outputId": "57314967-793b-48eb-8eed-c8d9e9c9ec89"
      },
      "execution_count": null,
      "outputs": [
        {
          "output_type": "stream",
          "name": "stdout",
          "text": [
            "5.0\n",
            "3.141592653589793\n"
          ]
        }
      ]
    },
    {
      "cell_type": "markdown",
      "source": [
        "* latest import line is considered\n",
        "* most recent import statement is considered."
      ],
      "metadata": {
        "id": "iKlIb1rqIFWN"
      }
    },
    {
      "cell_type": "code",
      "source": [
        "from math import * # 1 math\n",
        "from math import * # 2 math\n",
        "print(sqrt(4))\n",
        "# here 2nd math is considered"
      ],
      "metadata": {
        "id": "yDxBn1egvi6l",
        "colab": {
          "base_uri": "https://localhost:8080/"
        },
        "outputId": "713c0453-79fa-44b1-b7d0-a308935cc833"
      },
      "execution_count": null,
      "outputs": [
        {
          "output_type": "stream",
          "name": "stdout",
          "text": [
            "2.0\n"
          ]
        }
      ]
    },
    {
      "cell_type": "markdown",
      "source": [
        "input & output statements:\n",
        "* input(): function used to accept values from keybord. \n",
        "* always returns string (\"str\")"
      ],
      "metadata": {
        "id": "fvtpt0NJIc0L"
      }
    },
    {
      "cell_type": "code",
      "source": [
        "x=input('enter your age')\n",
        "print(type(x))\n",
        "print(x)"
      ],
      "metadata": {
        "id": "MPFeJl-1vwQL",
        "colab": {
          "base_uri": "https://localhost:8080/"
        },
        "outputId": "21bdebb0-f68b-4803-a792-13169904c4e6"
      },
      "execution_count": null,
      "outputs": [
        {
          "output_type": "stream",
          "name": "stdout",
          "text": [
            "enter your age67\n",
            "<class 'str'>\n",
            "67\n"
          ]
        }
      ]
    },
    {
      "cell_type": "markdown",
      "source": [
        "* accept 2 numbers & display sum"
      ],
      "metadata": {
        "id": "D-bMu_O9I1m5"
      }
    },
    {
      "cell_type": "code",
      "source": [
        "a=input('enter first  number: ')\n",
        "b=input('enter second number: ')\n",
        "c=int(a)\n",
        "d=int(b)\n",
        "print('sum of two numbers', c+d)"
      ],
      "metadata": {
        "id": "sM9AJ_gPvwhK",
        "colab": {
          "base_uri": "https://localhost:8080/"
        },
        "outputId": "1272ace0-c746-4520-bb18-3a861c30eb6f"
      },
      "execution_count": null,
      "outputs": [
        {
          "output_type": "stream",
          "name": "stdout",
          "text": [
            "enter first  number: 2\n",
            "enter second number: 3\n",
            "sum of two numbers 5\n"
          ]
        }
      ]
    },
    {
      "cell_type": "markdown",
      "source": [
        "* the above code will be improved. we can combine line 1 & line 3"
      ],
      "metadata": {
        "id": "1NclRsbxJTRT"
      }
    },
    {
      "cell_type": "markdown",
      "source": [
        "* Nesting"
      ],
      "metadata": {
        "id": "FDvA9ansJkhs"
      }
    },
    {
      "cell_type": "code",
      "source": [
        "a=int( input('enter first  number: '))\n",
        "b=int( input('enter second number: '))\n",
        "print('sum of two numbers is', a+b)"
      ],
      "metadata": {
        "id": "Agr9eliDvwxQ",
        "colab": {
          "base_uri": "https://localhost:8080/"
        },
        "outputId": "5821f62b-942f-4f88-ef99-3f3a71517ad9"
      },
      "execution_count": null,
      "outputs": [
        {
          "output_type": "stream",
          "name": "stdout",
          "text": [
            "enter first  number: 4\n",
            "enter second number: 4\n",
            "sum of two numbers is 8\n"
          ]
        }
      ]
    },
    {
      "cell_type": "code",
      "source": [
        "eno=int(input('enter employ no: '))\n",
        "ename=input('enter emp name: ')\n",
        "esal=float(input('enter emp sal: '))\n",
        "eaddr=input('enter emp address: ')\n",
        "married=bool(input('emp married? [True|False: '))\n",
        "print('emp married?: ',married )"
      ],
      "metadata": {
        "id": "NvDdTE9Rvx2y",
        "colab": {
          "base_uri": "https://localhost:8080/"
        },
        "outputId": "1a70c484-02e6-49e9-f3fe-603201fa4afb"
      },
      "execution_count": null,
      "outputs": [
        {
          "output_type": "stream",
          "name": "stdout",
          "text": [
            "enter employ no: 101\n",
            "enter emp name: ravi\n",
            "enter emp sal: 12000\n",
            "enter emp address: bangalore\n",
            "emp married? [True|False: False\n",
            "emp married?:  True\n"
          ]
        }
      ]
    },
    {
      "cell_type": "markdown",
      "source": [
        "* in the above code we are getting True instead of False"
      ],
      "metadata": {
        "id": "n754cY5DuGsv"
      }
    },
    {
      "cell_type": "markdown",
      "source": [
        "eval:\n",
        "* is a single function ,which can be used as a replacement of all type casting functions.\n",
        "* importance of evaluate(\"eval\") function"
      ],
      "metadata": {
        "id": "-CETMi6TJzQb"
      }
    },
    {
      "cell_type": "code",
      "source": [
        "married=eval(input('emp married? [True|False]: '))\n",
        "print('emp married?:',married )"
      ],
      "metadata": {
        "id": "5JdRT4nuvyFw",
        "colab": {
          "base_uri": "https://localhost:8080/"
        },
        "outputId": "41cf2476-8892-4d95-ec5c-5782399a0dc3"
      },
      "execution_count": null,
      "outputs": [
        {
          "output_type": "stream",
          "name": "stdout",
          "text": [
            "emp married? [True|False]: False\n",
            "emp married?: False\n"
          ]
        }
      ]
    },
    {
      "cell_type": "markdown",
      "source": [
        "* eval() automatically converts correct data types"
      ],
      "metadata": {
        "id": "eI2MLvXqKd3V"
      }
    },
    {
      "cell_type": "code",
      "source": [
        "a=eval( input('enter first  number '))\n",
        "print(type(a))"
      ],
      "metadata": {
        "id": "qJTaHpVDvyTx",
        "colab": {
          "base_uri": "https://localhost:8080/"
        },
        "outputId": "612ff42f-fa28-490c-d136-7e279f8307a7"
      },
      "execution_count": null,
      "outputs": [
        {
          "output_type": "stream",
          "name": "stdout",
          "text": [
            "enter first  number 45.6\n",
            "<class 'float'>\n"
          ]
        }
      ]
    },
    {
      "cell_type": "code",
      "source": [
        "a=eval( input('enter first  number '))\n",
        "print(type(a))"
      ],
      "metadata": {
        "id": "eQiO3f-LvyeY",
        "colab": {
          "base_uri": "https://localhost:8080/"
        },
        "outputId": "593eb40c-384f-4f7f-e3a4-8c031937bdce"
      },
      "execution_count": null,
      "outputs": [
        {
          "output_type": "stream",
          "name": "stdout",
          "text": [
            "enter first  number 3566\n",
            "<class 'int'>\n"
          ]
        }
      ]
    },
    {
      "cell_type": "code",
      "source": [
        "a=eval( input('enter first  number '))\n",
        "print(type(a))"
      ],
      "metadata": {
        "id": "whoMbny8vyqQ",
        "colab": {
          "base_uri": "https://localhost:8080/"
        },
        "outputId": "25a7f7b0-66f3-497b-db88-f476c0d2acf1"
      },
      "execution_count": null,
      "outputs": [
        {
          "output_type": "stream",
          "name": "stdout",
          "text": [
            "enter first  number False\n",
            "<class 'bool'>\n"
          ]
        }
      ]
    },
    {
      "cell_type": "markdown",
      "source": [
        " * 2nd functionality of eval function: as name suggests, it can evaluate expressions (calculates)"
      ],
      "metadata": {
        "id": "0ZGkMfIBK209"
      }
    },
    {
      "cell_type": "code",
      "source": [
        "x=eval('10+20+30')\n",
        "print(x)"
      ],
      "metadata": {
        "id": "Jt6AHdgKvy0m",
        "colab": {
          "base_uri": "https://localhost:8080/"
        },
        "outputId": "de78ec05-642e-4ac4-ad2e-db57caa9e7cc"
      },
      "execution_count": null,
      "outputs": [
        {
          "output_type": "stream",
          "name": "stdout",
          "text": [
            "60\n"
          ]
        }
      ]
    },
    {
      "cell_type": "markdown",
      "source": [
        "---\n",
        "---"
      ],
      "metadata": {
        "id": "VxFhIMMyvWIS"
      }
    },
    {
      "cell_type": "markdown",
      "source": [
        "**Day-12**"
      ],
      "metadata": {
        "id": "W9V8PNvvvWA4"
      }
    },
    {
      "cell_type": "markdown",
      "source": [
        "* Command line arguments\n",
        "* understanding sys module & argv variable\n",
        "* data type of command line arguments\n",
        "* output statements\n",
        "* possibilities of print() function\n",
        "* using repalcement operator\n",
        "* print() with formatted string\n",
        "* using format specifier( %i, %f, %s)"
      ],
      "metadata": {
        "id": "scy7eRgHDW8t"
      }
    },
    {
      "cell_type": "markdown",
      "source": [
        "command line arguments:\n",
        "* used to pass values from the command prompt.\n",
        "* sys-- it is a predefined module in python\n",
        "* sys module contains one variable -argv. using this variable , command line arguments are read.\n",
        "* argv is of type list."
      ],
      "metadata": {
        "id": "Ej6ivwsKMLOA"
      }
    },
    {
      "cell_type": "markdown",
      "source": [
        "* understanding sys module and arg variable"
      ],
      "metadata": {
        "id": "-MVrI6dALdy1"
      }
    },
    {
      "cell_type": "code",
      "source": [
        "from sys import argv\n",
        "print(type(argv))\n",
        "\n",
        "print(argv[0]) "
      ],
      "metadata": {
        "id": "5C3tyZ7kvy-K",
        "colab": {
          "base_uri": "https://localhost:8080/"
        },
        "outputId": "4f1cd292-b093-4268-c80a-6e6da1e7a458"
      },
      "execution_count": null,
      "outputs": [
        {
          "output_type": "stream",
          "name": "stdout",
          "text": [
            "<class 'list'>\n",
            "/usr/local/lib/python3.9/dist-packages/ipykernel_launcher.py\n"
          ]
        }
      ]
    },
    {
      "cell_type": "code",
      "source": [
        "from sys import argv\n",
        "print(type(argv))\n",
        "\n",
        "print(argv[0]) \n",
        "print(argv[1]) \n",
        "print(argv[2]) \n",
        "print(argv[3]) \n",
        "print(argv[4]) "
      ],
      "metadata": {
        "colab": {
          "base_uri": "https://localhost:8080/",
          "height": 299
        },
        "id": "dFTDiIVFS4RP",
        "outputId": "30cacee9-2673-4d99-e1a0-1fd780d1b817"
      },
      "execution_count": null,
      "outputs": [
        {
          "output_type": "stream",
          "name": "stdout",
          "text": [
            "<class 'list'>\n",
            "/usr/local/lib/python3.9/dist-packages/ipykernel_launcher.py\n",
            "-f\n",
            "/root/.local/share/jupyter/runtime/kernel-74cb2d75-a219-44f0-a363-8d3f508a22d4.json\n"
          ]
        },
        {
          "output_type": "error",
          "ename": "IndexError",
          "evalue": "ignored",
          "traceback": [
            "\u001b[0;31m---------------------------------------------------------------------------\u001b[0m",
            "\u001b[0;31mIndexError\u001b[0m                                Traceback (most recent call last)",
            "\u001b[0;32m<ipython-input-37-022f76ec4d6d>\u001b[0m in \u001b[0;36m<cell line: 7>\u001b[0;34m()\u001b[0m\n\u001b[1;32m      5\u001b[0m \u001b[0mprint\u001b[0m\u001b[0;34m(\u001b[0m\u001b[0margv\u001b[0m\u001b[0;34m[\u001b[0m\u001b[0;36m1\u001b[0m\u001b[0;34m]\u001b[0m\u001b[0;34m)\u001b[0m\u001b[0;34m\u001b[0m\u001b[0;34m\u001b[0m\u001b[0m\n\u001b[1;32m      6\u001b[0m \u001b[0mprint\u001b[0m\u001b[0;34m(\u001b[0m\u001b[0margv\u001b[0m\u001b[0;34m[\u001b[0m\u001b[0;36m2\u001b[0m\u001b[0;34m]\u001b[0m\u001b[0;34m)\u001b[0m\u001b[0;34m\u001b[0m\u001b[0;34m\u001b[0m\u001b[0m\n\u001b[0;32m----> 7\u001b[0;31m \u001b[0mprint\u001b[0m\u001b[0;34m(\u001b[0m\u001b[0margv\u001b[0m\u001b[0;34m[\u001b[0m\u001b[0;36m3\u001b[0m\u001b[0;34m]\u001b[0m\u001b[0;34m)\u001b[0m\u001b[0;34m\u001b[0m\u001b[0;34m\u001b[0m\u001b[0m\n\u001b[0m\u001b[1;32m      8\u001b[0m \u001b[0mprint\u001b[0m\u001b[0;34m(\u001b[0m\u001b[0margv\u001b[0m\u001b[0;34m[\u001b[0m\u001b[0;36m4\u001b[0m\u001b[0;34m]\u001b[0m\u001b[0;34m)\u001b[0m\u001b[0;34m\u001b[0m\u001b[0;34m\u001b[0m\u001b[0m\n",
            "\u001b[0;31mIndexError\u001b[0m: list index out of range"
          ]
        }
      ]
    },
    {
      "cell_type": "code",
      "source": [
        "from sys import argv\n",
        "\n",
        "print(argv)\n",
        "\n",
        "print('the number of arguments:', len(argv))\n",
        "\n",
        "print('list of command line arguments:', argv)\n",
        "\n",
        "print('command line arguments one by one:')"
      ],
      "metadata": {
        "colab": {
          "base_uri": "https://localhost:8080/"
        },
        "id": "K_1Ao-_NTgCl",
        "outputId": "e71ae0e7-1ad4-47a4-8093-ad0f4eb9b3dd"
      },
      "execution_count": null,
      "outputs": [
        {
          "output_type": "stream",
          "name": "stdout",
          "text": [
            "['/usr/local/lib/python3.9/dist-packages/ipykernel_launcher.py', '-f', '/root/.local/share/jupyter/runtime/kernel-74cb2d75-a219-44f0-a363-8d3f508a22d4.json']\n",
            "the number of arguments: 3\n",
            "list of command line arguments: ['/usr/local/lib/python3.9/dist-packages/ipykernel_launcher.py', '-f', '/root/.local/share/jupyter/runtime/kernel-74cb2d75-a219-44f0-a363-8d3f508a22d4.json']\n",
            "command line arguments one by one:\n"
          ]
        }
      ]
    },
    {
      "cell_type": "markdown",
      "source": [
        "from sys import argv\n",
        "\n",
        "print(argv)\n",
        "\n",
        "print('the number of arguments:', len(argv))\n",
        "\n",
        "print('list of command line arguments:', argv)\n",
        "\n",
        "print('command line arguments one by one:')"
      ],
      "metadata": {
        "id": "hCe6EvIdFLYs"
      }
    },
    {
      "cell_type": "markdown",
      "source": [
        "O/P:\n",
        "* D:\\python>python hello1.py 10 20 30 40\n",
        "* ['hello1.py', '10', '20', '30', '40']\n",
        "* the number of arguments: 5\n",
        "* list of command line arguments: ['hello1.py', '10', '20', '30', '40']\n",
        "* command line arguments one by one:"
      ],
      "metadata": {
        "id": "9rcWYBKZE4ZL"
      }
    },
    {
      "cell_type": "markdown",
      "source": [
        "len()----returns length of the list\n",
        "* space is seperator b/w command line arguments\n",
        "* if arguments itself contains space then we should enclosed within double quotes."
      ],
      "metadata": {
        "id": "Z5-yQLdLVTBq"
      }
    },
    {
      "cell_type": "markdown",
      "source": [
        "* command line arguments are in \"str\" form "
      ],
      "metadata": {
        "id": "Krc4ltgL7QDy"
      }
    },
    {
      "cell_type": "code",
      "source": [
        "from sys import argv\n",
        "print(argv[1]+argv[2])"
      ],
      "metadata": {
        "id": "_sfCq4jCHiSu",
        "colab": {
          "base_uri": "https://localhost:8080/"
        },
        "outputId": "561bbf66-959f-4452-9bca-0e4fb56bbbf7"
      },
      "execution_count": null,
      "outputs": [
        {
          "output_type": "stream",
          "name": "stdout",
          "text": [
            "-f/root/.local/share/jupyter/runtime/kernel-dc83a950-5973-49f5-a2b3-119347d36838.json\n"
          ]
        }
      ]
    },
    {
      "cell_type": "markdown",
      "source": [
        "O/P:\n",
        "\n",
        "D:\\python>python 1.py 10 20\n",
        " \n",
        " 1020"
      ],
      "metadata": {
        "id": "5uhfhLTwT_Er"
      }
    },
    {
      "cell_type": "markdown",
      "source": [
        "* from sys import argv\n",
        "* print(int(argv[1])+int(argv[2]))\n",
        "* print(eval(argv[1])+eval(argv[2])) \n",
        " \n",
        " * D:\\python>python 1.py 10 20\n",
        " * 30\n",
        " * 30"
      ],
      "metadata": {
        "id": "cCBH3z_xUJPH"
      }
    },
    {
      "cell_type": "markdown",
      "source": [
        "from sys import argv\n",
        "\n",
        "print(argv[100])"
      ],
      "metadata": {
        "id": "rWalPScbKO-H"
      }
    },
    {
      "cell_type": "markdown",
      "source": [
        "* D:\\python>python 2.py\n",
        "* Traceback (most recent call last):\n",
        "* File \"D:\\python\\2.py\", line 3, in <module>\n",
        "*   print(argv[100])\n",
        "\n",
        "*IndexError: list index out of range"
      ],
      "metadata": {
        "id": "KEY6GtNpJ_M6"
      }
    },
    {
      "cell_type": "markdown",
      "source": [
        "Output statements\n",
        "\n",
        "print()--get the o/p on the screen"
      ],
      "metadata": {
        "id": "Bb5grFRv2RBM"
      }
    },
    {
      "cell_type": "markdown",
      "source": [
        "NOTE:\n",
        "* 1) importance of double quotes in command line arguments.\n",
        "* 2) default type is str"
      ],
      "metadata": {
        "id": "IQRZcNGuVYGT"
      }
    },
    {
      "cell_type": "code",
      "source": [
        "print('abc')\n",
        "print() # empty space \n",
        "print('efg') "
      ],
      "metadata": {
        "colab": {
          "base_uri": "https://localhost:8080/"
        },
        "id": "HqmUAlo9zlbp",
        "outputId": "000139cf-3502-4321-a4f4-c153e2499a31"
      },
      "execution_count": null,
      "outputs": [
        {
          "output_type": "stream",
          "name": "stdout",
          "text": [
            "abc\n",
            "\n",
            "efg\n"
          ]
        }
      ]
    },
    {
      "cell_type": "markdown",
      "source": [
        "* empty print function ,always gives a new line.\n"
      ],
      "metadata": {
        "id": "yLTENr2aVu6c"
      }
    },
    {
      "cell_type": "code",
      "source": [
        "print('hello\\nworld')\n",
        "print('hello\\tworld')\n",
        "print('hello'+'world')\n",
        "print(10* 'hellow')\n",
        "print('hellow' * 10)"
      ],
      "metadata": {
        "id": "asqGIkW4vzIk",
        "colab": {
          "base_uri": "https://localhost:8080/"
        },
        "outputId": "8157a250-3453-433e-bb04-495fed6b3e30"
      },
      "execution_count": null,
      "outputs": [
        {
          "output_type": "stream",
          "name": "stdout",
          "text": [
            "hello \n",
            "world\n",
            "hello\tworld\n",
            "helloworld\n",
            "hellowhellowhellowhellowhellowhellowhellowhellowhellowhellow\n",
            "hellowhellowhellowhellowhellowhellowhellowhellowhellowhellow\n"
          ]
        }
      ]
    },
    {
      "cell_type": "markdown",
      "source": [
        "* used to print values in the variables"
      ],
      "metadata": {
        "id": "-bmXbn-_WQL8"
      }
    },
    {
      "cell_type": "code",
      "source": [
        "a,b,c =10,20,30\n",
        "print('the values are :', a,b,c)"
      ],
      "metadata": {
        "id": "SIXlMvInvzSv",
        "colab": {
          "base_uri": "https://localhost:8080/"
        },
        "outputId": "403bad42-2ba4-4bce-86e1-830f7d4901fa"
      },
      "execution_count": null,
      "outputs": [
        {
          "output_type": "stream",
          "name": "stdout",
          "text": [
            "the values are : 10 20 30\n"
          ]
        }
      ]
    },
    {
      "cell_type": "markdown",
      "source": [
        "* we can pass any object (like list, tuple, set etc.) as argument to the print() statement."
      ],
      "metadata": {
        "id": "zZoVeI7kWZBL"
      }
    },
    {
      "cell_type": "code",
      "source": [
        "a=[10,20,30,40]\n",
        "b=[10,20,30,40]\n",
        "print(a)\n",
        "print(b)"
      ],
      "metadata": {
        "colab": {
          "base_uri": "https://localhost:8080/"
        },
        "id": "4gmGteb2WqpK",
        "outputId": "1b1f30c5-4dd6-4b65-8665-7a3b0d855a3b"
      },
      "execution_count": null,
      "outputs": [
        {
          "output_type": "stream",
          "name": "stdout",
          "text": [
            "[10, 20, 30, 40]\n",
            "[10, 20, 30, 40]\n"
          ]
        }
      ]
    },
    {
      "cell_type": "markdown",
      "source": [
        "Replacement opearator\"{}\":\n",
        "* print the statement with replacement operator"
      ],
      "metadata": {
        "id": "Pse0crE_W-R6"
      }
    },
    {
      "cell_type": "code",
      "source": [
        "a='ravi'\n",
        "b=10000\n",
        "print('hello',a, 'your salary is',b )"
      ],
      "metadata": {
        "colab": {
          "base_uri": "https://localhost:8080/"
        },
        "id": "NPi0n0YaXQ5G",
        "outputId": "a30535e3-be48-4bf3-ad8f-fd2333cdff51"
      },
      "execution_count": null,
      "outputs": [
        {
          "output_type": "stream",
          "name": "stdout",
          "text": [
            "hello ravi your salary is 10000\n"
          ]
        }
      ]
    },
    {
      "cell_type": "code",
      "source": [
        "print('hello {} , your salary is {}'.format(a,b)) "
      ],
      "metadata": {
        "id": "cHDCCibuvzml",
        "colab": {
          "base_uri": "https://localhost:8080/"
        },
        "outputId": "36f387f5-c629-450f-f4e3-5df7ea6fd221"
      },
      "execution_count": null,
      "outputs": [
        {
          "output_type": "stream",
          "name": "stdout",
          "text": [
            "hello ravi , your salary is 10000\n"
          ]
        }
      ]
    },
    {
      "cell_type": "markdown",
      "source": [
        "* we can also use index in replacement opearator."
      ],
      "metadata": {
        "id": "o_L7JFosXY4K"
      }
    },
    {
      "cell_type": "code",
      "source": [
        "print('hello {0} , your salary is {1}'.format(a,b))"
      ],
      "metadata": {
        "colab": {
          "base_uri": "https://localhost:8080/"
        },
        "id": "zsy3Up2TXcDQ",
        "outputId": "fb5b5601-797e-46df-fa3d-06091f6c074c"
      },
      "execution_count": null,
      "outputs": [
        {
          "output_type": "stream",
          "name": "stdout",
          "text": [
            "hello ravi , your salary is 10000\n"
          ]
        }
      ]
    },
    {
      "cell_type": "code",
      "source": [
        "name='ravi'\n",
        "salary=10000\n",
        "print('hello {n} , your salary is {s}'.format(n=name,s=salary))"
      ],
      "metadata": {
        "id": "LVJEns4ovzwJ",
        "colab": {
          "base_uri": "https://localhost:8080/"
        },
        "outputId": "7c2b55ec-e6b3-4d5c-a33e-0f9c5e92a339"
      },
      "execution_count": null,
      "outputs": [
        {
          "output_type": "stream",
          "name": "stdout",
          "text": [
            "hello ravi , your salary is 10000\n"
          ]
        }
      ]
    },
    {
      "cell_type": "markdown",
      "source": [
        "advantage:\n",
        "* order is not important, when we use above format."
      ],
      "metadata": {
        "id": "qaCr8ftBXvRe"
      }
    },
    {
      "cell_type": "markdown",
      "source": [
        "print() with formatted string\n",
        "* using foramt specifier( %i, %f, %s)"
      ],
      "metadata": {
        "id": "3ZiuUhG4OMvZ"
      }
    },
    {
      "cell_type": "markdown",
      "source": [
        "* formatted intiger approach"
      ],
      "metadata": {
        "id": "RTCCMMvF9PCD"
      }
    },
    {
      "cell_type": "code",
      "source": [
        "a=10\n",
        "print('a value is',a)\n",
        "print('a value is %i'%a) "
      ],
      "metadata": {
        "id": "wg1m2ywTvz7B",
        "colab": {
          "base_uri": "https://localhost:8080/"
        },
        "outputId": "3f0e0c70-2fba-41d9-c5b4-028d4b4227a2"
      },
      "execution_count": null,
      "outputs": [
        {
          "output_type": "stream",
          "name": "stdout",
          "text": [
            "a value is 10\n",
            "a value is 10\n"
          ]
        }
      ]
    },
    {
      "cell_type": "code",
      "source": [
        "a=10\n",
        "b=20\n",
        "c=30\n",
        "print('a=',a,'b=',b,'c=',c)\n",
        "print('a=%i,b=%i,c=%i' %(a,b,c)) # simple than above one  "
      ],
      "metadata": {
        "id": "TPFJJiiyv0wR",
        "colab": {
          "base_uri": "https://localhost:8080/"
        },
        "outputId": "d9d96afc-f8ca-480f-c92d-34144278e511"
      },
      "execution_count": null,
      "outputs": [
        {
          "output_type": "stream",
          "name": "stdout",
          "text": [
            "a= 10 b= 20 c= 30\n",
            "a=10,b=20,c=30\n"
          ]
        }
      ]
    },
    {
      "cell_type": "markdown",
      "source": [
        "NOTE:\n",
        "* what is importance of %i"
      ],
      "metadata": {
        "id": "z6gv49v0iy0U"
      }
    },
    {
      "cell_type": "markdown",
      "source": [
        "format specifiers:\n",
        "* %i---is format specifier of signed intiger value. \n",
        "* %f---is format specifier for float value.\n",
        "* %s---is format specifier for string value."
      ],
      "metadata": {
        "id": "nsXGifwgixQE"
      }
    },
    {
      "cell_type": "markdown",
      "source": [
        "* formatted string approach"
      ],
      "metadata": {
        "id": "eCYvgepk9qnR"
      }
    },
    {
      "cell_type": "code",
      "source": [
        "a='ravi'\n",
        "b='bangalore'\n",
        "print('hello %s your live in %s' %(a,b))"
      ],
      "metadata": {
        "id": "yOdEDCY7v2vf",
        "colab": {
          "base_uri": "https://localhost:8080/"
        },
        "outputId": "102a8707-ec8f-4e89-c55e-67bc7c58d99c"
      },
      "execution_count": null,
      "outputs": [
        {
          "output_type": "stream",
          "name": "stdout",
          "text": [
            "hello ravi your live in bangalore\n"
          ]
        }
      ]
    },
    {
      "cell_type": "markdown",
      "source": [
        "* Compare replacement opearator with formatted approach(float) "
      ],
      "metadata": {
        "id": "4BfgAtGfA4KQ"
      }
    },
    {
      "cell_type": "code",
      "source": [
        "a=70.456542\n",
        "print('value of a is {}'.format(a)) # replacement opearator\n",
        "print('value of a is %f'%a)   # formatted approach"
      ],
      "metadata": {
        "id": "D_u5Swciv28W",
        "colab": {
          "base_uri": "https://localhost:8080/"
        },
        "outputId": "0aa69d9e-2bc8-44c3-b25f-452a0c8ffe45"
      },
      "execution_count": null,
      "outputs": [
        {
          "output_type": "stream",
          "name": "stdout",
          "text": [
            "value of a is 70.456542\n",
            "value of a is 70.456542\n"
          ]
        }
      ]
    },
    {
      "cell_type": "markdown",
      "source": [
        "* both are behaving same but formatted string is more efficient "
      ],
      "metadata": {
        "id": "YOr4NziN979m"
      }
    },
    {
      "cell_type": "markdown",
      "source": [
        "* formatted float approach"
      ],
      "metadata": {
        "id": "pxd2RCsi-Eg3"
      }
    },
    {
      "cell_type": "code",
      "source": [
        "print(' value of a is %.2f'%a) # print two decimals\n",
        "print(' value of a is %.3f'%a) # print three decimals"
      ],
      "metadata": {
        "id": "THQkM-j4v3It",
        "colab": {
          "base_uri": "https://localhost:8080/"
        },
        "outputId": "304e9553-aeed-46e3-bc8d-58fcffcafa70"
      },
      "execution_count": null,
      "outputs": [
        {
          "output_type": "stream",
          "name": "stdout",
          "text": [
            " value of a is 70.46\n",
            " value of a is 70.457\n"
          ]
        }
      ]
    },
    {
      "cell_type": "markdown",
      "source": [
        "---\n",
        "---"
      ],
      "metadata": {
        "id": "IaR70Wxs-Ttq"
      }
    },
    {
      "cell_type": "markdown",
      "source": [
        "**Day-13**"
      ],
      "metadata": {
        "id": "vIm_4x_G-Tk6"
      }
    },
    {
      "cell_type": "markdown",
      "source": [
        "* flow control\n",
        "* * 1) select statements\n",
        "* * 2) itearative statements\n",
        "* * 3) transfer statements (break,continue)\n",
        "* conditional statements\n",
        "* * if-else\n",
        "* * if-elif-else"
      ],
      "metadata": {
        "id": "J4tlU7s9DQRO"
      }
    },
    {
      "cell_type": "markdown",
      "source": [
        "Indentation\n",
        "\n",
        "* indent is an empty space at the beginning of a line to signal the start of a new paragraph  "
      ],
      "metadata": {
        "id": "mqgqyz5sDgdf"
      }
    },
    {
      "cell_type": "markdown",
      "source": [
        "If statement \n",
        "\n",
        "* is used to define a block."
      ],
      "metadata": {
        "id": "u_sWC8ANERb7"
      }
    },
    {
      "cell_type": "markdown",
      "source": [
        "* indentation is used to represent the block of code."
      ],
      "metadata": {
        "id": "C8kjQwKW7U9h"
      }
    },
    {
      "cell_type": "markdown",
      "source": [
        "\n",
        "\n",
        "    if condition:\n",
        "           statement1\n",
        "           statement2\n",
        "           statement3\n",
        "    statement4"
      ],
      "metadata": {
        "id": "zwWmKNeGErCj"
      }
    },
    {
      "cell_type": "markdown",
      "source": [
        "* when we do not follow indentation, we get indentation error."
      ],
      "metadata": {
        "id": "FX-fSfIRFKfM"
      }
    },
    {
      "cell_type": "markdown",
      "source": [
        "* when we do not provide indentation, indentation error occurs."
      ],
      "metadata": {
        "id": "Dt-VeRfW9mA9"
      }
    },
    {
      "cell_type": "code",
      "source": [
        "if 10<20:\n",
        "print('hello1')"
      ],
      "metadata": {
        "colab": {
          "base_uri": "https://localhost:8080/",
          "height": 130
        },
        "id": "HR7pvP649Uwx",
        "outputId": "0963fbf8-13da-4721-c081-f8b19ccf512a"
      },
      "execution_count": null,
      "outputs": [
        {
          "output_type": "error",
          "ename": "IndentationError",
          "evalue": "ignored",
          "traceback": [
            "\u001b[0;36m  File \u001b[0;32m\"<ipython-input-2-fa8bb0dee0e0>\"\u001b[0;36m, line \u001b[0;32m2\u001b[0m\n\u001b[0;31m    print('hello1')\u001b[0m\n\u001b[0m    ^\u001b[0m\n\u001b[0;31mIndentationError\u001b[0m\u001b[0;31m:\u001b[0m expected an indented block\n"
          ]
        }
      ]
    },
    {
      "cell_type": "code",
      "source": [
        "print('hello1')\n",
        "print('hello2')\n",
        "if 10>20:\n",
        "  print('hello3')\n",
        "  print('hello4')\n",
        "print('hello5')"
      ],
      "metadata": {
        "id": "1ZHvLJocv3Tm",
        "colab": {
          "base_uri": "https://localhost:8080/"
        },
        "outputId": "d475224b-74cb-4d44-c43a-8283e4e42b05"
      },
      "execution_count": null,
      "outputs": [
        {
          "output_type": "stream",
          "name": "stdout",
          "text": [
            "hello1\n",
            "hello2\n",
            "hello5\n"
          ]
        }
      ]
    },
    {
      "cell_type": "code",
      "source": [
        "print('hello1')\n",
        "print('hello2')\n",
        "a=input('enter your name: ')\n",
        "if a=='ravi':\n",
        "  print('hello3')\n",
        "  print('hello4')\n",
        "print('hello5')"
      ],
      "metadata": {
        "id": "CMHxJPPUv3dk",
        "colab": {
          "base_uri": "https://localhost:8080/"
        },
        "outputId": "723503d7-6829-41bb-a85a-55362150c85c"
      },
      "execution_count": null,
      "outputs": [
        {
          "output_type": "stream",
          "name": "stdout",
          "text": [
            "hello1\n",
            "hello2\n",
            "enter your name: raju\n",
            "hello5\n"
          ]
        }
      ]
    },
    {
      "cell_type": "code",
      "source": [
        "print('hello1')\n",
        "print('hello2')\n",
        "a=input('enter your name: ')\n",
        "if a=='ravi':\n",
        "  print('hello3')\n",
        "  print('hello4')\n",
        "print('hello5')"
      ],
      "metadata": {
        "id": "hds6812qv3m5",
        "colab": {
          "base_uri": "https://localhost:8080/"
        },
        "outputId": "6e58f481-dcf4-4490-c702-3f7766efa8e2"
      },
      "execution_count": null,
      "outputs": [
        {
          "output_type": "stream",
          "name": "stdout",
          "text": [
            "hello1\n",
            "hello2\n",
            "enter your name: ravi\n",
            "hello3\n",
            "hello4\n",
            "hello5\n"
          ]
        }
      ]
    },
    {
      "cell_type": "markdown",
      "source": [
        "1.If-else statement:"
      ],
      "metadata": {
        "id": "Y23w_SoAyyZu"
      }
    },
    {
      "cell_type": "code",
      "source": [
        "a=input('enter name: ')\n",
        "if a=='ravi':\n",
        "  print('hello ravi')\n",
        "else:\n",
        "  print('hello guest')\n",
        "print('how are you doing')  "
      ],
      "metadata": {
        "id": "GYy6KLLWv3wI",
        "colab": {
          "base_uri": "https://localhost:8080/"
        },
        "outputId": "9826c6b0-967c-44f0-c2d6-67b87f6d7bae"
      },
      "execution_count": null,
      "outputs": [
        {
          "output_type": "stream",
          "name": "stdout",
          "text": [
            "enter name: raju\n",
            "hello guest\n",
            "how are you doing\n"
          ]
        }
      ]
    },
    {
      "cell_type": "markdown",
      "source": [
        " 2.If-elif-else:\n",
        " * multiple conditions are implemented such time we use"
      ],
      "metadata": {
        "id": "Lrc9y8fS-fb1"
      }
    },
    {
      "cell_type": "code",
      "source": [
        "a=input('enter your favourite colour: ')\n",
        "if a=='blue':\n",
        "  print('you like sky ')\n",
        "elif a=='green':\n",
        "  print('you like nature ')\n",
        "elif a=='red':\n",
        "  print('you like fire ')\n",
        "else:\n",
        "  print('hello guest')"
      ],
      "metadata": {
        "id": "PVGQc1Hgv36W",
        "colab": {
          "base_uri": "https://localhost:8080/"
        },
        "outputId": "607eb9e9-23e3-48b6-ae7a-2b1fb95ffaee"
      },
      "execution_count": null,
      "outputs": [
        {
          "output_type": "stream",
          "name": "stdout",
          "text": [
            "enter your favourite colour: dgh\n",
            "hello guest\n"
          ]
        }
      ]
    },
    {
      "cell_type": "code",
      "source": [
        "a=input('enter your favourite colour: ')\n",
        "if a=='blue':\n",
        "  print('you like sky ')\n",
        "elif a=='green':\n",
        "  print('you like nature ')\n",
        "elif a=='red':\n",
        "  print('you like fire ')\n",
        "else:\n",
        "  print('hello guest')"
      ],
      "metadata": {
        "colab": {
          "base_uri": "https://localhost:8080/"
        },
        "id": "RnH3ebaS_xhz",
        "outputId": "98cf11eb-b388-47ff-b7e4-43a88326a86a"
      },
      "execution_count": null,
      "outputs": [
        {
          "output_type": "stream",
          "name": "stdout",
          "text": [
            "enter your favourite colour: green\n",
            "you like nature \n"
          ]
        }
      ]
    },
    {
      "cell_type": "markdown",
      "source": [
        "* in If-elif-else--- else is optional (if we do not have default action, we can avoid else "
      ],
      "metadata": {
        "id": "E6mAxGLN-nyz"
      }
    },
    {
      "cell_type": "markdown",
      "source": [
        "* program to find biggest of given 2 numbers"
      ],
      "metadata": {
        "id": "K2weBMyV-vi-"
      }
    },
    {
      "cell_type": "code",
      "source": [
        "n1=int(input('enter 1st number: '))\n",
        "n2=int(input('enter 2nd number: '))\n",
        "if n1>n2:\n",
        "  print('biggest number is: ,n1')\n",
        "else:\n",
        "  print('biggest number is:,n2')"
      ],
      "metadata": {
        "id": "NOpxI-c4v4FH",
        "colab": {
          "base_uri": "https://localhost:8080/"
        },
        "outputId": "2c15ed3b-c998-404b-cc2f-338b4ad23703"
      },
      "execution_count": null,
      "outputs": [
        {
          "output_type": "stream",
          "name": "stdout",
          "text": [
            "enter 1st number: 3\n",
            "enter 2nd number: 4\n",
            "biggest number is: ,n2\n"
          ]
        }
      ]
    },
    {
      "cell_type": "markdown",
      "source": [
        "* program to take a single digit number from the key board & print is value in english word"
      ],
      "metadata": {
        "id": "aX7SEuH8_C2i"
      }
    },
    {
      "cell_type": "code",
      "source": [
        "n=int(input('enter a digit from 0 to 9: '))\n",
        "if n==0:\n",
        "  print('ZERO')\n",
        "elif n==1:\n",
        "  print('ONE')\n",
        "elif n==3:\n",
        "  print('THREE')\n",
        "elif n==4:\n",
        "  print('FOUR')\n",
        "elif n==5:\n",
        "  print('FIVE')\n",
        "elif n==6:\n",
        "  print('SIX')\n",
        "elif n==7:\n",
        "  print('SEVEN')\n",
        "elif n==8:\n",
        "  print('EIGHT ')\n",
        "elif n==9:\n",
        "  print('NINE')\n",
        "else:\n",
        "  print('PLEASE ENTER A DIGIT FROM 0 TO 9')"
      ],
      "metadata": {
        "id": "S5pyOmEtv4QH",
        "colab": {
          "base_uri": "https://localhost:8080/"
        },
        "outputId": "799d1c74-60b5-42da-9e48-d42d7f2cef3a"
      },
      "execution_count": null,
      "outputs": [
        {
          "output_type": "stream",
          "name": "stdout",
          "text": [
            "enter a digit from 0 to 9: 7\n",
            "SEVEN\n"
          ]
        }
      ]
    },
    {
      "cell_type": "markdown",
      "source": [
        "Itearative statements:\n",
        "\n",
        "1) For Loop:\n",
        "* if we want to execute some action for every element in some sequence (it may be string or collection)) \n"
      ],
      "metadata": {
        "id": "DuSHLXIY_zIT"
      }
    },
    {
      "cell_type": "code",
      "source": [
        "s='ravi'\n",
        "for x in s:\n",
        "  print(x) # loop will execute 4 times "
      ],
      "metadata": {
        "id": "u98cRjSh2OCP",
        "colab": {
          "base_uri": "https://localhost:8080/"
        },
        "outputId": "c5469cdd-f21c-4c60-eff4-71448d8cf7bc"
      },
      "execution_count": null,
      "outputs": [
        {
          "output_type": "stream",
          "name": "stdout",
          "text": [
            "r\n",
            "a\n",
            "v\n",
            "i\n"
          ]
        }
      ]
    },
    {
      "cell_type": "code",
      "source": [
        "s='ravi'\n",
        "for x in s:\n",
        "  print('hello') # loop will execute 4 times"
      ],
      "metadata": {
        "id": "abR3RzkDv4pM",
        "colab": {
          "base_uri": "https://localhost:8080/"
        },
        "outputId": "6b0398bf-fcbb-4658-b207-4d5147fff97d"
      },
      "execution_count": null,
      "outputs": [
        {
          "output_type": "stream",
          "name": "stdout",
          "text": [
            "hello\n",
            "hello\n",
            "hello\n",
            "hello\n"
          ]
        }
      ]
    },
    {
      "cell_type": "markdown",
      "source": [
        "* to print hello 10 times"
      ],
      "metadata": {
        "id": "_A8Mp68bAeaj"
      }
    },
    {
      "cell_type": "markdown",
      "source": [
        "range function:\n",
        "* when ever we want to execute fixed times"
      ],
      "metadata": {
        "id": "j1hOjrxBAV9m"
      }
    },
    {
      "cell_type": "code",
      "source": [
        "for x in range(4):\n",
        "  print('hello')"
      ],
      "metadata": {
        "id": "5EYx65__v4zW",
        "colab": {
          "base_uri": "https://localhost:8080/"
        },
        "outputId": "2891bfb5-0779-4953-d3d0-5f5685b61bb4"
      },
      "execution_count": null,
      "outputs": [
        {
          "output_type": "stream",
          "name": "stdout",
          "text": [
            "hello\n",
            "hello\n",
            "hello\n",
            "hello\n"
          ]
        }
      ]
    },
    {
      "cell_type": "markdown",
      "source": [
        "* range function is used to run the loop specific no of times\n"
      ],
      "metadata": {
        "id": "PX6SYo7YAlas"
      }
    },
    {
      "cell_type": "code",
      "source": [
        "for x in range(11):\n",
        "  print(x)"
      ],
      "metadata": {
        "id": "nwDjoa4Nv49d",
        "colab": {
          "base_uri": "https://localhost:8080/"
        },
        "outputId": "654bf57b-3696-4c8f-ceb9-6689469d8607"
      },
      "execution_count": null,
      "outputs": [
        {
          "output_type": "stream",
          "name": "stdout",
          "text": [
            "0\n",
            "1\n",
            "2\n",
            "3\n",
            "4\n",
            "5\n",
            "6\n",
            "7\n",
            "8\n",
            "9\n",
            "10\n"
          ]
        }
      ]
    },
    {
      "cell_type": "markdown",
      "source": [
        "* range in between: range(start,end)"
      ],
      "metadata": {
        "id": "AsrUCnE9AscE"
      }
    },
    {
      "cell_type": "code",
      "source": [
        "for x in range(5,11):  \n",
        "  print(x)"
      ],
      "metadata": {
        "id": "Rdw3t7Eev5Ho",
        "colab": {
          "base_uri": "https://localhost:8080/"
        },
        "outputId": "bf3f1cb6-6009-48e8-8d65-b632877d2e41"
      },
      "execution_count": null,
      "outputs": [
        {
          "output_type": "stream",
          "name": "stdout",
          "text": [
            "5\n",
            "6\n",
            "7\n",
            "8\n",
            "9\n",
            "10\n"
          ]
        }
      ]
    },
    {
      "cell_type": "markdown",
      "source": [
        "* increment by 2 : range(start,end,increment by)"
      ],
      "metadata": {
        "id": "_2TUUucLA1TW"
      }
    },
    {
      "cell_type": "code",
      "source": [
        "for x in range(5,11,2): \n",
        "  print(x)"
      ],
      "metadata": {
        "id": "w-tTUL2Tv5SZ",
        "colab": {
          "base_uri": "https://localhost:8080/"
        },
        "outputId": "d297ecda-72a0-472a-8b4b-17fc8e9c025a"
      },
      "execution_count": null,
      "outputs": [
        {
          "output_type": "stream",
          "name": "stdout",
          "text": [
            "5\n",
            "7\n",
            "9\n"
          ]
        }
      ]
    },
    {
      "cell_type": "markdown",
      "source": [
        "* to print odd numbers range(21)"
      ],
      "metadata": {
        "id": "refcYNvyBCV9"
      }
    },
    {
      "cell_type": "code",
      "source": [
        "for x in range(21):\n",
        "  if (x%2!=0):\n",
        "    print(x)"
      ],
      "metadata": {
        "id": "Zm9xB7N4v5cm",
        "colab": {
          "base_uri": "https://localhost:8080/"
        },
        "outputId": "7508345c-36a7-4798-f533-b495b0edf617"
      },
      "execution_count": null,
      "outputs": [
        {
          "output_type": "stream",
          "name": "stdout",
          "text": [
            "1\n",
            "3\n",
            "5\n",
            "7\n",
            "9\n",
            "11\n",
            "13\n",
            "15\n",
            "17\n",
            "19\n"
          ]
        }
      ]
    },
    {
      "cell_type": "markdown",
      "source": [
        "* To print sum of numbers present inside list"
      ],
      "metadata": {
        "id": "g-etrt1iBO-E"
      }
    },
    {
      "cell_type": "code",
      "source": [
        "a=eval(input('enter list'))\n",
        "sum=0;\n",
        "for x in a:\n",
        "  sum=sum+x;\n",
        "print('the sum=',sum)"
      ],
      "metadata": {
        "id": "U4C-c2t5v5m7",
        "colab": {
          "base_uri": "https://localhost:8080/"
        },
        "outputId": "b81ed4aa-9a4c-4e7e-8dac-8620e05c17f7"
      },
      "execution_count": null,
      "outputs": [
        {
          "output_type": "stream",
          "name": "stdout",
          "text": [
            "enter list[10,20,30,40]\n",
            "the sum= 100\n"
          ]
        }
      ]
    },
    {
      "cell_type": "markdown",
      "source": [
        "while loop:\n",
        "* To execute a group of statements iteratively until some condition false"
      ],
      "metadata": {
        "id": "7ETQ5x64Bfwi"
      }
    },
    {
      "cell_type": "markdown",
      "source": [
        "* To print numbers from 1 to 10 by using while loop"
      ],
      "metadata": {
        "id": "26uOSb28Bqgk"
      }
    },
    {
      "cell_type": "code",
      "source": [
        "x=1\n",
        "while x<=10:\n",
        "  print(x)\n",
        "  x=x+1 "
      ],
      "metadata": {
        "id": "7IcTA247v5wv",
        "colab": {
          "base_uri": "https://localhost:8080/"
        },
        "outputId": "e652145b-62cf-4fea-9c65-9a9be1fc8696"
      },
      "execution_count": null,
      "outputs": [
        {
          "output_type": "stream",
          "name": "stdout",
          "text": [
            "1\n",
            "2\n",
            "3\n",
            "4\n",
            "5\n",
            "6\n",
            "7\n",
            "8\n",
            "9\n",
            "10\n"
          ]
        }
      ]
    },
    {
      "cell_type": "markdown",
      "source": [
        "nested loop: (one loop in another loop)"
      ],
      "metadata": {
        "id": "u7M_sk-WBzMT"
      }
    },
    {
      "cell_type": "code",
      "source": [
        "for i in range(3):\n",
        "  for j in range(3):\n",
        "    print('i=',i, 'j=',j)"
      ],
      "metadata": {
        "colab": {
          "base_uri": "https://localhost:8080/"
        },
        "id": "tdhFvy0pu5Ne",
        "outputId": "17e14acd-26af-4228-f0c3-26406962b620"
      },
      "execution_count": null,
      "outputs": [
        {
          "output_type": "stream",
          "name": "stdout",
          "text": [
            "i= 0 j= 0\n",
            "i= 0 j= 1\n",
            "i= 0 j= 2\n",
            "i= 1 j= 0\n",
            "i= 1 j= 1\n",
            "i= 1 j= 2\n",
            "i= 2 j= 0\n",
            "i= 2 j= 1\n",
            "i= 2 j= 2\n"
          ]
        }
      ]
    },
    {
      "cell_type": "markdown",
      "source": [
        " There are two transfer statements: 1)break 2)continue\n",
        "\n",
        " 1) break: (used to break loop execution based on some conditions.)\n"
      ],
      "metadata": {
        "id": "YmHEtXmqCHxw"
      }
    },
    {
      "cell_type": "code",
      "source": [
        "for i in range(10):\n",
        "  if i==7:\n",
        "    print('processing is enough..plz break')\n",
        "    break\n",
        "print(i)"
      ],
      "metadata": {
        "id": "TNNps-x9v58P",
        "colab": {
          "base_uri": "https://localhost:8080/"
        },
        "outputId": "0eca2a30-6329-4b77-d81d-9acfbe8e38f6"
      },
      "execution_count": null,
      "outputs": [
        {
          "output_type": "stream",
          "name": "stdout",
          "text": [
            "processing is enough..plz break\n",
            "7\n"
          ]
        }
      ]
    },
    {
      "cell_type": "markdown",
      "source": [
        "2) continue: (we can use continue statement to skip current iteration)"
      ],
      "metadata": {
        "id": "nU397UqTCTMJ"
      }
    },
    {
      "cell_type": "markdown",
      "source": [
        "* To print odd numbers in the range 0 to 9"
      ],
      "metadata": {
        "id": "EPDGa2ekCVun"
      }
    },
    {
      "cell_type": "code",
      "source": [
        "for i in range(10):\n",
        "  if i%2==0:\n",
        "    continue\n",
        "  print(i)"
      ],
      "metadata": {
        "id": "B8j6TiyCv6Gi",
        "colab": {
          "base_uri": "https://localhost:8080/"
        },
        "outputId": "5cdce9df-87a8-411b-9591-5f7fc70e5771"
      },
      "execution_count": null,
      "outputs": [
        {
          "output_type": "stream",
          "name": "stdout",
          "text": [
            "1\n",
            "3\n",
            "5\n",
            "7\n",
            "9\n"
          ]
        }
      ]
    },
    {
      "cell_type": "markdown",
      "source": [
        "---\n",
        "---"
      ],
      "metadata": {
        "id": "jCqGWhkJEhMg"
      }
    },
    {
      "cell_type": "markdown",
      "source": [
        "**DAY-14**"
      ],
      "metadata": {
        "id": "nCIjUPOfEhFZ"
      }
    },
    {
      "cell_type": "markdown",
      "source": [
        "* pass statement\n",
        "* Del statement\n",
        "*diff b/w Del and None \n",
        "* Understanding functions\n",
        "* creating function and calling it \n",
        "* function with return statement "
      ],
      "metadata": {
        "id": "G0TnN1SnyiKu"
      }
    },
    {
      "cell_type": "markdown",
      "source": [
        "pass statement:\n",
        "* it is a keyword in python. used to represents empty block (when ever you want to represent a empty block pass is used)"
      ],
      "metadata": {
        "id": "Lkf6geXZmOw2"
      }
    },
    {
      "cell_type": "code",
      "source": [
        "x=100\n",
        "if x>10:\n",
        "  print('hello')\n",
        "else:"
      ],
      "metadata": {
        "id": "rfWZkTh3v6RB",
        "colab": {
          "base_uri": "https://localhost:8080/",
          "height": 130
        },
        "outputId": "08485f58-7b82-4bc4-b100-44fe672ee455"
      },
      "execution_count": null,
      "outputs": [
        {
          "output_type": "error",
          "ename": "IndentationError",
          "evalue": "ignored",
          "traceback": [
            "\u001b[0;36m  File \u001b[0;32m\"<ipython-input-1-5e8b3b11d57e>\"\u001b[0;36m, line \u001b[0;32m4\u001b[0m\n\u001b[0;31m    else:\u001b[0m\n\u001b[0m         ^\u001b[0m\n\u001b[0;31mIndentationError\u001b[0m\u001b[0;31m:\u001b[0m expected an indented block\n"
          ]
        }
      ]
    },
    {
      "cell_type": "code",
      "source": [
        "x=100\n",
        "if x>10:\n",
        "  print('hello')\n",
        "else:\n",
        "  pass"
      ],
      "metadata": {
        "id": "_9Ajwpo9v6aJ",
        "colab": {
          "base_uri": "https://localhost:8080/"
        },
        "outputId": "eeee5baa-f3c6-40fb-f1ae-5da83c7ce3f3"
      },
      "execution_count": 1,
      "outputs": [
        {
          "output_type": "stream",
          "name": "stdout",
          "text": [
            "hello\n"
          ]
        }
      ]
    },
    {
      "cell_type": "markdown",
      "source": [
        "* once clint confirms the functionality of else, then we edit the code as per requirements "
      ],
      "metadata": {
        "id": "8vyYdD3Im65v"
      }
    },
    {
      "cell_type": "markdown",
      "source": [
        "del statement: it is a keyword in python.\n",
        "* when we do not need a variable, we use delete statement\n",
        "* the corresponding object will be elegible for garbage collection "
      ],
      "metadata": {
        "id": "ku2XQEZImqbm"
      }
    },
    {
      "cell_type": "code",
      "source": [
        "x=10\n",
        "print(x)\n",
        "del x   # x is deleted\n",
        "\n",
        "print(x) "
      ],
      "metadata": {
        "id": "lf_lD9Mbv6k2",
        "colab": {
          "base_uri": "https://localhost:8080/",
          "height": 217
        },
        "outputId": "9b0e455c-4994-4e64-fc23-c9c3d24a0eb2"
      },
      "execution_count": null,
      "outputs": [
        {
          "output_type": "stream",
          "name": "stdout",
          "text": [
            "10\n"
          ]
        },
        {
          "output_type": "error",
          "ename": "NameError",
          "evalue": "ignored",
          "traceback": [
            "\u001b[0;31m---------------------------------------------------------------------------\u001b[0m",
            "\u001b[0;31mNameError\u001b[0m                                 Traceback (most recent call last)",
            "\u001b[0;32m<ipython-input-8-80596cb7dce5>\u001b[0m in \u001b[0;36m<module>\u001b[0;34m\u001b[0m\n\u001b[1;32m      3\u001b[0m \u001b[0;32mdel\u001b[0m \u001b[0mx\u001b[0m\u001b[0;34m\u001b[0m\u001b[0;34m\u001b[0m\u001b[0m\n\u001b[1;32m      4\u001b[0m \u001b[0;34m\u001b[0m\u001b[0m\n\u001b[0;32m----> 5\u001b[0;31m \u001b[0mprint\u001b[0m\u001b[0;34m(\u001b[0m\u001b[0mx\u001b[0m\u001b[0;34m)\u001b[0m\u001b[0;34m\u001b[0m\u001b[0;34m\u001b[0m\u001b[0m\n\u001b[0m",
            "\u001b[0;31mNameError\u001b[0m: name 'x' is not defined"
          ]
        }
      ]
    },
    {
      "cell_type": "markdown",
      "source": [
        "we get NameError\n",
        "* once variable is deleted, we cannot access it.\n",
        "\n",
        "NOTE:\n",
        "* helps in improving performance of the application."
      ],
      "metadata": {
        "id": "bHs_Ue4Fnh2l"
      }
    },
    {
      "cell_type": "markdown",
      "source": [
        "diff b/w del and none\n",
        "* 1) in case of del,once the variable is deleted, we cannot access that variable \n",
        "\n",
        "* 2) in case of None assignment, the variable won't be removed. variable points to  the none object, hence we can access that variable"
      ],
      "metadata": {
        "id": "2-LJoMYaoMZx"
      }
    },
    {
      "cell_type": "code",
      "source": [
        "x=10\n",
        "print(x)\n",
        "x=None\n",
        "print(x)\n",
        "print(type(x))"
      ],
      "metadata": {
        "id": "h_11fLSWv7PJ",
        "colab": {
          "base_uri": "https://localhost:8080/"
        },
        "outputId": "201af602-9793-421f-c4b4-e60ad122bfd9"
      },
      "execution_count": null,
      "outputs": [
        {
          "output_type": "stream",
          "name": "stdout",
          "text": [
            "10\n",
            "None\n",
            "<class 'NoneType'>\n"
          ]
        }
      ]
    },
    {
      "cell_type": "markdown",
      "source": [
        "Functions:\n",
        "* a function is a group of related statements that performs a specific task\n",
        "* functions help break our program into smaller and modular chunk.\n",
        "* as our program grows larger & larger, functions make it more organized & manageable. furthermore, it avoids repetition & makes the code reusable.\n",
        "\n",
        "the main advantage of functions is code reusablility. in other languages functions are known as methons,procedures,subroutines etc."
      ],
      "metadata": {
        "id": "qHIirmHMCZfX"
      }
    },
    {
      "cell_type": "markdown",
      "source": [
        "python support 2 types of functions:\n",
        "* 1) Built in functions \n",
        "* 2) User define functions \n",
        "\n",
        "1) Built in functions: the function which are coming along with python software automatically, are called BIF or pre define functions(PDF).\n",
        "* eg\n",
        "* * id()\n",
        "* * type()\n",
        "* * input()\n",
        "* * print()\n",
        "\n",
        "2) User define functions:\n",
        "* the functions which are developed by programmer explicitly accroding to business requirements, are called UDF."
      ],
      "metadata": {
        "id": "3tZxghBF9VeF"
      }
    },
    {
      "cell_type": "markdown",
      "source": [
        "while creating functions we can use 2 keywords\n",
        "* 1) def (mandatory)\n",
        "* 2) return (optional)"
      ],
      "metadata": {
        "id": "GvcjKGjz_IkO"
      }
    },
    {
      "cell_type": "code",
      "source": [
        "def wish():\n",
        "  print('hello good morning ')"
      ],
      "metadata": {
        "id": "J_2QwMsi9s5y"
      },
      "execution_count": null,
      "outputs": []
    },
    {
      "cell_type": "markdown",
      "source": [
        "* function name can be any thing."
      ],
      "metadata": {
        "id": "APTHz_IHrIDs"
      }
    },
    {
      "cell_type": "markdown",
      "source": [
        "* calling function"
      ],
      "metadata": {
        "id": "r1cujZd9rLsu"
      }
    },
    {
      "cell_type": "code",
      "source": [
        "wish()\n",
        "wish()"
      ],
      "metadata": {
        "colab": {
          "base_uri": "https://localhost:8080/"
        },
        "id": "0LxjxCt59tnj",
        "outputId": "5b215494-3c27-4448-e345-c87f74353af7"
      },
      "execution_count": null,
      "outputs": [
        {
          "output_type": "stream",
          "name": "stdout",
          "text": [
            "hello good morning \n",
            "hello good morning \n"
          ]
        }
      ]
    },
    {
      "cell_type": "markdown",
      "source": [
        "return statement:\n",
        "* function can take input values as parameters & executes business logic, and returns output to  the caller with return statements."
      ],
      "metadata": {
        "id": "TLt5fTi2BjdY"
      }
    },
    {
      "cell_type": "code",
      "source": [
        "def f1(x,y):\n",
        "  return x+y\n",
        "c=f1(10,20)\n",
        "print('the sum is',c)"
      ],
      "metadata": {
        "colab": {
          "base_uri": "https://localhost:8080/"
        },
        "id": "guYh5YUM9tw4",
        "outputId": "c3deccfa-c20e-4770-876a-08252b924739"
      },
      "execution_count": null,
      "outputs": [
        {
          "output_type": "stream",
          "name": "stdout",
          "text": [
            "the sum is 30\n"
          ]
        }
      ]
    },
    {
      "cell_type": "code",
      "source": [
        "def f1():\n",
        "  print('hello')\n",
        "f1()"
      ],
      "metadata": {
        "colab": {
          "base_uri": "https://localhost:8080/"
        },
        "id": "7yhBL3wN9t5R",
        "outputId": "f5d5c555-e9f0-4bf5-891d-ad052de3a338"
      },
      "execution_count": null,
      "outputs": [
        {
          "output_type": "stream",
          "name": "stdout",
          "text": [
            "hello\n"
          ]
        }
      ]
    },
    {
      "cell_type": "markdown",
      "source": [
        "* if we are not writing return  statement then default return value is none.\n"
      ],
      "metadata": {
        "id": "tweDq95jsDy_"
      }
    },
    {
      "cell_type": "code",
      "source": [
        "def f1():\n",
        "  print('hello')\n",
        "f1()\n",
        "print(f1())\n",
        "print(type(f1))"
      ],
      "metadata": {
        "colab": {
          "base_uri": "https://localhost:8080/"
        },
        "id": "Tk8EzJcA9uAX",
        "outputId": "a5f370e1-c7fc-4b07-ae90-e4ae4ab6f88b"
      },
      "execution_count": null,
      "outputs": [
        {
          "output_type": "stream",
          "name": "stdout",
          "text": [
            "hello\n",
            "hello\n",
            "None\n",
            "<class 'function'>\n"
          ]
        }
      ]
    },
    {
      "cell_type": "markdown",
      "source": [
        "---\n",
        "---"
      ],
      "metadata": {
        "id": "rkRl5mPXrxgz"
      }
    },
    {
      "cell_type": "markdown",
      "source": [
        "**Day-15**"
      ],
      "metadata": {
        "id": "3xzNqs2LroOS"
      }
    },
    {
      "cell_type": "markdown",
      "source": [
        "* functions can return multiple values\n",
        "* formal arguments\n",
        "* actual arguments\n",
        "* types of actual arguments:\n",
        "* * 1) positional arguments\n",
        "* * 2) keyword arguments\n",
        "* * 3) Default arguments\n",
        "* * 4) Variable length arguments\n",
        "\n",
        "Types of variables:\n",
        "* * global variable\n",
        "* * local variable"
      ],
      "metadata": {
        "id": "P6FWyqz3GQWp"
      }
    },
    {
      "cell_type": "markdown",
      "source": [
        "* functions can return multiple values"
      ],
      "metadata": {
        "id": "iGRQ6txVtO3v"
      }
    },
    {
      "cell_type": "code",
      "source": [
        "def add(x,y):\n",
        "  return x+y\n",
        "c=add(10,20)\n",
        "print('the sum is',c)\n",
        "\n",
        "c=add(100,20)\n",
        "print('the sum is',c)"
      ],
      "metadata": {
        "id": "XQ32IYpF9uRX",
        "colab": {
          "base_uri": "https://localhost:8080/"
        },
        "outputId": "619df91e-53ba-4c59-a680-a460e30f0b05"
      },
      "execution_count": null,
      "outputs": [
        {
          "output_type": "stream",
          "name": "stdout",
          "text": [
            "the sum is 30\n",
            "the sum is 120\n"
          ]
        }
      ]
    },
    {
      "cell_type": "code",
      "source": [
        "def even_odd(num):\n",
        "  if num%2==0:\n",
        "    print(num,'is even number')\n",
        "  else:\n",
        "    print(num,'is odd number')\n",
        "even_odd(10)\n",
        "\n",
        "even_odd(15)"
      ],
      "metadata": {
        "id": "OzVnaSAHIoqZ",
        "colab": {
          "base_uri": "https://localhost:8080/"
        },
        "outputId": "7eae694e-0d46-4d31-b91a-f881a9163531"
      },
      "execution_count": null,
      "outputs": [
        {
          "output_type": "stream",
          "name": "stdout",
          "text": [
            "10 is even number\n",
            "15 is odd number\n"
          ]
        }
      ]
    },
    {
      "cell_type": "markdown",
      "source": [
        "Returning multiple values from a function:\n",
        "* In other languages like c,c++,java, function can return only one value.\n",
        "* but in python, a function can return any  number of values."
      ],
      "metadata": {
        "id": "-RYcqSplEb9N"
      }
    },
    {
      "cell_type": "code",
      "source": [
        "def sum_sub(a,b):\n",
        "  sum=a+b\n",
        "  sub=a-b\n",
        "  return sum,sub\n",
        "x,y=sum_sub(100,50)\n",
        "print('the sum is :',x)\n",
        "\n",
        "print('the sub is :',y)"
      ],
      "metadata": {
        "id": "6P4YkZqeIol_",
        "colab": {
          "base_uri": "https://localhost:8080/"
        },
        "outputId": "6fed333b-6082-4de3-903f-6b547d78c6a8"
      },
      "execution_count": null,
      "outputs": [
        {
          "output_type": "stream",
          "name": "stdout",
          "text": [
            "the sum is : 150\n",
            "the sub is : 50\n"
          ]
        }
      ]
    },
    {
      "cell_type": "code",
      "source": [
        "def calc(a,b):\n",
        "  sum=a+b\n",
        "  sub=a-b\n",
        "  return sum,sub\n",
        "t1=calc(10,20)\n",
        "print('the results are')\n",
        "for i in t1:\n",
        "  print(i)"
      ],
      "metadata": {
        "colab": {
          "base_uri": "https://localhost:8080/"
        },
        "id": "edUoohpXGZTA",
        "outputId": "dc7fad5a-cd7e-4b6f-e85f-9c3cf6e7931b"
      },
      "execution_count": null,
      "outputs": [
        {
          "output_type": "stream",
          "name": "stdout",
          "text": [
            "the results are\n",
            "30\n",
            "-10\n"
          ]
        }
      ]
    },
    {
      "cell_type": "markdown",
      "source": [
        "Types of arguments:\n",
        "* in the above example\n",
        "* * a,b are called formal arguments. (at the time of function creating)\n",
        "* * 10,20 are called actual arguments. (passing values)"
      ],
      "metadata": {
        "id": "myIMSgpNGK34"
      }
    },
    {
      "cell_type": "markdown",
      "source": [
        "There are 4 types of actual arguments in python:\n",
        "* 1) positional arguments\n",
        "* 2) keyword arguments\n",
        "* 3) Default arguments\n",
        "* 4) Variable length arguments"
      ],
      "metadata": {
        "id": "1RoRQdX_HAUb"
      }
    },
    {
      "cell_type": "markdown",
      "source": [
        "1) positional arguments:\n",
        "* these are the arguments passed to function in correct positional order"
      ],
      "metadata": {
        "id": "wAXSlfKJvadm"
      }
    },
    {
      "cell_type": "code",
      "source": [
        "def sub(a,b):\n",
        "  print(a-b)\n",
        "sub(100,200)\n",
        "sub(200,100)"
      ],
      "metadata": {
        "id": "CnhxjuIpIohE",
        "colab": {
          "base_uri": "https://localhost:8080/"
        },
        "outputId": "4227e0f0-fc41-452f-9c83-4a662ce983e5"
      },
      "execution_count": null,
      "outputs": [
        {
          "output_type": "stream",
          "name": "stdout",
          "text": [
            "-100\n",
            "100\n"
          ]
        }
      ]
    },
    {
      "cell_type": "markdown",
      "source": [
        "* the number of arguments & position of arguments must be matched. If we change the order then result may be changed."
      ],
      "metadata": {
        "id": "tFF6YMLFvodw"
      }
    },
    {
      "cell_type": "markdown",
      "source": [
        "2) key arguments:\n",
        "* we can pass argument values by keywords i.e by parameter name."
      ],
      "metadata": {
        "id": "vM91H2tzv9MG"
      }
    },
    {
      "cell_type": "code",
      "source": [
        "def wish(name,msg):\n",
        "  print('hello',name,msg)\n",
        "wish('ravi','good morning')\n",
        "wish(name='ravi',msg='good morning')\n",
        "wish(msg='good morning',name='ravi') # order is not important when we are assign variable names to paasing values"
      ],
      "metadata": {
        "id": "jxGCe-o9Iocl",
        "colab": {
          "base_uri": "https://localhost:8080/"
        },
        "outputId": "6c46beb5-ebc6-4d3e-8cc4-d47fa9846fbe"
      },
      "execution_count": null,
      "outputs": [
        {
          "output_type": "stream",
          "name": "stdout",
          "text": [
            "hello ravi good morning\n",
            "hello ravi good morning\n",
            "hello ravi good morning\n"
          ]
        }
      ]
    },
    {
      "cell_type": "markdown",
      "source": [
        " 3) Default arguments:\n",
        "* we can provide default values for our positional arguments."
      ],
      "metadata": {
        "id": "WaN-U2Ygw-RA"
      }
    },
    {
      "cell_type": "code",
      "source": [
        "def wish(name='guest'):\n",
        "  print('hello',name,'good morning') \n",
        "wish('ravi')      # if you pass values it will print user arguments\n",
        "\n",
        "wish()            # if you are not passing values default value is printed"
      ],
      "metadata": {
        "id": "DdOvVdjzIoYJ",
        "colab": {
          "base_uri": "https://localhost:8080/"
        },
        "outputId": "fc2bfdc8-bb8a-4472-993d-f7b5be3573e8"
      },
      "execution_count": null,
      "outputs": [
        {
          "output_type": "stream",
          "name": "stdout",
          "text": [
            "hello ravi good morning\n",
            "hello guest good morning\n"
          ]
        }
      ]
    },
    {
      "cell_type": "markdown",
      "source": [
        "4)Variable length arguments:\n",
        "* we can pass variable number of arguments(by user choice)to our function, such type of arguments are called VLA.\n",
        "* we can declare a variable length argument with \"*\" symbol as -- (def f1(*n):)"
      ],
      "metadata": {
        "id": "tHfoM98cyLnk"
      }
    },
    {
      "cell_type": "code",
      "source": [
        "def sum(*n):\n",
        "  total=0\n",
        "  for n1 in n:\n",
        "    total=total+n1\n",
        "    print('the sum=',total)\n",
        "sum(10,20)\n",
        "\n",
        "sum(10,20,30,40)"
      ],
      "metadata": {
        "id": "8MlPr1SEIoTS"
      },
      "execution_count": null,
      "outputs": []
    },
    {
      "cell_type": "code",
      "source": [
        "def f(a1,a2,a3=4,a4=5):\n",
        "  print(a1,a2,a3,a4)\n",
        "f(3,2)          # it will print pre defined values\n",
        "f(13,15,27,39)   # always prefers users prints user values\n",
        "f(a4=23,a2=43,a1=10) # without user value by default values printed"
      ],
      "metadata": {
        "id": "fHHUbDVQIoO2",
        "colab": {
          "base_uri": "https://localhost:8080/"
        },
        "outputId": "a193b012-09dc-44f2-9bb4-b11d6a6d4091"
      },
      "execution_count": null,
      "outputs": [
        {
          "output_type": "stream",
          "name": "stdout",
          "text": [
            "3 2 4 5\n",
            "13 15 27 39\n",
            "10 43 4 23\n"
          ]
        }
      ]
    },
    {
      "cell_type": "markdown",
      "source": [
        "* we must pass two values on it (definate)"
      ],
      "metadata": {
        "id": "r1CAR1DCxbJj"
      }
    },
    {
      "cell_type": "code",
      "source": [
        "f()  "
      ],
      "metadata": {
        "colab": {
          "base_uri": "https://localhost:8080/",
          "height": 165
        },
        "id": "XaihE34xy9ge",
        "outputId": "ac4617f6-0b8f-4962-883f-65278bce0117"
      },
      "execution_count": null,
      "outputs": [
        {
          "output_type": "error",
          "ename": "TypeError",
          "evalue": "ignored",
          "traceback": [
            "\u001b[0;31m---------------------------------------------------------------------------\u001b[0m",
            "\u001b[0;31mTypeError\u001b[0m                                 Traceback (most recent call last)",
            "\u001b[0;32m<ipython-input-30-3c4bfcaf5a33>\u001b[0m in \u001b[0;36m<module>\u001b[0;34m\u001b[0m\n\u001b[0;32m----> 1\u001b[0;31m \u001b[0mf\u001b[0m\u001b[0;34m(\u001b[0m\u001b[0;34m)\u001b[0m  \u001b[0;31m# we must pass two values on it (definate)\u001b[0m\u001b[0;34m\u001b[0m\u001b[0;34m\u001b[0m\u001b[0m\n\u001b[0m",
            "\u001b[0;31mTypeError\u001b[0m: f() missing 2 required positional arguments: 'a1' and 'a2'"
          ]
        }
      ]
    },
    {
      "cell_type": "markdown",
      "source": [
        "Types of variable in python:\n",
        "* 1)Global variables\n",
        "* 2)Local variables"
      ],
      "metadata": {
        "id": "hQszt5lCLymn"
      }
    },
    {
      "cell_type": "markdown",
      "source": [
        "1)Global variables: the variables which are declared outside of function are called GV.\n",
        "* these variables can be accessed in all functions of that module."
      ],
      "metadata": {
        "id": "TLh5-8gpzROG"
      }
    },
    {
      "cell_type": "code",
      "source": [
        "a=10\n",
        "\n",
        "def f1():\n",
        "  print(a)\n",
        "\n",
        "def f2():\n",
        "  print(a)\n",
        "\n",
        "f1()\n",
        "\n",
        "f2()  # here we are declaring variables outside of the function"
      ],
      "metadata": {
        "id": "3fs_EtwqIoKO",
        "colab": {
          "base_uri": "https://localhost:8080/"
        },
        "outputId": "78c017be-2ac5-4b03-a698-7f6af9001ccf"
      },
      "execution_count": null,
      "outputs": [
        {
          "output_type": "stream",
          "name": "stdout",
          "text": [
            "10\n",
            "10\n"
          ]
        }
      ]
    },
    {
      "cell_type": "code",
      "source": [
        "def f1():\n",
        "  print(a)\n",
        "\n",
        "def f2():\n",
        "  print(a)\n",
        "\n",
        "a=10\n",
        "\n",
        "f1()\n",
        "# any where you can declare variables to functions"
      ],
      "metadata": {
        "id": "9FOax8wWIoFP",
        "colab": {
          "base_uri": "https://localhost:8080/"
        },
        "outputId": "7c9e0536-03a8-497e-ab90-78a00a0ecfe1"
      },
      "execution_count": null,
      "outputs": [
        {
          "output_type": "stream",
          "name": "stdout",
          "text": [
            "10\n"
          ]
        }
      ]
    },
    {
      "cell_type": "markdown",
      "source": [
        "* we can't declare variables outside of the called functions\n",
        "* declare before callable function."
      ],
      "metadata": {
        "id": "RdSsyO8q0RgV"
      }
    },
    {
      "cell_type": "code",
      "source": [
        "def f1():\n",
        "  print(a)\n",
        "\n",
        "def f2():\n",
        "  print(a)\n",
        "\n",
        "f1()\n",
        "a=10"
      ],
      "metadata": {
        "colab": {
          "base_uri": "https://localhost:8080/",
          "height": 339
        },
        "id": "pEzUXpyVzt5e",
        "outputId": "00ed646f-1b8e-4748-ed51-0a2c0e8028b9"
      },
      "execution_count": null,
      "outputs": [
        {
          "output_type": "error",
          "ename": "NameError",
          "evalue": "ignored",
          "traceback": [
            "\u001b[0;31m---------------------------------------------------------------------------\u001b[0m",
            "\u001b[0;31mNameError\u001b[0m                                 Traceback (most recent call last)",
            "\u001b[0;32m<ipython-input-32-ab227c7ea65a>\u001b[0m in \u001b[0;36m<module>\u001b[0;34m\u001b[0m\n\u001b[1;32m      5\u001b[0m   \u001b[0mprint\u001b[0m\u001b[0;34m(\u001b[0m\u001b[0ma\u001b[0m\u001b[0;34m)\u001b[0m\u001b[0;34m\u001b[0m\u001b[0;34m\u001b[0m\u001b[0m\n\u001b[1;32m      6\u001b[0m \u001b[0;34m\u001b[0m\u001b[0m\n\u001b[0;32m----> 7\u001b[0;31m \u001b[0mf1\u001b[0m\u001b[0;34m(\u001b[0m\u001b[0;34m)\u001b[0m\u001b[0;34m\u001b[0m\u001b[0;34m\u001b[0m\u001b[0m\n\u001b[0m\u001b[1;32m      8\u001b[0m \u001b[0ma\u001b[0m\u001b[0;34m=\u001b[0m\u001b[0;36m10\u001b[0m\u001b[0;34m\u001b[0m\u001b[0;34m\u001b[0m\u001b[0m\n",
            "\u001b[0;32m<ipython-input-32-ab227c7ea65a>\u001b[0m in \u001b[0;36mf1\u001b[0;34m()\u001b[0m\n\u001b[1;32m      1\u001b[0m \u001b[0;32mdef\u001b[0m \u001b[0mf1\u001b[0m\u001b[0;34m(\u001b[0m\u001b[0;34m)\u001b[0m\u001b[0;34m:\u001b[0m\u001b[0;34m\u001b[0m\u001b[0;34m\u001b[0m\u001b[0m\n\u001b[0;32m----> 2\u001b[0;31m   \u001b[0mprint\u001b[0m\u001b[0;34m(\u001b[0m\u001b[0ma\u001b[0m\u001b[0;34m)\u001b[0m\u001b[0;34m\u001b[0m\u001b[0;34m\u001b[0m\u001b[0m\n\u001b[0m\u001b[1;32m      3\u001b[0m \u001b[0;34m\u001b[0m\u001b[0m\n\u001b[1;32m      4\u001b[0m \u001b[0;32mdef\u001b[0m \u001b[0mf2\u001b[0m\u001b[0;34m(\u001b[0m\u001b[0;34m)\u001b[0m\u001b[0;34m:\u001b[0m\u001b[0;34m\u001b[0m\u001b[0;34m\u001b[0m\u001b[0m\n\u001b[1;32m      5\u001b[0m   \u001b[0mprint\u001b[0m\u001b[0;34m(\u001b[0m\u001b[0ma\u001b[0m\u001b[0;34m)\u001b[0m\u001b[0;34m\u001b[0m\u001b[0;34m\u001b[0m\u001b[0m\n",
            "\u001b[0;31mNameError\u001b[0m: name 'a' is not defined"
          ]
        }
      ]
    },
    {
      "cell_type": "markdown",
      "source": [
        "Day-1 TO Day-15"
      ],
      "metadata": {
        "id": "3wBIEmwUxewn"
      }
    },
    {
      "cell_type": "markdown",
      "source": [
        "---\n",
        "---"
      ],
      "metadata": {
        "id": "iQDmX_jzx51n"
      }
    }
  ]
}